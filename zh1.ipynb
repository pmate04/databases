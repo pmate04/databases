{
    "metadata": {
        "kernelspec": {
            "name": "SQL",
            "display_name": "SQL",
            "language": "sql"
        },
        "language_info": {
            "name": "sql",
            "version": ""
        }
    },
    "nbformat_minor": 2,
    "nbformat": 4,
    "cells": [
        {
            "cell_type": "code",
            "source": [
                "SELECT rogzitette, SZALLAS_NEV, cim\r\n",
                "FROM szallashely\r\n",
                "WHERE MONTH(ROGZ_IDO)= 3 AND HELY LIKE 'Balaton%'\r\n",
                "ORDER BY CSILLAGOK_SZAMA desc\r\n",
                ""
            ],
            "metadata": {
                "azdata_cell_guid": "2a4ec0f7-85d1-4906-a8fc-985786a7e172",
                "language": "sql"
            },
            "outputs": [
                {
                    "output_type": "display_data",
                    "data": {
                        "text/html": "(7 rows affected)"
                    },
                    "metadata": {}
                },
                {
                    "output_type": "display_data",
                    "data": {
                        "text/html": "Total execution time: 00:00:00.010"
                    },
                    "metadata": {}
                },
                {
                    "output_type": "execute_result",
                    "execution_count": 12,
                    "data": {
                        "application/vnd.dataresource+json": {
                            "schema": {
                                "fields": [
                                    {
                                        "name": "rogzitette"
                                    },
                                    {
                                        "name": "SZALLAS_NEV"
                                    },
                                    {
                                        "name": "cim"
                                    }
                                ]
                            },
                            "data": [
                                {
                                    "rogzitette": "Béla",
                                    "SZALLAS_NEV": "Hotel Három Hattyú",
                                    "cim": "8623 Balatonföldvár, Rákóczi Ferenc út 45."
                                },
                                {
                                    "rogzitette": "Mari",
                                    "SZALLAS_NEV": "Jáde panzió",
                                    "cim": "8624 Balatonföldvár, Kiss u.2."
                                },
                                {
                                    "rogzitette": "Béla",
                                    "SZALLAS_NEV": "Kentaur Hotel",
                                    "cim": "8600 Siófok (Széplak), Akácfa utca 1"
                                },
                                {
                                    "rogzitette": "Béla",
                                    "SZALLAS_NEV": "Tímárház Panzió",
                                    "cim": "8600 Siófok, Virág utca 1"
                                },
                                {
                                    "rogzitette": "Béla",
                                    "SZALLAS_NEV": "Családi Ház",
                                    "cim": "8630 Balatonboglár, József Attila utca 25"
                                },
                                {
                                    "rogzitette": "Mari",
                                    "SZALLAS_NEV": "Szieszta Apartmanház",
                                    "cim": "8630 Balatonboglár, Dózsa György utca 108"
                                },
                                {
                                    "rogzitette": "Béla",
                                    "SZALLAS_NEV": "Partiszél Vendégház",
                                    "cim": "8220 Balatonalmádi Neptun u. 23."
                                }
                            ]
                        },
                        "text/html": "<table><tr><th>rogzitette</th><th>SZALLAS_NEV</th><th>cim</th></tr><tr><td>Béla</td><td>Hotel Három Hattyú</td><td>8623 Balatonföldvár, Rákóczi Ferenc út 45.</td></tr><tr><td>Mari</td><td>Jáde panzió</td><td>8624 Balatonföldvár, Kiss u.2.</td></tr><tr><td>Béla</td><td>Kentaur Hotel</td><td>8600 Siófok (Széplak), Akácfa utca 1</td></tr><tr><td>Béla</td><td>Tímárház Panzió</td><td>8600 Siófok, Virág utca 1</td></tr><tr><td>Béla</td><td>Családi Ház</td><td>8630 Balatonboglár, József Attila utca 25</td></tr><tr><td>Mari</td><td>Szieszta Apartmanház</td><td>8630 Balatonboglár, Dózsa György utca 108</td></tr><tr><td>Béla</td><td>Partiszél Vendégház</td><td>8220 Balatonalmádi Neptun u. 23.</td></tr></table>"
                    },
                    "metadata": {}
                }
            ],
            "execution_count": 12
        },
        {
            "cell_type": "code",
            "source": [
                "SELECT SZOBA_FK\r\n",
                "FROM szallashely JOIN Szoba ON szallashely.szallas_id = szoba.szallas_fk join foglalas ON szoba.szoba_id = foglalas.szoba_fk join vendeg on foglalas.ugyfel_fk = vendeg.usernev\r\n",
                "WHERE FELNOTT_SZAM > GYERMEK_SZAM\r\n",
                "GROUp by SZOBA_FK\r\n",
                "HAVING count(szoba_fk)<=2\r\n",
                "\r\n",
                ""
            ],
            "metadata": {
                "azdata_cell_guid": "d541d73c-bcd3-481d-a733-1bedaead5edc",
                "language": "sql",
                "tags": []
            },
            "outputs": [
                {
                    "output_type": "display_data",
                    "data": {
                        "text/html": "(59 rows affected)"
                    },
                    "metadata": {}
                },
                {
                    "output_type": "display_data",
                    "data": {
                        "text/html": "Total execution time: 00:00:00.013"
                    },
                    "metadata": {}
                },
                {
                    "output_type": "execute_result",
                    "metadata": {},
                    "execution_count": 15,
                    "data": {
                        "application/vnd.dataresource+json": {
                            "schema": {
                                "fields": [
                                    {
                                        "name": "SZOBA_FK"
                                    }
                                ]
                            },
                            "data": [
                                {
                                    "SZOBA_FK": "2"
                                },
                                {
                                    "SZOBA_FK": "5"
                                },
                                {
                                    "SZOBA_FK": "16"
                                },
                                {
                                    "SZOBA_FK": "17"
                                },
                                {
                                    "SZOBA_FK": "21"
                                },
                                {
                                    "SZOBA_FK": "22"
                                },
                                {
                                    "SZOBA_FK": "25"
                                },
                                {
                                    "SZOBA_FK": "30"
                                },
                                {
                                    "SZOBA_FK": "31"
                                },
                                {
                                    "SZOBA_FK": "32"
                                },
                                {
                                    "SZOBA_FK": "37"
                                },
                                {
                                    "SZOBA_FK": "41"
                                },
                                {
                                    "SZOBA_FK": "47"
                                },
                                {
                                    "SZOBA_FK": "56"
                                },
                                {
                                    "SZOBA_FK": "60"
                                },
                                {
                                    "SZOBA_FK": "67"
                                },
                                {
                                    "SZOBA_FK": "69"
                                },
                                {
                                    "SZOBA_FK": "71"
                                },
                                {
                                    "SZOBA_FK": "72"
                                },
                                {
                                    "SZOBA_FK": "75"
                                },
                                {
                                    "SZOBA_FK": "76"
                                },
                                {
                                    "SZOBA_FK": "85"
                                },
                                {
                                    "SZOBA_FK": "91"
                                },
                                {
                                    "SZOBA_FK": "100"
                                },
                                {
                                    "SZOBA_FK": "101"
                                },
                                {
                                    "SZOBA_FK": "102"
                                },
                                {
                                    "SZOBA_FK": "103"
                                },
                                {
                                    "SZOBA_FK": "108"
                                },
                                {
                                    "SZOBA_FK": "109"
                                },
                                {
                                    "SZOBA_FK": "111"
                                },
                                {
                                    "SZOBA_FK": "113"
                                },
                                {
                                    "SZOBA_FK": "114"
                                },
                                {
                                    "SZOBA_FK": "118"
                                },
                                {
                                    "SZOBA_FK": "120"
                                },
                                {
                                    "SZOBA_FK": "136"
                                },
                                {
                                    "SZOBA_FK": "137"
                                },
                                {
                                    "SZOBA_FK": "142"
                                },
                                {
                                    "SZOBA_FK": "144"
                                },
                                {
                                    "SZOBA_FK": "145"
                                },
                                {
                                    "SZOBA_FK": "147"
                                },
                                {
                                    "SZOBA_FK": "151"
                                },
                                {
                                    "SZOBA_FK": "156"
                                },
                                {
                                    "SZOBA_FK": "157"
                                },
                                {
                                    "SZOBA_FK": "160"
                                },
                                {
                                    "SZOBA_FK": "162"
                                },
                                {
                                    "SZOBA_FK": "167"
                                },
                                {
                                    "SZOBA_FK": "168"
                                },
                                {
                                    "SZOBA_FK": "176"
                                },
                                {
                                    "SZOBA_FK": "177"
                                },
                                {
                                    "SZOBA_FK": "178"
                                },
                                {
                                    "SZOBA_FK": "179"
                                },
                                {
                                    "SZOBA_FK": "180"
                                },
                                {
                                    "SZOBA_FK": "186"
                                },
                                {
                                    "SZOBA_FK": "188"
                                },
                                {
                                    "SZOBA_FK": "189"
                                },
                                {
                                    "SZOBA_FK": "192"
                                },
                                {
                                    "SZOBA_FK": "193"
                                },
                                {
                                    "SZOBA_FK": "194"
                                },
                                {
                                    "SZOBA_FK": "196"
                                }
                            ]
                        },
                        "text/html": [
                            "<table>",
                            "<tr><th>SZOBA_FK</th></tr>",
                            "<tr><td>2</td></tr>",
                            "<tr><td>5</td></tr>",
                            "<tr><td>16</td></tr>",
                            "<tr><td>17</td></tr>",
                            "<tr><td>21</td></tr>",
                            "<tr><td>22</td></tr>",
                            "<tr><td>25</td></tr>",
                            "<tr><td>30</td></tr>",
                            "<tr><td>31</td></tr>",
                            "<tr><td>32</td></tr>",
                            "<tr><td>37</td></tr>",
                            "<tr><td>41</td></tr>",
                            "<tr><td>47</td></tr>",
                            "<tr><td>56</td></tr>",
                            "<tr><td>60</td></tr>",
                            "<tr><td>67</td></tr>",
                            "<tr><td>69</td></tr>",
                            "<tr><td>71</td></tr>",
                            "<tr><td>72</td></tr>",
                            "<tr><td>75</td></tr>",
                            "<tr><td>76</td></tr>",
                            "<tr><td>85</td></tr>",
                            "<tr><td>91</td></tr>",
                            "<tr><td>100</td></tr>",
                            "<tr><td>101</td></tr>",
                            "<tr><td>102</td></tr>",
                            "<tr><td>103</td></tr>",
                            "<tr><td>108</td></tr>",
                            "<tr><td>109</td></tr>",
                            "<tr><td>111</td></tr>",
                            "<tr><td>113</td></tr>",
                            "<tr><td>114</td></tr>",
                            "<tr><td>118</td></tr>",
                            "<tr><td>120</td></tr>",
                            "<tr><td>136</td></tr>",
                            "<tr><td>137</td></tr>",
                            "<tr><td>142</td></tr>",
                            "<tr><td>144</td></tr>",
                            "<tr><td>145</td></tr>",
                            "<tr><td>147</td></tr>",
                            "<tr><td>151</td></tr>",
                            "<tr><td>156</td></tr>",
                            "<tr><td>157</td></tr>",
                            "<tr><td>160</td></tr>",
                            "<tr><td>162</td></tr>",
                            "<tr><td>167</td></tr>",
                            "<tr><td>168</td></tr>",
                            "<tr><td>176</td></tr>",
                            "<tr><td>177</td></tr>",
                            "<tr><td>178</td></tr>",
                            "<tr><td>179</td></tr>",
                            "<tr><td>180</td></tr>",
                            "<tr><td>186</td></tr>",
                            "<tr><td>188</td></tr>",
                            "<tr><td>189</td></tr>",
                            "<tr><td>192</td></tr>",
                            "<tr><td>193</td></tr>",
                            "<tr><td>194</td></tr>",
                            "<tr><td>196</td></tr>",
                            "</table>"
                        ]
                    }
                }
            ],
            "execution_count": 15
        },
        {
            "cell_type": "code",
            "source": [
                "SELECT SZOBA_ID,SZALLAS_FK,SZOBA_SZAMA,FEROHELY,POTAGY,KLIMAS, SZALLAS_NEV\r\n",
                "FROM szallashely JOIN Szoba ON szallashely.szallas_id = szoba.szallas_fk join foglalas ON szoba.szoba_id = foglalas.szoba_fk join vendeg on foglalas.ugyfel_fk = vendeg.usernev\r\n",
                "WHERE SZOBA_ID NOT LIKE foglalas_pk\r\n",
                ""
            ],
            "metadata": {
                "azdata_cell_guid": "5aa3b5bc-f3a0-4a48-a2f2-3f92ebd9ace1",
                "language": "sql",
                "tags": []
            },
            "outputs": [
                {
                    "output_type": "display_data",
                    "data": {
                        "text/html": "(1027 rows affected)"
                    },
                    "metadata": {}
                },
                {
                    "output_type": "display_data",
                    "data": {
                        "text/html": "Total execution time: 00:00:00.042"
                    },
                    "metadata": {}
                },
                {
                    "output_type": "execute_result",
                    "metadata": {},
                    "execution_count": 16,
                    "data": {
                        "application/vnd.dataresource+json": {
                            "schema": {
                                "fields": [
                                    {
                                        "name": "SZOBA_ID"
                                    },
                                    {
                                        "name": "SZALLAS_FK"
                                    },
                                    {
                                        "name": "SZOBA_SZAMA"
                                    },
                                    {
                                        "name": "FEROHELY"
                                    },
                                    {
                                        "name": "POTAGY"
                                    },
                                    {
                                        "name": "KLIMAS"
                                    },
                                    {
                                        "name": "SZALLAS_NEV"
                                    }
                                ]
                            },
                            "data": [
                                {
                                    "SZOBA_ID": "87",
                                    "SZALLAS_FK": "7",
                                    "SZOBA_SZAMA": "3",
                                    "FEROHELY": "3",
                                    "POTAGY": "0",
                                    "KLIMAS": "i",
                                    "SZALLAS_NEV": "Szieszta Apartmanház"
                                },
                                {
                                    "SZOBA_ID": "131",
                                    "SZALLAS_FK": "9",
                                    "SZOBA_SZAMA": "2",
                                    "FEROHELY": "2",
                                    "POTAGY": "0",
                                    "KLIMAS": "n",
                                    "SZALLAS_NEV": "Jáde panzió"
                                },
                                {
                                    "SZOBA_ID": "6",
                                    "SZALLAS_FK": "1",
                                    "SZOBA_SZAMA": "6",
                                    "FEROHELY": "3",
                                    "POTAGY": "0",
                                    "KLIMAS": "i",
                                    "SZALLAS_NEV": "Sába-Ház"
                                },
                                {
                                    "SZOBA_ID": "42",
                                    "SZALLAS_FK": "5",
                                    "SZOBA_SZAMA": "3",
                                    "FEROHELY": "2",
                                    "POTAGY": "1",
                                    "KLIMAS": "i",
                                    "SZALLAS_NEV": "Fortuna Panzió"
                                },
                                {
                                    "SZOBA_ID": "7",
                                    "SZALLAS_FK": "1",
                                    "SZOBA_SZAMA": "7",
                                    "FEROHELY": "2",
                                    "POTAGY": "0",
                                    "KLIMAS": "i",
                                    "SZALLAS_NEV": "Sába-Ház"
                                },
                                {
                                    "SZOBA_ID": "68",
                                    "SZALLAS_FK": "6",
                                    "SZOBA_SZAMA": "19",
                                    "FEROHELY": "2",
                                    "POTAGY": "2",
                                    "KLIMAS": "i",
                                    "SZALLAS_NEV": "Kentaur Hotel"
                                },
                                {
                                    "SZOBA_ID": "5",
                                    "SZALLAS_FK": "1",
                                    "SZOBA_SZAMA": "5",
                                    "FEROHELY": "2",
                                    "POTAGY": "0",
                                    "KLIMAS": "i",
                                    "SZALLAS_NEV": "Sába-Ház"
                                },
                                {
                                    "SZOBA_ID": "141",
                                    "SZALLAS_FK": "10",
                                    "SZOBA_SZAMA": "7",
                                    "FEROHELY": "2",
                                    "POTAGY": "0",
                                    "KLIMAS": "n",
                                    "SZALLAS_NEV": "Lagúna Hotel"
                                },
                                {
                                    "SZOBA_ID": "21",
                                    "SZALLAS_FK": "3",
                                    "SZOBA_SZAMA": "5",
                                    "FEROHELY": "2",
                                    "POTAGY": "1",
                                    "KLIMAS": "i",
                                    "SZALLAS_NEV": "Fortuna Apartman"
                                },
                                {
                                    "SZOBA_ID": "170",
                                    "SZALLAS_FK": "12",
                                    "SZOBA_SZAMA": "6",
                                    "FEROHELY": "2",
                                    "POTAGY": "0",
                                    "KLIMAS": "i",
                                    "SZALLAS_NEV": "Gold Hotel"
                                },
                                {
                                    "SZOBA_ID": "78",
                                    "SZALLAS_FK": "6",
                                    "SZOBA_SZAMA": "29",
                                    "FEROHELY": "2",
                                    "POTAGY": "1",
                                    "KLIMAS": "n",
                                    "SZALLAS_NEV": "Kentaur Hotel"
                                },
                                {
                                    "SZOBA_ID": "10",
                                    "SZALLAS_FK": "1",
                                    "SZOBA_SZAMA": "10",
                                    "FEROHELY": "3",
                                    "POTAGY": "0",
                                    "KLIMAS": "i",
                                    "SZALLAS_NEV": "Sába-Ház"
                                },
                                {
                                    "SZOBA_ID": "164",
                                    "SZALLAS_FK": "11",
                                    "SZOBA_SZAMA": "5",
                                    "FEROHELY": "2",
                                    "POTAGY": "0",
                                    "KLIMAS": "i",
                                    "SZALLAS_NEV": "Partiszél Vendégház"
                                },
                                {
                                    "SZOBA_ID": "182",
                                    "SZALLAS_FK": "12",
                                    "SZOBA_SZAMA": "18",
                                    "FEROHELY": "2",
                                    "POTAGY": "0",
                                    "KLIMAS": "n",
                                    "SZALLAS_NEV": "Gold Hotel"
                                },
                                {
                                    "SZOBA_ID": "83",
                                    "SZALLAS_FK": "6",
                                    "SZOBA_SZAMA": "34",
                                    "FEROHELY": "3",
                                    "POTAGY": "0",
                                    "KLIMAS": "i",
                                    "SZALLAS_NEV": "Kentaur Hotel"
                                },
                                {
                                    "SZOBA_ID": "169",
                                    "SZALLAS_FK": "12",
                                    "SZOBA_SZAMA": "5",
                                    "FEROHELY": "2",
                                    "POTAGY": "1",
                                    "KLIMAS": "i",
                                    "SZALLAS_NEV": "Gold Hotel"
                                },
                                {
                                    "SZOBA_ID": "171",
                                    "SZALLAS_FK": "12",
                                    "SZOBA_SZAMA": "7",
                                    "FEROHELY": "2",
                                    "POTAGY": "1",
                                    "KLIMAS": "i",
                                    "SZALLAS_NEV": "Gold Hotel"
                                },
                                {
                                    "SZOBA_ID": "155",
                                    "SZALLAS_FK": "10",
                                    "SZOBA_SZAMA": "21",
                                    "FEROHELY": "3",
                                    "POTAGY": "1",
                                    "KLIMAS": "n",
                                    "SZALLAS_NEV": "Lagúna Hotel"
                                },
                                {
                                    "SZOBA_ID": "125",
                                    "SZALLAS_FK": "8",
                                    "SZOBA_SZAMA": "35",
                                    "FEROHELY": "2",
                                    "POTAGY": "1",
                                    "KLIMAS": "i",
                                    "SZALLAS_NEV": "Hotel Három Hattyú"
                                },
                                {
                                    "SZOBA_ID": "155",
                                    "SZALLAS_FK": "10",
                                    "SZOBA_SZAMA": "21",
                                    "FEROHELY": "3",
                                    "POTAGY": "1",
                                    "KLIMAS": "n",
                                    "SZALLAS_NEV": "Lagúna Hotel"
                                },
                                {
                                    "SZOBA_ID": "185",
                                    "SZALLAS_FK": "12",
                                    "SZOBA_SZAMA": "21",
                                    "FEROHELY": "3",
                                    "POTAGY": "0",
                                    "KLIMAS": "i",
                                    "SZALLAS_NEV": "Gold Hotel"
                                },
                                {
                                    "SZOBA_ID": "139",
                                    "SZALLAS_FK": "10",
                                    "SZOBA_SZAMA": "5",
                                    "FEROHELY": "2",
                                    "POTAGY": "1",
                                    "KLIMAS": "i",
                                    "SZALLAS_NEV": "Lagúna Hotel"
                                },
                                {
                                    "SZOBA_ID": "130",
                                    "SZALLAS_FK": "9",
                                    "SZOBA_SZAMA": "1",
                                    "FEROHELY": "2",
                                    "POTAGY": "0",
                                    "KLIMAS": "n",
                                    "SZALLAS_NEV": "Jáde panzió"
                                },
                                {
                                    "SZOBA_ID": "144",
                                    "SZALLAS_FK": "10",
                                    "SZOBA_SZAMA": "10",
                                    "FEROHELY": "3",
                                    "POTAGY": "1",
                                    "KLIMAS": "n",
                                    "SZALLAS_NEV": "Lagúna Hotel"
                                },
                                {
                                    "SZOBA_ID": "137",
                                    "SZALLAS_FK": "10",
                                    "SZOBA_SZAMA": "3",
                                    "FEROHELY": "2",
                                    "POTAGY": "1",
                                    "KLIMAS": "i",
                                    "SZALLAS_NEV": "Lagúna Hotel"
                                },
                                {
                                    "SZOBA_ID": "79",
                                    "SZALLAS_FK": "6",
                                    "SZOBA_SZAMA": "30",
                                    "FEROHELY": "3",
                                    "POTAGY": "0",
                                    "KLIMAS": "i",
                                    "SZALLAS_NEV": "Kentaur Hotel"
                                },
                                {
                                    "SZOBA_ID": "136",
                                    "SZALLAS_FK": "10",
                                    "SZOBA_SZAMA": "2",
                                    "FEROHELY": "2",
                                    "POTAGY": "0",
                                    "KLIMAS": "n",
                                    "SZALLAS_NEV": "Lagúna Hotel"
                                },
                                {
                                    "SZOBA_ID": "70",
                                    "SZALLAS_FK": "6",
                                    "SZOBA_SZAMA": "21",
                                    "FEROHELY": "2",
                                    "POTAGY": "1",
                                    "KLIMAS": "i",
                                    "SZALLAS_NEV": "Kentaur Hotel"
                                },
                                {
                                    "SZOBA_ID": "107",
                                    "SZALLAS_FK": "8",
                                    "SZOBA_SZAMA": "17",
                                    "FEROHELY": "2",
                                    "POTAGY": "1",
                                    "KLIMAS": "n",
                                    "SZALLAS_NEV": "Hotel Három Hattyú"
                                },
                                {
                                    "SZOBA_ID": "123",
                                    "SZALLAS_FK": "8",
                                    "SZOBA_SZAMA": "33",
                                    "FEROHELY": "3",
                                    "POTAGY": "0",
                                    "KLIMAS": "n",
                                    "SZALLAS_NEV": "Hotel Három Hattyú"
                                },
                                {
                                    "SZOBA_ID": "156",
                                    "SZALLAS_FK": "10",
                                    "SZOBA_SZAMA": "22",
                                    "FEROHELY": "2",
                                    "POTAGY": "2",
                                    "KLIMAS": "i",
                                    "SZALLAS_NEV": "Lagúna Hotel"
                                },
                                {
                                    "SZOBA_ID": "44",
                                    "SZALLAS_FK": "5",
                                    "SZOBA_SZAMA": "5",
                                    "FEROHELY": "3",
                                    "POTAGY": "0",
                                    "KLIMAS": "i",
                                    "SZALLAS_NEV": "Fortuna Panzió"
                                },
                                {
                                    "SZOBA_ID": "42",
                                    "SZALLAS_FK": "5",
                                    "SZOBA_SZAMA": "3",
                                    "FEROHELY": "2",
                                    "POTAGY": "1",
                                    "KLIMAS": "i",
                                    "SZALLAS_NEV": "Fortuna Panzió"
                                },
                                {
                                    "SZOBA_ID": "149",
                                    "SZALLAS_FK": "10",
                                    "SZOBA_SZAMA": "15",
                                    "FEROHELY": "2",
                                    "POTAGY": "0",
                                    "KLIMAS": "i",
                                    "SZALLAS_NEV": "Lagúna Hotel"
                                },
                                {
                                    "SZOBA_ID": "176",
                                    "SZALLAS_FK": "12",
                                    "SZOBA_SZAMA": "12",
                                    "FEROHELY": "3",
                                    "POTAGY": "1",
                                    "KLIMAS": "i",
                                    "SZALLAS_NEV": "Gold Hotel"
                                },
                                {
                                    "SZOBA_ID": "77",
                                    "SZALLAS_FK": "6",
                                    "SZOBA_SZAMA": "28",
                                    "FEROHELY": "3",
                                    "POTAGY": "1",
                                    "KLIMAS": "i",
                                    "SZALLAS_NEV": "Kentaur Hotel"
                                },
                                {
                                    "SZOBA_ID": "153",
                                    "SZALLAS_FK": "10",
                                    "SZOBA_SZAMA": "19",
                                    "FEROHELY": "3",
                                    "POTAGY": "0",
                                    "KLIMAS": "n",
                                    "SZALLAS_NEV": "Lagúna Hotel"
                                },
                                {
                                    "SZOBA_ID": "74",
                                    "SZALLAS_FK": "6",
                                    "SZOBA_SZAMA": "25",
                                    "FEROHELY": "3",
                                    "POTAGY": "1",
                                    "KLIMAS": "n",
                                    "SZALLAS_NEV": "Kentaur Hotel"
                                },
                                {
                                    "SZOBA_ID": "115",
                                    "SZALLAS_FK": "8",
                                    "SZOBA_SZAMA": "25",
                                    "FEROHELY": "3",
                                    "POTAGY": "0",
                                    "KLIMAS": "i",
                                    "SZALLAS_NEV": "Hotel Három Hattyú"
                                },
                                {
                                    "SZOBA_ID": "100",
                                    "SZALLAS_FK": "8",
                                    "SZOBA_SZAMA": "10",
                                    "FEROHELY": "2",
                                    "POTAGY": "1",
                                    "KLIMAS": "i",
                                    "SZALLAS_NEV": "Hotel Három Hattyú"
                                },
                                {
                                    "SZOBA_ID": "31",
                                    "SZALLAS_FK": "4",
                                    "SZOBA_SZAMA": "7",
                                    "FEROHELY": "3",
                                    "POTAGY": "1",
                                    "KLIMAS": "i",
                                    "SZALLAS_NEV": "Fortuna panzió"
                                },
                                {
                                    "SZOBA_ID": "162",
                                    "SZALLAS_FK": "11",
                                    "SZOBA_SZAMA": "3",
                                    "FEROHELY": "3",
                                    "POTAGY": "0",
                                    "KLIMAS": "n",
                                    "SZALLAS_NEV": "Partiszél Vendégház"
                                },
                                {
                                    "SZOBA_ID": "190",
                                    "SZALLAS_FK": "12",
                                    "SZOBA_SZAMA": "26",
                                    "FEROHELY": "2",
                                    "POTAGY": "0",
                                    "KLIMAS": "i",
                                    "SZALLAS_NEV": "Gold Hotel"
                                },
                                {
                                    "SZOBA_ID": "39",
                                    "SZALLAS_FK": "4",
                                    "SZOBA_SZAMA": "15",
                                    "FEROHELY": "2",
                                    "POTAGY": "0",
                                    "KLIMAS": "i",
                                    "SZALLAS_NEV": "Fortuna panzió"
                                },
                                {
                                    "SZOBA_ID": "17",
                                    "SZALLAS_FK": "3",
                                    "SZOBA_SZAMA": "1",
                                    "FEROHELY": "3",
                                    "POTAGY": "1",
                                    "KLIMAS": "i",
                                    "SZALLAS_NEV": "Fortuna Apartman"
                                },
                                {
                                    "SZOBA_ID": "48",
                                    "SZALLAS_FK": "5",
                                    "SZOBA_SZAMA": "9",
                                    "FEROHELY": "3",
                                    "POTAGY": "0",
                                    "KLIMAS": "i",
                                    "SZALLAS_NEV": "Fortuna Panzió"
                                },
                                {
                                    "SZOBA_ID": "30",
                                    "SZALLAS_FK": "4",
                                    "SZOBA_SZAMA": "6",
                                    "FEROHELY": "3",
                                    "POTAGY": "1",
                                    "KLIMAS": "i",
                                    "SZALLAS_NEV": "Fortuna panzió"
                                },
                                {
                                    "SZOBA_ID": "111",
                                    "SZALLAS_FK": "8",
                                    "SZOBA_SZAMA": "21",
                                    "FEROHELY": "2",
                                    "POTAGY": "1",
                                    "KLIMAS": "i",
                                    "SZALLAS_NEV": "Hotel Három Hattyú"
                                },
                                {
                                    "SZOBA_ID": "31",
                                    "SZALLAS_FK": "4",
                                    "SZOBA_SZAMA": "7",
                                    "FEROHELY": "3",
                                    "POTAGY": "1",
                                    "KLIMAS": "i",
                                    "SZALLAS_NEV": "Fortuna panzió"
                                },
                                {
                                    "SZOBA_ID": "96",
                                    "SZALLAS_FK": "8",
                                    "SZOBA_SZAMA": "6",
                                    "FEROHELY": "3",
                                    "POTAGY": "0",
                                    "KLIMAS": "n",
                                    "SZALLAS_NEV": "Hotel Három Hattyú"
                                },
                                {
                                    "SZOBA_ID": "184",
                                    "SZALLAS_FK": "12",
                                    "SZOBA_SZAMA": "20",
                                    "FEROHELY": "2",
                                    "POTAGY": "0",
                                    "KLIMAS": "n",
                                    "SZALLAS_NEV": "Gold Hotel"
                                },
                                {
                                    "SZOBA_ID": "9",
                                    "SZALLAS_FK": "1",
                                    "SZOBA_SZAMA": "9",
                                    "FEROHELY": "3",
                                    "POTAGY": "1",
                                    "KLIMAS": "i",
                                    "SZALLAS_NEV": "Sába-Ház"
                                },
                                {
                                    "SZOBA_ID": "106",
                                    "SZALLAS_FK": "8",
                                    "SZOBA_SZAMA": "16",
                                    "FEROHELY": "2",
                                    "POTAGY": "0",
                                    "KLIMAS": "i",
                                    "SZALLAS_NEV": "Hotel Három Hattyú"
                                },
                                {
                                    "SZOBA_ID": "29",
                                    "SZALLAS_FK": "4",
                                    "SZOBA_SZAMA": "5",
                                    "FEROHELY": "2",
                                    "POTAGY": "0",
                                    "KLIMAS": "n",
                                    "SZALLAS_NEV": "Fortuna panzió"
                                },
                                {
                                    "SZOBA_ID": "117",
                                    "SZALLAS_FK": "8",
                                    "SZOBA_SZAMA": "27",
                                    "FEROHELY": "3",
                                    "POTAGY": "1",
                                    "KLIMAS": "i",
                                    "SZALLAS_NEV": "Hotel Három Hattyú"
                                },
                                {
                                    "SZOBA_ID": "130",
                                    "SZALLAS_FK": "9",
                                    "SZOBA_SZAMA": "1",
                                    "FEROHELY": "2",
                                    "POTAGY": "0",
                                    "KLIMAS": "n",
                                    "SZALLAS_NEV": "Jáde panzió"
                                },
                                {
                                    "SZOBA_ID": "109",
                                    "SZALLAS_FK": "8",
                                    "SZOBA_SZAMA": "19",
                                    "FEROHELY": "2",
                                    "POTAGY": "1",
                                    "KLIMAS": "i",
                                    "SZALLAS_NEV": "Hotel Három Hattyú"
                                },
                                {
                                    "SZOBA_ID": "186",
                                    "SZALLAS_FK": "12",
                                    "SZOBA_SZAMA": "22",
                                    "FEROHELY": "2",
                                    "POTAGY": "2",
                                    "KLIMAS": "i",
                                    "SZALLAS_NEV": "Gold Hotel"
                                },
                                {
                                    "SZOBA_ID": "94",
                                    "SZALLAS_FK": "8",
                                    "SZOBA_SZAMA": "4",
                                    "FEROHELY": "2",
                                    "POTAGY": "0",
                                    "KLIMAS": "n",
                                    "SZALLAS_NEV": "Hotel Három Hattyú"
                                },
                                {
                                    "SZOBA_ID": "117",
                                    "SZALLAS_FK": "8",
                                    "SZOBA_SZAMA": "27",
                                    "FEROHELY": "3",
                                    "POTAGY": "1",
                                    "KLIMAS": "i",
                                    "SZALLAS_NEV": "Hotel Három Hattyú"
                                },
                                {
                                    "SZOBA_ID": "105",
                                    "SZALLAS_FK": "8",
                                    "SZOBA_SZAMA": "15",
                                    "FEROHELY": "2",
                                    "POTAGY": "0",
                                    "KLIMAS": "i",
                                    "SZALLAS_NEV": "Hotel Három Hattyú"
                                },
                                {
                                    "SZOBA_ID": "132",
                                    "SZALLAS_FK": "9",
                                    "SZOBA_SZAMA": "3",
                                    "FEROHELY": "3",
                                    "POTAGY": "0",
                                    "KLIMAS": "i",
                                    "SZALLAS_NEV": "Jáde panzió"
                                },
                                {
                                    "SZOBA_ID": "1",
                                    "SZALLAS_FK": "1",
                                    "SZOBA_SZAMA": "1",
                                    "FEROHELY": "3",
                                    "POTAGY": "0",
                                    "KLIMAS": "n",
                                    "SZALLAS_NEV": "Sába-Ház"
                                },
                                {
                                    "SZOBA_ID": "109",
                                    "SZALLAS_FK": "8",
                                    "SZOBA_SZAMA": "19",
                                    "FEROHELY": "2",
                                    "POTAGY": "1",
                                    "KLIMAS": "i",
                                    "SZALLAS_NEV": "Hotel Három Hattyú"
                                },
                                {
                                    "SZOBA_ID": "54",
                                    "SZALLAS_FK": "6",
                                    "SZOBA_SZAMA": "5",
                                    "FEROHELY": "3",
                                    "POTAGY": "0",
                                    "KLIMAS": "n",
                                    "SZALLAS_NEV": "Kentaur Hotel"
                                },
                                {
                                    "SZOBA_ID": "96",
                                    "SZALLAS_FK": "8",
                                    "SZOBA_SZAMA": "6",
                                    "FEROHELY": "3",
                                    "POTAGY": "0",
                                    "KLIMAS": "n",
                                    "SZALLAS_NEV": "Hotel Három Hattyú"
                                },
                                {
                                    "SZOBA_ID": "33",
                                    "SZALLAS_FK": "4",
                                    "SZOBA_SZAMA": "9",
                                    "FEROHELY": "2",
                                    "POTAGY": "2",
                                    "KLIMAS": "i",
                                    "SZALLAS_NEV": "Fortuna panzió"
                                },
                                {
                                    "SZOBA_ID": "63",
                                    "SZALLAS_FK": "6",
                                    "SZOBA_SZAMA": "14",
                                    "FEROHELY": "2",
                                    "POTAGY": "0",
                                    "KLIMAS": "n",
                                    "SZALLAS_NEV": "Kentaur Hotel"
                                },
                                {
                                    "SZOBA_ID": "18",
                                    "SZALLAS_FK": "3",
                                    "SZOBA_SZAMA": "2",
                                    "FEROHELY": "3",
                                    "POTAGY": "2",
                                    "KLIMAS": "n",
                                    "SZALLAS_NEV": "Fortuna Apartman"
                                },
                                {
                                    "SZOBA_ID": "38",
                                    "SZALLAS_FK": "4",
                                    "SZOBA_SZAMA": "14",
                                    "FEROHELY": "2",
                                    "POTAGY": "1",
                                    "KLIMAS": "i",
                                    "SZALLAS_NEV": "Fortuna panzió"
                                },
                                {
                                    "SZOBA_ID": "48",
                                    "SZALLAS_FK": "5",
                                    "SZOBA_SZAMA": "9",
                                    "FEROHELY": "3",
                                    "POTAGY": "0",
                                    "KLIMAS": "i",
                                    "SZALLAS_NEV": "Fortuna Panzió"
                                },
                                {
                                    "SZOBA_ID": "3",
                                    "SZALLAS_FK": "1",
                                    "SZOBA_SZAMA": "3",
                                    "FEROHELY": "3",
                                    "POTAGY": "1",
                                    "KLIMAS": "i",
                                    "SZALLAS_NEV": "Sába-Ház"
                                },
                                {
                                    "SZOBA_ID": "163",
                                    "SZALLAS_FK": "11",
                                    "SZOBA_SZAMA": "4",
                                    "FEROHELY": "2",
                                    "POTAGY": "0",
                                    "KLIMAS": "i",
                                    "SZALLAS_NEV": "Partiszél Vendégház"
                                },
                                {
                                    "SZOBA_ID": "98",
                                    "SZALLAS_FK": "8",
                                    "SZOBA_SZAMA": "8",
                                    "FEROHELY": "2",
                                    "POTAGY": "0",
                                    "KLIMAS": "n",
                                    "SZALLAS_NEV": "Hotel Három Hattyú"
                                },
                                {
                                    "SZOBA_ID": "99",
                                    "SZALLAS_FK": "8",
                                    "SZOBA_SZAMA": "9",
                                    "FEROHELY": "2",
                                    "POTAGY": "0",
                                    "KLIMAS": "n",
                                    "SZALLAS_NEV": "Hotel Három Hattyú"
                                },
                                {
                                    "SZOBA_ID": "187",
                                    "SZALLAS_FK": "12",
                                    "SZOBA_SZAMA": "23",
                                    "FEROHELY": "3",
                                    "POTAGY": "1",
                                    "KLIMAS": "i",
                                    "SZALLAS_NEV": "Gold Hotel"
                                },
                                {
                                    "SZOBA_ID": "193",
                                    "SZALLAS_FK": "12",
                                    "SZOBA_SZAMA": "29",
                                    "FEROHELY": "3",
                                    "POTAGY": "2",
                                    "KLIMAS": "n",
                                    "SZALLAS_NEV": "Gold Hotel"
                                },
                                {
                                    "SZOBA_ID": "97",
                                    "SZALLAS_FK": "8",
                                    "SZOBA_SZAMA": "7",
                                    "FEROHELY": "3",
                                    "POTAGY": "2",
                                    "KLIMAS": "n",
                                    "SZALLAS_NEV": "Hotel Három Hattyú"
                                },
                                {
                                    "SZOBA_ID": "91",
                                    "SZALLAS_FK": "8",
                                    "SZOBA_SZAMA": "1",
                                    "FEROHELY": "2",
                                    "POTAGY": "0",
                                    "KLIMAS": "n",
                                    "SZALLAS_NEV": "Hotel Három Hattyú"
                                },
                                {
                                    "SZOBA_ID": "100",
                                    "SZALLAS_FK": "8",
                                    "SZOBA_SZAMA": "10",
                                    "FEROHELY": "2",
                                    "POTAGY": "1",
                                    "KLIMAS": "i",
                                    "SZALLAS_NEV": "Hotel Három Hattyú"
                                },
                                {
                                    "SZOBA_ID": "67",
                                    "SZALLAS_FK": "6",
                                    "SZOBA_SZAMA": "18",
                                    "FEROHELY": "2",
                                    "POTAGY": "2",
                                    "KLIMAS": "i",
                                    "SZALLAS_NEV": "Kentaur Hotel"
                                },
                                {
                                    "SZOBA_ID": "161",
                                    "SZALLAS_FK": "11",
                                    "SZOBA_SZAMA": "2",
                                    "FEROHELY": "2",
                                    "POTAGY": "2",
                                    "KLIMAS": "i",
                                    "SZALLAS_NEV": "Partiszél Vendégház"
                                },
                                {
                                    "SZOBA_ID": "165",
                                    "SZALLAS_FK": "12",
                                    "SZOBA_SZAMA": "1",
                                    "FEROHELY": "2",
                                    "POTAGY": "0",
                                    "KLIMAS": "n",
                                    "SZALLAS_NEV": "Gold Hotel"
                                },
                                {
                                    "SZOBA_ID": "150",
                                    "SZALLAS_FK": "10",
                                    "SZOBA_SZAMA": "16",
                                    "FEROHELY": "2",
                                    "POTAGY": "1",
                                    "KLIMAS": "i",
                                    "SZALLAS_NEV": "Lagúna Hotel"
                                },
                                {
                                    "SZOBA_ID": "54",
                                    "SZALLAS_FK": "6",
                                    "SZOBA_SZAMA": "5",
                                    "FEROHELY": "3",
                                    "POTAGY": "0",
                                    "KLIMAS": "n",
                                    "SZALLAS_NEV": "Kentaur Hotel"
                                },
                                {
                                    "SZOBA_ID": "127",
                                    "SZALLAS_FK": "8",
                                    "SZOBA_SZAMA": "37",
                                    "FEROHELY": "2",
                                    "POTAGY": "1",
                                    "KLIMAS": "i",
                                    "SZALLAS_NEV": "Hotel Három Hattyú"
                                },
                                {
                                    "SZOBA_ID": "166",
                                    "SZALLAS_FK": "12",
                                    "SZOBA_SZAMA": "2",
                                    "FEROHELY": "2",
                                    "POTAGY": "1",
                                    "KLIMAS": "i",
                                    "SZALLAS_NEV": "Gold Hotel"
                                },
                                {
                                    "SZOBA_ID": "67",
                                    "SZALLAS_FK": "6",
                                    "SZOBA_SZAMA": "18",
                                    "FEROHELY": "2",
                                    "POTAGY": "2",
                                    "KLIMAS": "i",
                                    "SZALLAS_NEV": "Kentaur Hotel"
                                },
                                {
                                    "SZOBA_ID": "78",
                                    "SZALLAS_FK": "6",
                                    "SZOBA_SZAMA": "29",
                                    "FEROHELY": "2",
                                    "POTAGY": "1",
                                    "KLIMAS": "n",
                                    "SZALLAS_NEV": "Kentaur Hotel"
                                },
                                {
                                    "SZOBA_ID": "85",
                                    "SZALLAS_FK": "7",
                                    "SZOBA_SZAMA": "1",
                                    "FEROHELY": "2",
                                    "POTAGY": "1",
                                    "KLIMAS": "n",
                                    "SZALLAS_NEV": "Szieszta Apartmanház"
                                },
                                {
                                    "SZOBA_ID": "157",
                                    "SZALLAS_FK": "10",
                                    "SZOBA_SZAMA": "23",
                                    "FEROHELY": "2",
                                    "POTAGY": "0",
                                    "KLIMAS": "n",
                                    "SZALLAS_NEV": "Lagúna Hotel"
                                },
                                {
                                    "SZOBA_ID": "137",
                                    "SZALLAS_FK": "10",
                                    "SZOBA_SZAMA": "3",
                                    "FEROHELY": "2",
                                    "POTAGY": "1",
                                    "KLIMAS": "i",
                                    "SZALLAS_NEV": "Lagúna Hotel"
                                },
                                {
                                    "SZOBA_ID": "65",
                                    "SZALLAS_FK": "6",
                                    "SZOBA_SZAMA": "16",
                                    "FEROHELY": "2",
                                    "POTAGY": "0",
                                    "KLIMAS": "n",
                                    "SZALLAS_NEV": "Kentaur Hotel"
                                },
                                {
                                    "SZOBA_ID": "4",
                                    "SZALLAS_FK": "1",
                                    "SZOBA_SZAMA": "4",
                                    "FEROHELY": "2",
                                    "POTAGY": "1",
                                    "KLIMAS": "i",
                                    "SZALLAS_NEV": "Sába-Ház"
                                },
                                {
                                    "SZOBA_ID": "149",
                                    "SZALLAS_FK": "10",
                                    "SZOBA_SZAMA": "15",
                                    "FEROHELY": "2",
                                    "POTAGY": "0",
                                    "KLIMAS": "i",
                                    "SZALLAS_NEV": "Lagúna Hotel"
                                },
                                {
                                    "SZOBA_ID": "161",
                                    "SZALLAS_FK": "11",
                                    "SZOBA_SZAMA": "2",
                                    "FEROHELY": "2",
                                    "POTAGY": "2",
                                    "KLIMAS": "i",
                                    "SZALLAS_NEV": "Partiszél Vendégház"
                                },
                                {
                                    "SZOBA_ID": "109",
                                    "SZALLAS_FK": "8",
                                    "SZOBA_SZAMA": "19",
                                    "FEROHELY": "2",
                                    "POTAGY": "1",
                                    "KLIMAS": "i",
                                    "SZALLAS_NEV": "Hotel Három Hattyú"
                                },
                                {
                                    "SZOBA_ID": "131",
                                    "SZALLAS_FK": "9",
                                    "SZOBA_SZAMA": "2",
                                    "FEROHELY": "2",
                                    "POTAGY": "0",
                                    "KLIMAS": "n",
                                    "SZALLAS_NEV": "Jáde panzió"
                                },
                                {
                                    "SZOBA_ID": "95",
                                    "SZALLAS_FK": "8",
                                    "SZOBA_SZAMA": "5",
                                    "FEROHELY": "3",
                                    "POTAGY": "1",
                                    "KLIMAS": "i",
                                    "SZALLAS_NEV": "Hotel Három Hattyú"
                                },
                                {
                                    "SZOBA_ID": "137",
                                    "SZALLAS_FK": "10",
                                    "SZOBA_SZAMA": "3",
                                    "FEROHELY": "2",
                                    "POTAGY": "1",
                                    "KLIMAS": "i",
                                    "SZALLAS_NEV": "Lagúna Hotel"
                                },
                                {
                                    "SZOBA_ID": "44",
                                    "SZALLAS_FK": "5",
                                    "SZOBA_SZAMA": "5",
                                    "FEROHELY": "3",
                                    "POTAGY": "0",
                                    "KLIMAS": "i",
                                    "SZALLAS_NEV": "Fortuna Panzió"
                                },
                                {
                                    "SZOBA_ID": "169",
                                    "SZALLAS_FK": "12",
                                    "SZOBA_SZAMA": "5",
                                    "FEROHELY": "2",
                                    "POTAGY": "1",
                                    "KLIMAS": "i",
                                    "SZALLAS_NEV": "Gold Hotel"
                                },
                                {
                                    "SZOBA_ID": "21",
                                    "SZALLAS_FK": "3",
                                    "SZOBA_SZAMA": "5",
                                    "FEROHELY": "2",
                                    "POTAGY": "1",
                                    "KLIMAS": "i",
                                    "SZALLAS_NEV": "Fortuna Apartman"
                                },
                                {
                                    "SZOBA_ID": "136",
                                    "SZALLAS_FK": "10",
                                    "SZOBA_SZAMA": "2",
                                    "FEROHELY": "2",
                                    "POTAGY": "0",
                                    "KLIMAS": "n",
                                    "SZALLAS_NEV": "Lagúna Hotel"
                                },
                                {
                                    "SZOBA_ID": "179",
                                    "SZALLAS_FK": "12",
                                    "SZOBA_SZAMA": "15",
                                    "FEROHELY": "3",
                                    "POTAGY": "2",
                                    "KLIMAS": "i",
                                    "SZALLAS_NEV": "Gold Hotel"
                                },
                                {
                                    "SZOBA_ID": "14",
                                    "SZALLAS_FK": "2",
                                    "SZOBA_SZAMA": "2",
                                    "FEROHELY": "3",
                                    "POTAGY": "2",
                                    "KLIMAS": "i",
                                    "SZALLAS_NEV": "Családi Ház"
                                },
                                {
                                    "SZOBA_ID": "146",
                                    "SZALLAS_FK": "10",
                                    "SZOBA_SZAMA": "12",
                                    "FEROHELY": "3",
                                    "POTAGY": "0",
                                    "KLIMAS": "i",
                                    "SZALLAS_NEV": "Lagúna Hotel"
                                },
                                {
                                    "SZOBA_ID": "94",
                                    "SZALLAS_FK": "8",
                                    "SZOBA_SZAMA": "4",
                                    "FEROHELY": "2",
                                    "POTAGY": "0",
                                    "KLIMAS": "n",
                                    "SZALLAS_NEV": "Hotel Három Hattyú"
                                },
                                {
                                    "SZOBA_ID": "3",
                                    "SZALLAS_FK": "1",
                                    "SZOBA_SZAMA": "3",
                                    "FEROHELY": "3",
                                    "POTAGY": "1",
                                    "KLIMAS": "i",
                                    "SZALLAS_NEV": "Sába-Ház"
                                },
                                {
                                    "SZOBA_ID": "80",
                                    "SZALLAS_FK": "6",
                                    "SZOBA_SZAMA": "31",
                                    "FEROHELY": "2",
                                    "POTAGY": "1",
                                    "KLIMAS": "i",
                                    "SZALLAS_NEV": "Kentaur Hotel"
                                },
                                {
                                    "SZOBA_ID": "54",
                                    "SZALLAS_FK": "6",
                                    "SZOBA_SZAMA": "5",
                                    "FEROHELY": "3",
                                    "POTAGY": "0",
                                    "KLIMAS": "n",
                                    "SZALLAS_NEV": "Kentaur Hotel"
                                },
                                {
                                    "SZOBA_ID": "173",
                                    "SZALLAS_FK": "12",
                                    "SZOBA_SZAMA": "9",
                                    "FEROHELY": "2",
                                    "POTAGY": "0",
                                    "KLIMAS": "i",
                                    "SZALLAS_NEV": "Gold Hotel"
                                },
                                {
                                    "SZOBA_ID": "43",
                                    "SZALLAS_FK": "5",
                                    "SZOBA_SZAMA": "4",
                                    "FEROHELY": "3",
                                    "POTAGY": "0",
                                    "KLIMAS": "i",
                                    "SZALLAS_NEV": "Fortuna Panzió"
                                },
                                {
                                    "SZOBA_ID": "96",
                                    "SZALLAS_FK": "8",
                                    "SZOBA_SZAMA": "6",
                                    "FEROHELY": "3",
                                    "POTAGY": "0",
                                    "KLIMAS": "n",
                                    "SZALLAS_NEV": "Hotel Három Hattyú"
                                },
                                {
                                    "SZOBA_ID": "185",
                                    "SZALLAS_FK": "12",
                                    "SZOBA_SZAMA": "21",
                                    "FEROHELY": "3",
                                    "POTAGY": "0",
                                    "KLIMAS": "i",
                                    "SZALLAS_NEV": "Gold Hotel"
                                },
                                {
                                    "SZOBA_ID": "196",
                                    "SZALLAS_FK": "12",
                                    "SZOBA_SZAMA": "32",
                                    "FEROHELY": "2",
                                    "POTAGY": "1",
                                    "KLIMAS": "i",
                                    "SZALLAS_NEV": "Gold Hotel"
                                },
                                {
                                    "SZOBA_ID": "83",
                                    "SZALLAS_FK": "6",
                                    "SZOBA_SZAMA": "34",
                                    "FEROHELY": "3",
                                    "POTAGY": "0",
                                    "KLIMAS": "i",
                                    "SZALLAS_NEV": "Kentaur Hotel"
                                },
                                {
                                    "SZOBA_ID": "193",
                                    "SZALLAS_FK": "12",
                                    "SZOBA_SZAMA": "29",
                                    "FEROHELY": "3",
                                    "POTAGY": "2",
                                    "KLIMAS": "n",
                                    "SZALLAS_NEV": "Gold Hotel"
                                },
                                {
                                    "SZOBA_ID": "60",
                                    "SZALLAS_FK": "6",
                                    "SZOBA_SZAMA": "11",
                                    "FEROHELY": "3",
                                    "POTAGY": "0",
                                    "KLIMAS": "i",
                                    "SZALLAS_NEV": "Kentaur Hotel"
                                },
                                {
                                    "SZOBA_ID": "181",
                                    "SZALLAS_FK": "12",
                                    "SZOBA_SZAMA": "17",
                                    "FEROHELY": "3",
                                    "POTAGY": "0",
                                    "KLIMAS": "i",
                                    "SZALLAS_NEV": "Gold Hotel"
                                },
                                {
                                    "SZOBA_ID": "148",
                                    "SZALLAS_FK": "10",
                                    "SZOBA_SZAMA": "14",
                                    "FEROHELY": "2",
                                    "POTAGY": "0",
                                    "KLIMAS": "i",
                                    "SZALLAS_NEV": "Lagúna Hotel"
                                },
                                {
                                    "SZOBA_ID": "185",
                                    "SZALLAS_FK": "12",
                                    "SZOBA_SZAMA": "21",
                                    "FEROHELY": "3",
                                    "POTAGY": "0",
                                    "KLIMAS": "i",
                                    "SZALLAS_NEV": "Gold Hotel"
                                },
                                {
                                    "SZOBA_ID": "192",
                                    "SZALLAS_FK": "12",
                                    "SZOBA_SZAMA": "28",
                                    "FEROHELY": "2",
                                    "POTAGY": "1",
                                    "KLIMAS": "i",
                                    "SZALLAS_NEV": "Gold Hotel"
                                },
                                {
                                    "SZOBA_ID": "71",
                                    "SZALLAS_FK": "6",
                                    "SZOBA_SZAMA": "22",
                                    "FEROHELY": "3",
                                    "POTAGY": "0",
                                    "KLIMAS": "i",
                                    "SZALLAS_NEV": "Kentaur Hotel"
                                },
                                {
                                    "SZOBA_ID": "174",
                                    "SZALLAS_FK": "12",
                                    "SZOBA_SZAMA": "10",
                                    "FEROHELY": "2",
                                    "POTAGY": "0",
                                    "KLIMAS": "i",
                                    "SZALLAS_NEV": "Gold Hotel"
                                },
                                {
                                    "SZOBA_ID": "76",
                                    "SZALLAS_FK": "6",
                                    "SZOBA_SZAMA": "27",
                                    "FEROHELY": "2",
                                    "POTAGY": "0",
                                    "KLIMAS": "i",
                                    "SZALLAS_NEV": "Kentaur Hotel"
                                },
                                {
                                    "SZOBA_ID": "184",
                                    "SZALLAS_FK": "12",
                                    "SZOBA_SZAMA": "20",
                                    "FEROHELY": "2",
                                    "POTAGY": "0",
                                    "KLIMAS": "n",
                                    "SZALLAS_NEV": "Gold Hotel"
                                },
                                {
                                    "SZOBA_ID": "110",
                                    "SZALLAS_FK": "8",
                                    "SZOBA_SZAMA": "20",
                                    "FEROHELY": "2",
                                    "POTAGY": "0",
                                    "KLIMAS": "i",
                                    "SZALLAS_NEV": "Hotel Három Hattyú"
                                },
                                {
                                    "SZOBA_ID": "35",
                                    "SZALLAS_FK": "4",
                                    "SZOBA_SZAMA": "11",
                                    "FEROHELY": "3",
                                    "POTAGY": "0",
                                    "KLIMAS": "i",
                                    "SZALLAS_NEV": "Fortuna panzió"
                                },
                                {
                                    "SZOBA_ID": "16",
                                    "SZALLAS_FK": "2",
                                    "SZOBA_SZAMA": "4",
                                    "FEROHELY": "3",
                                    "POTAGY": "1",
                                    "KLIMAS": "i",
                                    "SZALLAS_NEV": "Családi Ház"
                                },
                                {
                                    "SZOBA_ID": "37",
                                    "SZALLAS_FK": "4",
                                    "SZOBA_SZAMA": "13",
                                    "FEROHELY": "2",
                                    "POTAGY": "1",
                                    "KLIMAS": "i",
                                    "SZALLAS_NEV": "Fortuna panzió"
                                },
                                {
                                    "SZOBA_ID": "102",
                                    "SZALLAS_FK": "8",
                                    "SZOBA_SZAMA": "12",
                                    "FEROHELY": "2",
                                    "POTAGY": "1",
                                    "KLIMAS": "i",
                                    "SZALLAS_NEV": "Hotel Három Hattyú"
                                },
                                {
                                    "SZOBA_ID": "188",
                                    "SZALLAS_FK": "12",
                                    "SZOBA_SZAMA": "24",
                                    "FEROHELY": "3",
                                    "POTAGY": "0",
                                    "KLIMAS": "i",
                                    "SZALLAS_NEV": "Gold Hotel"
                                },
                                {
                                    "SZOBA_ID": "99",
                                    "SZALLAS_FK": "8",
                                    "SZOBA_SZAMA": "9",
                                    "FEROHELY": "2",
                                    "POTAGY": "0",
                                    "KLIMAS": "n",
                                    "SZALLAS_NEV": "Hotel Három Hattyú"
                                },
                                {
                                    "SZOBA_ID": "156",
                                    "SZALLAS_FK": "10",
                                    "SZOBA_SZAMA": "22",
                                    "FEROHELY": "2",
                                    "POTAGY": "2",
                                    "KLIMAS": "i",
                                    "SZALLAS_NEV": "Lagúna Hotel"
                                },
                                {
                                    "SZOBA_ID": "185",
                                    "SZALLAS_FK": "12",
                                    "SZOBA_SZAMA": "21",
                                    "FEROHELY": "3",
                                    "POTAGY": "0",
                                    "KLIMAS": "i",
                                    "SZALLAS_NEV": "Gold Hotel"
                                },
                                {
                                    "SZOBA_ID": "8",
                                    "SZALLAS_FK": "1",
                                    "SZOBA_SZAMA": "8",
                                    "FEROHELY": "3",
                                    "POTAGY": "0",
                                    "KLIMAS": "n",
                                    "SZALLAS_NEV": "Sába-Ház"
                                },
                                {
                                    "SZOBA_ID": "187",
                                    "SZALLAS_FK": "12",
                                    "SZOBA_SZAMA": "23",
                                    "FEROHELY": "3",
                                    "POTAGY": "1",
                                    "KLIMAS": "i",
                                    "SZALLAS_NEV": "Gold Hotel"
                                },
                                {
                                    "SZOBA_ID": "19",
                                    "SZALLAS_FK": "3",
                                    "SZOBA_SZAMA": "3",
                                    "FEROHELY": "2",
                                    "POTAGY": "1",
                                    "KLIMAS": "i",
                                    "SZALLAS_NEV": "Fortuna Apartman"
                                },
                                {
                                    "SZOBA_ID": "12",
                                    "SZALLAS_FK": "1",
                                    "SZOBA_SZAMA": "12",
                                    "FEROHELY": "2",
                                    "POTAGY": "1",
                                    "KLIMAS": "i",
                                    "SZALLAS_NEV": "Sába-Ház"
                                },
                                {
                                    "SZOBA_ID": "77",
                                    "SZALLAS_FK": "6",
                                    "SZOBA_SZAMA": "28",
                                    "FEROHELY": "3",
                                    "POTAGY": "1",
                                    "KLIMAS": "i",
                                    "SZALLAS_NEV": "Kentaur Hotel"
                                },
                                {
                                    "SZOBA_ID": "189",
                                    "SZALLAS_FK": "12",
                                    "SZOBA_SZAMA": "25",
                                    "FEROHELY": "2",
                                    "POTAGY": "2",
                                    "KLIMAS": "i",
                                    "SZALLAS_NEV": "Gold Hotel"
                                },
                                {
                                    "SZOBA_ID": "78",
                                    "SZALLAS_FK": "6",
                                    "SZOBA_SZAMA": "29",
                                    "FEROHELY": "2",
                                    "POTAGY": "1",
                                    "KLIMAS": "n",
                                    "SZALLAS_NEV": "Kentaur Hotel"
                                },
                                {
                                    "SZOBA_ID": "61",
                                    "SZALLAS_FK": "6",
                                    "SZOBA_SZAMA": "12",
                                    "FEROHELY": "3",
                                    "POTAGY": "0",
                                    "KLIMAS": "i",
                                    "SZALLAS_NEV": "Kentaur Hotel"
                                },
                                {
                                    "SZOBA_ID": "62",
                                    "SZALLAS_FK": "6",
                                    "SZOBA_SZAMA": "13",
                                    "FEROHELY": "2",
                                    "POTAGY": "0",
                                    "KLIMAS": "n",
                                    "SZALLAS_NEV": "Kentaur Hotel"
                                },
                                {
                                    "SZOBA_ID": "145",
                                    "SZALLAS_FK": "10",
                                    "SZOBA_SZAMA": "11",
                                    "FEROHELY": "2",
                                    "POTAGY": "2",
                                    "KLIMAS": "i",
                                    "SZALLAS_NEV": "Lagúna Hotel"
                                },
                                {
                                    "SZOBA_ID": "70",
                                    "SZALLAS_FK": "6",
                                    "SZOBA_SZAMA": "21",
                                    "FEROHELY": "2",
                                    "POTAGY": "1",
                                    "KLIMAS": "i",
                                    "SZALLAS_NEV": "Kentaur Hotel"
                                },
                                {
                                    "SZOBA_ID": "37",
                                    "SZALLAS_FK": "4",
                                    "SZOBA_SZAMA": "13",
                                    "FEROHELY": "2",
                                    "POTAGY": "1",
                                    "KLIMAS": "i",
                                    "SZALLAS_NEV": "Fortuna panzió"
                                },
                                {
                                    "SZOBA_ID": "119",
                                    "SZALLAS_FK": "8",
                                    "SZOBA_SZAMA": "29",
                                    "FEROHELY": "2",
                                    "POTAGY": "0",
                                    "KLIMAS": "i",
                                    "SZALLAS_NEV": "Hotel Három Hattyú"
                                },
                                {
                                    "SZOBA_ID": "35",
                                    "SZALLAS_FK": "4",
                                    "SZOBA_SZAMA": "11",
                                    "FEROHELY": "3",
                                    "POTAGY": "0",
                                    "KLIMAS": "i",
                                    "SZALLAS_NEV": "Fortuna panzió"
                                },
                                {
                                    "SZOBA_ID": "106",
                                    "SZALLAS_FK": "8",
                                    "SZOBA_SZAMA": "16",
                                    "FEROHELY": "2",
                                    "POTAGY": "0",
                                    "KLIMAS": "i",
                                    "SZALLAS_NEV": "Hotel Három Hattyú"
                                },
                                {
                                    "SZOBA_ID": "172",
                                    "SZALLAS_FK": "12",
                                    "SZOBA_SZAMA": "8",
                                    "FEROHELY": "2",
                                    "POTAGY": "2",
                                    "KLIMAS": "n",
                                    "SZALLAS_NEV": "Gold Hotel"
                                },
                                {
                                    "SZOBA_ID": "188",
                                    "SZALLAS_FK": "12",
                                    "SZOBA_SZAMA": "24",
                                    "FEROHELY": "3",
                                    "POTAGY": "0",
                                    "KLIMAS": "i",
                                    "SZALLAS_NEV": "Gold Hotel"
                                },
                                {
                                    "SZOBA_ID": "185",
                                    "SZALLAS_FK": "12",
                                    "SZOBA_SZAMA": "21",
                                    "FEROHELY": "3",
                                    "POTAGY": "0",
                                    "KLIMAS": "i",
                                    "SZALLAS_NEV": "Gold Hotel"
                                },
                                {
                                    "SZOBA_ID": "71",
                                    "SZALLAS_FK": "6",
                                    "SZOBA_SZAMA": "22",
                                    "FEROHELY": "3",
                                    "POTAGY": "0",
                                    "KLIMAS": "i",
                                    "SZALLAS_NEV": "Kentaur Hotel"
                                },
                                {
                                    "SZOBA_ID": "17",
                                    "SZALLAS_FK": "3",
                                    "SZOBA_SZAMA": "1",
                                    "FEROHELY": "3",
                                    "POTAGY": "1",
                                    "KLIMAS": "i",
                                    "SZALLAS_NEV": "Fortuna Apartman"
                                },
                                {
                                    "SZOBA_ID": "73",
                                    "SZALLAS_FK": "6",
                                    "SZOBA_SZAMA": "24",
                                    "FEROHELY": "2",
                                    "POTAGY": "1",
                                    "KLIMAS": "i",
                                    "SZALLAS_NEV": "Kentaur Hotel"
                                },
                                {
                                    "SZOBA_ID": "101",
                                    "SZALLAS_FK": "8",
                                    "SZOBA_SZAMA": "11",
                                    "FEROHELY": "2",
                                    "POTAGY": "0",
                                    "KLIMAS": "i",
                                    "SZALLAS_NEV": "Hotel Három Hattyú"
                                },
                                {
                                    "SZOBA_ID": "118",
                                    "SZALLAS_FK": "8",
                                    "SZOBA_SZAMA": "28",
                                    "FEROHELY": "2",
                                    "POTAGY": "1",
                                    "KLIMAS": "i",
                                    "SZALLAS_NEV": "Hotel Három Hattyú"
                                },
                                {
                                    "SZOBA_ID": "128",
                                    "SZALLAS_FK": "8",
                                    "SZOBA_SZAMA": "38",
                                    "FEROHELY": "2",
                                    "POTAGY": "1",
                                    "KLIMAS": "i",
                                    "SZALLAS_NEV": "Hotel Három Hattyú"
                                },
                                {
                                    "SZOBA_ID": "97",
                                    "SZALLAS_FK": "8",
                                    "SZOBA_SZAMA": "7",
                                    "FEROHELY": "3",
                                    "POTAGY": "2",
                                    "KLIMAS": "n",
                                    "SZALLAS_NEV": "Hotel Három Hattyú"
                                },
                                {
                                    "SZOBA_ID": "58",
                                    "SZALLAS_FK": "6",
                                    "SZOBA_SZAMA": "9",
                                    "FEROHELY": "2",
                                    "POTAGY": "1",
                                    "KLIMAS": "i",
                                    "SZALLAS_NEV": "Kentaur Hotel"
                                },
                                {
                                    "SZOBA_ID": "160",
                                    "SZALLAS_FK": "11",
                                    "SZOBA_SZAMA": "1",
                                    "FEROHELY": "3",
                                    "POTAGY": "1",
                                    "KLIMAS": "i",
                                    "SZALLAS_NEV": "Partiszél Vendégház"
                                },
                                {
                                    "SZOBA_ID": "195",
                                    "SZALLAS_FK": "12",
                                    "SZOBA_SZAMA": "31",
                                    "FEROHELY": "2",
                                    "POTAGY": "0",
                                    "KLIMAS": "i",
                                    "SZALLAS_NEV": "Gold Hotel"
                                },
                                {
                                    "SZOBA_ID": "119",
                                    "SZALLAS_FK": "8",
                                    "SZOBA_SZAMA": "29",
                                    "FEROHELY": "2",
                                    "POTAGY": "0",
                                    "KLIMAS": "i",
                                    "SZALLAS_NEV": "Hotel Három Hattyú"
                                },
                                {
                                    "SZOBA_ID": "129",
                                    "SZALLAS_FK": "8",
                                    "SZOBA_SZAMA": "39",
                                    "FEROHELY": "2",
                                    "POTAGY": "1",
                                    "KLIMAS": "i",
                                    "SZALLAS_NEV": "Hotel Három Hattyú"
                                },
                                {
                                    "SZOBA_ID": "135",
                                    "SZALLAS_FK": "10",
                                    "SZOBA_SZAMA": "1",
                                    "FEROHELY": "3",
                                    "POTAGY": "0",
                                    "KLIMAS": "i",
                                    "SZALLAS_NEV": "Lagúna Hotel"
                                },
                                {
                                    "SZOBA_ID": "28",
                                    "SZALLAS_FK": "4",
                                    "SZOBA_SZAMA": "4",
                                    "FEROHELY": "2",
                                    "POTAGY": "1",
                                    "KLIMAS": "i",
                                    "SZALLAS_NEV": "Fortuna panzió"
                                },
                                {
                                    "SZOBA_ID": "97",
                                    "SZALLAS_FK": "8",
                                    "SZOBA_SZAMA": "7",
                                    "FEROHELY": "3",
                                    "POTAGY": "2",
                                    "KLIMAS": "n",
                                    "SZALLAS_NEV": "Hotel Három Hattyú"
                                },
                                {
                                    "SZOBA_ID": "94",
                                    "SZALLAS_FK": "8",
                                    "SZOBA_SZAMA": "4",
                                    "FEROHELY": "2",
                                    "POTAGY": "0",
                                    "KLIMAS": "n",
                                    "SZALLAS_NEV": "Hotel Három Hattyú"
                                },
                                {
                                    "SZOBA_ID": "31",
                                    "SZALLAS_FK": "4",
                                    "SZOBA_SZAMA": "7",
                                    "FEROHELY": "3",
                                    "POTAGY": "1",
                                    "KLIMAS": "i",
                                    "SZALLAS_NEV": "Fortuna panzió"
                                },
                                {
                                    "SZOBA_ID": "90",
                                    "SZALLAS_FK": "7",
                                    "SZOBA_SZAMA": "6",
                                    "FEROHELY": "3",
                                    "POTAGY": "0",
                                    "KLIMAS": "i",
                                    "SZALLAS_NEV": "Szieszta Apartmanház"
                                },
                                {
                                    "SZOBA_ID": "152",
                                    "SZALLAS_FK": "10",
                                    "SZOBA_SZAMA": "18",
                                    "FEROHELY": "2",
                                    "POTAGY": "0",
                                    "KLIMAS": "i",
                                    "SZALLAS_NEV": "Lagúna Hotel"
                                },
                                {
                                    "SZOBA_ID": "181",
                                    "SZALLAS_FK": "12",
                                    "SZOBA_SZAMA": "17",
                                    "FEROHELY": "3",
                                    "POTAGY": "0",
                                    "KLIMAS": "i",
                                    "SZALLAS_NEV": "Gold Hotel"
                                },
                                {
                                    "SZOBA_ID": "91",
                                    "SZALLAS_FK": "8",
                                    "SZOBA_SZAMA": "1",
                                    "FEROHELY": "2",
                                    "POTAGY": "0",
                                    "KLIMAS": "n",
                                    "SZALLAS_NEV": "Hotel Három Hattyú"
                                },
                                {
                                    "SZOBA_ID": "140",
                                    "SZALLAS_FK": "10",
                                    "SZOBA_SZAMA": "6",
                                    "FEROHELY": "2",
                                    "POTAGY": "1",
                                    "KLIMAS": "i",
                                    "SZALLAS_NEV": "Lagúna Hotel"
                                },
                                {
                                    "SZOBA_ID": "55",
                                    "SZALLAS_FK": "6",
                                    "SZOBA_SZAMA": "6",
                                    "FEROHELY": "2",
                                    "POTAGY": "1",
                                    "KLIMAS": "i",
                                    "SZALLAS_NEV": "Kentaur Hotel"
                                },
                                {
                                    "SZOBA_ID": "121",
                                    "SZALLAS_FK": "8",
                                    "SZOBA_SZAMA": "31",
                                    "FEROHELY": "2",
                                    "POTAGY": "1",
                                    "KLIMAS": "i",
                                    "SZALLAS_NEV": "Hotel Három Hattyú"
                                },
                                {
                                    "SZOBA_ID": "66",
                                    "SZALLAS_FK": "6",
                                    "SZOBA_SZAMA": "17",
                                    "FEROHELY": "3",
                                    "POTAGY": "0",
                                    "KLIMAS": "n",
                                    "SZALLAS_NEV": "Kentaur Hotel"
                                },
                                {
                                    "SZOBA_ID": "114",
                                    "SZALLAS_FK": "8",
                                    "SZOBA_SZAMA": "24",
                                    "FEROHELY": "2",
                                    "POTAGY": "1",
                                    "KLIMAS": "n",
                                    "SZALLAS_NEV": "Hotel Három Hattyú"
                                },
                                {
                                    "SZOBA_ID": "1",
                                    "SZALLAS_FK": "1",
                                    "SZOBA_SZAMA": "1",
                                    "FEROHELY": "3",
                                    "POTAGY": "0",
                                    "KLIMAS": "n",
                                    "SZALLAS_NEV": "Sába-Ház"
                                },
                                {
                                    "SZOBA_ID": "121",
                                    "SZALLAS_FK": "8",
                                    "SZOBA_SZAMA": "31",
                                    "FEROHELY": "2",
                                    "POTAGY": "1",
                                    "KLIMAS": "i",
                                    "SZALLAS_NEV": "Hotel Három Hattyú"
                                },
                                {
                                    "SZOBA_ID": "182",
                                    "SZALLAS_FK": "12",
                                    "SZOBA_SZAMA": "18",
                                    "FEROHELY": "2",
                                    "POTAGY": "0",
                                    "KLIMAS": "n",
                                    "SZALLAS_NEV": "Gold Hotel"
                                },
                                {
                                    "SZOBA_ID": "93",
                                    "SZALLAS_FK": "8",
                                    "SZOBA_SZAMA": "3",
                                    "FEROHELY": "3",
                                    "POTAGY": "2",
                                    "KLIMAS": "i",
                                    "SZALLAS_NEV": "Hotel Három Hattyú"
                                },
                                {
                                    "SZOBA_ID": "164",
                                    "SZALLAS_FK": "11",
                                    "SZOBA_SZAMA": "5",
                                    "FEROHELY": "2",
                                    "POTAGY": "0",
                                    "KLIMAS": "i",
                                    "SZALLAS_NEV": "Partiszél Vendégház"
                                },
                                {
                                    "SZOBA_ID": "187",
                                    "SZALLAS_FK": "12",
                                    "SZOBA_SZAMA": "23",
                                    "FEROHELY": "3",
                                    "POTAGY": "1",
                                    "KLIMAS": "i",
                                    "SZALLAS_NEV": "Gold Hotel"
                                },
                                {
                                    "SZOBA_ID": "17",
                                    "SZALLAS_FK": "3",
                                    "SZOBA_SZAMA": "1",
                                    "FEROHELY": "3",
                                    "POTAGY": "1",
                                    "KLIMAS": "i",
                                    "SZALLAS_NEV": "Fortuna Apartman"
                                },
                                {
                                    "SZOBA_ID": "139",
                                    "SZALLAS_FK": "10",
                                    "SZOBA_SZAMA": "5",
                                    "FEROHELY": "2",
                                    "POTAGY": "1",
                                    "KLIMAS": "i",
                                    "SZALLAS_NEV": "Lagúna Hotel"
                                },
                                {
                                    "SZOBA_ID": "169",
                                    "SZALLAS_FK": "12",
                                    "SZOBA_SZAMA": "5",
                                    "FEROHELY": "2",
                                    "POTAGY": "1",
                                    "KLIMAS": "i",
                                    "SZALLAS_NEV": "Gold Hotel"
                                },
                                {
                                    "SZOBA_ID": "188",
                                    "SZALLAS_FK": "12",
                                    "SZOBA_SZAMA": "24",
                                    "FEROHELY": "3",
                                    "POTAGY": "0",
                                    "KLIMAS": "i",
                                    "SZALLAS_NEV": "Gold Hotel"
                                },
                                {
                                    "SZOBA_ID": "36",
                                    "SZALLAS_FK": "4",
                                    "SZOBA_SZAMA": "12",
                                    "FEROHELY": "3",
                                    "POTAGY": "2",
                                    "KLIMAS": "i",
                                    "SZALLAS_NEV": "Fortuna panzió"
                                },
                                {
                                    "SZOBA_ID": "172",
                                    "SZALLAS_FK": "12",
                                    "SZOBA_SZAMA": "8",
                                    "FEROHELY": "2",
                                    "POTAGY": "2",
                                    "KLIMAS": "n",
                                    "SZALLAS_NEV": "Gold Hotel"
                                },
                                {
                                    "SZOBA_ID": "36",
                                    "SZALLAS_FK": "4",
                                    "SZOBA_SZAMA": "12",
                                    "FEROHELY": "3",
                                    "POTAGY": "2",
                                    "KLIMAS": "i",
                                    "SZALLAS_NEV": "Fortuna panzió"
                                },
                                {
                                    "SZOBA_ID": "139",
                                    "SZALLAS_FK": "10",
                                    "SZOBA_SZAMA": "5",
                                    "FEROHELY": "2",
                                    "POTAGY": "1",
                                    "KLIMAS": "i",
                                    "SZALLAS_NEV": "Lagúna Hotel"
                                },
                                {
                                    "SZOBA_ID": "46",
                                    "SZALLAS_FK": "5",
                                    "SZOBA_SZAMA": "7",
                                    "FEROHELY": "3",
                                    "POTAGY": "0",
                                    "KLIMAS": "i",
                                    "SZALLAS_NEV": "Fortuna Panzió"
                                },
                                {
                                    "SZOBA_ID": "189",
                                    "SZALLAS_FK": "12",
                                    "SZOBA_SZAMA": "25",
                                    "FEROHELY": "2",
                                    "POTAGY": "2",
                                    "KLIMAS": "i",
                                    "SZALLAS_NEV": "Gold Hotel"
                                },
                                {
                                    "SZOBA_ID": "126",
                                    "SZALLAS_FK": "8",
                                    "SZOBA_SZAMA": "36",
                                    "FEROHELY": "2",
                                    "POTAGY": "1",
                                    "KLIMAS": "n",
                                    "SZALLAS_NEV": "Hotel Három Hattyú"
                                },
                                {
                                    "SZOBA_ID": "20",
                                    "SZALLAS_FK": "3",
                                    "SZOBA_SZAMA": "4",
                                    "FEROHELY": "3",
                                    "POTAGY": "0",
                                    "KLIMAS": "i",
                                    "SZALLAS_NEV": "Fortuna Apartman"
                                },
                                {
                                    "SZOBA_ID": "61",
                                    "SZALLAS_FK": "6",
                                    "SZOBA_SZAMA": "12",
                                    "FEROHELY": "3",
                                    "POTAGY": "0",
                                    "KLIMAS": "i",
                                    "SZALLAS_NEV": "Kentaur Hotel"
                                },
                                {
                                    "SZOBA_ID": "88",
                                    "SZALLAS_FK": "7",
                                    "SZOBA_SZAMA": "4",
                                    "FEROHELY": "3",
                                    "POTAGY": "0",
                                    "KLIMAS": "n",
                                    "SZALLAS_NEV": "Szieszta Apartmanház"
                                },
                                {
                                    "SZOBA_ID": "27",
                                    "SZALLAS_FK": "4",
                                    "SZOBA_SZAMA": "3",
                                    "FEROHELY": "3",
                                    "POTAGY": "1",
                                    "KLIMAS": "n",
                                    "SZALLAS_NEV": "Fortuna panzió"
                                },
                                {
                                    "SZOBA_ID": "7",
                                    "SZALLAS_FK": "1",
                                    "SZOBA_SZAMA": "7",
                                    "FEROHELY": "2",
                                    "POTAGY": "0",
                                    "KLIMAS": "i",
                                    "SZALLAS_NEV": "Sába-Ház"
                                },
                                {
                                    "SZOBA_ID": "131",
                                    "SZALLAS_FK": "9",
                                    "SZOBA_SZAMA": "2",
                                    "FEROHELY": "2",
                                    "POTAGY": "0",
                                    "KLIMAS": "n",
                                    "SZALLAS_NEV": "Jáde panzió"
                                },
                                {
                                    "SZOBA_ID": "141",
                                    "SZALLAS_FK": "10",
                                    "SZOBA_SZAMA": "7",
                                    "FEROHELY": "2",
                                    "POTAGY": "0",
                                    "KLIMAS": "n",
                                    "SZALLAS_NEV": "Lagúna Hotel"
                                },
                                {
                                    "SZOBA_ID": "120",
                                    "SZALLAS_FK": "8",
                                    "SZOBA_SZAMA": "30",
                                    "FEROHELY": "3",
                                    "POTAGY": "1",
                                    "KLIMAS": "i",
                                    "SZALLAS_NEV": "Hotel Három Hattyú"
                                },
                                {
                                    "SZOBA_ID": "13",
                                    "SZALLAS_FK": "2",
                                    "SZOBA_SZAMA": "1",
                                    "FEROHELY": "3",
                                    "POTAGY": "0",
                                    "KLIMAS": "i",
                                    "SZALLAS_NEV": "Családi Ház"
                                },
                                {
                                    "SZOBA_ID": "197",
                                    "SZALLAS_FK": "12",
                                    "SZOBA_SZAMA": "33",
                                    "FEROHELY": "3",
                                    "POTAGY": "0",
                                    "KLIMAS": "i",
                                    "SZALLAS_NEV": "Gold Hotel"
                                },
                                {
                                    "SZOBA_ID": "148",
                                    "SZALLAS_FK": "10",
                                    "SZOBA_SZAMA": "14",
                                    "FEROHELY": "2",
                                    "POTAGY": "0",
                                    "KLIMAS": "i",
                                    "SZALLAS_NEV": "Lagúna Hotel"
                                },
                                {
                                    "SZOBA_ID": "187",
                                    "SZALLAS_FK": "12",
                                    "SZOBA_SZAMA": "23",
                                    "FEROHELY": "3",
                                    "POTAGY": "1",
                                    "KLIMAS": "i",
                                    "SZALLAS_NEV": "Gold Hotel"
                                },
                                {
                                    "SZOBA_ID": "18",
                                    "SZALLAS_FK": "3",
                                    "SZOBA_SZAMA": "2",
                                    "FEROHELY": "3",
                                    "POTAGY": "2",
                                    "KLIMAS": "n",
                                    "SZALLAS_NEV": "Fortuna Apartman"
                                },
                                {
                                    "SZOBA_ID": "138",
                                    "SZALLAS_FK": "10",
                                    "SZOBA_SZAMA": "4",
                                    "FEROHELY": "3",
                                    "POTAGY": "1",
                                    "KLIMAS": "i",
                                    "SZALLAS_NEV": "Lagúna Hotel"
                                },
                                {
                                    "SZOBA_ID": "63",
                                    "SZALLAS_FK": "6",
                                    "SZOBA_SZAMA": "14",
                                    "FEROHELY": "2",
                                    "POTAGY": "0",
                                    "KLIMAS": "n",
                                    "SZALLAS_NEV": "Kentaur Hotel"
                                },
                                {
                                    "SZOBA_ID": "42",
                                    "SZALLAS_FK": "5",
                                    "SZOBA_SZAMA": "3",
                                    "FEROHELY": "2",
                                    "POTAGY": "1",
                                    "KLIMAS": "i",
                                    "SZALLAS_NEV": "Fortuna Panzió"
                                },
                                {
                                    "SZOBA_ID": "147",
                                    "SZALLAS_FK": "10",
                                    "SZOBA_SZAMA": "13",
                                    "FEROHELY": "2",
                                    "POTAGY": "0",
                                    "KLIMAS": "i",
                                    "SZALLAS_NEV": "Lagúna Hotel"
                                },
                                {
                                    "SZOBA_ID": "6",
                                    "SZALLAS_FK": "1",
                                    "SZOBA_SZAMA": "6",
                                    "FEROHELY": "3",
                                    "POTAGY": "0",
                                    "KLIMAS": "i",
                                    "SZALLAS_NEV": "Sába-Ház"
                                },
                                {
                                    "SZOBA_ID": "58",
                                    "SZALLAS_FK": "6",
                                    "SZOBA_SZAMA": "9",
                                    "FEROHELY": "2",
                                    "POTAGY": "1",
                                    "KLIMAS": "i",
                                    "SZALLAS_NEV": "Kentaur Hotel"
                                },
                                {
                                    "SZOBA_ID": "190",
                                    "SZALLAS_FK": "12",
                                    "SZOBA_SZAMA": "26",
                                    "FEROHELY": "2",
                                    "POTAGY": "0",
                                    "KLIMAS": "i",
                                    "SZALLAS_NEV": "Gold Hotel"
                                },
                                {
                                    "SZOBA_ID": "12",
                                    "SZALLAS_FK": "1",
                                    "SZOBA_SZAMA": "12",
                                    "FEROHELY": "2",
                                    "POTAGY": "1",
                                    "KLIMAS": "i",
                                    "SZALLAS_NEV": "Sába-Ház"
                                },
                                {
                                    "SZOBA_ID": "112",
                                    "SZALLAS_FK": "8",
                                    "SZOBA_SZAMA": "22",
                                    "FEROHELY": "3",
                                    "POTAGY": "0",
                                    "KLIMAS": "i",
                                    "SZALLAS_NEV": "Hotel Három Hattyú"
                                },
                                {
                                    "SZOBA_ID": "34",
                                    "SZALLAS_FK": "4",
                                    "SZOBA_SZAMA": "10",
                                    "FEROHELY": "3",
                                    "POTAGY": "1",
                                    "KLIMAS": "i",
                                    "SZALLAS_NEV": "Fortuna panzió"
                                },
                                {
                                    "SZOBA_ID": "19",
                                    "SZALLAS_FK": "3",
                                    "SZOBA_SZAMA": "3",
                                    "FEROHELY": "2",
                                    "POTAGY": "1",
                                    "KLIMAS": "i",
                                    "SZALLAS_NEV": "Fortuna Apartman"
                                },
                                {
                                    "SZOBA_ID": "130",
                                    "SZALLAS_FK": "9",
                                    "SZOBA_SZAMA": "1",
                                    "FEROHELY": "2",
                                    "POTAGY": "0",
                                    "KLIMAS": "n",
                                    "SZALLAS_NEV": "Jáde panzió"
                                },
                                {
                                    "SZOBA_ID": "96",
                                    "SZALLAS_FK": "8",
                                    "SZOBA_SZAMA": "6",
                                    "FEROHELY": "3",
                                    "POTAGY": "0",
                                    "KLIMAS": "n",
                                    "SZALLAS_NEV": "Hotel Három Hattyú"
                                },
                                {
                                    "SZOBA_ID": "166",
                                    "SZALLAS_FK": "12",
                                    "SZOBA_SZAMA": "2",
                                    "FEROHELY": "2",
                                    "POTAGY": "1",
                                    "KLIMAS": "i",
                                    "SZALLAS_NEV": "Gold Hotel"
                                },
                                {
                                    "SZOBA_ID": "163",
                                    "SZALLAS_FK": "11",
                                    "SZOBA_SZAMA": "4",
                                    "FEROHELY": "2",
                                    "POTAGY": "0",
                                    "KLIMAS": "i",
                                    "SZALLAS_NEV": "Partiszél Vendégház"
                                },
                                {
                                    "SZOBA_ID": "148",
                                    "SZALLAS_FK": "10",
                                    "SZOBA_SZAMA": "14",
                                    "FEROHELY": "2",
                                    "POTAGY": "0",
                                    "KLIMAS": "i",
                                    "SZALLAS_NEV": "Lagúna Hotel"
                                },
                                {
                                    "SZOBA_ID": "141",
                                    "SZALLAS_FK": "10",
                                    "SZOBA_SZAMA": "7",
                                    "FEROHELY": "2",
                                    "POTAGY": "0",
                                    "KLIMAS": "n",
                                    "SZALLAS_NEV": "Lagúna Hotel"
                                },
                                {
                                    "SZOBA_ID": "177",
                                    "SZALLAS_FK": "12",
                                    "SZOBA_SZAMA": "13",
                                    "FEROHELY": "3",
                                    "POTAGY": "2",
                                    "KLIMAS": "i",
                                    "SZALLAS_NEV": "Gold Hotel"
                                },
                                {
                                    "SZOBA_ID": "111",
                                    "SZALLAS_FK": "8",
                                    "SZOBA_SZAMA": "21",
                                    "FEROHELY": "2",
                                    "POTAGY": "1",
                                    "KLIMAS": "i",
                                    "SZALLAS_NEV": "Hotel Három Hattyú"
                                },
                                {
                                    "SZOBA_ID": "50",
                                    "SZALLAS_FK": "6",
                                    "SZOBA_SZAMA": "1",
                                    "FEROHELY": "2",
                                    "POTAGY": "0",
                                    "KLIMAS": "n",
                                    "SZALLAS_NEV": "Kentaur Hotel"
                                },
                                {
                                    "SZOBA_ID": "3",
                                    "SZALLAS_FK": "1",
                                    "SZOBA_SZAMA": "3",
                                    "FEROHELY": "3",
                                    "POTAGY": "1",
                                    "KLIMAS": "i",
                                    "SZALLAS_NEV": "Sába-Ház"
                                },
                                {
                                    "SZOBA_ID": "146",
                                    "SZALLAS_FK": "10",
                                    "SZOBA_SZAMA": "12",
                                    "FEROHELY": "3",
                                    "POTAGY": "0",
                                    "KLIMAS": "i",
                                    "SZALLAS_NEV": "Lagúna Hotel"
                                },
                                {
                                    "SZOBA_ID": "10",
                                    "SZALLAS_FK": "1",
                                    "SZOBA_SZAMA": "10",
                                    "FEROHELY": "3",
                                    "POTAGY": "0",
                                    "KLIMAS": "i",
                                    "SZALLAS_NEV": "Sába-Ház"
                                },
                                {
                                    "SZOBA_ID": "15",
                                    "SZALLAS_FK": "2",
                                    "SZOBA_SZAMA": "3",
                                    "FEROHELY": "2",
                                    "POTAGY": "1",
                                    "KLIMAS": "i",
                                    "SZALLAS_NEV": "Családi Ház"
                                },
                                {
                                    "SZOBA_ID": "168",
                                    "SZALLAS_FK": "12",
                                    "SZOBA_SZAMA": "4",
                                    "FEROHELY": "2",
                                    "POTAGY": "2",
                                    "KLIMAS": "i",
                                    "SZALLAS_NEV": "Gold Hotel"
                                },
                                {
                                    "SZOBA_ID": "49",
                                    "SZALLAS_FK": "5",
                                    "SZOBA_SZAMA": "10",
                                    "FEROHELY": "3",
                                    "POTAGY": "0",
                                    "KLIMAS": "i",
                                    "SZALLAS_NEV": "Fortuna Panzió"
                                },
                                {
                                    "SZOBA_ID": "168",
                                    "SZALLAS_FK": "12",
                                    "SZOBA_SZAMA": "4",
                                    "FEROHELY": "2",
                                    "POTAGY": "2",
                                    "KLIMAS": "i",
                                    "SZALLAS_NEV": "Gold Hotel"
                                },
                                {
                                    "SZOBA_ID": "10",
                                    "SZALLAS_FK": "1",
                                    "SZOBA_SZAMA": "10",
                                    "FEROHELY": "3",
                                    "POTAGY": "0",
                                    "KLIMAS": "i",
                                    "SZALLAS_NEV": "Sába-Ház"
                                },
                                {
                                    "SZOBA_ID": "138",
                                    "SZALLAS_FK": "10",
                                    "SZOBA_SZAMA": "4",
                                    "FEROHELY": "3",
                                    "POTAGY": "1",
                                    "KLIMAS": "i",
                                    "SZALLAS_NEV": "Lagúna Hotel"
                                },
                                {
                                    "SZOBA_ID": "74",
                                    "SZALLAS_FK": "6",
                                    "SZOBA_SZAMA": "25",
                                    "FEROHELY": "3",
                                    "POTAGY": "1",
                                    "KLIMAS": "n",
                                    "SZALLAS_NEV": "Kentaur Hotel"
                                },
                                {
                                    "SZOBA_ID": "83",
                                    "SZALLAS_FK": "6",
                                    "SZOBA_SZAMA": "34",
                                    "FEROHELY": "3",
                                    "POTAGY": "0",
                                    "KLIMAS": "i",
                                    "SZALLAS_NEV": "Kentaur Hotel"
                                },
                                {
                                    "SZOBA_ID": "175",
                                    "SZALLAS_FK": "12",
                                    "SZOBA_SZAMA": "11",
                                    "FEROHELY": "2",
                                    "POTAGY": "0",
                                    "KLIMAS": "i",
                                    "SZALLAS_NEV": "Gold Hotel"
                                },
                                {
                                    "SZOBA_ID": "45",
                                    "SZALLAS_FK": "5",
                                    "SZOBA_SZAMA": "6",
                                    "FEROHELY": "2",
                                    "POTAGY": "0",
                                    "KLIMAS": "n",
                                    "SZALLAS_NEV": "Fortuna Panzió"
                                },
                                {
                                    "SZOBA_ID": "112",
                                    "SZALLAS_FK": "8",
                                    "SZOBA_SZAMA": "22",
                                    "FEROHELY": "3",
                                    "POTAGY": "0",
                                    "KLIMAS": "i",
                                    "SZALLAS_NEV": "Hotel Három Hattyú"
                                },
                                {
                                    "SZOBA_ID": "45",
                                    "SZALLAS_FK": "5",
                                    "SZOBA_SZAMA": "6",
                                    "FEROHELY": "2",
                                    "POTAGY": "0",
                                    "KLIMAS": "n",
                                    "SZALLAS_NEV": "Fortuna Panzió"
                                },
                                {
                                    "SZOBA_ID": "1",
                                    "SZALLAS_FK": "1",
                                    "SZOBA_SZAMA": "1",
                                    "FEROHELY": "3",
                                    "POTAGY": "0",
                                    "KLIMAS": "n",
                                    "SZALLAS_NEV": "Sába-Ház"
                                },
                                {
                                    "SZOBA_ID": "146",
                                    "SZALLAS_FK": "10",
                                    "SZOBA_SZAMA": "12",
                                    "FEROHELY": "3",
                                    "POTAGY": "0",
                                    "KLIMAS": "i",
                                    "SZALLAS_NEV": "Lagúna Hotel"
                                },
                                {
                                    "SZOBA_ID": "21",
                                    "SZALLAS_FK": "3",
                                    "SZOBA_SZAMA": "5",
                                    "FEROHELY": "2",
                                    "POTAGY": "1",
                                    "KLIMAS": "i",
                                    "SZALLAS_NEV": "Fortuna Apartman"
                                },
                                {
                                    "SZOBA_ID": "126",
                                    "SZALLAS_FK": "8",
                                    "SZOBA_SZAMA": "36",
                                    "FEROHELY": "2",
                                    "POTAGY": "1",
                                    "KLIMAS": "n",
                                    "SZALLAS_NEV": "Hotel Három Hattyú"
                                },
                                {
                                    "SZOBA_ID": "27",
                                    "SZALLAS_FK": "4",
                                    "SZOBA_SZAMA": "3",
                                    "FEROHELY": "3",
                                    "POTAGY": "1",
                                    "KLIMAS": "n",
                                    "SZALLAS_NEV": "Fortuna panzió"
                                },
                                {
                                    "SZOBA_ID": "148",
                                    "SZALLAS_FK": "10",
                                    "SZOBA_SZAMA": "14",
                                    "FEROHELY": "2",
                                    "POTAGY": "0",
                                    "KLIMAS": "i",
                                    "SZALLAS_NEV": "Lagúna Hotel"
                                },
                                {
                                    "SZOBA_ID": "92",
                                    "SZALLAS_FK": "8",
                                    "SZOBA_SZAMA": "2",
                                    "FEROHELY": "3",
                                    "POTAGY": "1",
                                    "KLIMAS": "i",
                                    "SZALLAS_NEV": "Hotel Három Hattyú"
                                },
                                {
                                    "SZOBA_ID": "109",
                                    "SZALLAS_FK": "8",
                                    "SZOBA_SZAMA": "19",
                                    "FEROHELY": "2",
                                    "POTAGY": "1",
                                    "KLIMAS": "i",
                                    "SZALLAS_NEV": "Hotel Három Hattyú"
                                },
                                {
                                    "SZOBA_ID": "51",
                                    "SZALLAS_FK": "6",
                                    "SZOBA_SZAMA": "2",
                                    "FEROHELY": "3",
                                    "POTAGY": "1",
                                    "KLIMAS": "i",
                                    "SZALLAS_NEV": "Kentaur Hotel"
                                },
                                {
                                    "SZOBA_ID": "148",
                                    "SZALLAS_FK": "10",
                                    "SZOBA_SZAMA": "14",
                                    "FEROHELY": "2",
                                    "POTAGY": "0",
                                    "KLIMAS": "i",
                                    "SZALLAS_NEV": "Lagúna Hotel"
                                },
                                {
                                    "SZOBA_ID": "14",
                                    "SZALLAS_FK": "2",
                                    "SZOBA_SZAMA": "2",
                                    "FEROHELY": "3",
                                    "POTAGY": "2",
                                    "KLIMAS": "i",
                                    "SZALLAS_NEV": "Családi Ház"
                                },
                                {
                                    "SZOBA_ID": "70",
                                    "SZALLAS_FK": "6",
                                    "SZOBA_SZAMA": "21",
                                    "FEROHELY": "2",
                                    "POTAGY": "1",
                                    "KLIMAS": "i",
                                    "SZALLAS_NEV": "Kentaur Hotel"
                                },
                                {
                                    "SZOBA_ID": "128",
                                    "SZALLAS_FK": "8",
                                    "SZOBA_SZAMA": "38",
                                    "FEROHELY": "2",
                                    "POTAGY": "1",
                                    "KLIMAS": "i",
                                    "SZALLAS_NEV": "Hotel Három Hattyú"
                                },
                                {
                                    "SZOBA_ID": "178",
                                    "SZALLAS_FK": "12",
                                    "SZOBA_SZAMA": "14",
                                    "FEROHELY": "3",
                                    "POTAGY": "0",
                                    "KLIMAS": "i",
                                    "SZALLAS_NEV": "Gold Hotel"
                                },
                                {
                                    "SZOBA_ID": "89",
                                    "SZALLAS_FK": "7",
                                    "SZOBA_SZAMA": "5",
                                    "FEROHELY": "3",
                                    "POTAGY": "0",
                                    "KLIMAS": "i",
                                    "SZALLAS_NEV": "Szieszta Apartmanház"
                                },
                                {
                                    "SZOBA_ID": "8",
                                    "SZALLAS_FK": "1",
                                    "SZOBA_SZAMA": "8",
                                    "FEROHELY": "3",
                                    "POTAGY": "0",
                                    "KLIMAS": "n",
                                    "SZALLAS_NEV": "Sába-Ház"
                                },
                                {
                                    "SZOBA_ID": "84",
                                    "SZALLAS_FK": "6",
                                    "SZOBA_SZAMA": "35",
                                    "FEROHELY": "3",
                                    "POTAGY": "0",
                                    "KLIMAS": "i",
                                    "SZALLAS_NEV": "Kentaur Hotel"
                                },
                                {
                                    "SZOBA_ID": "20",
                                    "SZALLAS_FK": "3",
                                    "SZOBA_SZAMA": "4",
                                    "FEROHELY": "3",
                                    "POTAGY": "0",
                                    "KLIMAS": "i",
                                    "SZALLAS_NEV": "Fortuna Apartman"
                                },
                                {
                                    "SZOBA_ID": "34",
                                    "SZALLAS_FK": "4",
                                    "SZOBA_SZAMA": "10",
                                    "FEROHELY": "3",
                                    "POTAGY": "1",
                                    "KLIMAS": "i",
                                    "SZALLAS_NEV": "Fortuna panzió"
                                },
                                {
                                    "SZOBA_ID": "52",
                                    "SZALLAS_FK": "6",
                                    "SZOBA_SZAMA": "3",
                                    "FEROHELY": "2",
                                    "POTAGY": "1",
                                    "KLIMAS": "i",
                                    "SZALLAS_NEV": "Kentaur Hotel"
                                },
                                {
                                    "SZOBA_ID": "44",
                                    "SZALLAS_FK": "5",
                                    "SZOBA_SZAMA": "5",
                                    "FEROHELY": "3",
                                    "POTAGY": "0",
                                    "KLIMAS": "i",
                                    "SZALLAS_NEV": "Fortuna Panzió"
                                },
                                {
                                    "SZOBA_ID": "48",
                                    "SZALLAS_FK": "5",
                                    "SZOBA_SZAMA": "9",
                                    "FEROHELY": "3",
                                    "POTAGY": "0",
                                    "KLIMAS": "i",
                                    "SZALLAS_NEV": "Fortuna Panzió"
                                },
                                {
                                    "SZOBA_ID": "158",
                                    "SZALLAS_FK": "10",
                                    "SZOBA_SZAMA": "24",
                                    "FEROHELY": "2",
                                    "POTAGY": "1",
                                    "KLIMAS": "n",
                                    "SZALLAS_NEV": "Lagúna Hotel"
                                },
                                {
                                    "SZOBA_ID": "49",
                                    "SZALLAS_FK": "5",
                                    "SZOBA_SZAMA": "10",
                                    "FEROHELY": "3",
                                    "POTAGY": "0",
                                    "KLIMAS": "i",
                                    "SZALLAS_NEV": "Fortuna Panzió"
                                },
                                {
                                    "SZOBA_ID": "114",
                                    "SZALLAS_FK": "8",
                                    "SZOBA_SZAMA": "24",
                                    "FEROHELY": "2",
                                    "POTAGY": "1",
                                    "KLIMAS": "n",
                                    "SZALLAS_NEV": "Hotel Három Hattyú"
                                },
                                {
                                    "SZOBA_ID": "2",
                                    "SZALLAS_FK": "1",
                                    "SZOBA_SZAMA": "2",
                                    "FEROHELY": "3",
                                    "POTAGY": "1",
                                    "KLIMAS": "i",
                                    "SZALLAS_NEV": "Sába-Ház"
                                },
                                {
                                    "SZOBA_ID": "35",
                                    "SZALLAS_FK": "4",
                                    "SZOBA_SZAMA": "11",
                                    "FEROHELY": "3",
                                    "POTAGY": "0",
                                    "KLIMAS": "i",
                                    "SZALLAS_NEV": "Fortuna panzió"
                                },
                                {
                                    "SZOBA_ID": "74",
                                    "SZALLAS_FK": "6",
                                    "SZOBA_SZAMA": "25",
                                    "FEROHELY": "3",
                                    "POTAGY": "1",
                                    "KLIMAS": "n",
                                    "SZALLAS_NEV": "Kentaur Hotel"
                                },
                                {
                                    "SZOBA_ID": "177",
                                    "SZALLAS_FK": "12",
                                    "SZOBA_SZAMA": "13",
                                    "FEROHELY": "3",
                                    "POTAGY": "2",
                                    "KLIMAS": "i",
                                    "SZALLAS_NEV": "Gold Hotel"
                                },
                                {
                                    "SZOBA_ID": "8",
                                    "SZALLAS_FK": "1",
                                    "SZOBA_SZAMA": "8",
                                    "FEROHELY": "3",
                                    "POTAGY": "0",
                                    "KLIMAS": "n",
                                    "SZALLAS_NEV": "Sába-Ház"
                                },
                                {
                                    "SZOBA_ID": "149",
                                    "SZALLAS_FK": "10",
                                    "SZOBA_SZAMA": "15",
                                    "FEROHELY": "2",
                                    "POTAGY": "0",
                                    "KLIMAS": "i",
                                    "SZALLAS_NEV": "Lagúna Hotel"
                                },
                                {
                                    "SZOBA_ID": "149",
                                    "SZALLAS_FK": "10",
                                    "SZOBA_SZAMA": "15",
                                    "FEROHELY": "2",
                                    "POTAGY": "0",
                                    "KLIMAS": "i",
                                    "SZALLAS_NEV": "Lagúna Hotel"
                                },
                                {
                                    "SZOBA_ID": "193",
                                    "SZALLAS_FK": "12",
                                    "SZOBA_SZAMA": "29",
                                    "FEROHELY": "3",
                                    "POTAGY": "2",
                                    "KLIMAS": "n",
                                    "SZALLAS_NEV": "Gold Hotel"
                                },
                                {
                                    "SZOBA_ID": "97",
                                    "SZALLAS_FK": "8",
                                    "SZOBA_SZAMA": "7",
                                    "FEROHELY": "3",
                                    "POTAGY": "2",
                                    "KLIMAS": "n",
                                    "SZALLAS_NEV": "Hotel Három Hattyú"
                                },
                                {
                                    "SZOBA_ID": "104",
                                    "SZALLAS_FK": "8",
                                    "SZOBA_SZAMA": "14",
                                    "FEROHELY": "3",
                                    "POTAGY": "0",
                                    "KLIMAS": "i",
                                    "SZALLAS_NEV": "Hotel Három Hattyú"
                                },
                                {
                                    "SZOBA_ID": "56",
                                    "SZALLAS_FK": "6",
                                    "SZOBA_SZAMA": "7",
                                    "FEROHELY": "2",
                                    "POTAGY": "0",
                                    "KLIMAS": "i",
                                    "SZALLAS_NEV": "Kentaur Hotel"
                                },
                                {
                                    "SZOBA_ID": "172",
                                    "SZALLAS_FK": "12",
                                    "SZOBA_SZAMA": "8",
                                    "FEROHELY": "2",
                                    "POTAGY": "2",
                                    "KLIMAS": "n",
                                    "SZALLAS_NEV": "Gold Hotel"
                                },
                                {
                                    "SZOBA_ID": "158",
                                    "SZALLAS_FK": "10",
                                    "SZOBA_SZAMA": "24",
                                    "FEROHELY": "2",
                                    "POTAGY": "1",
                                    "KLIMAS": "n",
                                    "SZALLAS_NEV": "Lagúna Hotel"
                                },
                                {
                                    "SZOBA_ID": "92",
                                    "SZALLAS_FK": "8",
                                    "SZOBA_SZAMA": "2",
                                    "FEROHELY": "3",
                                    "POTAGY": "1",
                                    "KLIMAS": "i",
                                    "SZALLAS_NEV": "Hotel Három Hattyú"
                                },
                                {
                                    "SZOBA_ID": "195",
                                    "SZALLAS_FK": "12",
                                    "SZOBA_SZAMA": "31",
                                    "FEROHELY": "2",
                                    "POTAGY": "0",
                                    "KLIMAS": "i",
                                    "SZALLAS_NEV": "Gold Hotel"
                                },
                                {
                                    "SZOBA_ID": "149",
                                    "SZALLAS_FK": "10",
                                    "SZOBA_SZAMA": "15",
                                    "FEROHELY": "2",
                                    "POTAGY": "0",
                                    "KLIMAS": "i",
                                    "SZALLAS_NEV": "Lagúna Hotel"
                                },
                                {
                                    "SZOBA_ID": "87",
                                    "SZALLAS_FK": "7",
                                    "SZOBA_SZAMA": "3",
                                    "FEROHELY": "3",
                                    "POTAGY": "0",
                                    "KLIMAS": "i",
                                    "SZALLAS_NEV": "Szieszta Apartmanház"
                                },
                                {
                                    "SZOBA_ID": "63",
                                    "SZALLAS_FK": "6",
                                    "SZOBA_SZAMA": "14",
                                    "FEROHELY": "2",
                                    "POTAGY": "0",
                                    "KLIMAS": "n",
                                    "SZALLAS_NEV": "Kentaur Hotel"
                                },
                                {
                                    "SZOBA_ID": "45",
                                    "SZALLAS_FK": "5",
                                    "SZOBA_SZAMA": "6",
                                    "FEROHELY": "2",
                                    "POTAGY": "0",
                                    "KLIMAS": "n",
                                    "SZALLAS_NEV": "Fortuna Panzió"
                                },
                                {
                                    "SZOBA_ID": "74",
                                    "SZALLAS_FK": "6",
                                    "SZOBA_SZAMA": "25",
                                    "FEROHELY": "3",
                                    "POTAGY": "1",
                                    "KLIMAS": "n",
                                    "SZALLAS_NEV": "Kentaur Hotel"
                                },
                                {
                                    "SZOBA_ID": "23",
                                    "SZALLAS_FK": "3",
                                    "SZOBA_SZAMA": "7",
                                    "FEROHELY": "2",
                                    "POTAGY": "0",
                                    "KLIMAS": "n",
                                    "SZALLAS_NEV": "Fortuna Apartman"
                                },
                                {
                                    "SZOBA_ID": "135",
                                    "SZALLAS_FK": "10",
                                    "SZOBA_SZAMA": "1",
                                    "FEROHELY": "3",
                                    "POTAGY": "0",
                                    "KLIMAS": "i",
                                    "SZALLAS_NEV": "Lagúna Hotel"
                                },
                                {
                                    "SZOBA_ID": "6",
                                    "SZALLAS_FK": "1",
                                    "SZOBA_SZAMA": "6",
                                    "FEROHELY": "3",
                                    "POTAGY": "0",
                                    "KLIMAS": "i",
                                    "SZALLAS_NEV": "Sába-Ház"
                                },
                                {
                                    "SZOBA_ID": "42",
                                    "SZALLAS_FK": "5",
                                    "SZOBA_SZAMA": "3",
                                    "FEROHELY": "2",
                                    "POTAGY": "1",
                                    "KLIMAS": "i",
                                    "SZALLAS_NEV": "Fortuna Panzió"
                                },
                                {
                                    "SZOBA_ID": "24",
                                    "SZALLAS_FK": "3",
                                    "SZOBA_SZAMA": "8",
                                    "FEROHELY": "4",
                                    "POTAGY": "1",
                                    "KLIMAS": "i",
                                    "SZALLAS_NEV": "Fortuna Apartman"
                                },
                                {
                                    "SZOBA_ID": "127",
                                    "SZALLAS_FK": "8",
                                    "SZOBA_SZAMA": "37",
                                    "FEROHELY": "2",
                                    "POTAGY": "1",
                                    "KLIMAS": "i",
                                    "SZALLAS_NEV": "Hotel Három Hattyú"
                                },
                                {
                                    "SZOBA_ID": "167",
                                    "SZALLAS_FK": "12",
                                    "SZOBA_SZAMA": "3",
                                    "FEROHELY": "3",
                                    "POTAGY": "0",
                                    "KLIMAS": "i",
                                    "SZALLAS_NEV": "Gold Hotel"
                                },
                                {
                                    "SZOBA_ID": "53",
                                    "SZALLAS_FK": "6",
                                    "SZOBA_SZAMA": "4",
                                    "FEROHELY": "2",
                                    "POTAGY": "1",
                                    "KLIMAS": "i",
                                    "SZALLAS_NEV": "Kentaur Hotel"
                                },
                                {
                                    "SZOBA_ID": "16",
                                    "SZALLAS_FK": "2",
                                    "SZOBA_SZAMA": "4",
                                    "FEROHELY": "3",
                                    "POTAGY": "1",
                                    "KLIMAS": "i",
                                    "SZALLAS_NEV": "Családi Ház"
                                },
                                {
                                    "SZOBA_ID": "165",
                                    "SZALLAS_FK": "12",
                                    "SZOBA_SZAMA": "1",
                                    "FEROHELY": "2",
                                    "POTAGY": "0",
                                    "KLIMAS": "n",
                                    "SZALLAS_NEV": "Gold Hotel"
                                },
                                {
                                    "SZOBA_ID": "121",
                                    "SZALLAS_FK": "8",
                                    "SZOBA_SZAMA": "31",
                                    "FEROHELY": "2",
                                    "POTAGY": "1",
                                    "KLIMAS": "i",
                                    "SZALLAS_NEV": "Hotel Három Hattyú"
                                },
                                {
                                    "SZOBA_ID": "86",
                                    "SZALLAS_FK": "7",
                                    "SZOBA_SZAMA": "2",
                                    "FEROHELY": "2",
                                    "POTAGY": "1",
                                    "KLIMAS": "i",
                                    "SZALLAS_NEV": "Szieszta Apartmanház"
                                },
                                {
                                    "SZOBA_ID": "70",
                                    "SZALLAS_FK": "6",
                                    "SZOBA_SZAMA": "21",
                                    "FEROHELY": "2",
                                    "POTAGY": "1",
                                    "KLIMAS": "i",
                                    "SZALLAS_NEV": "Kentaur Hotel"
                                },
                                {
                                    "SZOBA_ID": "124",
                                    "SZALLAS_FK": "8",
                                    "SZOBA_SZAMA": "34",
                                    "FEROHELY": "3",
                                    "POTAGY": "0",
                                    "KLIMAS": "n",
                                    "SZALLAS_NEV": "Hotel Három Hattyú"
                                },
                                {
                                    "SZOBA_ID": "82",
                                    "SZALLAS_FK": "6",
                                    "SZOBA_SZAMA": "33",
                                    "FEROHELY": "3",
                                    "POTAGY": "0",
                                    "KLIMAS": "i",
                                    "SZALLAS_NEV": "Kentaur Hotel"
                                },
                                {
                                    "SZOBA_ID": "185",
                                    "SZALLAS_FK": "12",
                                    "SZOBA_SZAMA": "21",
                                    "FEROHELY": "3",
                                    "POTAGY": "0",
                                    "KLIMAS": "i",
                                    "SZALLAS_NEV": "Gold Hotel"
                                },
                                {
                                    "SZOBA_ID": "118",
                                    "SZALLAS_FK": "8",
                                    "SZOBA_SZAMA": "28",
                                    "FEROHELY": "2",
                                    "POTAGY": "1",
                                    "KLIMAS": "i",
                                    "SZALLAS_NEV": "Hotel Három Hattyú"
                                },
                                {
                                    "SZOBA_ID": "51",
                                    "SZALLAS_FK": "6",
                                    "SZOBA_SZAMA": "2",
                                    "FEROHELY": "3",
                                    "POTAGY": "1",
                                    "KLIMAS": "i",
                                    "SZALLAS_NEV": "Kentaur Hotel"
                                },
                                {
                                    "SZOBA_ID": "88",
                                    "SZALLAS_FK": "7",
                                    "SZOBA_SZAMA": "4",
                                    "FEROHELY": "3",
                                    "POTAGY": "0",
                                    "KLIMAS": "n",
                                    "SZALLAS_NEV": "Szieszta Apartmanház"
                                },
                                {
                                    "SZOBA_ID": "175",
                                    "SZALLAS_FK": "12",
                                    "SZOBA_SZAMA": "11",
                                    "FEROHELY": "2",
                                    "POTAGY": "0",
                                    "KLIMAS": "i",
                                    "SZALLAS_NEV": "Gold Hotel"
                                },
                                {
                                    "SZOBA_ID": "187",
                                    "SZALLAS_FK": "12",
                                    "SZOBA_SZAMA": "23",
                                    "FEROHELY": "3",
                                    "POTAGY": "1",
                                    "KLIMAS": "i",
                                    "SZALLAS_NEV": "Gold Hotel"
                                },
                                {
                                    "SZOBA_ID": "83",
                                    "SZALLAS_FK": "6",
                                    "SZOBA_SZAMA": "34",
                                    "FEROHELY": "3",
                                    "POTAGY": "0",
                                    "KLIMAS": "i",
                                    "SZALLAS_NEV": "Kentaur Hotel"
                                },
                                {
                                    "SZOBA_ID": "34",
                                    "SZALLAS_FK": "4",
                                    "SZOBA_SZAMA": "10",
                                    "FEROHELY": "3",
                                    "POTAGY": "1",
                                    "KLIMAS": "i",
                                    "SZALLAS_NEV": "Fortuna panzió"
                                },
                                {
                                    "SZOBA_ID": "82",
                                    "SZALLAS_FK": "6",
                                    "SZOBA_SZAMA": "33",
                                    "FEROHELY": "3",
                                    "POTAGY": "0",
                                    "KLIMAS": "i",
                                    "SZALLAS_NEV": "Kentaur Hotel"
                                },
                                {
                                    "SZOBA_ID": "28",
                                    "SZALLAS_FK": "4",
                                    "SZOBA_SZAMA": "4",
                                    "FEROHELY": "2",
                                    "POTAGY": "1",
                                    "KLIMAS": "i",
                                    "SZALLAS_NEV": "Fortuna panzió"
                                },
                                {
                                    "SZOBA_ID": "6",
                                    "SZALLAS_FK": "1",
                                    "SZOBA_SZAMA": "6",
                                    "FEROHELY": "3",
                                    "POTAGY": "0",
                                    "KLIMAS": "i",
                                    "SZALLAS_NEV": "Sába-Ház"
                                },
                                {
                                    "SZOBA_ID": "67",
                                    "SZALLAS_FK": "6",
                                    "SZOBA_SZAMA": "18",
                                    "FEROHELY": "2",
                                    "POTAGY": "2",
                                    "KLIMAS": "i",
                                    "SZALLAS_NEV": "Kentaur Hotel"
                                },
                                {
                                    "SZOBA_ID": "64",
                                    "SZALLAS_FK": "6",
                                    "SZOBA_SZAMA": "15",
                                    "FEROHELY": "2",
                                    "POTAGY": "0",
                                    "KLIMAS": "i",
                                    "SZALLAS_NEV": "Kentaur Hotel"
                                },
                                {
                                    "SZOBA_ID": "12",
                                    "SZALLAS_FK": "1",
                                    "SZOBA_SZAMA": "12",
                                    "FEROHELY": "2",
                                    "POTAGY": "1",
                                    "KLIMAS": "i",
                                    "SZALLAS_NEV": "Sába-Ház"
                                },
                                {
                                    "SZOBA_ID": "74",
                                    "SZALLAS_FK": "6",
                                    "SZOBA_SZAMA": "25",
                                    "FEROHELY": "3",
                                    "POTAGY": "1",
                                    "KLIMAS": "n",
                                    "SZALLAS_NEV": "Kentaur Hotel"
                                },
                                {
                                    "SZOBA_ID": "83",
                                    "SZALLAS_FK": "6",
                                    "SZOBA_SZAMA": "34",
                                    "FEROHELY": "3",
                                    "POTAGY": "0",
                                    "KLIMAS": "i",
                                    "SZALLAS_NEV": "Kentaur Hotel"
                                },
                                {
                                    "SZOBA_ID": "127",
                                    "SZALLAS_FK": "8",
                                    "SZOBA_SZAMA": "37",
                                    "FEROHELY": "2",
                                    "POTAGY": "1",
                                    "KLIMAS": "i",
                                    "SZALLAS_NEV": "Hotel Három Hattyú"
                                },
                                {
                                    "SZOBA_ID": "184",
                                    "SZALLAS_FK": "12",
                                    "SZOBA_SZAMA": "20",
                                    "FEROHELY": "2",
                                    "POTAGY": "0",
                                    "KLIMAS": "n",
                                    "SZALLAS_NEV": "Gold Hotel"
                                },
                                {
                                    "SZOBA_ID": "131",
                                    "SZALLAS_FK": "9",
                                    "SZOBA_SZAMA": "2",
                                    "FEROHELY": "2",
                                    "POTAGY": "0",
                                    "KLIMAS": "n",
                                    "SZALLAS_NEV": "Jáde panzió"
                                },
                                {
                                    "SZOBA_ID": "8",
                                    "SZALLAS_FK": "1",
                                    "SZOBA_SZAMA": "8",
                                    "FEROHELY": "3",
                                    "POTAGY": "0",
                                    "KLIMAS": "n",
                                    "SZALLAS_NEV": "Sába-Ház"
                                },
                                {
                                    "SZOBA_ID": "58",
                                    "SZALLAS_FK": "6",
                                    "SZOBA_SZAMA": "9",
                                    "FEROHELY": "2",
                                    "POTAGY": "1",
                                    "KLIMAS": "i",
                                    "SZALLAS_NEV": "Kentaur Hotel"
                                },
                                {
                                    "SZOBA_ID": "98",
                                    "SZALLAS_FK": "8",
                                    "SZOBA_SZAMA": "8",
                                    "FEROHELY": "2",
                                    "POTAGY": "0",
                                    "KLIMAS": "n",
                                    "SZALLAS_NEV": "Hotel Három Hattyú"
                                },
                                {
                                    "SZOBA_ID": "69",
                                    "SZALLAS_FK": "6",
                                    "SZOBA_SZAMA": "20",
                                    "FEROHELY": "3",
                                    "POTAGY": "1",
                                    "KLIMAS": "n",
                                    "SZALLAS_NEV": "Kentaur Hotel"
                                },
                                {
                                    "SZOBA_ID": "28",
                                    "SZALLAS_FK": "4",
                                    "SZOBA_SZAMA": "4",
                                    "FEROHELY": "2",
                                    "POTAGY": "1",
                                    "KLIMAS": "i",
                                    "SZALLAS_NEV": "Fortuna panzió"
                                },
                                {
                                    "SZOBA_ID": "80",
                                    "SZALLAS_FK": "6",
                                    "SZOBA_SZAMA": "31",
                                    "FEROHELY": "2",
                                    "POTAGY": "1",
                                    "KLIMAS": "i",
                                    "SZALLAS_NEV": "Kentaur Hotel"
                                },
                                {
                                    "SZOBA_ID": "49",
                                    "SZALLAS_FK": "5",
                                    "SZOBA_SZAMA": "10",
                                    "FEROHELY": "3",
                                    "POTAGY": "0",
                                    "KLIMAS": "i",
                                    "SZALLAS_NEV": "Fortuna Panzió"
                                },
                                {
                                    "SZOBA_ID": "54",
                                    "SZALLAS_FK": "6",
                                    "SZOBA_SZAMA": "5",
                                    "FEROHELY": "3",
                                    "POTAGY": "0",
                                    "KLIMAS": "n",
                                    "SZALLAS_NEV": "Kentaur Hotel"
                                },
                                {
                                    "SZOBA_ID": "146",
                                    "SZALLAS_FK": "10",
                                    "SZOBA_SZAMA": "12",
                                    "FEROHELY": "3",
                                    "POTAGY": "0",
                                    "KLIMAS": "i",
                                    "SZALLAS_NEV": "Lagúna Hotel"
                                },
                                {
                                    "SZOBA_ID": "63",
                                    "SZALLAS_FK": "6",
                                    "SZOBA_SZAMA": "14",
                                    "FEROHELY": "2",
                                    "POTAGY": "0",
                                    "KLIMAS": "n",
                                    "SZALLAS_NEV": "Kentaur Hotel"
                                },
                                {
                                    "SZOBA_ID": "165",
                                    "SZALLAS_FK": "12",
                                    "SZOBA_SZAMA": "1",
                                    "FEROHELY": "2",
                                    "POTAGY": "0",
                                    "KLIMAS": "n",
                                    "SZALLAS_NEV": "Gold Hotel"
                                },
                                {
                                    "SZOBA_ID": "151",
                                    "SZALLAS_FK": "10",
                                    "SZOBA_SZAMA": "17",
                                    "FEROHELY": "2",
                                    "POTAGY": "0",
                                    "KLIMAS": "n",
                                    "SZALLAS_NEV": "Lagúna Hotel"
                                },
                                {
                                    "SZOBA_ID": "29",
                                    "SZALLAS_FK": "4",
                                    "SZOBA_SZAMA": "5",
                                    "FEROHELY": "2",
                                    "POTAGY": "0",
                                    "KLIMAS": "n",
                                    "SZALLAS_NEV": "Fortuna panzió"
                                },
                                {
                                    "SZOBA_ID": "36",
                                    "SZALLAS_FK": "4",
                                    "SZOBA_SZAMA": "12",
                                    "FEROHELY": "3",
                                    "POTAGY": "2",
                                    "KLIMAS": "i",
                                    "SZALLAS_NEV": "Fortuna panzió"
                                },
                                {
                                    "SZOBA_ID": "16",
                                    "SZALLAS_FK": "2",
                                    "SZOBA_SZAMA": "4",
                                    "FEROHELY": "3",
                                    "POTAGY": "1",
                                    "KLIMAS": "i",
                                    "SZALLAS_NEV": "Családi Ház"
                                },
                                {
                                    "SZOBA_ID": "165",
                                    "SZALLAS_FK": "12",
                                    "SZOBA_SZAMA": "1",
                                    "FEROHELY": "2",
                                    "POTAGY": "0",
                                    "KLIMAS": "n",
                                    "SZALLAS_NEV": "Gold Hotel"
                                },
                                {
                                    "SZOBA_ID": "185",
                                    "SZALLAS_FK": "12",
                                    "SZOBA_SZAMA": "21",
                                    "FEROHELY": "3",
                                    "POTAGY": "0",
                                    "KLIMAS": "i",
                                    "SZALLAS_NEV": "Gold Hotel"
                                },
                                {
                                    "SZOBA_ID": "39",
                                    "SZALLAS_FK": "4",
                                    "SZOBA_SZAMA": "15",
                                    "FEROHELY": "2",
                                    "POTAGY": "0",
                                    "KLIMAS": "i",
                                    "SZALLAS_NEV": "Fortuna panzió"
                                },
                                {
                                    "SZOBA_ID": "165",
                                    "SZALLAS_FK": "12",
                                    "SZOBA_SZAMA": "1",
                                    "FEROHELY": "2",
                                    "POTAGY": "0",
                                    "KLIMAS": "n",
                                    "SZALLAS_NEV": "Gold Hotel"
                                },
                                {
                                    "SZOBA_ID": "28",
                                    "SZALLAS_FK": "4",
                                    "SZOBA_SZAMA": "4",
                                    "FEROHELY": "2",
                                    "POTAGY": "1",
                                    "KLIMAS": "i",
                                    "SZALLAS_NEV": "Fortuna panzió"
                                },
                                {
                                    "SZOBA_ID": "72",
                                    "SZALLAS_FK": "6",
                                    "SZOBA_SZAMA": "23",
                                    "FEROHELY": "2",
                                    "POTAGY": "0",
                                    "KLIMAS": "n",
                                    "SZALLAS_NEV": "Kentaur Hotel"
                                },
                                {
                                    "SZOBA_ID": "192",
                                    "SZALLAS_FK": "12",
                                    "SZOBA_SZAMA": "28",
                                    "FEROHELY": "2",
                                    "POTAGY": "1",
                                    "KLIMAS": "i",
                                    "SZALLAS_NEV": "Gold Hotel"
                                },
                                {
                                    "SZOBA_ID": "34",
                                    "SZALLAS_FK": "4",
                                    "SZOBA_SZAMA": "10",
                                    "FEROHELY": "3",
                                    "POTAGY": "1",
                                    "KLIMAS": "i",
                                    "SZALLAS_NEV": "Fortuna panzió"
                                },
                                {
                                    "SZOBA_ID": "180",
                                    "SZALLAS_FK": "12",
                                    "SZOBA_SZAMA": "16",
                                    "FEROHELY": "2",
                                    "POTAGY": "2",
                                    "KLIMAS": "i",
                                    "SZALLAS_NEV": "Gold Hotel"
                                },
                                {
                                    "SZOBA_ID": "22",
                                    "SZALLAS_FK": "3",
                                    "SZOBA_SZAMA": "6",
                                    "FEROHELY": "3",
                                    "POTAGY": "2",
                                    "KLIMAS": "n",
                                    "SZALLAS_NEV": "Fortuna Apartman"
                                },
                                {
                                    "SZOBA_ID": "156",
                                    "SZALLAS_FK": "10",
                                    "SZOBA_SZAMA": "22",
                                    "FEROHELY": "2",
                                    "POTAGY": "2",
                                    "KLIMAS": "i",
                                    "SZALLAS_NEV": "Lagúna Hotel"
                                },
                                {
                                    "SZOBA_ID": "141",
                                    "SZALLAS_FK": "10",
                                    "SZOBA_SZAMA": "7",
                                    "FEROHELY": "2",
                                    "POTAGY": "0",
                                    "KLIMAS": "n",
                                    "SZALLAS_NEV": "Lagúna Hotel"
                                },
                                {
                                    "SZOBA_ID": "133",
                                    "SZALLAS_FK": "9",
                                    "SZOBA_SZAMA": "4",
                                    "FEROHELY": "3",
                                    "POTAGY": "0",
                                    "KLIMAS": "n",
                                    "SZALLAS_NEV": "Jáde panzió"
                                },
                                {
                                    "SZOBA_ID": "130",
                                    "SZALLAS_FK": "9",
                                    "SZOBA_SZAMA": "1",
                                    "FEROHELY": "2",
                                    "POTAGY": "0",
                                    "KLIMAS": "n",
                                    "SZALLAS_NEV": "Jáde panzió"
                                },
                                {
                                    "SZOBA_ID": "161",
                                    "SZALLAS_FK": "11",
                                    "SZOBA_SZAMA": "2",
                                    "FEROHELY": "2",
                                    "POTAGY": "2",
                                    "KLIMAS": "i",
                                    "SZALLAS_NEV": "Partiszél Vendégház"
                                },
                                {
                                    "SZOBA_ID": "188",
                                    "SZALLAS_FK": "12",
                                    "SZOBA_SZAMA": "24",
                                    "FEROHELY": "3",
                                    "POTAGY": "0",
                                    "KLIMAS": "i",
                                    "SZALLAS_NEV": "Gold Hotel"
                                },
                                {
                                    "SZOBA_ID": "173",
                                    "SZALLAS_FK": "12",
                                    "SZOBA_SZAMA": "9",
                                    "FEROHELY": "2",
                                    "POTAGY": "0",
                                    "KLIMAS": "i",
                                    "SZALLAS_NEV": "Gold Hotel"
                                },
                                {
                                    "SZOBA_ID": "48",
                                    "SZALLAS_FK": "5",
                                    "SZOBA_SZAMA": "9",
                                    "FEROHELY": "3",
                                    "POTAGY": "0",
                                    "KLIMAS": "i",
                                    "SZALLAS_NEV": "Fortuna Panzió"
                                },
                                {
                                    "SZOBA_ID": "140",
                                    "SZALLAS_FK": "10",
                                    "SZOBA_SZAMA": "6",
                                    "FEROHELY": "2",
                                    "POTAGY": "1",
                                    "KLIMAS": "i",
                                    "SZALLAS_NEV": "Lagúna Hotel"
                                },
                                {
                                    "SZOBA_ID": "17",
                                    "SZALLAS_FK": "3",
                                    "SZOBA_SZAMA": "1",
                                    "FEROHELY": "3",
                                    "POTAGY": "1",
                                    "KLIMAS": "i",
                                    "SZALLAS_NEV": "Fortuna Apartman"
                                },
                                {
                                    "SZOBA_ID": "174",
                                    "SZALLAS_FK": "12",
                                    "SZOBA_SZAMA": "10",
                                    "FEROHELY": "2",
                                    "POTAGY": "0",
                                    "KLIMAS": "i",
                                    "SZALLAS_NEV": "Gold Hotel"
                                },
                                {
                                    "SZOBA_ID": "11",
                                    "SZALLAS_FK": "1",
                                    "SZOBA_SZAMA": "11",
                                    "FEROHELY": "2",
                                    "POTAGY": "1",
                                    "KLIMAS": "i",
                                    "SZALLAS_NEV": "Sába-Ház"
                                },
                                {
                                    "SZOBA_ID": "36",
                                    "SZALLAS_FK": "4",
                                    "SZOBA_SZAMA": "12",
                                    "FEROHELY": "3",
                                    "POTAGY": "2",
                                    "KLIMAS": "i",
                                    "SZALLAS_NEV": "Fortuna panzió"
                                },
                                {
                                    "SZOBA_ID": "32",
                                    "SZALLAS_FK": "4",
                                    "SZOBA_SZAMA": "8",
                                    "FEROHELY": "2",
                                    "POTAGY": "0",
                                    "KLIMAS": "i",
                                    "SZALLAS_NEV": "Fortuna panzió"
                                },
                                {
                                    "SZOBA_ID": "112",
                                    "SZALLAS_FK": "8",
                                    "SZOBA_SZAMA": "22",
                                    "FEROHELY": "3",
                                    "POTAGY": "0",
                                    "KLIMAS": "i",
                                    "SZALLAS_NEV": "Hotel Három Hattyú"
                                },
                                {
                                    "SZOBA_ID": "160",
                                    "SZALLAS_FK": "11",
                                    "SZOBA_SZAMA": "1",
                                    "FEROHELY": "3",
                                    "POTAGY": "1",
                                    "KLIMAS": "i",
                                    "SZALLAS_NEV": "Partiszél Vendégház"
                                },
                                {
                                    "SZOBA_ID": "123",
                                    "SZALLAS_FK": "8",
                                    "SZOBA_SZAMA": "33",
                                    "FEROHELY": "3",
                                    "POTAGY": "0",
                                    "KLIMAS": "n",
                                    "SZALLAS_NEV": "Hotel Három Hattyú"
                                },
                                {
                                    "SZOBA_ID": "40",
                                    "SZALLAS_FK": "5",
                                    "SZOBA_SZAMA": "1",
                                    "FEROHELY": "3",
                                    "POTAGY": "0",
                                    "KLIMAS": "i",
                                    "SZALLAS_NEV": "Fortuna Panzió"
                                },
                                {
                                    "SZOBA_ID": "185",
                                    "SZALLAS_FK": "12",
                                    "SZOBA_SZAMA": "21",
                                    "FEROHELY": "3",
                                    "POTAGY": "0",
                                    "KLIMAS": "i",
                                    "SZALLAS_NEV": "Gold Hotel"
                                },
                                {
                                    "SZOBA_ID": "193",
                                    "SZALLAS_FK": "12",
                                    "SZOBA_SZAMA": "29",
                                    "FEROHELY": "3",
                                    "POTAGY": "2",
                                    "KLIMAS": "n",
                                    "SZALLAS_NEV": "Gold Hotel"
                                },
                                {
                                    "SZOBA_ID": "160",
                                    "SZALLAS_FK": "11",
                                    "SZOBA_SZAMA": "1",
                                    "FEROHELY": "3",
                                    "POTAGY": "1",
                                    "KLIMAS": "i",
                                    "SZALLAS_NEV": "Partiszél Vendégház"
                                },
                                {
                                    "SZOBA_ID": "182",
                                    "SZALLAS_FK": "12",
                                    "SZOBA_SZAMA": "18",
                                    "FEROHELY": "2",
                                    "POTAGY": "0",
                                    "KLIMAS": "n",
                                    "SZALLAS_NEV": "Gold Hotel"
                                },
                                {
                                    "SZOBA_ID": "80",
                                    "SZALLAS_FK": "6",
                                    "SZOBA_SZAMA": "31",
                                    "FEROHELY": "2",
                                    "POTAGY": "1",
                                    "KLIMAS": "i",
                                    "SZALLAS_NEV": "Kentaur Hotel"
                                },
                                {
                                    "SZOBA_ID": "168",
                                    "SZALLAS_FK": "12",
                                    "SZOBA_SZAMA": "4",
                                    "FEROHELY": "2",
                                    "POTAGY": "2",
                                    "KLIMAS": "i",
                                    "SZALLAS_NEV": "Gold Hotel"
                                },
                                {
                                    "SZOBA_ID": "110",
                                    "SZALLAS_FK": "8",
                                    "SZOBA_SZAMA": "20",
                                    "FEROHELY": "2",
                                    "POTAGY": "0",
                                    "KLIMAS": "i",
                                    "SZALLAS_NEV": "Hotel Három Hattyú"
                                },
                                {
                                    "SZOBA_ID": "40",
                                    "SZALLAS_FK": "5",
                                    "SZOBA_SZAMA": "1",
                                    "FEROHELY": "3",
                                    "POTAGY": "0",
                                    "KLIMAS": "i",
                                    "SZALLAS_NEV": "Fortuna Panzió"
                                },
                                {
                                    "SZOBA_ID": "160",
                                    "SZALLAS_FK": "11",
                                    "SZOBA_SZAMA": "1",
                                    "FEROHELY": "3",
                                    "POTAGY": "1",
                                    "KLIMAS": "i",
                                    "SZALLAS_NEV": "Partiszél Vendégház"
                                },
                                {
                                    "SZOBA_ID": "23",
                                    "SZALLAS_FK": "3",
                                    "SZOBA_SZAMA": "7",
                                    "FEROHELY": "2",
                                    "POTAGY": "0",
                                    "KLIMAS": "n",
                                    "SZALLAS_NEV": "Fortuna Apartman"
                                },
                                {
                                    "SZOBA_ID": "56",
                                    "SZALLAS_FK": "6",
                                    "SZOBA_SZAMA": "7",
                                    "FEROHELY": "2",
                                    "POTAGY": "0",
                                    "KLIMAS": "i",
                                    "SZALLAS_NEV": "Kentaur Hotel"
                                },
                                {
                                    "SZOBA_ID": "62",
                                    "SZALLAS_FK": "6",
                                    "SZOBA_SZAMA": "13",
                                    "FEROHELY": "2",
                                    "POTAGY": "0",
                                    "KLIMAS": "n",
                                    "SZALLAS_NEV": "Kentaur Hotel"
                                },
                                {
                                    "SZOBA_ID": "181",
                                    "SZALLAS_FK": "12",
                                    "SZOBA_SZAMA": "17",
                                    "FEROHELY": "3",
                                    "POTAGY": "0",
                                    "KLIMAS": "i",
                                    "SZALLAS_NEV": "Gold Hotel"
                                },
                                {
                                    "SZOBA_ID": "62",
                                    "SZALLAS_FK": "6",
                                    "SZOBA_SZAMA": "13",
                                    "FEROHELY": "2",
                                    "POTAGY": "0",
                                    "KLIMAS": "n",
                                    "SZALLAS_NEV": "Kentaur Hotel"
                                },
                                {
                                    "SZOBA_ID": "183",
                                    "SZALLAS_FK": "12",
                                    "SZOBA_SZAMA": "19",
                                    "FEROHELY": "3",
                                    "POTAGY": "0",
                                    "KLIMAS": "i",
                                    "SZALLAS_NEV": "Gold Hotel"
                                },
                                {
                                    "SZOBA_ID": "74",
                                    "SZALLAS_FK": "6",
                                    "SZOBA_SZAMA": "25",
                                    "FEROHELY": "3",
                                    "POTAGY": "1",
                                    "KLIMAS": "n",
                                    "SZALLAS_NEV": "Kentaur Hotel"
                                },
                                {
                                    "SZOBA_ID": "163",
                                    "SZALLAS_FK": "11",
                                    "SZOBA_SZAMA": "4",
                                    "FEROHELY": "2",
                                    "POTAGY": "0",
                                    "KLIMAS": "i",
                                    "SZALLAS_NEV": "Partiszél Vendégház"
                                },
                                {
                                    "SZOBA_ID": "92",
                                    "SZALLAS_FK": "8",
                                    "SZOBA_SZAMA": "2",
                                    "FEROHELY": "3",
                                    "POTAGY": "1",
                                    "KLIMAS": "i",
                                    "SZALLAS_NEV": "Hotel Három Hattyú"
                                },
                                {
                                    "SZOBA_ID": "115",
                                    "SZALLAS_FK": "8",
                                    "SZOBA_SZAMA": "25",
                                    "FEROHELY": "3",
                                    "POTAGY": "0",
                                    "KLIMAS": "i",
                                    "SZALLAS_NEV": "Hotel Három Hattyú"
                                },
                                {
                                    "SZOBA_ID": "170",
                                    "SZALLAS_FK": "12",
                                    "SZOBA_SZAMA": "6",
                                    "FEROHELY": "2",
                                    "POTAGY": "0",
                                    "KLIMAS": "i",
                                    "SZALLAS_NEV": "Gold Hotel"
                                },
                                {
                                    "SZOBA_ID": "23",
                                    "SZALLAS_FK": "3",
                                    "SZOBA_SZAMA": "7",
                                    "FEROHELY": "2",
                                    "POTAGY": "0",
                                    "KLIMAS": "n",
                                    "SZALLAS_NEV": "Fortuna Apartman"
                                },
                                {
                                    "SZOBA_ID": "4",
                                    "SZALLAS_FK": "1",
                                    "SZOBA_SZAMA": "4",
                                    "FEROHELY": "2",
                                    "POTAGY": "1",
                                    "KLIMAS": "i",
                                    "SZALLAS_NEV": "Sába-Ház"
                                },
                                {
                                    "SZOBA_ID": "8",
                                    "SZALLAS_FK": "1",
                                    "SZOBA_SZAMA": "8",
                                    "FEROHELY": "3",
                                    "POTAGY": "0",
                                    "KLIMAS": "n",
                                    "SZALLAS_NEV": "Sába-Ház"
                                },
                                {
                                    "SZOBA_ID": "19",
                                    "SZALLAS_FK": "3",
                                    "SZOBA_SZAMA": "3",
                                    "FEROHELY": "2",
                                    "POTAGY": "1",
                                    "KLIMAS": "i",
                                    "SZALLAS_NEV": "Fortuna Apartman"
                                },
                                {
                                    "SZOBA_ID": "1",
                                    "SZALLAS_FK": "1",
                                    "SZOBA_SZAMA": "1",
                                    "FEROHELY": "3",
                                    "POTAGY": "0",
                                    "KLIMAS": "n",
                                    "SZALLAS_NEV": "Sába-Ház"
                                },
                                {
                                    "SZOBA_ID": "66",
                                    "SZALLAS_FK": "6",
                                    "SZOBA_SZAMA": "17",
                                    "FEROHELY": "3",
                                    "POTAGY": "0",
                                    "KLIMAS": "n",
                                    "SZALLAS_NEV": "Kentaur Hotel"
                                },
                                {
                                    "SZOBA_ID": "12",
                                    "SZALLAS_FK": "1",
                                    "SZOBA_SZAMA": "12",
                                    "FEROHELY": "2",
                                    "POTAGY": "1",
                                    "KLIMAS": "i",
                                    "SZALLAS_NEV": "Sába-Ház"
                                },
                                {
                                    "SZOBA_ID": "196",
                                    "SZALLAS_FK": "12",
                                    "SZOBA_SZAMA": "32",
                                    "FEROHELY": "2",
                                    "POTAGY": "1",
                                    "KLIMAS": "i",
                                    "SZALLAS_NEV": "Gold Hotel"
                                },
                                {
                                    "SZOBA_ID": "117",
                                    "SZALLAS_FK": "8",
                                    "SZOBA_SZAMA": "27",
                                    "FEROHELY": "3",
                                    "POTAGY": "1",
                                    "KLIMAS": "i",
                                    "SZALLAS_NEV": "Hotel Három Hattyú"
                                },
                                {
                                    "SZOBA_ID": "84",
                                    "SZALLAS_FK": "6",
                                    "SZOBA_SZAMA": "35",
                                    "FEROHELY": "3",
                                    "POTAGY": "0",
                                    "KLIMAS": "i",
                                    "SZALLAS_NEV": "Kentaur Hotel"
                                },
                                {
                                    "SZOBA_ID": "47",
                                    "SZALLAS_FK": "5",
                                    "SZOBA_SZAMA": "8",
                                    "FEROHELY": "2",
                                    "POTAGY": "0",
                                    "KLIMAS": "i",
                                    "SZALLAS_NEV": "Fortuna Panzió"
                                },
                                {
                                    "SZOBA_ID": "156",
                                    "SZALLAS_FK": "10",
                                    "SZOBA_SZAMA": "22",
                                    "FEROHELY": "2",
                                    "POTAGY": "2",
                                    "KLIMAS": "i",
                                    "SZALLAS_NEV": "Lagúna Hotel"
                                },
                                {
                                    "SZOBA_ID": "187",
                                    "SZALLAS_FK": "12",
                                    "SZOBA_SZAMA": "23",
                                    "FEROHELY": "3",
                                    "POTAGY": "1",
                                    "KLIMAS": "i",
                                    "SZALLAS_NEV": "Gold Hotel"
                                },
                                {
                                    "SZOBA_ID": "181",
                                    "SZALLAS_FK": "12",
                                    "SZOBA_SZAMA": "17",
                                    "FEROHELY": "3",
                                    "POTAGY": "0",
                                    "KLIMAS": "i",
                                    "SZALLAS_NEV": "Gold Hotel"
                                },
                                {
                                    "SZOBA_ID": "111",
                                    "SZALLAS_FK": "8",
                                    "SZOBA_SZAMA": "21",
                                    "FEROHELY": "2",
                                    "POTAGY": "1",
                                    "KLIMAS": "i",
                                    "SZALLAS_NEV": "Hotel Három Hattyú"
                                },
                                {
                                    "SZOBA_ID": "41",
                                    "SZALLAS_FK": "5",
                                    "SZOBA_SZAMA": "2",
                                    "FEROHELY": "3",
                                    "POTAGY": "0",
                                    "KLIMAS": "n",
                                    "SZALLAS_NEV": "Fortuna Panzió"
                                },
                                {
                                    "SZOBA_ID": "72",
                                    "SZALLAS_FK": "6",
                                    "SZOBA_SZAMA": "23",
                                    "FEROHELY": "2",
                                    "POTAGY": "0",
                                    "KLIMAS": "n",
                                    "SZALLAS_NEV": "Kentaur Hotel"
                                },
                                {
                                    "SZOBA_ID": "117",
                                    "SZALLAS_FK": "8",
                                    "SZOBA_SZAMA": "27",
                                    "FEROHELY": "3",
                                    "POTAGY": "1",
                                    "KLIMAS": "i",
                                    "SZALLAS_NEV": "Hotel Három Hattyú"
                                },
                                {
                                    "SZOBA_ID": "74",
                                    "SZALLAS_FK": "6",
                                    "SZOBA_SZAMA": "25",
                                    "FEROHELY": "3",
                                    "POTAGY": "1",
                                    "KLIMAS": "n",
                                    "SZALLAS_NEV": "Kentaur Hotel"
                                },
                                {
                                    "SZOBA_ID": "110",
                                    "SZALLAS_FK": "8",
                                    "SZOBA_SZAMA": "20",
                                    "FEROHELY": "2",
                                    "POTAGY": "0",
                                    "KLIMAS": "i",
                                    "SZALLAS_NEV": "Hotel Három Hattyú"
                                },
                                {
                                    "SZOBA_ID": "5",
                                    "SZALLAS_FK": "1",
                                    "SZOBA_SZAMA": "5",
                                    "FEROHELY": "2",
                                    "POTAGY": "0",
                                    "KLIMAS": "i",
                                    "SZALLAS_NEV": "Sába-Ház"
                                },
                                {
                                    "SZOBA_ID": "114",
                                    "SZALLAS_FK": "8",
                                    "SZOBA_SZAMA": "24",
                                    "FEROHELY": "2",
                                    "POTAGY": "1",
                                    "KLIMAS": "n",
                                    "SZALLAS_NEV": "Hotel Három Hattyú"
                                },
                                {
                                    "SZOBA_ID": "123",
                                    "SZALLAS_FK": "8",
                                    "SZOBA_SZAMA": "33",
                                    "FEROHELY": "3",
                                    "POTAGY": "0",
                                    "KLIMAS": "n",
                                    "SZALLAS_NEV": "Hotel Három Hattyú"
                                },
                                {
                                    "SZOBA_ID": "154",
                                    "SZALLAS_FK": "10",
                                    "SZOBA_SZAMA": "20",
                                    "FEROHELY": "2",
                                    "POTAGY": "1",
                                    "KLIMAS": "i",
                                    "SZALLAS_NEV": "Lagúna Hotel"
                                },
                                {
                                    "SZOBA_ID": "153",
                                    "SZALLAS_FK": "10",
                                    "SZOBA_SZAMA": "19",
                                    "FEROHELY": "3",
                                    "POTAGY": "0",
                                    "KLIMAS": "n",
                                    "SZALLAS_NEV": "Lagúna Hotel"
                                },
                                {
                                    "SZOBA_ID": "12",
                                    "SZALLAS_FK": "1",
                                    "SZOBA_SZAMA": "12",
                                    "FEROHELY": "2",
                                    "POTAGY": "1",
                                    "KLIMAS": "i",
                                    "SZALLAS_NEV": "Sába-Ház"
                                },
                                {
                                    "SZOBA_ID": "35",
                                    "SZALLAS_FK": "4",
                                    "SZOBA_SZAMA": "11",
                                    "FEROHELY": "3",
                                    "POTAGY": "0",
                                    "KLIMAS": "i",
                                    "SZALLAS_NEV": "Fortuna panzió"
                                },
                                {
                                    "SZOBA_ID": "103",
                                    "SZALLAS_FK": "8",
                                    "SZOBA_SZAMA": "13",
                                    "FEROHELY": "2",
                                    "POTAGY": "1",
                                    "KLIMAS": "i",
                                    "SZALLAS_NEV": "Hotel Három Hattyú"
                                },
                                {
                                    "SZOBA_ID": "16",
                                    "SZALLAS_FK": "2",
                                    "SZOBA_SZAMA": "4",
                                    "FEROHELY": "3",
                                    "POTAGY": "1",
                                    "KLIMAS": "i",
                                    "SZALLAS_NEV": "Családi Ház"
                                },
                                {
                                    "SZOBA_ID": "169",
                                    "SZALLAS_FK": "12",
                                    "SZOBA_SZAMA": "5",
                                    "FEROHELY": "2",
                                    "POTAGY": "1",
                                    "KLIMAS": "i",
                                    "SZALLAS_NEV": "Gold Hotel"
                                },
                                {
                                    "SZOBA_ID": "94",
                                    "SZALLAS_FK": "8",
                                    "SZOBA_SZAMA": "4",
                                    "FEROHELY": "2",
                                    "POTAGY": "0",
                                    "KLIMAS": "n",
                                    "SZALLAS_NEV": "Hotel Három Hattyú"
                                },
                                {
                                    "SZOBA_ID": "76",
                                    "SZALLAS_FK": "6",
                                    "SZOBA_SZAMA": "27",
                                    "FEROHELY": "2",
                                    "POTAGY": "0",
                                    "KLIMAS": "i",
                                    "SZALLAS_NEV": "Kentaur Hotel"
                                },
                                {
                                    "SZOBA_ID": "193",
                                    "SZALLAS_FK": "12",
                                    "SZOBA_SZAMA": "29",
                                    "FEROHELY": "3",
                                    "POTAGY": "2",
                                    "KLIMAS": "n",
                                    "SZALLAS_NEV": "Gold Hotel"
                                },
                                {
                                    "SZOBA_ID": "198",
                                    "SZALLAS_FK": "12",
                                    "SZOBA_SZAMA": "34",
                                    "FEROHELY": "3",
                                    "POTAGY": "0",
                                    "KLIMAS": "i",
                                    "SZALLAS_NEV": "Gold Hotel"
                                },
                                {
                                    "SZOBA_ID": "35",
                                    "SZALLAS_FK": "4",
                                    "SZOBA_SZAMA": "11",
                                    "FEROHELY": "3",
                                    "POTAGY": "0",
                                    "KLIMAS": "i",
                                    "SZALLAS_NEV": "Fortuna panzió"
                                },
                                {
                                    "SZOBA_ID": "143",
                                    "SZALLAS_FK": "10",
                                    "SZOBA_SZAMA": "9",
                                    "FEROHELY": "3",
                                    "POTAGY": "1",
                                    "KLIMAS": "i",
                                    "SZALLAS_NEV": "Lagúna Hotel"
                                },
                                {
                                    "SZOBA_ID": "171",
                                    "SZALLAS_FK": "12",
                                    "SZOBA_SZAMA": "7",
                                    "FEROHELY": "2",
                                    "POTAGY": "1",
                                    "KLIMAS": "i",
                                    "SZALLAS_NEV": "Gold Hotel"
                                },
                                {
                                    "SZOBA_ID": "77",
                                    "SZALLAS_FK": "6",
                                    "SZOBA_SZAMA": "28",
                                    "FEROHELY": "3",
                                    "POTAGY": "1",
                                    "KLIMAS": "i",
                                    "SZALLAS_NEV": "Kentaur Hotel"
                                },
                                {
                                    "SZOBA_ID": "80",
                                    "SZALLAS_FK": "6",
                                    "SZOBA_SZAMA": "31",
                                    "FEROHELY": "2",
                                    "POTAGY": "1",
                                    "KLIMAS": "i",
                                    "SZALLAS_NEV": "Kentaur Hotel"
                                },
                                {
                                    "SZOBA_ID": "172",
                                    "SZALLAS_FK": "12",
                                    "SZOBA_SZAMA": "8",
                                    "FEROHELY": "2",
                                    "POTAGY": "2",
                                    "KLIMAS": "n",
                                    "SZALLAS_NEV": "Gold Hotel"
                                },
                                {
                                    "SZOBA_ID": "36",
                                    "SZALLAS_FK": "4",
                                    "SZOBA_SZAMA": "12",
                                    "FEROHELY": "3",
                                    "POTAGY": "2",
                                    "KLIMAS": "i",
                                    "SZALLAS_NEV": "Fortuna panzió"
                                },
                                {
                                    "SZOBA_ID": "48",
                                    "SZALLAS_FK": "5",
                                    "SZOBA_SZAMA": "9",
                                    "FEROHELY": "3",
                                    "POTAGY": "0",
                                    "KLIMAS": "i",
                                    "SZALLAS_NEV": "Fortuna Panzió"
                                },
                                {
                                    "SZOBA_ID": "53",
                                    "SZALLAS_FK": "6",
                                    "SZOBA_SZAMA": "4",
                                    "FEROHELY": "2",
                                    "POTAGY": "1",
                                    "KLIMAS": "i",
                                    "SZALLAS_NEV": "Kentaur Hotel"
                                },
                                {
                                    "SZOBA_ID": "133",
                                    "SZALLAS_FK": "9",
                                    "SZOBA_SZAMA": "4",
                                    "FEROHELY": "3",
                                    "POTAGY": "0",
                                    "KLIMAS": "n",
                                    "SZALLAS_NEV": "Jáde panzió"
                                },
                                {
                                    "SZOBA_ID": "190",
                                    "SZALLAS_FK": "12",
                                    "SZOBA_SZAMA": "26",
                                    "FEROHELY": "2",
                                    "POTAGY": "0",
                                    "KLIMAS": "i",
                                    "SZALLAS_NEV": "Gold Hotel"
                                },
                                {
                                    "SZOBA_ID": "6",
                                    "SZALLAS_FK": "1",
                                    "SZOBA_SZAMA": "6",
                                    "FEROHELY": "3",
                                    "POTAGY": "0",
                                    "KLIMAS": "i",
                                    "SZALLAS_NEV": "Sába-Ház"
                                },
                                {
                                    "SZOBA_ID": "178",
                                    "SZALLAS_FK": "12",
                                    "SZOBA_SZAMA": "14",
                                    "FEROHELY": "3",
                                    "POTAGY": "0",
                                    "KLIMAS": "i",
                                    "SZALLAS_NEV": "Gold Hotel"
                                },
                                {
                                    "SZOBA_ID": "103",
                                    "SZALLAS_FK": "8",
                                    "SZOBA_SZAMA": "13",
                                    "FEROHELY": "2",
                                    "POTAGY": "1",
                                    "KLIMAS": "i",
                                    "SZALLAS_NEV": "Hotel Három Hattyú"
                                },
                                {
                                    "SZOBA_ID": "197",
                                    "SZALLAS_FK": "12",
                                    "SZOBA_SZAMA": "33",
                                    "FEROHELY": "3",
                                    "POTAGY": "0",
                                    "KLIMAS": "i",
                                    "SZALLAS_NEV": "Gold Hotel"
                                },
                                {
                                    "SZOBA_ID": "118",
                                    "SZALLAS_FK": "8",
                                    "SZOBA_SZAMA": "28",
                                    "FEROHELY": "2",
                                    "POTAGY": "1",
                                    "KLIMAS": "i",
                                    "SZALLAS_NEV": "Hotel Három Hattyú"
                                },
                                {
                                    "SZOBA_ID": "83",
                                    "SZALLAS_FK": "6",
                                    "SZOBA_SZAMA": "34",
                                    "FEROHELY": "3",
                                    "POTAGY": "0",
                                    "KLIMAS": "i",
                                    "SZALLAS_NEV": "Kentaur Hotel"
                                },
                                {
                                    "SZOBA_ID": "118",
                                    "SZALLAS_FK": "8",
                                    "SZOBA_SZAMA": "28",
                                    "FEROHELY": "2",
                                    "POTAGY": "1",
                                    "KLIMAS": "i",
                                    "SZALLAS_NEV": "Hotel Három Hattyú"
                                },
                                {
                                    "SZOBA_ID": "82",
                                    "SZALLAS_FK": "6",
                                    "SZOBA_SZAMA": "33",
                                    "FEROHELY": "3",
                                    "POTAGY": "0",
                                    "KLIMAS": "i",
                                    "SZALLAS_NEV": "Kentaur Hotel"
                                },
                                {
                                    "SZOBA_ID": "120",
                                    "SZALLAS_FK": "8",
                                    "SZOBA_SZAMA": "30",
                                    "FEROHELY": "3",
                                    "POTAGY": "1",
                                    "KLIMAS": "i",
                                    "SZALLAS_NEV": "Hotel Három Hattyú"
                                },
                                {
                                    "SZOBA_ID": "132",
                                    "SZALLAS_FK": "9",
                                    "SZOBA_SZAMA": "3",
                                    "FEROHELY": "3",
                                    "POTAGY": "0",
                                    "KLIMAS": "i",
                                    "SZALLAS_NEV": "Jáde panzió"
                                },
                                {
                                    "SZOBA_ID": "73",
                                    "SZALLAS_FK": "6",
                                    "SZOBA_SZAMA": "24",
                                    "FEROHELY": "2",
                                    "POTAGY": "1",
                                    "KLIMAS": "i",
                                    "SZALLAS_NEV": "Kentaur Hotel"
                                },
                                {
                                    "SZOBA_ID": "4",
                                    "SZALLAS_FK": "1",
                                    "SZOBA_SZAMA": "4",
                                    "FEROHELY": "2",
                                    "POTAGY": "1",
                                    "KLIMAS": "i",
                                    "SZALLAS_NEV": "Sába-Ház"
                                },
                                {
                                    "SZOBA_ID": "117",
                                    "SZALLAS_FK": "8",
                                    "SZOBA_SZAMA": "27",
                                    "FEROHELY": "3",
                                    "POTAGY": "1",
                                    "KLIMAS": "i",
                                    "SZALLAS_NEV": "Hotel Három Hattyú"
                                },
                                {
                                    "SZOBA_ID": "36",
                                    "SZALLAS_FK": "4",
                                    "SZOBA_SZAMA": "12",
                                    "FEROHELY": "3",
                                    "POTAGY": "2",
                                    "KLIMAS": "i",
                                    "SZALLAS_NEV": "Fortuna panzió"
                                },
                                {
                                    "SZOBA_ID": "134",
                                    "SZALLAS_FK": "9",
                                    "SZOBA_SZAMA": "5",
                                    "FEROHELY": "3",
                                    "POTAGY": "0",
                                    "KLIMAS": "i",
                                    "SZALLAS_NEV": "Jáde panzió"
                                },
                                {
                                    "SZOBA_ID": "22",
                                    "SZALLAS_FK": "3",
                                    "SZOBA_SZAMA": "6",
                                    "FEROHELY": "3",
                                    "POTAGY": "2",
                                    "KLIMAS": "n",
                                    "SZALLAS_NEV": "Fortuna Apartman"
                                },
                                {
                                    "SZOBA_ID": "70",
                                    "SZALLAS_FK": "6",
                                    "SZOBA_SZAMA": "21",
                                    "FEROHELY": "2",
                                    "POTAGY": "1",
                                    "KLIMAS": "i",
                                    "SZALLAS_NEV": "Kentaur Hotel"
                                },
                                {
                                    "SZOBA_ID": "122",
                                    "SZALLAS_FK": "8",
                                    "SZOBA_SZAMA": "32",
                                    "FEROHELY": "3",
                                    "POTAGY": "1",
                                    "KLIMAS": "i",
                                    "SZALLAS_NEV": "Hotel Három Hattyú"
                                },
                                {
                                    "SZOBA_ID": "182",
                                    "SZALLAS_FK": "12",
                                    "SZOBA_SZAMA": "18",
                                    "FEROHELY": "2",
                                    "POTAGY": "0",
                                    "KLIMAS": "n",
                                    "SZALLAS_NEV": "Gold Hotel"
                                },
                                {
                                    "SZOBA_ID": "71",
                                    "SZALLAS_FK": "6",
                                    "SZOBA_SZAMA": "22",
                                    "FEROHELY": "3",
                                    "POTAGY": "0",
                                    "KLIMAS": "i",
                                    "SZALLAS_NEV": "Kentaur Hotel"
                                },
                                {
                                    "SZOBA_ID": "164",
                                    "SZALLAS_FK": "11",
                                    "SZOBA_SZAMA": "5",
                                    "FEROHELY": "2",
                                    "POTAGY": "0",
                                    "KLIMAS": "i",
                                    "SZALLAS_NEV": "Partiszél Vendégház"
                                },
                                {
                                    "SZOBA_ID": "198",
                                    "SZALLAS_FK": "12",
                                    "SZOBA_SZAMA": "34",
                                    "FEROHELY": "3",
                                    "POTAGY": "0",
                                    "KLIMAS": "i",
                                    "SZALLAS_NEV": "Gold Hotel"
                                },
                                {
                                    "SZOBA_ID": "33",
                                    "SZALLAS_FK": "4",
                                    "SZOBA_SZAMA": "9",
                                    "FEROHELY": "2",
                                    "POTAGY": "2",
                                    "KLIMAS": "i",
                                    "SZALLAS_NEV": "Fortuna panzió"
                                },
                                {
                                    "SZOBA_ID": "75",
                                    "SZALLAS_FK": "6",
                                    "SZOBA_SZAMA": "26",
                                    "FEROHELY": "2",
                                    "POTAGY": "1",
                                    "KLIMAS": "n",
                                    "SZALLAS_NEV": "Kentaur Hotel"
                                },
                                {
                                    "SZOBA_ID": "137",
                                    "SZALLAS_FK": "10",
                                    "SZOBA_SZAMA": "3",
                                    "FEROHELY": "2",
                                    "POTAGY": "1",
                                    "KLIMAS": "i",
                                    "SZALLAS_NEV": "Lagúna Hotel"
                                },
                                {
                                    "SZOBA_ID": "174",
                                    "SZALLAS_FK": "12",
                                    "SZOBA_SZAMA": "10",
                                    "FEROHELY": "2",
                                    "POTAGY": "0",
                                    "KLIMAS": "i",
                                    "SZALLAS_NEV": "Gold Hotel"
                                },
                                {
                                    "SZOBA_ID": "92",
                                    "SZALLAS_FK": "8",
                                    "SZOBA_SZAMA": "2",
                                    "FEROHELY": "3",
                                    "POTAGY": "1",
                                    "KLIMAS": "i",
                                    "SZALLAS_NEV": "Hotel Három Hattyú"
                                },
                                {
                                    "SZOBA_ID": "190",
                                    "SZALLAS_FK": "12",
                                    "SZOBA_SZAMA": "26",
                                    "FEROHELY": "2",
                                    "POTAGY": "0",
                                    "KLIMAS": "i",
                                    "SZALLAS_NEV": "Gold Hotel"
                                },
                                {
                                    "SZOBA_ID": "40",
                                    "SZALLAS_FK": "5",
                                    "SZOBA_SZAMA": "1",
                                    "FEROHELY": "3",
                                    "POTAGY": "0",
                                    "KLIMAS": "i",
                                    "SZALLAS_NEV": "Fortuna Panzió"
                                },
                                {
                                    "SZOBA_ID": "43",
                                    "SZALLAS_FK": "5",
                                    "SZOBA_SZAMA": "4",
                                    "FEROHELY": "3",
                                    "POTAGY": "0",
                                    "KLIMAS": "i",
                                    "SZALLAS_NEV": "Fortuna Panzió"
                                },
                                {
                                    "SZOBA_ID": "12",
                                    "SZALLAS_FK": "1",
                                    "SZOBA_SZAMA": "12",
                                    "FEROHELY": "2",
                                    "POTAGY": "1",
                                    "KLIMAS": "i",
                                    "SZALLAS_NEV": "Sába-Ház"
                                },
                                {
                                    "SZOBA_ID": "179",
                                    "SZALLAS_FK": "12",
                                    "SZOBA_SZAMA": "15",
                                    "FEROHELY": "3",
                                    "POTAGY": "2",
                                    "KLIMAS": "i",
                                    "SZALLAS_NEV": "Gold Hotel"
                                },
                                {
                                    "SZOBA_ID": "181",
                                    "SZALLAS_FK": "12",
                                    "SZOBA_SZAMA": "17",
                                    "FEROHELY": "3",
                                    "POTAGY": "0",
                                    "KLIMAS": "i",
                                    "SZALLAS_NEV": "Gold Hotel"
                                },
                                {
                                    "SZOBA_ID": "30",
                                    "SZALLAS_FK": "4",
                                    "SZOBA_SZAMA": "6",
                                    "FEROHELY": "3",
                                    "POTAGY": "1",
                                    "KLIMAS": "i",
                                    "SZALLAS_NEV": "Fortuna panzió"
                                },
                                {
                                    "SZOBA_ID": "134",
                                    "SZALLAS_FK": "9",
                                    "SZOBA_SZAMA": "5",
                                    "FEROHELY": "3",
                                    "POTAGY": "0",
                                    "KLIMAS": "i",
                                    "SZALLAS_NEV": "Jáde panzió"
                                },
                                {
                                    "SZOBA_ID": "157",
                                    "SZALLAS_FK": "10",
                                    "SZOBA_SZAMA": "23",
                                    "FEROHELY": "2",
                                    "POTAGY": "0",
                                    "KLIMAS": "n",
                                    "SZALLAS_NEV": "Lagúna Hotel"
                                },
                                {
                                    "SZOBA_ID": "119",
                                    "SZALLAS_FK": "8",
                                    "SZOBA_SZAMA": "29",
                                    "FEROHELY": "2",
                                    "POTAGY": "0",
                                    "KLIMAS": "i",
                                    "SZALLAS_NEV": "Hotel Három Hattyú"
                                },
                                {
                                    "SZOBA_ID": "68",
                                    "SZALLAS_FK": "6",
                                    "SZOBA_SZAMA": "19",
                                    "FEROHELY": "2",
                                    "POTAGY": "2",
                                    "KLIMAS": "i",
                                    "SZALLAS_NEV": "Kentaur Hotel"
                                },
                                {
                                    "SZOBA_ID": "15",
                                    "SZALLAS_FK": "2",
                                    "SZOBA_SZAMA": "3",
                                    "FEROHELY": "2",
                                    "POTAGY": "1",
                                    "KLIMAS": "i",
                                    "SZALLAS_NEV": "Családi Ház"
                                },
                                {
                                    "SZOBA_ID": "113",
                                    "SZALLAS_FK": "8",
                                    "SZOBA_SZAMA": "23",
                                    "FEROHELY": "3",
                                    "POTAGY": "2",
                                    "KLIMAS": "i",
                                    "SZALLAS_NEV": "Hotel Három Hattyú"
                                },
                                {
                                    "SZOBA_ID": "188",
                                    "SZALLAS_FK": "12",
                                    "SZOBA_SZAMA": "24",
                                    "FEROHELY": "3",
                                    "POTAGY": "0",
                                    "KLIMAS": "i",
                                    "SZALLAS_NEV": "Gold Hotel"
                                },
                                {
                                    "SZOBA_ID": "27",
                                    "SZALLAS_FK": "4",
                                    "SZOBA_SZAMA": "3",
                                    "FEROHELY": "3",
                                    "POTAGY": "1",
                                    "KLIMAS": "n",
                                    "SZALLAS_NEV": "Fortuna panzió"
                                },
                                {
                                    "SZOBA_ID": "146",
                                    "SZALLAS_FK": "10",
                                    "SZOBA_SZAMA": "12",
                                    "FEROHELY": "3",
                                    "POTAGY": "0",
                                    "KLIMAS": "i",
                                    "SZALLAS_NEV": "Lagúna Hotel"
                                },
                                {
                                    "SZOBA_ID": "38",
                                    "SZALLAS_FK": "4",
                                    "SZOBA_SZAMA": "14",
                                    "FEROHELY": "2",
                                    "POTAGY": "1",
                                    "KLIMAS": "i",
                                    "SZALLAS_NEV": "Fortuna panzió"
                                },
                                {
                                    "SZOBA_ID": "127",
                                    "SZALLAS_FK": "8",
                                    "SZOBA_SZAMA": "37",
                                    "FEROHELY": "2",
                                    "POTAGY": "1",
                                    "KLIMAS": "i",
                                    "SZALLAS_NEV": "Hotel Három Hattyú"
                                },
                                {
                                    "SZOBA_ID": "18",
                                    "SZALLAS_FK": "3",
                                    "SZOBA_SZAMA": "2",
                                    "FEROHELY": "3",
                                    "POTAGY": "2",
                                    "KLIMAS": "n",
                                    "SZALLAS_NEV": "Fortuna Apartman"
                                },
                                {
                                    "SZOBA_ID": "122",
                                    "SZALLAS_FK": "8",
                                    "SZOBA_SZAMA": "32",
                                    "FEROHELY": "3",
                                    "POTAGY": "1",
                                    "KLIMAS": "i",
                                    "SZALLAS_NEV": "Hotel Három Hattyú"
                                },
                                {
                                    "SZOBA_ID": "89",
                                    "SZALLAS_FK": "7",
                                    "SZOBA_SZAMA": "5",
                                    "FEROHELY": "3",
                                    "POTAGY": "0",
                                    "KLIMAS": "i",
                                    "SZALLAS_NEV": "Szieszta Apartmanház"
                                },
                                {
                                    "SZOBA_ID": "3",
                                    "SZALLAS_FK": "1",
                                    "SZOBA_SZAMA": "3",
                                    "FEROHELY": "3",
                                    "POTAGY": "1",
                                    "KLIMAS": "i",
                                    "SZALLAS_NEV": "Sába-Ház"
                                },
                                {
                                    "SZOBA_ID": "191",
                                    "SZALLAS_FK": "12",
                                    "SZOBA_SZAMA": "27",
                                    "FEROHELY": "2",
                                    "POTAGY": "1",
                                    "KLIMAS": "i",
                                    "SZALLAS_NEV": "Gold Hotel"
                                },
                                {
                                    "SZOBA_ID": "130",
                                    "SZALLAS_FK": "9",
                                    "SZOBA_SZAMA": "1",
                                    "FEROHELY": "2",
                                    "POTAGY": "0",
                                    "KLIMAS": "n",
                                    "SZALLAS_NEV": "Jáde panzió"
                                },
                                {
                                    "SZOBA_ID": "110",
                                    "SZALLAS_FK": "8",
                                    "SZOBA_SZAMA": "20",
                                    "FEROHELY": "2",
                                    "POTAGY": "0",
                                    "KLIMAS": "i",
                                    "SZALLAS_NEV": "Hotel Három Hattyú"
                                },
                                {
                                    "SZOBA_ID": "139",
                                    "SZALLAS_FK": "10",
                                    "SZOBA_SZAMA": "5",
                                    "FEROHELY": "2",
                                    "POTAGY": "1",
                                    "KLIMAS": "i",
                                    "SZALLAS_NEV": "Lagúna Hotel"
                                },
                                {
                                    "SZOBA_ID": "193",
                                    "SZALLAS_FK": "12",
                                    "SZOBA_SZAMA": "29",
                                    "FEROHELY": "3",
                                    "POTAGY": "2",
                                    "KLIMAS": "n",
                                    "SZALLAS_NEV": "Gold Hotel"
                                },
                                {
                                    "SZOBA_ID": "13",
                                    "SZALLAS_FK": "2",
                                    "SZOBA_SZAMA": "1",
                                    "FEROHELY": "3",
                                    "POTAGY": "0",
                                    "KLIMAS": "i",
                                    "SZALLAS_NEV": "Családi Ház"
                                },
                                {
                                    "SZOBA_ID": "134",
                                    "SZALLAS_FK": "9",
                                    "SZOBA_SZAMA": "5",
                                    "FEROHELY": "3",
                                    "POTAGY": "0",
                                    "KLIMAS": "i",
                                    "SZALLAS_NEV": "Jáde panzió"
                                },
                                {
                                    "SZOBA_ID": "136",
                                    "SZALLAS_FK": "10",
                                    "SZOBA_SZAMA": "2",
                                    "FEROHELY": "2",
                                    "POTAGY": "0",
                                    "KLIMAS": "n",
                                    "SZALLAS_NEV": "Lagúna Hotel"
                                },
                                {
                                    "SZOBA_ID": "157",
                                    "SZALLAS_FK": "10",
                                    "SZOBA_SZAMA": "23",
                                    "FEROHELY": "2",
                                    "POTAGY": "0",
                                    "KLIMAS": "n",
                                    "SZALLAS_NEV": "Lagúna Hotel"
                                },
                                {
                                    "SZOBA_ID": "95",
                                    "SZALLAS_FK": "8",
                                    "SZOBA_SZAMA": "5",
                                    "FEROHELY": "3",
                                    "POTAGY": "1",
                                    "KLIMAS": "i",
                                    "SZALLAS_NEV": "Hotel Három Hattyú"
                                },
                                {
                                    "SZOBA_ID": "121",
                                    "SZALLAS_FK": "8",
                                    "SZOBA_SZAMA": "31",
                                    "FEROHELY": "2",
                                    "POTAGY": "1",
                                    "KLIMAS": "i",
                                    "SZALLAS_NEV": "Hotel Három Hattyú"
                                },
                                {
                                    "SZOBA_ID": "98",
                                    "SZALLAS_FK": "8",
                                    "SZOBA_SZAMA": "8",
                                    "FEROHELY": "2",
                                    "POTAGY": "0",
                                    "KLIMAS": "n",
                                    "SZALLAS_NEV": "Hotel Három Hattyú"
                                },
                                {
                                    "SZOBA_ID": "2",
                                    "SZALLAS_FK": "1",
                                    "SZOBA_SZAMA": "2",
                                    "FEROHELY": "3",
                                    "POTAGY": "1",
                                    "KLIMAS": "i",
                                    "SZALLAS_NEV": "Sába-Ház"
                                },
                                {
                                    "SZOBA_ID": "25",
                                    "SZALLAS_FK": "4",
                                    "SZOBA_SZAMA": "1",
                                    "FEROHELY": "3",
                                    "POTAGY": "1",
                                    "KLIMAS": "n",
                                    "SZALLAS_NEV": "Fortuna panzió"
                                },
                                {
                                    "SZOBA_ID": "33",
                                    "SZALLAS_FK": "4",
                                    "SZOBA_SZAMA": "9",
                                    "FEROHELY": "2",
                                    "POTAGY": "2",
                                    "KLIMAS": "i",
                                    "SZALLAS_NEV": "Fortuna panzió"
                                },
                                {
                                    "SZOBA_ID": "79",
                                    "SZALLAS_FK": "6",
                                    "SZOBA_SZAMA": "30",
                                    "FEROHELY": "3",
                                    "POTAGY": "0",
                                    "KLIMAS": "i",
                                    "SZALLAS_NEV": "Kentaur Hotel"
                                },
                                {
                                    "SZOBA_ID": "69",
                                    "SZALLAS_FK": "6",
                                    "SZOBA_SZAMA": "20",
                                    "FEROHELY": "3",
                                    "POTAGY": "1",
                                    "KLIMAS": "n",
                                    "SZALLAS_NEV": "Kentaur Hotel"
                                },
                                {
                                    "SZOBA_ID": "47",
                                    "SZALLAS_FK": "5",
                                    "SZOBA_SZAMA": "8",
                                    "FEROHELY": "2",
                                    "POTAGY": "0",
                                    "KLIMAS": "i",
                                    "SZALLAS_NEV": "Fortuna Panzió"
                                },
                                {
                                    "SZOBA_ID": "86",
                                    "SZALLAS_FK": "7",
                                    "SZOBA_SZAMA": "2",
                                    "FEROHELY": "2",
                                    "POTAGY": "1",
                                    "KLIMAS": "i",
                                    "SZALLAS_NEV": "Szieszta Apartmanház"
                                },
                                {
                                    "SZOBA_ID": "151",
                                    "SZALLAS_FK": "10",
                                    "SZOBA_SZAMA": "17",
                                    "FEROHELY": "2",
                                    "POTAGY": "0",
                                    "KLIMAS": "n",
                                    "SZALLAS_NEV": "Lagúna Hotel"
                                },
                                {
                                    "SZOBA_ID": "85",
                                    "SZALLAS_FK": "7",
                                    "SZOBA_SZAMA": "1",
                                    "FEROHELY": "2",
                                    "POTAGY": "1",
                                    "KLIMAS": "n",
                                    "SZALLAS_NEV": "Szieszta Apartmanház"
                                },
                                {
                                    "SZOBA_ID": "38",
                                    "SZALLAS_FK": "4",
                                    "SZOBA_SZAMA": "14",
                                    "FEROHELY": "2",
                                    "POTAGY": "1",
                                    "KLIMAS": "i",
                                    "SZALLAS_NEV": "Fortuna panzió"
                                },
                                {
                                    "SZOBA_ID": "154",
                                    "SZALLAS_FK": "10",
                                    "SZOBA_SZAMA": "20",
                                    "FEROHELY": "2",
                                    "POTAGY": "1",
                                    "KLIMAS": "i",
                                    "SZALLAS_NEV": "Lagúna Hotel"
                                },
                                {
                                    "SZOBA_ID": "122",
                                    "SZALLAS_FK": "8",
                                    "SZOBA_SZAMA": "32",
                                    "FEROHELY": "3",
                                    "POTAGY": "1",
                                    "KLIMAS": "i",
                                    "SZALLAS_NEV": "Hotel Három Hattyú"
                                },
                                {
                                    "SZOBA_ID": "50",
                                    "SZALLAS_FK": "6",
                                    "SZOBA_SZAMA": "1",
                                    "FEROHELY": "2",
                                    "POTAGY": "0",
                                    "KLIMAS": "n",
                                    "SZALLAS_NEV": "Kentaur Hotel"
                                },
                                {
                                    "SZOBA_ID": "139",
                                    "SZALLAS_FK": "10",
                                    "SZOBA_SZAMA": "5",
                                    "FEROHELY": "2",
                                    "POTAGY": "1",
                                    "KLIMAS": "i",
                                    "SZALLAS_NEV": "Lagúna Hotel"
                                },
                                {
                                    "SZOBA_ID": "198",
                                    "SZALLAS_FK": "12",
                                    "SZOBA_SZAMA": "34",
                                    "FEROHELY": "3",
                                    "POTAGY": "0",
                                    "KLIMAS": "i",
                                    "SZALLAS_NEV": "Gold Hotel"
                                },
                                {
                                    "SZOBA_ID": "49",
                                    "SZALLAS_FK": "5",
                                    "SZOBA_SZAMA": "10",
                                    "FEROHELY": "3",
                                    "POTAGY": "0",
                                    "KLIMAS": "i",
                                    "SZALLAS_NEV": "Fortuna Panzió"
                                },
                                {
                                    "SZOBA_ID": "183",
                                    "SZALLAS_FK": "12",
                                    "SZOBA_SZAMA": "19",
                                    "FEROHELY": "3",
                                    "POTAGY": "0",
                                    "KLIMAS": "i",
                                    "SZALLAS_NEV": "Gold Hotel"
                                },
                                {
                                    "SZOBA_ID": "161",
                                    "SZALLAS_FK": "11",
                                    "SZOBA_SZAMA": "2",
                                    "FEROHELY": "2",
                                    "POTAGY": "2",
                                    "KLIMAS": "i",
                                    "SZALLAS_NEV": "Partiszél Vendégház"
                                },
                                {
                                    "SZOBA_ID": "2",
                                    "SZALLAS_FK": "1",
                                    "SZOBA_SZAMA": "2",
                                    "FEROHELY": "3",
                                    "POTAGY": "1",
                                    "KLIMAS": "i",
                                    "SZALLAS_NEV": "Sába-Ház"
                                },
                                {
                                    "SZOBA_ID": "20",
                                    "SZALLAS_FK": "3",
                                    "SZOBA_SZAMA": "4",
                                    "FEROHELY": "3",
                                    "POTAGY": "0",
                                    "KLIMAS": "i",
                                    "SZALLAS_NEV": "Fortuna Apartman"
                                },
                                {
                                    "SZOBA_ID": "80",
                                    "SZALLAS_FK": "6",
                                    "SZOBA_SZAMA": "31",
                                    "FEROHELY": "2",
                                    "POTAGY": "1",
                                    "KLIMAS": "i",
                                    "SZALLAS_NEV": "Kentaur Hotel"
                                },
                                {
                                    "SZOBA_ID": "99",
                                    "SZALLAS_FK": "8",
                                    "SZOBA_SZAMA": "9",
                                    "FEROHELY": "2",
                                    "POTAGY": "0",
                                    "KLIMAS": "n",
                                    "SZALLAS_NEV": "Hotel Három Hattyú"
                                },
                                {
                                    "SZOBA_ID": "5",
                                    "SZALLAS_FK": "1",
                                    "SZOBA_SZAMA": "5",
                                    "FEROHELY": "2",
                                    "POTAGY": "0",
                                    "KLIMAS": "i",
                                    "SZALLAS_NEV": "Sába-Ház"
                                },
                                {
                                    "SZOBA_ID": "195",
                                    "SZALLAS_FK": "12",
                                    "SZOBA_SZAMA": "31",
                                    "FEROHELY": "2",
                                    "POTAGY": "0",
                                    "KLIMAS": "i",
                                    "SZALLAS_NEV": "Gold Hotel"
                                },
                                {
                                    "SZOBA_ID": "163",
                                    "SZALLAS_FK": "11",
                                    "SZOBA_SZAMA": "4",
                                    "FEROHELY": "2",
                                    "POTAGY": "0",
                                    "KLIMAS": "i",
                                    "SZALLAS_NEV": "Partiszél Vendégház"
                                },
                                {
                                    "SZOBA_ID": "29",
                                    "SZALLAS_FK": "4",
                                    "SZOBA_SZAMA": "5",
                                    "FEROHELY": "2",
                                    "POTAGY": "0",
                                    "KLIMAS": "n",
                                    "SZALLAS_NEV": "Fortuna panzió"
                                },
                                {
                                    "SZOBA_ID": "145",
                                    "SZALLAS_FK": "10",
                                    "SZOBA_SZAMA": "11",
                                    "FEROHELY": "2",
                                    "POTAGY": "2",
                                    "KLIMAS": "i",
                                    "SZALLAS_NEV": "Lagúna Hotel"
                                },
                                {
                                    "SZOBA_ID": "38",
                                    "SZALLAS_FK": "4",
                                    "SZOBA_SZAMA": "14",
                                    "FEROHELY": "2",
                                    "POTAGY": "1",
                                    "KLIMAS": "i",
                                    "SZALLAS_NEV": "Fortuna panzió"
                                },
                                {
                                    "SZOBA_ID": "86",
                                    "SZALLAS_FK": "7",
                                    "SZOBA_SZAMA": "2",
                                    "FEROHELY": "2",
                                    "POTAGY": "1",
                                    "KLIMAS": "i",
                                    "SZALLAS_NEV": "Szieszta Apartmanház"
                                },
                                {
                                    "SZOBA_ID": "59",
                                    "SZALLAS_FK": "6",
                                    "SZOBA_SZAMA": "10",
                                    "FEROHELY": "2",
                                    "POTAGY": "1",
                                    "KLIMAS": "n",
                                    "SZALLAS_NEV": "Kentaur Hotel"
                                },
                                {
                                    "SZOBA_ID": "62",
                                    "SZALLAS_FK": "6",
                                    "SZOBA_SZAMA": "13",
                                    "FEROHELY": "2",
                                    "POTAGY": "0",
                                    "KLIMAS": "n",
                                    "SZALLAS_NEV": "Kentaur Hotel"
                                },
                                {
                                    "SZOBA_ID": "27",
                                    "SZALLAS_FK": "4",
                                    "SZOBA_SZAMA": "3",
                                    "FEROHELY": "3",
                                    "POTAGY": "1",
                                    "KLIMAS": "n",
                                    "SZALLAS_NEV": "Fortuna panzió"
                                },
                                {
                                    "SZOBA_ID": "109",
                                    "SZALLAS_FK": "8",
                                    "SZOBA_SZAMA": "19",
                                    "FEROHELY": "2",
                                    "POTAGY": "1",
                                    "KLIMAS": "i",
                                    "SZALLAS_NEV": "Hotel Három Hattyú"
                                },
                                {
                                    "SZOBA_ID": "59",
                                    "SZALLAS_FK": "6",
                                    "SZOBA_SZAMA": "10",
                                    "FEROHELY": "2",
                                    "POTAGY": "1",
                                    "KLIMAS": "n",
                                    "SZALLAS_NEV": "Kentaur Hotel"
                                },
                                {
                                    "SZOBA_ID": "113",
                                    "SZALLAS_FK": "8",
                                    "SZOBA_SZAMA": "23",
                                    "FEROHELY": "3",
                                    "POTAGY": "2",
                                    "KLIMAS": "i",
                                    "SZALLAS_NEV": "Hotel Három Hattyú"
                                },
                                {
                                    "SZOBA_ID": "55",
                                    "SZALLAS_FK": "6",
                                    "SZOBA_SZAMA": "6",
                                    "FEROHELY": "2",
                                    "POTAGY": "1",
                                    "KLIMAS": "i",
                                    "SZALLAS_NEV": "Kentaur Hotel"
                                },
                                {
                                    "SZOBA_ID": "144",
                                    "SZALLAS_FK": "10",
                                    "SZOBA_SZAMA": "10",
                                    "FEROHELY": "3",
                                    "POTAGY": "1",
                                    "KLIMAS": "n",
                                    "SZALLAS_NEV": "Lagúna Hotel"
                                },
                                {
                                    "SZOBA_ID": "43",
                                    "SZALLAS_FK": "5",
                                    "SZOBA_SZAMA": "4",
                                    "FEROHELY": "3",
                                    "POTAGY": "0",
                                    "KLIMAS": "i",
                                    "SZALLAS_NEV": "Fortuna Panzió"
                                },
                                {
                                    "SZOBA_ID": "120",
                                    "SZALLAS_FK": "8",
                                    "SZOBA_SZAMA": "30",
                                    "FEROHELY": "3",
                                    "POTAGY": "1",
                                    "KLIMAS": "i",
                                    "SZALLAS_NEV": "Hotel Három Hattyú"
                                },
                                {
                                    "SZOBA_ID": "132",
                                    "SZALLAS_FK": "9",
                                    "SZOBA_SZAMA": "3",
                                    "FEROHELY": "3",
                                    "POTAGY": "0",
                                    "KLIMAS": "i",
                                    "SZALLAS_NEV": "Jáde panzió"
                                },
                                {
                                    "SZOBA_ID": "197",
                                    "SZALLAS_FK": "12",
                                    "SZOBA_SZAMA": "33",
                                    "FEROHELY": "3",
                                    "POTAGY": "0",
                                    "KLIMAS": "i",
                                    "SZALLAS_NEV": "Gold Hotel"
                                },
                                {
                                    "SZOBA_ID": "70",
                                    "SZALLAS_FK": "6",
                                    "SZOBA_SZAMA": "21",
                                    "FEROHELY": "2",
                                    "POTAGY": "1",
                                    "KLIMAS": "i",
                                    "SZALLAS_NEV": "Kentaur Hotel"
                                },
                                {
                                    "SZOBA_ID": "74",
                                    "SZALLAS_FK": "6",
                                    "SZOBA_SZAMA": "25",
                                    "FEROHELY": "3",
                                    "POTAGY": "1",
                                    "KLIMAS": "n",
                                    "SZALLAS_NEV": "Kentaur Hotel"
                                },
                                {
                                    "SZOBA_ID": "175",
                                    "SZALLAS_FK": "12",
                                    "SZOBA_SZAMA": "11",
                                    "FEROHELY": "2",
                                    "POTAGY": "0",
                                    "KLIMAS": "i",
                                    "SZALLAS_NEV": "Gold Hotel"
                                },
                                {
                                    "SZOBA_ID": "194",
                                    "SZALLAS_FK": "12",
                                    "SZOBA_SZAMA": "30",
                                    "FEROHELY": "2",
                                    "POTAGY": "1",
                                    "KLIMAS": "i",
                                    "SZALLAS_NEV": "Gold Hotel"
                                },
                                {
                                    "SZOBA_ID": "54",
                                    "SZALLAS_FK": "6",
                                    "SZOBA_SZAMA": "5",
                                    "FEROHELY": "3",
                                    "POTAGY": "0",
                                    "KLIMAS": "n",
                                    "SZALLAS_NEV": "Kentaur Hotel"
                                },
                                {
                                    "SZOBA_ID": "95",
                                    "SZALLAS_FK": "8",
                                    "SZOBA_SZAMA": "5",
                                    "FEROHELY": "3",
                                    "POTAGY": "1",
                                    "KLIMAS": "i",
                                    "SZALLAS_NEV": "Hotel Három Hattyú"
                                },
                                {
                                    "SZOBA_ID": "140",
                                    "SZALLAS_FK": "10",
                                    "SZOBA_SZAMA": "6",
                                    "FEROHELY": "2",
                                    "POTAGY": "1",
                                    "KLIMAS": "i",
                                    "SZALLAS_NEV": "Lagúna Hotel"
                                },
                                {
                                    "SZOBA_ID": "6",
                                    "SZALLAS_FK": "1",
                                    "SZOBA_SZAMA": "6",
                                    "FEROHELY": "3",
                                    "POTAGY": "0",
                                    "KLIMAS": "i",
                                    "SZALLAS_NEV": "Sába-Ház"
                                },
                                {
                                    "SZOBA_ID": "150",
                                    "SZALLAS_FK": "10",
                                    "SZOBA_SZAMA": "16",
                                    "FEROHELY": "2",
                                    "POTAGY": "1",
                                    "KLIMAS": "i",
                                    "SZALLAS_NEV": "Lagúna Hotel"
                                },
                                {
                                    "SZOBA_ID": "89",
                                    "SZALLAS_FK": "7",
                                    "SZOBA_SZAMA": "5",
                                    "FEROHELY": "3",
                                    "POTAGY": "0",
                                    "KLIMAS": "i",
                                    "SZALLAS_NEV": "Szieszta Apartmanház"
                                },
                                {
                                    "SZOBA_ID": "108",
                                    "SZALLAS_FK": "8",
                                    "SZOBA_SZAMA": "18",
                                    "FEROHELY": "2",
                                    "POTAGY": "0",
                                    "KLIMAS": "i",
                                    "SZALLAS_NEV": "Hotel Három Hattyú"
                                },
                                {
                                    "SZOBA_ID": "87",
                                    "SZALLAS_FK": "7",
                                    "SZOBA_SZAMA": "3",
                                    "FEROHELY": "3",
                                    "POTAGY": "0",
                                    "KLIMAS": "i",
                                    "SZALLAS_NEV": "Szieszta Apartmanház"
                                },
                                {
                                    "SZOBA_ID": "77",
                                    "SZALLAS_FK": "6",
                                    "SZOBA_SZAMA": "28",
                                    "FEROHELY": "3",
                                    "POTAGY": "1",
                                    "KLIMAS": "i",
                                    "SZALLAS_NEV": "Kentaur Hotel"
                                },
                                {
                                    "SZOBA_ID": "150",
                                    "SZALLAS_FK": "10",
                                    "SZOBA_SZAMA": "16",
                                    "FEROHELY": "2",
                                    "POTAGY": "1",
                                    "KLIMAS": "i",
                                    "SZALLAS_NEV": "Lagúna Hotel"
                                },
                                {
                                    "SZOBA_ID": "20",
                                    "SZALLAS_FK": "3",
                                    "SZOBA_SZAMA": "4",
                                    "FEROHELY": "3",
                                    "POTAGY": "0",
                                    "KLIMAS": "i",
                                    "SZALLAS_NEV": "Fortuna Apartman"
                                },
                                {
                                    "SZOBA_ID": "163",
                                    "SZALLAS_FK": "11",
                                    "SZOBA_SZAMA": "4",
                                    "FEROHELY": "2",
                                    "POTAGY": "0",
                                    "KLIMAS": "i",
                                    "SZALLAS_NEV": "Partiszél Vendégház"
                                },
                                {
                                    "SZOBA_ID": "86",
                                    "SZALLAS_FK": "7",
                                    "SZOBA_SZAMA": "2",
                                    "FEROHELY": "2",
                                    "POTAGY": "1",
                                    "KLIMAS": "i",
                                    "SZALLAS_NEV": "Szieszta Apartmanház"
                                },
                                {
                                    "SZOBA_ID": "110",
                                    "SZALLAS_FK": "8",
                                    "SZOBA_SZAMA": "20",
                                    "FEROHELY": "2",
                                    "POTAGY": "0",
                                    "KLIMAS": "i",
                                    "SZALLAS_NEV": "Hotel Három Hattyú"
                                },
                                {
                                    "SZOBA_ID": "3",
                                    "SZALLAS_FK": "1",
                                    "SZOBA_SZAMA": "3",
                                    "FEROHELY": "3",
                                    "POTAGY": "1",
                                    "KLIMAS": "i",
                                    "SZALLAS_NEV": "Sába-Ház"
                                },
                                {
                                    "SZOBA_ID": "132",
                                    "SZALLAS_FK": "9",
                                    "SZOBA_SZAMA": "3",
                                    "FEROHELY": "3",
                                    "POTAGY": "0",
                                    "KLIMAS": "i",
                                    "SZALLAS_NEV": "Jáde panzió"
                                },
                                {
                                    "SZOBA_ID": "155",
                                    "SZALLAS_FK": "10",
                                    "SZOBA_SZAMA": "21",
                                    "FEROHELY": "3",
                                    "POTAGY": "1",
                                    "KLIMAS": "n",
                                    "SZALLAS_NEV": "Lagúna Hotel"
                                },
                                {
                                    "SZOBA_ID": "58",
                                    "SZALLAS_FK": "6",
                                    "SZOBA_SZAMA": "9",
                                    "FEROHELY": "2",
                                    "POTAGY": "1",
                                    "KLIMAS": "i",
                                    "SZALLAS_NEV": "Kentaur Hotel"
                                },
                                {
                                    "SZOBA_ID": "20",
                                    "SZALLAS_FK": "3",
                                    "SZOBA_SZAMA": "4",
                                    "FEROHELY": "3",
                                    "POTAGY": "0",
                                    "KLIMAS": "i",
                                    "SZALLAS_NEV": "Fortuna Apartman"
                                },
                                {
                                    "SZOBA_ID": "151",
                                    "SZALLAS_FK": "10",
                                    "SZOBA_SZAMA": "17",
                                    "FEROHELY": "2",
                                    "POTAGY": "0",
                                    "KLIMAS": "n",
                                    "SZALLAS_NEV": "Lagúna Hotel"
                                },
                                {
                                    "SZOBA_ID": "198",
                                    "SZALLAS_FK": "12",
                                    "SZOBA_SZAMA": "34",
                                    "FEROHELY": "3",
                                    "POTAGY": "0",
                                    "KLIMAS": "i",
                                    "SZALLAS_NEV": "Gold Hotel"
                                },
                                {
                                    "SZOBA_ID": "158",
                                    "SZALLAS_FK": "10",
                                    "SZOBA_SZAMA": "24",
                                    "FEROHELY": "2",
                                    "POTAGY": "1",
                                    "KLIMAS": "n",
                                    "SZALLAS_NEV": "Lagúna Hotel"
                                },
                                {
                                    "SZOBA_ID": "40",
                                    "SZALLAS_FK": "5",
                                    "SZOBA_SZAMA": "1",
                                    "FEROHELY": "3",
                                    "POTAGY": "0",
                                    "KLIMAS": "i",
                                    "SZALLAS_NEV": "Fortuna Panzió"
                                },
                                {
                                    "SZOBA_ID": "83",
                                    "SZALLAS_FK": "6",
                                    "SZOBA_SZAMA": "34",
                                    "FEROHELY": "3",
                                    "POTAGY": "0",
                                    "KLIMAS": "i",
                                    "SZALLAS_NEV": "Kentaur Hotel"
                                },
                                {
                                    "SZOBA_ID": "145",
                                    "SZALLAS_FK": "10",
                                    "SZOBA_SZAMA": "11",
                                    "FEROHELY": "2",
                                    "POTAGY": "2",
                                    "KLIMAS": "i",
                                    "SZALLAS_NEV": "Lagúna Hotel"
                                },
                                {
                                    "SZOBA_ID": "115",
                                    "SZALLAS_FK": "8",
                                    "SZOBA_SZAMA": "25",
                                    "FEROHELY": "3",
                                    "POTAGY": "0",
                                    "KLIMAS": "i",
                                    "SZALLAS_NEV": "Hotel Három Hattyú"
                                },
                                {
                                    "SZOBA_ID": "64",
                                    "SZALLAS_FK": "6",
                                    "SZOBA_SZAMA": "15",
                                    "FEROHELY": "2",
                                    "POTAGY": "0",
                                    "KLIMAS": "i",
                                    "SZALLAS_NEV": "Kentaur Hotel"
                                },
                                {
                                    "SZOBA_ID": "11",
                                    "SZALLAS_FK": "1",
                                    "SZOBA_SZAMA": "11",
                                    "FEROHELY": "2",
                                    "POTAGY": "1",
                                    "KLIMAS": "i",
                                    "SZALLAS_NEV": "Sába-Ház"
                                },
                                {
                                    "SZOBA_ID": "112",
                                    "SZALLAS_FK": "8",
                                    "SZOBA_SZAMA": "22",
                                    "FEROHELY": "3",
                                    "POTAGY": "0",
                                    "KLIMAS": "i",
                                    "SZALLAS_NEV": "Hotel Három Hattyú"
                                },
                                {
                                    "SZOBA_ID": "185",
                                    "SZALLAS_FK": "12",
                                    "SZOBA_SZAMA": "21",
                                    "FEROHELY": "3",
                                    "POTAGY": "0",
                                    "KLIMAS": "i",
                                    "SZALLAS_NEV": "Gold Hotel"
                                },
                                {
                                    "SZOBA_ID": "70",
                                    "SZALLAS_FK": "6",
                                    "SZOBA_SZAMA": "21",
                                    "FEROHELY": "2",
                                    "POTAGY": "1",
                                    "KLIMAS": "i",
                                    "SZALLAS_NEV": "Kentaur Hotel"
                                },
                                {
                                    "SZOBA_ID": "4",
                                    "SZALLAS_FK": "1",
                                    "SZOBA_SZAMA": "4",
                                    "FEROHELY": "2",
                                    "POTAGY": "1",
                                    "KLIMAS": "i",
                                    "SZALLAS_NEV": "Sába-Ház"
                                },
                                {
                                    "SZOBA_ID": "121",
                                    "SZALLAS_FK": "8",
                                    "SZOBA_SZAMA": "31",
                                    "FEROHELY": "2",
                                    "POTAGY": "1",
                                    "KLIMAS": "i",
                                    "SZALLAS_NEV": "Hotel Három Hattyú"
                                },
                                {
                                    "SZOBA_ID": "15",
                                    "SZALLAS_FK": "2",
                                    "SZOBA_SZAMA": "3",
                                    "FEROHELY": "2",
                                    "POTAGY": "1",
                                    "KLIMAS": "i",
                                    "SZALLAS_NEV": "Családi Ház"
                                },
                                {
                                    "SZOBA_ID": "22",
                                    "SZALLAS_FK": "3",
                                    "SZOBA_SZAMA": "6",
                                    "FEROHELY": "3",
                                    "POTAGY": "2",
                                    "KLIMAS": "n",
                                    "SZALLAS_NEV": "Fortuna Apartman"
                                },
                                {
                                    "SZOBA_ID": "7",
                                    "SZALLAS_FK": "1",
                                    "SZOBA_SZAMA": "7",
                                    "FEROHELY": "2",
                                    "POTAGY": "0",
                                    "KLIMAS": "i",
                                    "SZALLAS_NEV": "Sába-Ház"
                                },
                                {
                                    "SZOBA_ID": "4",
                                    "SZALLAS_FK": "1",
                                    "SZOBA_SZAMA": "4",
                                    "FEROHELY": "2",
                                    "POTAGY": "1",
                                    "KLIMAS": "i",
                                    "SZALLAS_NEV": "Sába-Ház"
                                },
                                {
                                    "SZOBA_ID": "175",
                                    "SZALLAS_FK": "12",
                                    "SZOBA_SZAMA": "11",
                                    "FEROHELY": "2",
                                    "POTAGY": "0",
                                    "KLIMAS": "i",
                                    "SZALLAS_NEV": "Gold Hotel"
                                },
                                {
                                    "SZOBA_ID": "126",
                                    "SZALLAS_FK": "8",
                                    "SZOBA_SZAMA": "36",
                                    "FEROHELY": "2",
                                    "POTAGY": "1",
                                    "KLIMAS": "n",
                                    "SZALLAS_NEV": "Hotel Három Hattyú"
                                },
                                {
                                    "SZOBA_ID": "45",
                                    "SZALLAS_FK": "5",
                                    "SZOBA_SZAMA": "6",
                                    "FEROHELY": "2",
                                    "POTAGY": "0",
                                    "KLIMAS": "n",
                                    "SZALLAS_NEV": "Fortuna Panzió"
                                },
                                {
                                    "SZOBA_ID": "30",
                                    "SZALLAS_FK": "4",
                                    "SZOBA_SZAMA": "6",
                                    "FEROHELY": "3",
                                    "POTAGY": "1",
                                    "KLIMAS": "i",
                                    "SZALLAS_NEV": "Fortuna panzió"
                                },
                                {
                                    "SZOBA_ID": "1",
                                    "SZALLAS_FK": "1",
                                    "SZOBA_SZAMA": "1",
                                    "FEROHELY": "3",
                                    "POTAGY": "0",
                                    "KLIMAS": "n",
                                    "SZALLAS_NEV": "Sába-Ház"
                                },
                                {
                                    "SZOBA_ID": "198",
                                    "SZALLAS_FK": "12",
                                    "SZOBA_SZAMA": "34",
                                    "FEROHELY": "3",
                                    "POTAGY": "0",
                                    "KLIMAS": "i",
                                    "SZALLAS_NEV": "Gold Hotel"
                                },
                                {
                                    "SZOBA_ID": "19",
                                    "SZALLAS_FK": "3",
                                    "SZOBA_SZAMA": "3",
                                    "FEROHELY": "2",
                                    "POTAGY": "1",
                                    "KLIMAS": "i",
                                    "SZALLAS_NEV": "Fortuna Apartman"
                                },
                                {
                                    "SZOBA_ID": "12",
                                    "SZALLAS_FK": "1",
                                    "SZOBA_SZAMA": "12",
                                    "FEROHELY": "2",
                                    "POTAGY": "1",
                                    "KLIMAS": "i",
                                    "SZALLAS_NEV": "Sába-Ház"
                                },
                                {
                                    "SZOBA_ID": "165",
                                    "SZALLAS_FK": "12",
                                    "SZOBA_SZAMA": "1",
                                    "FEROHELY": "2",
                                    "POTAGY": "0",
                                    "KLIMAS": "n",
                                    "SZALLAS_NEV": "Gold Hotel"
                                },
                                {
                                    "SZOBA_ID": "172",
                                    "SZALLAS_FK": "12",
                                    "SZOBA_SZAMA": "8",
                                    "FEROHELY": "2",
                                    "POTAGY": "2",
                                    "KLIMAS": "n",
                                    "SZALLAS_NEV": "Gold Hotel"
                                },
                                {
                                    "SZOBA_ID": "176",
                                    "SZALLAS_FK": "12",
                                    "SZOBA_SZAMA": "12",
                                    "FEROHELY": "3",
                                    "POTAGY": "1",
                                    "KLIMAS": "i",
                                    "SZALLAS_NEV": "Gold Hotel"
                                },
                                {
                                    "SZOBA_ID": "41",
                                    "SZALLAS_FK": "5",
                                    "SZOBA_SZAMA": "2",
                                    "FEROHELY": "3",
                                    "POTAGY": "0",
                                    "KLIMAS": "n",
                                    "SZALLAS_NEV": "Fortuna Panzió"
                                },
                                {
                                    "SZOBA_ID": "145",
                                    "SZALLAS_FK": "10",
                                    "SZOBA_SZAMA": "11",
                                    "FEROHELY": "2",
                                    "POTAGY": "2",
                                    "KLIMAS": "i",
                                    "SZALLAS_NEV": "Lagúna Hotel"
                                },
                                {
                                    "SZOBA_ID": "149",
                                    "SZALLAS_FK": "10",
                                    "SZOBA_SZAMA": "15",
                                    "FEROHELY": "2",
                                    "POTAGY": "0",
                                    "KLIMAS": "i",
                                    "SZALLAS_NEV": "Lagúna Hotel"
                                },
                                {
                                    "SZOBA_ID": "183",
                                    "SZALLAS_FK": "12",
                                    "SZOBA_SZAMA": "19",
                                    "FEROHELY": "3",
                                    "POTAGY": "0",
                                    "KLIMAS": "i",
                                    "SZALLAS_NEV": "Gold Hotel"
                                },
                                {
                                    "SZOBA_ID": "61",
                                    "SZALLAS_FK": "6",
                                    "SZOBA_SZAMA": "12",
                                    "FEROHELY": "3",
                                    "POTAGY": "0",
                                    "KLIMAS": "i",
                                    "SZALLAS_NEV": "Kentaur Hotel"
                                },
                                {
                                    "SZOBA_ID": "133",
                                    "SZALLAS_FK": "9",
                                    "SZOBA_SZAMA": "4",
                                    "FEROHELY": "3",
                                    "POTAGY": "0",
                                    "KLIMAS": "n",
                                    "SZALLAS_NEV": "Jáde panzió"
                                },
                                {
                                    "SZOBA_ID": "28",
                                    "SZALLAS_FK": "4",
                                    "SZOBA_SZAMA": "4",
                                    "FEROHELY": "2",
                                    "POTAGY": "1",
                                    "KLIMAS": "i",
                                    "SZALLAS_NEV": "Fortuna panzió"
                                },
                                {
                                    "SZOBA_ID": "3",
                                    "SZALLAS_FK": "1",
                                    "SZOBA_SZAMA": "3",
                                    "FEROHELY": "3",
                                    "POTAGY": "1",
                                    "KLIMAS": "i",
                                    "SZALLAS_NEV": "Sába-Ház"
                                },
                                {
                                    "SZOBA_ID": "1",
                                    "SZALLAS_FK": "1",
                                    "SZOBA_SZAMA": "1",
                                    "FEROHELY": "3",
                                    "POTAGY": "0",
                                    "KLIMAS": "n",
                                    "SZALLAS_NEV": "Sába-Ház"
                                },
                                {
                                    "SZOBA_ID": "186",
                                    "SZALLAS_FK": "12",
                                    "SZOBA_SZAMA": "22",
                                    "FEROHELY": "2",
                                    "POTAGY": "2",
                                    "KLIMAS": "i",
                                    "SZALLAS_NEV": "Gold Hotel"
                                },
                                {
                                    "SZOBA_ID": "115",
                                    "SZALLAS_FK": "8",
                                    "SZOBA_SZAMA": "25",
                                    "FEROHELY": "3",
                                    "POTAGY": "0",
                                    "KLIMAS": "i",
                                    "SZALLAS_NEV": "Hotel Három Hattyú"
                                },
                                {
                                    "SZOBA_ID": "143",
                                    "SZALLAS_FK": "10",
                                    "SZOBA_SZAMA": "9",
                                    "FEROHELY": "3",
                                    "POTAGY": "1",
                                    "KLIMAS": "i",
                                    "SZALLAS_NEV": "Lagúna Hotel"
                                },
                                {
                                    "SZOBA_ID": "140",
                                    "SZALLAS_FK": "10",
                                    "SZOBA_SZAMA": "6",
                                    "FEROHELY": "2",
                                    "POTAGY": "1",
                                    "KLIMAS": "i",
                                    "SZALLAS_NEV": "Lagúna Hotel"
                                },
                                {
                                    "SZOBA_ID": "9",
                                    "SZALLAS_FK": "1",
                                    "SZOBA_SZAMA": "9",
                                    "FEROHELY": "3",
                                    "POTAGY": "1",
                                    "KLIMAS": "i",
                                    "SZALLAS_NEV": "Sába-Ház"
                                },
                                {
                                    "SZOBA_ID": "26",
                                    "SZALLAS_FK": "4",
                                    "SZOBA_SZAMA": "2",
                                    "FEROHELY": "2",
                                    "POTAGY": "1",
                                    "KLIMAS": "i",
                                    "SZALLAS_NEV": "Fortuna panzió"
                                },
                                {
                                    "SZOBA_ID": "73",
                                    "SZALLAS_FK": "6",
                                    "SZOBA_SZAMA": "24",
                                    "FEROHELY": "2",
                                    "POTAGY": "1",
                                    "KLIMAS": "i",
                                    "SZALLAS_NEV": "Kentaur Hotel"
                                },
                                {
                                    "SZOBA_ID": "152",
                                    "SZALLAS_FK": "10",
                                    "SZOBA_SZAMA": "18",
                                    "FEROHELY": "2",
                                    "POTAGY": "0",
                                    "KLIMAS": "i",
                                    "SZALLAS_NEV": "Lagúna Hotel"
                                },
                                {
                                    "SZOBA_ID": "198",
                                    "SZALLAS_FK": "12",
                                    "SZOBA_SZAMA": "34",
                                    "FEROHELY": "3",
                                    "POTAGY": "0",
                                    "KLIMAS": "i",
                                    "SZALLAS_NEV": "Gold Hotel"
                                },
                                {
                                    "SZOBA_ID": "110",
                                    "SZALLAS_FK": "8",
                                    "SZOBA_SZAMA": "20",
                                    "FEROHELY": "2",
                                    "POTAGY": "0",
                                    "KLIMAS": "i",
                                    "SZALLAS_NEV": "Hotel Három Hattyú"
                                },
                                {
                                    "SZOBA_ID": "55",
                                    "SZALLAS_FK": "6",
                                    "SZOBA_SZAMA": "6",
                                    "FEROHELY": "2",
                                    "POTAGY": "1",
                                    "KLIMAS": "i",
                                    "SZALLAS_NEV": "Kentaur Hotel"
                                },
                                {
                                    "SZOBA_ID": "12",
                                    "SZALLAS_FK": "1",
                                    "SZOBA_SZAMA": "12",
                                    "FEROHELY": "2",
                                    "POTAGY": "1",
                                    "KLIMAS": "i",
                                    "SZALLAS_NEV": "Sába-Ház"
                                },
                                {
                                    "SZOBA_ID": "51",
                                    "SZALLAS_FK": "6",
                                    "SZOBA_SZAMA": "2",
                                    "FEROHELY": "3",
                                    "POTAGY": "1",
                                    "KLIMAS": "i",
                                    "SZALLAS_NEV": "Kentaur Hotel"
                                },
                                {
                                    "SZOBA_ID": "122",
                                    "SZALLAS_FK": "8",
                                    "SZOBA_SZAMA": "32",
                                    "FEROHELY": "3",
                                    "POTAGY": "1",
                                    "KLIMAS": "i",
                                    "SZALLAS_NEV": "Hotel Három Hattyú"
                                },
                                {
                                    "SZOBA_ID": "24",
                                    "SZALLAS_FK": "3",
                                    "SZOBA_SZAMA": "8",
                                    "FEROHELY": "4",
                                    "POTAGY": "1",
                                    "KLIMAS": "i",
                                    "SZALLAS_NEV": "Fortuna Apartman"
                                },
                                {
                                    "SZOBA_ID": "154",
                                    "SZALLAS_FK": "10",
                                    "SZOBA_SZAMA": "20",
                                    "FEROHELY": "2",
                                    "POTAGY": "1",
                                    "KLIMAS": "i",
                                    "SZALLAS_NEV": "Lagúna Hotel"
                                },
                                {
                                    "SZOBA_ID": "93",
                                    "SZALLAS_FK": "8",
                                    "SZOBA_SZAMA": "3",
                                    "FEROHELY": "3",
                                    "POTAGY": "2",
                                    "KLIMAS": "i",
                                    "SZALLAS_NEV": "Hotel Három Hattyú"
                                },
                                {
                                    "SZOBA_ID": "59",
                                    "SZALLAS_FK": "6",
                                    "SZOBA_SZAMA": "10",
                                    "FEROHELY": "2",
                                    "POTAGY": "1",
                                    "KLIMAS": "n",
                                    "SZALLAS_NEV": "Kentaur Hotel"
                                },
                                {
                                    "SZOBA_ID": "172",
                                    "SZALLAS_FK": "12",
                                    "SZOBA_SZAMA": "8",
                                    "FEROHELY": "2",
                                    "POTAGY": "2",
                                    "KLIMAS": "n",
                                    "SZALLAS_NEV": "Gold Hotel"
                                },
                                {
                                    "SZOBA_ID": "197",
                                    "SZALLAS_FK": "12",
                                    "SZOBA_SZAMA": "33",
                                    "FEROHELY": "3",
                                    "POTAGY": "0",
                                    "KLIMAS": "i",
                                    "SZALLAS_NEV": "Gold Hotel"
                                },
                                {
                                    "SZOBA_ID": "18",
                                    "SZALLAS_FK": "3",
                                    "SZOBA_SZAMA": "2",
                                    "FEROHELY": "3",
                                    "POTAGY": "2",
                                    "KLIMAS": "n",
                                    "SZALLAS_NEV": "Fortuna Apartman"
                                },
                                {
                                    "SZOBA_ID": "90",
                                    "SZALLAS_FK": "7",
                                    "SZOBA_SZAMA": "6",
                                    "FEROHELY": "3",
                                    "POTAGY": "0",
                                    "KLIMAS": "i",
                                    "SZALLAS_NEV": "Szieszta Apartmanház"
                                },
                                {
                                    "SZOBA_ID": "7",
                                    "SZALLAS_FK": "1",
                                    "SZOBA_SZAMA": "7",
                                    "FEROHELY": "2",
                                    "POTAGY": "0",
                                    "KLIMAS": "i",
                                    "SZALLAS_NEV": "Sába-Ház"
                                },
                                {
                                    "SZOBA_ID": "177",
                                    "SZALLAS_FK": "12",
                                    "SZOBA_SZAMA": "13",
                                    "FEROHELY": "3",
                                    "POTAGY": "2",
                                    "KLIMAS": "i",
                                    "SZALLAS_NEV": "Gold Hotel"
                                },
                                {
                                    "SZOBA_ID": "150",
                                    "SZALLAS_FK": "10",
                                    "SZOBA_SZAMA": "16",
                                    "FEROHELY": "2",
                                    "POTAGY": "1",
                                    "KLIMAS": "i",
                                    "SZALLAS_NEV": "Lagúna Hotel"
                                },
                                {
                                    "SZOBA_ID": "134",
                                    "SZALLAS_FK": "9",
                                    "SZOBA_SZAMA": "5",
                                    "FEROHELY": "3",
                                    "POTAGY": "0",
                                    "KLIMAS": "i",
                                    "SZALLAS_NEV": "Jáde panzió"
                                },
                                {
                                    "SZOBA_ID": "74",
                                    "SZALLAS_FK": "6",
                                    "SZOBA_SZAMA": "25",
                                    "FEROHELY": "3",
                                    "POTAGY": "1",
                                    "KLIMAS": "n",
                                    "SZALLAS_NEV": "Kentaur Hotel"
                                },
                                {
                                    "SZOBA_ID": "104",
                                    "SZALLAS_FK": "8",
                                    "SZOBA_SZAMA": "14",
                                    "FEROHELY": "3",
                                    "POTAGY": "0",
                                    "KLIMAS": "i",
                                    "SZALLAS_NEV": "Hotel Három Hattyú"
                                },
                                {
                                    "SZOBA_ID": "171",
                                    "SZALLAS_FK": "12",
                                    "SZOBA_SZAMA": "7",
                                    "FEROHELY": "2",
                                    "POTAGY": "1",
                                    "KLIMAS": "i",
                                    "SZALLAS_NEV": "Gold Hotel"
                                },
                                {
                                    "SZOBA_ID": "7",
                                    "SZALLAS_FK": "1",
                                    "SZOBA_SZAMA": "7",
                                    "FEROHELY": "2",
                                    "POTAGY": "0",
                                    "KLIMAS": "i",
                                    "SZALLAS_NEV": "Sába-Ház"
                                },
                                {
                                    "SZOBA_ID": "185",
                                    "SZALLAS_FK": "12",
                                    "SZOBA_SZAMA": "21",
                                    "FEROHELY": "3",
                                    "POTAGY": "0",
                                    "KLIMAS": "i",
                                    "SZALLAS_NEV": "Gold Hotel"
                                },
                                {
                                    "SZOBA_ID": "195",
                                    "SZALLAS_FK": "12",
                                    "SZOBA_SZAMA": "31",
                                    "FEROHELY": "2",
                                    "POTAGY": "0",
                                    "KLIMAS": "i",
                                    "SZALLAS_NEV": "Gold Hotel"
                                },
                                {
                                    "SZOBA_ID": "29",
                                    "SZALLAS_FK": "4",
                                    "SZOBA_SZAMA": "5",
                                    "FEROHELY": "2",
                                    "POTAGY": "0",
                                    "KLIMAS": "n",
                                    "SZALLAS_NEV": "Fortuna panzió"
                                },
                                {
                                    "SZOBA_ID": "58",
                                    "SZALLAS_FK": "6",
                                    "SZOBA_SZAMA": "9",
                                    "FEROHELY": "2",
                                    "POTAGY": "1",
                                    "KLIMAS": "i",
                                    "SZALLAS_NEV": "Kentaur Hotel"
                                },
                                {
                                    "SZOBA_ID": "46",
                                    "SZALLAS_FK": "5",
                                    "SZOBA_SZAMA": "7",
                                    "FEROHELY": "3",
                                    "POTAGY": "0",
                                    "KLIMAS": "i",
                                    "SZALLAS_NEV": "Fortuna Panzió"
                                },
                                {
                                    "SZOBA_ID": "182",
                                    "SZALLAS_FK": "12",
                                    "SZOBA_SZAMA": "18",
                                    "FEROHELY": "2",
                                    "POTAGY": "0",
                                    "KLIMAS": "n",
                                    "SZALLAS_NEV": "Gold Hotel"
                                },
                                {
                                    "SZOBA_ID": "89",
                                    "SZALLAS_FK": "7",
                                    "SZOBA_SZAMA": "5",
                                    "FEROHELY": "3",
                                    "POTAGY": "0",
                                    "KLIMAS": "i",
                                    "SZALLAS_NEV": "Szieszta Apartmanház"
                                },
                                {
                                    "SZOBA_ID": "161",
                                    "SZALLAS_FK": "11",
                                    "SZOBA_SZAMA": "2",
                                    "FEROHELY": "2",
                                    "POTAGY": "2",
                                    "KLIMAS": "i",
                                    "SZALLAS_NEV": "Partiszél Vendégház"
                                },
                                {
                                    "SZOBA_ID": "59",
                                    "SZALLAS_FK": "6",
                                    "SZOBA_SZAMA": "10",
                                    "FEROHELY": "2",
                                    "POTAGY": "1",
                                    "KLIMAS": "n",
                                    "SZALLAS_NEV": "Kentaur Hotel"
                                },
                                {
                                    "SZOBA_ID": "117",
                                    "SZALLAS_FK": "8",
                                    "SZOBA_SZAMA": "27",
                                    "FEROHELY": "3",
                                    "POTAGY": "1",
                                    "KLIMAS": "i",
                                    "SZALLAS_NEV": "Hotel Három Hattyú"
                                },
                                {
                                    "SZOBA_ID": "143",
                                    "SZALLAS_FK": "10",
                                    "SZOBA_SZAMA": "9",
                                    "FEROHELY": "3",
                                    "POTAGY": "1",
                                    "KLIMAS": "i",
                                    "SZALLAS_NEV": "Lagúna Hotel"
                                },
                                {
                                    "SZOBA_ID": "170",
                                    "SZALLAS_FK": "12",
                                    "SZOBA_SZAMA": "6",
                                    "FEROHELY": "2",
                                    "POTAGY": "0",
                                    "KLIMAS": "i",
                                    "SZALLAS_NEV": "Gold Hotel"
                                },
                                {
                                    "SZOBA_ID": "22",
                                    "SZALLAS_FK": "3",
                                    "SZOBA_SZAMA": "6",
                                    "FEROHELY": "3",
                                    "POTAGY": "2",
                                    "KLIMAS": "n",
                                    "SZALLAS_NEV": "Fortuna Apartman"
                                },
                                {
                                    "SZOBA_ID": "88",
                                    "SZALLAS_FK": "7",
                                    "SZOBA_SZAMA": "4",
                                    "FEROHELY": "3",
                                    "POTAGY": "0",
                                    "KLIMAS": "n",
                                    "SZALLAS_NEV": "Szieszta Apartmanház"
                                },
                                {
                                    "SZOBA_ID": "152",
                                    "SZALLAS_FK": "10",
                                    "SZOBA_SZAMA": "18",
                                    "FEROHELY": "2",
                                    "POTAGY": "0",
                                    "KLIMAS": "i",
                                    "SZALLAS_NEV": "Lagúna Hotel"
                                },
                                {
                                    "SZOBA_ID": "18",
                                    "SZALLAS_FK": "3",
                                    "SZOBA_SZAMA": "2",
                                    "FEROHELY": "3",
                                    "POTAGY": "2",
                                    "KLIMAS": "n",
                                    "SZALLAS_NEV": "Fortuna Apartman"
                                },
                                {
                                    "SZOBA_ID": "144",
                                    "SZALLAS_FK": "10",
                                    "SZOBA_SZAMA": "10",
                                    "FEROHELY": "3",
                                    "POTAGY": "1",
                                    "KLIMAS": "n",
                                    "SZALLAS_NEV": "Lagúna Hotel"
                                },
                                {
                                    "SZOBA_ID": "49",
                                    "SZALLAS_FK": "5",
                                    "SZOBA_SZAMA": "10",
                                    "FEROHELY": "3",
                                    "POTAGY": "0",
                                    "KLIMAS": "i",
                                    "SZALLAS_NEV": "Fortuna Panzió"
                                },
                                {
                                    "SZOBA_ID": "137",
                                    "SZALLAS_FK": "10",
                                    "SZOBA_SZAMA": "3",
                                    "FEROHELY": "2",
                                    "POTAGY": "1",
                                    "KLIMAS": "i",
                                    "SZALLAS_NEV": "Lagúna Hotel"
                                },
                                {
                                    "SZOBA_ID": "52",
                                    "SZALLAS_FK": "6",
                                    "SZOBA_SZAMA": "3",
                                    "FEROHELY": "2",
                                    "POTAGY": "1",
                                    "KLIMAS": "i",
                                    "SZALLAS_NEV": "Kentaur Hotel"
                                },
                                {
                                    "SZOBA_ID": "150",
                                    "SZALLAS_FK": "10",
                                    "SZOBA_SZAMA": "16",
                                    "FEROHELY": "2",
                                    "POTAGY": "1",
                                    "KLIMAS": "i",
                                    "SZALLAS_NEV": "Lagúna Hotel"
                                },
                                {
                                    "SZOBA_ID": "189",
                                    "SZALLAS_FK": "12",
                                    "SZOBA_SZAMA": "25",
                                    "FEROHELY": "2",
                                    "POTAGY": "2",
                                    "KLIMAS": "i",
                                    "SZALLAS_NEV": "Gold Hotel"
                                },
                                {
                                    "SZOBA_ID": "162",
                                    "SZALLAS_FK": "11",
                                    "SZOBA_SZAMA": "3",
                                    "FEROHELY": "3",
                                    "POTAGY": "0",
                                    "KLIMAS": "n",
                                    "SZALLAS_NEV": "Partiszél Vendégház"
                                },
                                {
                                    "SZOBA_ID": "22",
                                    "SZALLAS_FK": "3",
                                    "SZOBA_SZAMA": "6",
                                    "FEROHELY": "3",
                                    "POTAGY": "2",
                                    "KLIMAS": "n",
                                    "SZALLAS_NEV": "Fortuna Apartman"
                                },
                                {
                                    "SZOBA_ID": "43",
                                    "SZALLAS_FK": "5",
                                    "SZOBA_SZAMA": "4",
                                    "FEROHELY": "3",
                                    "POTAGY": "0",
                                    "KLIMAS": "i",
                                    "SZALLAS_NEV": "Fortuna Panzió"
                                },
                                {
                                    "SZOBA_ID": "58",
                                    "SZALLAS_FK": "6",
                                    "SZOBA_SZAMA": "9",
                                    "FEROHELY": "2",
                                    "POTAGY": "1",
                                    "KLIMAS": "i",
                                    "SZALLAS_NEV": "Kentaur Hotel"
                                },
                                {
                                    "SZOBA_ID": "122",
                                    "SZALLAS_FK": "8",
                                    "SZOBA_SZAMA": "32",
                                    "FEROHELY": "3",
                                    "POTAGY": "1",
                                    "KLIMAS": "i",
                                    "SZALLAS_NEV": "Hotel Három Hattyú"
                                },
                                {
                                    "SZOBA_ID": "124",
                                    "SZALLAS_FK": "8",
                                    "SZOBA_SZAMA": "34",
                                    "FEROHELY": "3",
                                    "POTAGY": "0",
                                    "KLIMAS": "n",
                                    "SZALLAS_NEV": "Hotel Három Hattyú"
                                },
                                {
                                    "SZOBA_ID": "178",
                                    "SZALLAS_FK": "12",
                                    "SZOBA_SZAMA": "14",
                                    "FEROHELY": "3",
                                    "POTAGY": "0",
                                    "KLIMAS": "i",
                                    "SZALLAS_NEV": "Gold Hotel"
                                },
                                {
                                    "SZOBA_ID": "21",
                                    "SZALLAS_FK": "3",
                                    "SZOBA_SZAMA": "5",
                                    "FEROHELY": "2",
                                    "POTAGY": "1",
                                    "KLIMAS": "i",
                                    "SZALLAS_NEV": "Fortuna Apartman"
                                },
                                {
                                    "SZOBA_ID": "91",
                                    "SZALLAS_FK": "8",
                                    "SZOBA_SZAMA": "1",
                                    "FEROHELY": "2",
                                    "POTAGY": "0",
                                    "KLIMAS": "n",
                                    "SZALLAS_NEV": "Hotel Három Hattyú"
                                },
                                {
                                    "SZOBA_ID": "39",
                                    "SZALLAS_FK": "4",
                                    "SZOBA_SZAMA": "15",
                                    "FEROHELY": "2",
                                    "POTAGY": "0",
                                    "KLIMAS": "i",
                                    "SZALLAS_NEV": "Fortuna panzió"
                                },
                                {
                                    "SZOBA_ID": "121",
                                    "SZALLAS_FK": "8",
                                    "SZOBA_SZAMA": "31",
                                    "FEROHELY": "2",
                                    "POTAGY": "1",
                                    "KLIMAS": "i",
                                    "SZALLAS_NEV": "Hotel Három Hattyú"
                                },
                                {
                                    "SZOBA_ID": "198",
                                    "SZALLAS_FK": "12",
                                    "SZOBA_SZAMA": "34",
                                    "FEROHELY": "3",
                                    "POTAGY": "0",
                                    "KLIMAS": "i",
                                    "SZALLAS_NEV": "Gold Hotel"
                                },
                                {
                                    "SZOBA_ID": "93",
                                    "SZALLAS_FK": "8",
                                    "SZOBA_SZAMA": "3",
                                    "FEROHELY": "3",
                                    "POTAGY": "2",
                                    "KLIMAS": "i",
                                    "SZALLAS_NEV": "Hotel Három Hattyú"
                                },
                                {
                                    "SZOBA_ID": "61",
                                    "SZALLAS_FK": "6",
                                    "SZOBA_SZAMA": "12",
                                    "FEROHELY": "3",
                                    "POTAGY": "0",
                                    "KLIMAS": "i",
                                    "SZALLAS_NEV": "Kentaur Hotel"
                                },
                                {
                                    "SZOBA_ID": "134",
                                    "SZALLAS_FK": "9",
                                    "SZOBA_SZAMA": "5",
                                    "FEROHELY": "3",
                                    "POTAGY": "0",
                                    "KLIMAS": "i",
                                    "SZALLAS_NEV": "Jáde panzió"
                                },
                                {
                                    "SZOBA_ID": "9",
                                    "SZALLAS_FK": "1",
                                    "SZOBA_SZAMA": "9",
                                    "FEROHELY": "3",
                                    "POTAGY": "1",
                                    "KLIMAS": "i",
                                    "SZALLAS_NEV": "Sába-Ház"
                                },
                                {
                                    "SZOBA_ID": "49",
                                    "SZALLAS_FK": "5",
                                    "SZOBA_SZAMA": "10",
                                    "FEROHELY": "3",
                                    "POTAGY": "0",
                                    "KLIMAS": "i",
                                    "SZALLAS_NEV": "Fortuna Panzió"
                                },
                                {
                                    "SZOBA_ID": "143",
                                    "SZALLAS_FK": "10",
                                    "SZOBA_SZAMA": "9",
                                    "FEROHELY": "3",
                                    "POTAGY": "1",
                                    "KLIMAS": "i",
                                    "SZALLAS_NEV": "Lagúna Hotel"
                                },
                                {
                                    "SZOBA_ID": "123",
                                    "SZALLAS_FK": "8",
                                    "SZOBA_SZAMA": "33",
                                    "FEROHELY": "3",
                                    "POTAGY": "0",
                                    "KLIMAS": "n",
                                    "SZALLAS_NEV": "Hotel Három Hattyú"
                                },
                                {
                                    "SZOBA_ID": "50",
                                    "SZALLAS_FK": "6",
                                    "SZOBA_SZAMA": "1",
                                    "FEROHELY": "2",
                                    "POTAGY": "0",
                                    "KLIMAS": "n",
                                    "SZALLAS_NEV": "Kentaur Hotel"
                                },
                                {
                                    "SZOBA_ID": "69",
                                    "SZALLAS_FK": "6",
                                    "SZOBA_SZAMA": "20",
                                    "FEROHELY": "3",
                                    "POTAGY": "1",
                                    "KLIMAS": "n",
                                    "SZALLAS_NEV": "Kentaur Hotel"
                                },
                                {
                                    "SZOBA_ID": "127",
                                    "SZALLAS_FK": "8",
                                    "SZOBA_SZAMA": "37",
                                    "FEROHELY": "2",
                                    "POTAGY": "1",
                                    "KLIMAS": "i",
                                    "SZALLAS_NEV": "Hotel Három Hattyú"
                                },
                                {
                                    "SZOBA_ID": "43",
                                    "SZALLAS_FK": "5",
                                    "SZOBA_SZAMA": "4",
                                    "FEROHELY": "3",
                                    "POTAGY": "0",
                                    "KLIMAS": "i",
                                    "SZALLAS_NEV": "Fortuna Panzió"
                                },
                                {
                                    "SZOBA_ID": "106",
                                    "SZALLAS_FK": "8",
                                    "SZOBA_SZAMA": "16",
                                    "FEROHELY": "2",
                                    "POTAGY": "0",
                                    "KLIMAS": "i",
                                    "SZALLAS_NEV": "Hotel Három Hattyú"
                                },
                                {
                                    "SZOBA_ID": "79",
                                    "SZALLAS_FK": "6",
                                    "SZOBA_SZAMA": "30",
                                    "FEROHELY": "3",
                                    "POTAGY": "0",
                                    "KLIMAS": "i",
                                    "SZALLAS_NEV": "Kentaur Hotel"
                                },
                                {
                                    "SZOBA_ID": "182",
                                    "SZALLAS_FK": "12",
                                    "SZOBA_SZAMA": "18",
                                    "FEROHELY": "2",
                                    "POTAGY": "0",
                                    "KLIMAS": "n",
                                    "SZALLAS_NEV": "Gold Hotel"
                                },
                                {
                                    "SZOBA_ID": "182",
                                    "SZALLAS_FK": "12",
                                    "SZOBA_SZAMA": "18",
                                    "FEROHELY": "2",
                                    "POTAGY": "0",
                                    "KLIMAS": "n",
                                    "SZALLAS_NEV": "Gold Hotel"
                                },
                                {
                                    "SZOBA_ID": "55",
                                    "SZALLAS_FK": "6",
                                    "SZOBA_SZAMA": "6",
                                    "FEROHELY": "2",
                                    "POTAGY": "1",
                                    "KLIMAS": "i",
                                    "SZALLAS_NEV": "Kentaur Hotel"
                                },
                                {
                                    "SZOBA_ID": "64",
                                    "SZALLAS_FK": "6",
                                    "SZOBA_SZAMA": "15",
                                    "FEROHELY": "2",
                                    "POTAGY": "0",
                                    "KLIMAS": "i",
                                    "SZALLAS_NEV": "Kentaur Hotel"
                                },
                                {
                                    "SZOBA_ID": "66",
                                    "SZALLAS_FK": "6",
                                    "SZOBA_SZAMA": "17",
                                    "FEROHELY": "3",
                                    "POTAGY": "0",
                                    "KLIMAS": "n",
                                    "SZALLAS_NEV": "Kentaur Hotel"
                                },
                                {
                                    "SZOBA_ID": "29",
                                    "SZALLAS_FK": "4",
                                    "SZOBA_SZAMA": "5",
                                    "FEROHELY": "2",
                                    "POTAGY": "0",
                                    "KLIMAS": "n",
                                    "SZALLAS_NEV": "Fortuna panzió"
                                },
                                {
                                    "SZOBA_ID": "11",
                                    "SZALLAS_FK": "1",
                                    "SZOBA_SZAMA": "11",
                                    "FEROHELY": "2",
                                    "POTAGY": "1",
                                    "KLIMAS": "i",
                                    "SZALLAS_NEV": "Sába-Ház"
                                },
                                {
                                    "SZOBA_ID": "19",
                                    "SZALLAS_FK": "3",
                                    "SZOBA_SZAMA": "3",
                                    "FEROHELY": "2",
                                    "POTAGY": "1",
                                    "KLIMAS": "i",
                                    "SZALLAS_NEV": "Fortuna Apartman"
                                },
                                {
                                    "SZOBA_ID": "193",
                                    "SZALLAS_FK": "12",
                                    "SZOBA_SZAMA": "29",
                                    "FEROHELY": "3",
                                    "POTAGY": "2",
                                    "KLIMAS": "n",
                                    "SZALLAS_NEV": "Gold Hotel"
                                },
                                {
                                    "SZOBA_ID": "59",
                                    "SZALLAS_FK": "6",
                                    "SZOBA_SZAMA": "10",
                                    "FEROHELY": "2",
                                    "POTAGY": "1",
                                    "KLIMAS": "n",
                                    "SZALLAS_NEV": "Kentaur Hotel"
                                },
                                {
                                    "SZOBA_ID": "157",
                                    "SZALLAS_FK": "10",
                                    "SZOBA_SZAMA": "23",
                                    "FEROHELY": "2",
                                    "POTAGY": "0",
                                    "KLIMAS": "n",
                                    "SZALLAS_NEV": "Lagúna Hotel"
                                },
                                {
                                    "SZOBA_ID": "94",
                                    "SZALLAS_FK": "8",
                                    "SZOBA_SZAMA": "4",
                                    "FEROHELY": "2",
                                    "POTAGY": "0",
                                    "KLIMAS": "n",
                                    "SZALLAS_NEV": "Hotel Három Hattyú"
                                },
                                {
                                    "SZOBA_ID": "178",
                                    "SZALLAS_FK": "12",
                                    "SZOBA_SZAMA": "14",
                                    "FEROHELY": "3",
                                    "POTAGY": "0",
                                    "KLIMAS": "i",
                                    "SZALLAS_NEV": "Gold Hotel"
                                },
                                {
                                    "SZOBA_ID": "48",
                                    "SZALLAS_FK": "5",
                                    "SZOBA_SZAMA": "9",
                                    "FEROHELY": "3",
                                    "POTAGY": "0",
                                    "KLIMAS": "i",
                                    "SZALLAS_NEV": "Fortuna Panzió"
                                },
                                {
                                    "SZOBA_ID": "15",
                                    "SZALLAS_FK": "2",
                                    "SZOBA_SZAMA": "3",
                                    "FEROHELY": "2",
                                    "POTAGY": "1",
                                    "KLIMAS": "i",
                                    "SZALLAS_NEV": "Családi Ház"
                                },
                                {
                                    "SZOBA_ID": "122",
                                    "SZALLAS_FK": "8",
                                    "SZOBA_SZAMA": "32",
                                    "FEROHELY": "3",
                                    "POTAGY": "1",
                                    "KLIMAS": "i",
                                    "SZALLAS_NEV": "Hotel Három Hattyú"
                                },
                                {
                                    "SZOBA_ID": "69",
                                    "SZALLAS_FK": "6",
                                    "SZOBA_SZAMA": "20",
                                    "FEROHELY": "3",
                                    "POTAGY": "1",
                                    "KLIMAS": "n",
                                    "SZALLAS_NEV": "Kentaur Hotel"
                                },
                                {
                                    "SZOBA_ID": "117",
                                    "SZALLAS_FK": "8",
                                    "SZOBA_SZAMA": "27",
                                    "FEROHELY": "3",
                                    "POTAGY": "1",
                                    "KLIMAS": "i",
                                    "SZALLAS_NEV": "Hotel Három Hattyú"
                                },
                                {
                                    "SZOBA_ID": "186",
                                    "SZALLAS_FK": "12",
                                    "SZOBA_SZAMA": "22",
                                    "FEROHELY": "2",
                                    "POTAGY": "2",
                                    "KLIMAS": "i",
                                    "SZALLAS_NEV": "Gold Hotel"
                                },
                                {
                                    "SZOBA_ID": "168",
                                    "SZALLAS_FK": "12",
                                    "SZOBA_SZAMA": "4",
                                    "FEROHELY": "2",
                                    "POTAGY": "2",
                                    "KLIMAS": "i",
                                    "SZALLAS_NEV": "Gold Hotel"
                                },
                                {
                                    "SZOBA_ID": "107",
                                    "SZALLAS_FK": "8",
                                    "SZOBA_SZAMA": "17",
                                    "FEROHELY": "2",
                                    "POTAGY": "1",
                                    "KLIMAS": "n",
                                    "SZALLAS_NEV": "Hotel Három Hattyú"
                                },
                                {
                                    "SZOBA_ID": "184",
                                    "SZALLAS_FK": "12",
                                    "SZOBA_SZAMA": "20",
                                    "FEROHELY": "2",
                                    "POTAGY": "0",
                                    "KLIMAS": "n",
                                    "SZALLAS_NEV": "Gold Hotel"
                                },
                                {
                                    "SZOBA_ID": "7",
                                    "SZALLAS_FK": "1",
                                    "SZOBA_SZAMA": "7",
                                    "FEROHELY": "2",
                                    "POTAGY": "0",
                                    "KLIMAS": "i",
                                    "SZALLAS_NEV": "Sába-Ház"
                                },
                                {
                                    "SZOBA_ID": "89",
                                    "SZALLAS_FK": "7",
                                    "SZOBA_SZAMA": "5",
                                    "FEROHELY": "3",
                                    "POTAGY": "0",
                                    "KLIMAS": "i",
                                    "SZALLAS_NEV": "Szieszta Apartmanház"
                                },
                                {
                                    "SZOBA_ID": "141",
                                    "SZALLAS_FK": "10",
                                    "SZOBA_SZAMA": "7",
                                    "FEROHELY": "2",
                                    "POTAGY": "0",
                                    "KLIMAS": "n",
                                    "SZALLAS_NEV": "Lagúna Hotel"
                                },
                                {
                                    "SZOBA_ID": "58",
                                    "SZALLAS_FK": "6",
                                    "SZOBA_SZAMA": "9",
                                    "FEROHELY": "2",
                                    "POTAGY": "1",
                                    "KLIMAS": "i",
                                    "SZALLAS_NEV": "Kentaur Hotel"
                                },
                                {
                                    "SZOBA_ID": "138",
                                    "SZALLAS_FK": "10",
                                    "SZOBA_SZAMA": "4",
                                    "FEROHELY": "3",
                                    "POTAGY": "1",
                                    "KLIMAS": "i",
                                    "SZALLAS_NEV": "Lagúna Hotel"
                                },
                                {
                                    "SZOBA_ID": "5",
                                    "SZALLAS_FK": "1",
                                    "SZOBA_SZAMA": "5",
                                    "FEROHELY": "2",
                                    "POTAGY": "0",
                                    "KLIMAS": "i",
                                    "SZALLAS_NEV": "Sába-Ház"
                                },
                                {
                                    "SZOBA_ID": "52",
                                    "SZALLAS_FK": "6",
                                    "SZOBA_SZAMA": "3",
                                    "FEROHELY": "2",
                                    "POTAGY": "1",
                                    "KLIMAS": "i",
                                    "SZALLAS_NEV": "Kentaur Hotel"
                                },
                                {
                                    "SZOBA_ID": "140",
                                    "SZALLAS_FK": "10",
                                    "SZOBA_SZAMA": "6",
                                    "FEROHELY": "2",
                                    "POTAGY": "1",
                                    "KLIMAS": "i",
                                    "SZALLAS_NEV": "Lagúna Hotel"
                                },
                                {
                                    "SZOBA_ID": "9",
                                    "SZALLAS_FK": "1",
                                    "SZOBA_SZAMA": "9",
                                    "FEROHELY": "3",
                                    "POTAGY": "1",
                                    "KLIMAS": "i",
                                    "SZALLAS_NEV": "Sába-Ház"
                                },
                                {
                                    "SZOBA_ID": "58",
                                    "SZALLAS_FK": "6",
                                    "SZOBA_SZAMA": "9",
                                    "FEROHELY": "2",
                                    "POTAGY": "1",
                                    "KLIMAS": "i",
                                    "SZALLAS_NEV": "Kentaur Hotel"
                                },
                                {
                                    "SZOBA_ID": "154",
                                    "SZALLAS_FK": "10",
                                    "SZOBA_SZAMA": "20",
                                    "FEROHELY": "2",
                                    "POTAGY": "1",
                                    "KLIMAS": "i",
                                    "SZALLAS_NEV": "Lagúna Hotel"
                                },
                                {
                                    "SZOBA_ID": "113",
                                    "SZALLAS_FK": "8",
                                    "SZOBA_SZAMA": "23",
                                    "FEROHELY": "3",
                                    "POTAGY": "2",
                                    "KLIMAS": "i",
                                    "SZALLAS_NEV": "Hotel Három Hattyú"
                                },
                                {
                                    "SZOBA_ID": "66",
                                    "SZALLAS_FK": "6",
                                    "SZOBA_SZAMA": "17",
                                    "FEROHELY": "3",
                                    "POTAGY": "0",
                                    "KLIMAS": "n",
                                    "SZALLAS_NEV": "Kentaur Hotel"
                                },
                                {
                                    "SZOBA_ID": "163",
                                    "SZALLAS_FK": "11",
                                    "SZOBA_SZAMA": "4",
                                    "FEROHELY": "2",
                                    "POTAGY": "0",
                                    "KLIMAS": "i",
                                    "SZALLAS_NEV": "Partiszél Vendégház"
                                },
                                {
                                    "SZOBA_ID": "168",
                                    "SZALLAS_FK": "12",
                                    "SZOBA_SZAMA": "4",
                                    "FEROHELY": "2",
                                    "POTAGY": "2",
                                    "KLIMAS": "i",
                                    "SZALLAS_NEV": "Gold Hotel"
                                },
                                {
                                    "SZOBA_ID": "170",
                                    "SZALLAS_FK": "12",
                                    "SZOBA_SZAMA": "6",
                                    "FEROHELY": "2",
                                    "POTAGY": "0",
                                    "KLIMAS": "i",
                                    "SZALLAS_NEV": "Gold Hotel"
                                },
                                {
                                    "SZOBA_ID": "78",
                                    "SZALLAS_FK": "6",
                                    "SZOBA_SZAMA": "29",
                                    "FEROHELY": "2",
                                    "POTAGY": "1",
                                    "KLIMAS": "n",
                                    "SZALLAS_NEV": "Kentaur Hotel"
                                },
                                {
                                    "SZOBA_ID": "89",
                                    "SZALLAS_FK": "7",
                                    "SZOBA_SZAMA": "5",
                                    "FEROHELY": "3",
                                    "POTAGY": "0",
                                    "KLIMAS": "i",
                                    "SZALLAS_NEV": "Szieszta Apartmanház"
                                },
                                {
                                    "SZOBA_ID": "43",
                                    "SZALLAS_FK": "5",
                                    "SZOBA_SZAMA": "4",
                                    "FEROHELY": "3",
                                    "POTAGY": "0",
                                    "KLIMAS": "i",
                                    "SZALLAS_NEV": "Fortuna Panzió"
                                },
                                {
                                    "SZOBA_ID": "106",
                                    "SZALLAS_FK": "8",
                                    "SZOBA_SZAMA": "16",
                                    "FEROHELY": "2",
                                    "POTAGY": "0",
                                    "KLIMAS": "i",
                                    "SZALLAS_NEV": "Hotel Három Hattyú"
                                },
                                {
                                    "SZOBA_ID": "50",
                                    "SZALLAS_FK": "6",
                                    "SZOBA_SZAMA": "1",
                                    "FEROHELY": "2",
                                    "POTAGY": "0",
                                    "KLIMAS": "n",
                                    "SZALLAS_NEV": "Kentaur Hotel"
                                },
                                {
                                    "SZOBA_ID": "88",
                                    "SZALLAS_FK": "7",
                                    "SZOBA_SZAMA": "4",
                                    "FEROHELY": "3",
                                    "POTAGY": "0",
                                    "KLIMAS": "n",
                                    "SZALLAS_NEV": "Szieszta Apartmanház"
                                },
                                {
                                    "SZOBA_ID": "1",
                                    "SZALLAS_FK": "1",
                                    "SZOBA_SZAMA": "1",
                                    "FEROHELY": "3",
                                    "POTAGY": "0",
                                    "KLIMAS": "n",
                                    "SZALLAS_NEV": "Sába-Ház"
                                },
                                {
                                    "SZOBA_ID": "27",
                                    "SZALLAS_FK": "4",
                                    "SZOBA_SZAMA": "3",
                                    "FEROHELY": "3",
                                    "POTAGY": "1",
                                    "KLIMAS": "n",
                                    "SZALLAS_NEV": "Fortuna panzió"
                                },
                                {
                                    "SZOBA_ID": "174",
                                    "SZALLAS_FK": "12",
                                    "SZOBA_SZAMA": "10",
                                    "FEROHELY": "2",
                                    "POTAGY": "0",
                                    "KLIMAS": "i",
                                    "SZALLAS_NEV": "Gold Hotel"
                                },
                                {
                                    "SZOBA_ID": "82",
                                    "SZALLAS_FK": "6",
                                    "SZOBA_SZAMA": "33",
                                    "FEROHELY": "3",
                                    "POTAGY": "0",
                                    "KLIMAS": "i",
                                    "SZALLAS_NEV": "Kentaur Hotel"
                                },
                                {
                                    "SZOBA_ID": "176",
                                    "SZALLAS_FK": "12",
                                    "SZOBA_SZAMA": "12",
                                    "FEROHELY": "3",
                                    "POTAGY": "1",
                                    "KLIMAS": "i",
                                    "SZALLAS_NEV": "Gold Hotel"
                                },
                                {
                                    "SZOBA_ID": "80",
                                    "SZALLAS_FK": "6",
                                    "SZOBA_SZAMA": "31",
                                    "FEROHELY": "2",
                                    "POTAGY": "1",
                                    "KLIMAS": "i",
                                    "SZALLAS_NEV": "Kentaur Hotel"
                                },
                                {
                                    "SZOBA_ID": "137",
                                    "SZALLAS_FK": "10",
                                    "SZOBA_SZAMA": "3",
                                    "FEROHELY": "2",
                                    "POTAGY": "1",
                                    "KLIMAS": "i",
                                    "SZALLAS_NEV": "Lagúna Hotel"
                                },
                                {
                                    "SZOBA_ID": "78",
                                    "SZALLAS_FK": "6",
                                    "SZOBA_SZAMA": "29",
                                    "FEROHELY": "2",
                                    "POTAGY": "1",
                                    "KLIMAS": "n",
                                    "SZALLAS_NEV": "Kentaur Hotel"
                                },
                                {
                                    "SZOBA_ID": "123",
                                    "SZALLAS_FK": "8",
                                    "SZOBA_SZAMA": "33",
                                    "FEROHELY": "3",
                                    "POTAGY": "0",
                                    "KLIMAS": "n",
                                    "SZALLAS_NEV": "Hotel Három Hattyú"
                                },
                                {
                                    "SZOBA_ID": "138",
                                    "SZALLAS_FK": "10",
                                    "SZOBA_SZAMA": "4",
                                    "FEROHELY": "3",
                                    "POTAGY": "1",
                                    "KLIMAS": "i",
                                    "SZALLAS_NEV": "Lagúna Hotel"
                                },
                                {
                                    "SZOBA_ID": "164",
                                    "SZALLAS_FK": "11",
                                    "SZOBA_SZAMA": "5",
                                    "FEROHELY": "2",
                                    "POTAGY": "0",
                                    "KLIMAS": "i",
                                    "SZALLAS_NEV": "Partiszél Vendégház"
                                },
                                {
                                    "SZOBA_ID": "58",
                                    "SZALLAS_FK": "6",
                                    "SZOBA_SZAMA": "9",
                                    "FEROHELY": "2",
                                    "POTAGY": "1",
                                    "KLIMAS": "i",
                                    "SZALLAS_NEV": "Kentaur Hotel"
                                },
                                {
                                    "SZOBA_ID": "127",
                                    "SZALLAS_FK": "8",
                                    "SZOBA_SZAMA": "37",
                                    "FEROHELY": "2",
                                    "POTAGY": "1",
                                    "KLIMAS": "i",
                                    "SZALLAS_NEV": "Hotel Három Hattyú"
                                },
                                {
                                    "SZOBA_ID": "22",
                                    "SZALLAS_FK": "3",
                                    "SZOBA_SZAMA": "6",
                                    "FEROHELY": "3",
                                    "POTAGY": "2",
                                    "KLIMAS": "n",
                                    "SZALLAS_NEV": "Fortuna Apartman"
                                },
                                {
                                    "SZOBA_ID": "59",
                                    "SZALLAS_FK": "6",
                                    "SZOBA_SZAMA": "10",
                                    "FEROHELY": "2",
                                    "POTAGY": "1",
                                    "KLIMAS": "n",
                                    "SZALLAS_NEV": "Kentaur Hotel"
                                },
                                {
                                    "SZOBA_ID": "135",
                                    "SZALLAS_FK": "10",
                                    "SZOBA_SZAMA": "1",
                                    "FEROHELY": "3",
                                    "POTAGY": "0",
                                    "KLIMAS": "i",
                                    "SZALLAS_NEV": "Lagúna Hotel"
                                },
                                {
                                    "SZOBA_ID": "128",
                                    "SZALLAS_FK": "8",
                                    "SZOBA_SZAMA": "38",
                                    "FEROHELY": "2",
                                    "POTAGY": "1",
                                    "KLIMAS": "i",
                                    "SZALLAS_NEV": "Hotel Három Hattyú"
                                },
                                {
                                    "SZOBA_ID": "46",
                                    "SZALLAS_FK": "5",
                                    "SZOBA_SZAMA": "7",
                                    "FEROHELY": "3",
                                    "POTAGY": "0",
                                    "KLIMAS": "i",
                                    "SZALLAS_NEV": "Fortuna Panzió"
                                },
                                {
                                    "SZOBA_ID": "164",
                                    "SZALLAS_FK": "11",
                                    "SZOBA_SZAMA": "5",
                                    "FEROHELY": "2",
                                    "POTAGY": "0",
                                    "KLIMAS": "i",
                                    "SZALLAS_NEV": "Partiszél Vendégház"
                                },
                                {
                                    "SZOBA_ID": "58",
                                    "SZALLAS_FK": "6",
                                    "SZOBA_SZAMA": "9",
                                    "FEROHELY": "2",
                                    "POTAGY": "1",
                                    "KLIMAS": "i",
                                    "SZALLAS_NEV": "Kentaur Hotel"
                                },
                                {
                                    "SZOBA_ID": "138",
                                    "SZALLAS_FK": "10",
                                    "SZOBA_SZAMA": "4",
                                    "FEROHELY": "3",
                                    "POTAGY": "1",
                                    "KLIMAS": "i",
                                    "SZALLAS_NEV": "Lagúna Hotel"
                                },
                                {
                                    "SZOBA_ID": "44",
                                    "SZALLAS_FK": "5",
                                    "SZOBA_SZAMA": "5",
                                    "FEROHELY": "3",
                                    "POTAGY": "0",
                                    "KLIMAS": "i",
                                    "SZALLAS_NEV": "Fortuna Panzió"
                                },
                                {
                                    "SZOBA_ID": "111",
                                    "SZALLAS_FK": "8",
                                    "SZOBA_SZAMA": "21",
                                    "FEROHELY": "2",
                                    "POTAGY": "1",
                                    "KLIMAS": "i",
                                    "SZALLAS_NEV": "Hotel Három Hattyú"
                                },
                                {
                                    "SZOBA_ID": "144",
                                    "SZALLAS_FK": "10",
                                    "SZOBA_SZAMA": "10",
                                    "FEROHELY": "3",
                                    "POTAGY": "1",
                                    "KLIMAS": "n",
                                    "SZALLAS_NEV": "Lagúna Hotel"
                                },
                                {
                                    "SZOBA_ID": "109",
                                    "SZALLAS_FK": "8",
                                    "SZOBA_SZAMA": "19",
                                    "FEROHELY": "2",
                                    "POTAGY": "1",
                                    "KLIMAS": "i",
                                    "SZALLAS_NEV": "Hotel Három Hattyú"
                                },
                                {
                                    "SZOBA_ID": "90",
                                    "SZALLAS_FK": "7",
                                    "SZOBA_SZAMA": "6",
                                    "FEROHELY": "3",
                                    "POTAGY": "0",
                                    "KLIMAS": "i",
                                    "SZALLAS_NEV": "Szieszta Apartmanház"
                                },
                                {
                                    "SZOBA_ID": "88",
                                    "SZALLAS_FK": "7",
                                    "SZOBA_SZAMA": "4",
                                    "FEROHELY": "3",
                                    "POTAGY": "0",
                                    "KLIMAS": "n",
                                    "SZALLAS_NEV": "Szieszta Apartmanház"
                                },
                                {
                                    "SZOBA_ID": "132",
                                    "SZALLAS_FK": "9",
                                    "SZOBA_SZAMA": "3",
                                    "FEROHELY": "3",
                                    "POTAGY": "0",
                                    "KLIMAS": "i",
                                    "SZALLAS_NEV": "Jáde panzió"
                                },
                                {
                                    "SZOBA_ID": "191",
                                    "SZALLAS_FK": "12",
                                    "SZOBA_SZAMA": "27",
                                    "FEROHELY": "2",
                                    "POTAGY": "1",
                                    "KLIMAS": "i",
                                    "SZALLAS_NEV": "Gold Hotel"
                                },
                                {
                                    "SZOBA_ID": "45",
                                    "SZALLAS_FK": "5",
                                    "SZOBA_SZAMA": "6",
                                    "FEROHELY": "2",
                                    "POTAGY": "0",
                                    "KLIMAS": "n",
                                    "SZALLAS_NEV": "Fortuna Panzió"
                                },
                                {
                                    "SZOBA_ID": "197",
                                    "SZALLAS_FK": "12",
                                    "SZOBA_SZAMA": "33",
                                    "FEROHELY": "3",
                                    "POTAGY": "0",
                                    "KLIMAS": "i",
                                    "SZALLAS_NEV": "Gold Hotel"
                                },
                                {
                                    "SZOBA_ID": "94",
                                    "SZALLAS_FK": "8",
                                    "SZOBA_SZAMA": "4",
                                    "FEROHELY": "2",
                                    "POTAGY": "0",
                                    "KLIMAS": "n",
                                    "SZALLAS_NEV": "Hotel Három Hattyú"
                                },
                                {
                                    "SZOBA_ID": "133",
                                    "SZALLAS_FK": "9",
                                    "SZOBA_SZAMA": "4",
                                    "FEROHELY": "3",
                                    "POTAGY": "0",
                                    "KLIMAS": "n",
                                    "SZALLAS_NEV": "Jáde panzió"
                                },
                                {
                                    "SZOBA_ID": "58",
                                    "SZALLAS_FK": "6",
                                    "SZOBA_SZAMA": "9",
                                    "FEROHELY": "2",
                                    "POTAGY": "1",
                                    "KLIMAS": "i",
                                    "SZALLAS_NEV": "Kentaur Hotel"
                                },
                                {
                                    "SZOBA_ID": "182",
                                    "SZALLAS_FK": "12",
                                    "SZOBA_SZAMA": "18",
                                    "FEROHELY": "2",
                                    "POTAGY": "0",
                                    "KLIMAS": "n",
                                    "SZALLAS_NEV": "Gold Hotel"
                                },
                                {
                                    "SZOBA_ID": "42",
                                    "SZALLAS_FK": "5",
                                    "SZOBA_SZAMA": "3",
                                    "FEROHELY": "2",
                                    "POTAGY": "1",
                                    "KLIMAS": "i",
                                    "SZALLAS_NEV": "Fortuna Panzió"
                                },
                                {
                                    "SZOBA_ID": "155",
                                    "SZALLAS_FK": "10",
                                    "SZOBA_SZAMA": "21",
                                    "FEROHELY": "3",
                                    "POTAGY": "1",
                                    "KLIMAS": "n",
                                    "SZALLAS_NEV": "Lagúna Hotel"
                                },
                                {
                                    "SZOBA_ID": "2",
                                    "SZALLAS_FK": "1",
                                    "SZOBA_SZAMA": "2",
                                    "FEROHELY": "3",
                                    "POTAGY": "1",
                                    "KLIMAS": "i",
                                    "SZALLAS_NEV": "Sába-Ház"
                                },
                                {
                                    "SZOBA_ID": "94",
                                    "SZALLAS_FK": "8",
                                    "SZOBA_SZAMA": "4",
                                    "FEROHELY": "2",
                                    "POTAGY": "0",
                                    "KLIMAS": "n",
                                    "SZALLAS_NEV": "Hotel Három Hattyú"
                                },
                                {
                                    "SZOBA_ID": "143",
                                    "SZALLAS_FK": "10",
                                    "SZOBA_SZAMA": "9",
                                    "FEROHELY": "3",
                                    "POTAGY": "1",
                                    "KLIMAS": "i",
                                    "SZALLAS_NEV": "Lagúna Hotel"
                                },
                                {
                                    "SZOBA_ID": "196",
                                    "SZALLAS_FK": "12",
                                    "SZOBA_SZAMA": "32",
                                    "FEROHELY": "2",
                                    "POTAGY": "1",
                                    "KLIMAS": "i",
                                    "SZALLAS_NEV": "Gold Hotel"
                                },
                                {
                                    "SZOBA_ID": "100",
                                    "SZALLAS_FK": "8",
                                    "SZOBA_SZAMA": "10",
                                    "FEROHELY": "2",
                                    "POTAGY": "1",
                                    "KLIMAS": "i",
                                    "SZALLAS_NEV": "Hotel Három Hattyú"
                                },
                                {
                                    "SZOBA_ID": "17",
                                    "SZALLAS_FK": "3",
                                    "SZOBA_SZAMA": "1",
                                    "FEROHELY": "3",
                                    "POTAGY": "1",
                                    "KLIMAS": "i",
                                    "SZALLAS_NEV": "Fortuna Apartman"
                                },
                                {
                                    "SZOBA_ID": "182",
                                    "SZALLAS_FK": "12",
                                    "SZOBA_SZAMA": "18",
                                    "FEROHELY": "2",
                                    "POTAGY": "0",
                                    "KLIMAS": "n",
                                    "SZALLAS_NEV": "Gold Hotel"
                                },
                                {
                                    "SZOBA_ID": "72",
                                    "SZALLAS_FK": "6",
                                    "SZOBA_SZAMA": "23",
                                    "FEROHELY": "2",
                                    "POTAGY": "0",
                                    "KLIMAS": "n",
                                    "SZALLAS_NEV": "Kentaur Hotel"
                                },
                                {
                                    "SZOBA_ID": "10",
                                    "SZALLAS_FK": "1",
                                    "SZOBA_SZAMA": "10",
                                    "FEROHELY": "3",
                                    "POTAGY": "0",
                                    "KLIMAS": "i",
                                    "SZALLAS_NEV": "Sába-Ház"
                                },
                                {
                                    "SZOBA_ID": "85",
                                    "SZALLAS_FK": "7",
                                    "SZOBA_SZAMA": "1",
                                    "FEROHELY": "2",
                                    "POTAGY": "1",
                                    "KLIMAS": "n",
                                    "SZALLAS_NEV": "Szieszta Apartmanház"
                                },
                                {
                                    "SZOBA_ID": "33",
                                    "SZALLAS_FK": "4",
                                    "SZOBA_SZAMA": "9",
                                    "FEROHELY": "2",
                                    "POTAGY": "2",
                                    "KLIMAS": "i",
                                    "SZALLAS_NEV": "Fortuna panzió"
                                },
                                {
                                    "SZOBA_ID": "58",
                                    "SZALLAS_FK": "6",
                                    "SZOBA_SZAMA": "9",
                                    "FEROHELY": "2",
                                    "POTAGY": "1",
                                    "KLIMAS": "i",
                                    "SZALLAS_NEV": "Kentaur Hotel"
                                },
                                {
                                    "SZOBA_ID": "191",
                                    "SZALLAS_FK": "12",
                                    "SZOBA_SZAMA": "27",
                                    "FEROHELY": "2",
                                    "POTAGY": "1",
                                    "KLIMAS": "i",
                                    "SZALLAS_NEV": "Gold Hotel"
                                },
                                {
                                    "SZOBA_ID": "68",
                                    "SZALLAS_FK": "6",
                                    "SZOBA_SZAMA": "19",
                                    "FEROHELY": "2",
                                    "POTAGY": "2",
                                    "KLIMAS": "i",
                                    "SZALLAS_NEV": "Kentaur Hotel"
                                },
                                {
                                    "SZOBA_ID": "70",
                                    "SZALLAS_FK": "6",
                                    "SZOBA_SZAMA": "21",
                                    "FEROHELY": "2",
                                    "POTAGY": "1",
                                    "KLIMAS": "i",
                                    "SZALLAS_NEV": "Kentaur Hotel"
                                },
                                {
                                    "SZOBA_ID": "182",
                                    "SZALLAS_FK": "12",
                                    "SZOBA_SZAMA": "18",
                                    "FEROHELY": "2",
                                    "POTAGY": "0",
                                    "KLIMAS": "n",
                                    "SZALLAS_NEV": "Gold Hotel"
                                },
                                {
                                    "SZOBA_ID": "55",
                                    "SZALLAS_FK": "6",
                                    "SZOBA_SZAMA": "6",
                                    "FEROHELY": "2",
                                    "POTAGY": "1",
                                    "KLIMAS": "i",
                                    "SZALLAS_NEV": "Kentaur Hotel"
                                },
                                {
                                    "SZOBA_ID": "54",
                                    "SZALLAS_FK": "6",
                                    "SZOBA_SZAMA": "5",
                                    "FEROHELY": "3",
                                    "POTAGY": "0",
                                    "KLIMAS": "n",
                                    "SZALLAS_NEV": "Kentaur Hotel"
                                },
                                {
                                    "SZOBA_ID": "171",
                                    "SZALLAS_FK": "12",
                                    "SZOBA_SZAMA": "7",
                                    "FEROHELY": "2",
                                    "POTAGY": "1",
                                    "KLIMAS": "i",
                                    "SZALLAS_NEV": "Gold Hotel"
                                },
                                {
                                    "SZOBA_ID": "124",
                                    "SZALLAS_FK": "8",
                                    "SZOBA_SZAMA": "34",
                                    "FEROHELY": "3",
                                    "POTAGY": "0",
                                    "KLIMAS": "n",
                                    "SZALLAS_NEV": "Hotel Három Hattyú"
                                },
                                {
                                    "SZOBA_ID": "73",
                                    "SZALLAS_FK": "6",
                                    "SZOBA_SZAMA": "24",
                                    "FEROHELY": "2",
                                    "POTAGY": "1",
                                    "KLIMAS": "i",
                                    "SZALLAS_NEV": "Kentaur Hotel"
                                },
                                {
                                    "SZOBA_ID": "101",
                                    "SZALLAS_FK": "8",
                                    "SZOBA_SZAMA": "11",
                                    "FEROHELY": "2",
                                    "POTAGY": "0",
                                    "KLIMAS": "i",
                                    "SZALLAS_NEV": "Hotel Három Hattyú"
                                },
                                {
                                    "SZOBA_ID": "70",
                                    "SZALLAS_FK": "6",
                                    "SZOBA_SZAMA": "21",
                                    "FEROHELY": "2",
                                    "POTAGY": "1",
                                    "KLIMAS": "i",
                                    "SZALLAS_NEV": "Kentaur Hotel"
                                },
                                {
                                    "SZOBA_ID": "1",
                                    "SZALLAS_FK": "1",
                                    "SZOBA_SZAMA": "1",
                                    "FEROHELY": "3",
                                    "POTAGY": "0",
                                    "KLIMAS": "n",
                                    "SZALLAS_NEV": "Sába-Ház"
                                },
                                {
                                    "SZOBA_ID": "37",
                                    "SZALLAS_FK": "4",
                                    "SZOBA_SZAMA": "13",
                                    "FEROHELY": "2",
                                    "POTAGY": "1",
                                    "KLIMAS": "i",
                                    "SZALLAS_NEV": "Fortuna panzió"
                                },
                                {
                                    "SZOBA_ID": "172",
                                    "SZALLAS_FK": "12",
                                    "SZOBA_SZAMA": "8",
                                    "FEROHELY": "2",
                                    "POTAGY": "2",
                                    "KLIMAS": "n",
                                    "SZALLAS_NEV": "Gold Hotel"
                                },
                                {
                                    "SZOBA_ID": "122",
                                    "SZALLAS_FK": "8",
                                    "SZOBA_SZAMA": "32",
                                    "FEROHELY": "3",
                                    "POTAGY": "1",
                                    "KLIMAS": "i",
                                    "SZALLAS_NEV": "Hotel Három Hattyú"
                                },
                                {
                                    "SZOBA_ID": "145",
                                    "SZALLAS_FK": "10",
                                    "SZOBA_SZAMA": "11",
                                    "FEROHELY": "2",
                                    "POTAGY": "2",
                                    "KLIMAS": "i",
                                    "SZALLAS_NEV": "Lagúna Hotel"
                                },
                                {
                                    "SZOBA_ID": "120",
                                    "SZALLAS_FK": "8",
                                    "SZOBA_SZAMA": "30",
                                    "FEROHELY": "3",
                                    "POTAGY": "1",
                                    "KLIMAS": "i",
                                    "SZALLAS_NEV": "Hotel Három Hattyú"
                                },
                                {
                                    "SZOBA_ID": "196",
                                    "SZALLAS_FK": "12",
                                    "SZOBA_SZAMA": "32",
                                    "FEROHELY": "2",
                                    "POTAGY": "1",
                                    "KLIMAS": "i",
                                    "SZALLAS_NEV": "Gold Hotel"
                                },
                                {
                                    "SZOBA_ID": "82",
                                    "SZALLAS_FK": "6",
                                    "SZOBA_SZAMA": "33",
                                    "FEROHELY": "3",
                                    "POTAGY": "0",
                                    "KLIMAS": "i",
                                    "SZALLAS_NEV": "Kentaur Hotel"
                                },
                                {
                                    "SZOBA_ID": "170",
                                    "SZALLAS_FK": "12",
                                    "SZOBA_SZAMA": "6",
                                    "FEROHELY": "2",
                                    "POTAGY": "0",
                                    "KLIMAS": "i",
                                    "SZALLAS_NEV": "Gold Hotel"
                                },
                                {
                                    "SZOBA_ID": "102",
                                    "SZALLAS_FK": "8",
                                    "SZOBA_SZAMA": "12",
                                    "FEROHELY": "2",
                                    "POTAGY": "1",
                                    "KLIMAS": "i",
                                    "SZALLAS_NEV": "Hotel Három Hattyú"
                                },
                                {
                                    "SZOBA_ID": "33",
                                    "SZALLAS_FK": "4",
                                    "SZOBA_SZAMA": "9",
                                    "FEROHELY": "2",
                                    "POTAGY": "2",
                                    "KLIMAS": "i",
                                    "SZALLAS_NEV": "Fortuna panzió"
                                },
                                {
                                    "SZOBA_ID": "79",
                                    "SZALLAS_FK": "6",
                                    "SZOBA_SZAMA": "30",
                                    "FEROHELY": "3",
                                    "POTAGY": "0",
                                    "KLIMAS": "i",
                                    "SZALLAS_NEV": "Kentaur Hotel"
                                },
                                {
                                    "SZOBA_ID": "181",
                                    "SZALLAS_FK": "12",
                                    "SZOBA_SZAMA": "17",
                                    "FEROHELY": "3",
                                    "POTAGY": "0",
                                    "KLIMAS": "i",
                                    "SZALLAS_NEV": "Gold Hotel"
                                },
                                {
                                    "SZOBA_ID": "13",
                                    "SZALLAS_FK": "2",
                                    "SZOBA_SZAMA": "1",
                                    "FEROHELY": "3",
                                    "POTAGY": "0",
                                    "KLIMAS": "i",
                                    "SZALLAS_NEV": "Családi Ház"
                                },
                                {
                                    "SZOBA_ID": "57",
                                    "SZALLAS_FK": "6",
                                    "SZOBA_SZAMA": "8",
                                    "FEROHELY": "2",
                                    "POTAGY": "0",
                                    "KLIMAS": "n",
                                    "SZALLAS_NEV": "Kentaur Hotel"
                                },
                                {
                                    "SZOBA_ID": "87",
                                    "SZALLAS_FK": "7",
                                    "SZOBA_SZAMA": "3",
                                    "FEROHELY": "3",
                                    "POTAGY": "0",
                                    "KLIMAS": "i",
                                    "SZALLAS_NEV": "Szieszta Apartmanház"
                                },
                                {
                                    "SZOBA_ID": "173",
                                    "SZALLAS_FK": "12",
                                    "SZOBA_SZAMA": "9",
                                    "FEROHELY": "2",
                                    "POTAGY": "0",
                                    "KLIMAS": "i",
                                    "SZALLAS_NEV": "Gold Hotel"
                                },
                                {
                                    "SZOBA_ID": "38",
                                    "SZALLAS_FK": "4",
                                    "SZOBA_SZAMA": "14",
                                    "FEROHELY": "2",
                                    "POTAGY": "1",
                                    "KLIMAS": "i",
                                    "SZALLAS_NEV": "Fortuna panzió"
                                },
                                {
                                    "SZOBA_ID": "115",
                                    "SZALLAS_FK": "8",
                                    "SZOBA_SZAMA": "25",
                                    "FEROHELY": "3",
                                    "POTAGY": "0",
                                    "KLIMAS": "i",
                                    "SZALLAS_NEV": "Hotel Három Hattyú"
                                },
                                {
                                    "SZOBA_ID": "111",
                                    "SZALLAS_FK": "8",
                                    "SZOBA_SZAMA": "21",
                                    "FEROHELY": "2",
                                    "POTAGY": "1",
                                    "KLIMAS": "i",
                                    "SZALLAS_NEV": "Hotel Három Hattyú"
                                },
                                {
                                    "SZOBA_ID": "107",
                                    "SZALLAS_FK": "8",
                                    "SZOBA_SZAMA": "17",
                                    "FEROHELY": "2",
                                    "POTAGY": "1",
                                    "KLIMAS": "n",
                                    "SZALLAS_NEV": "Hotel Három Hattyú"
                                },
                                {
                                    "SZOBA_ID": "93",
                                    "SZALLAS_FK": "8",
                                    "SZOBA_SZAMA": "3",
                                    "FEROHELY": "3",
                                    "POTAGY": "2",
                                    "KLIMAS": "i",
                                    "SZALLAS_NEV": "Hotel Három Hattyú"
                                },
                                {
                                    "SZOBA_ID": "169",
                                    "SZALLAS_FK": "12",
                                    "SZOBA_SZAMA": "5",
                                    "FEROHELY": "2",
                                    "POTAGY": "1",
                                    "KLIMAS": "i",
                                    "SZALLAS_NEV": "Gold Hotel"
                                },
                                {
                                    "SZOBA_ID": "140",
                                    "SZALLAS_FK": "10",
                                    "SZOBA_SZAMA": "6",
                                    "FEROHELY": "2",
                                    "POTAGY": "1",
                                    "KLIMAS": "i",
                                    "SZALLAS_NEV": "Lagúna Hotel"
                                },
                                {
                                    "SZOBA_ID": "138",
                                    "SZALLAS_FK": "10",
                                    "SZOBA_SZAMA": "4",
                                    "FEROHELY": "3",
                                    "POTAGY": "1",
                                    "KLIMAS": "i",
                                    "SZALLAS_NEV": "Lagúna Hotel"
                                },
                                {
                                    "SZOBA_ID": "88",
                                    "SZALLAS_FK": "7",
                                    "SZOBA_SZAMA": "4",
                                    "FEROHELY": "3",
                                    "POTAGY": "0",
                                    "KLIMAS": "n",
                                    "SZALLAS_NEV": "Szieszta Apartmanház"
                                },
                                {
                                    "SZOBA_ID": "129",
                                    "SZALLAS_FK": "8",
                                    "SZOBA_SZAMA": "39",
                                    "FEROHELY": "2",
                                    "POTAGY": "1",
                                    "KLIMAS": "i",
                                    "SZALLAS_NEV": "Hotel Három Hattyú"
                                },
                                {
                                    "SZOBA_ID": "140",
                                    "SZALLAS_FK": "10",
                                    "SZOBA_SZAMA": "6",
                                    "FEROHELY": "2",
                                    "POTAGY": "1",
                                    "KLIMAS": "i",
                                    "SZALLAS_NEV": "Lagúna Hotel"
                                },
                                {
                                    "SZOBA_ID": "25",
                                    "SZALLAS_FK": "4",
                                    "SZOBA_SZAMA": "1",
                                    "FEROHELY": "3",
                                    "POTAGY": "1",
                                    "KLIMAS": "n",
                                    "SZALLAS_NEV": "Fortuna panzió"
                                },
                                {
                                    "SZOBA_ID": "133",
                                    "SZALLAS_FK": "9",
                                    "SZOBA_SZAMA": "4",
                                    "FEROHELY": "3",
                                    "POTAGY": "0",
                                    "KLIMAS": "n",
                                    "SZALLAS_NEV": "Jáde panzió"
                                },
                                {
                                    "SZOBA_ID": "126",
                                    "SZALLAS_FK": "8",
                                    "SZOBA_SZAMA": "36",
                                    "FEROHELY": "2",
                                    "POTAGY": "1",
                                    "KLIMAS": "n",
                                    "SZALLAS_NEV": "Hotel Három Hattyú"
                                },
                                {
                                    "SZOBA_ID": "70",
                                    "SZALLAS_FK": "6",
                                    "SZOBA_SZAMA": "21",
                                    "FEROHELY": "2",
                                    "POTAGY": "1",
                                    "KLIMAS": "i",
                                    "SZALLAS_NEV": "Kentaur Hotel"
                                },
                                {
                                    "SZOBA_ID": "81",
                                    "SZALLAS_FK": "6",
                                    "SZOBA_SZAMA": "32",
                                    "FEROHELY": "2",
                                    "POTAGY": "0",
                                    "KLIMAS": "i",
                                    "SZALLAS_NEV": "Kentaur Hotel"
                                },
                                {
                                    "SZOBA_ID": "80",
                                    "SZALLAS_FK": "6",
                                    "SZOBA_SZAMA": "31",
                                    "FEROHELY": "2",
                                    "POTAGY": "1",
                                    "KLIMAS": "i",
                                    "SZALLAS_NEV": "Kentaur Hotel"
                                },
                                {
                                    "SZOBA_ID": "94",
                                    "SZALLAS_FK": "8",
                                    "SZOBA_SZAMA": "4",
                                    "FEROHELY": "2",
                                    "POTAGY": "0",
                                    "KLIMAS": "n",
                                    "SZALLAS_NEV": "Hotel Három Hattyú"
                                },
                                {
                                    "SZOBA_ID": "142",
                                    "SZALLAS_FK": "10",
                                    "SZOBA_SZAMA": "8",
                                    "FEROHELY": "3",
                                    "POTAGY": "0",
                                    "KLIMAS": "n",
                                    "SZALLAS_NEV": "Lagúna Hotel"
                                },
                                {
                                    "SZOBA_ID": "138",
                                    "SZALLAS_FK": "10",
                                    "SZOBA_SZAMA": "4",
                                    "FEROHELY": "3",
                                    "POTAGY": "1",
                                    "KLIMAS": "i",
                                    "SZALLAS_NEV": "Lagúna Hotel"
                                },
                                {
                                    "SZOBA_ID": "140",
                                    "SZALLAS_FK": "10",
                                    "SZOBA_SZAMA": "6",
                                    "FEROHELY": "2",
                                    "POTAGY": "1",
                                    "KLIMAS": "i",
                                    "SZALLAS_NEV": "Lagúna Hotel"
                                },
                                {
                                    "SZOBA_ID": "106",
                                    "SZALLAS_FK": "8",
                                    "SZOBA_SZAMA": "16",
                                    "FEROHELY": "2",
                                    "POTAGY": "0",
                                    "KLIMAS": "i",
                                    "SZALLAS_NEV": "Hotel Három Hattyú"
                                },
                                {
                                    "SZOBA_ID": "121",
                                    "SZALLAS_FK": "8",
                                    "SZOBA_SZAMA": "31",
                                    "FEROHELY": "2",
                                    "POTAGY": "1",
                                    "KLIMAS": "i",
                                    "SZALLAS_NEV": "Hotel Három Hattyú"
                                },
                                {
                                    "SZOBA_ID": "118",
                                    "SZALLAS_FK": "8",
                                    "SZOBA_SZAMA": "28",
                                    "FEROHELY": "2",
                                    "POTAGY": "1",
                                    "KLIMAS": "i",
                                    "SZALLAS_NEV": "Hotel Három Hattyú"
                                },
                                {
                                    "SZOBA_ID": "165",
                                    "SZALLAS_FK": "12",
                                    "SZOBA_SZAMA": "1",
                                    "FEROHELY": "2",
                                    "POTAGY": "0",
                                    "KLIMAS": "n",
                                    "SZALLAS_NEV": "Gold Hotel"
                                },
                                {
                                    "SZOBA_ID": "84",
                                    "SZALLAS_FK": "6",
                                    "SZOBA_SZAMA": "35",
                                    "FEROHELY": "3",
                                    "POTAGY": "0",
                                    "KLIMAS": "i",
                                    "SZALLAS_NEV": "Kentaur Hotel"
                                },
                                {
                                    "SZOBA_ID": "27",
                                    "SZALLAS_FK": "4",
                                    "SZOBA_SZAMA": "3",
                                    "FEROHELY": "3",
                                    "POTAGY": "1",
                                    "KLIMAS": "n",
                                    "SZALLAS_NEV": "Fortuna panzió"
                                },
                                {
                                    "SZOBA_ID": "96",
                                    "SZALLAS_FK": "8",
                                    "SZOBA_SZAMA": "6",
                                    "FEROHELY": "3",
                                    "POTAGY": "0",
                                    "KLIMAS": "n",
                                    "SZALLAS_NEV": "Hotel Három Hattyú"
                                },
                                {
                                    "SZOBA_ID": "83",
                                    "SZALLAS_FK": "6",
                                    "SZOBA_SZAMA": "34",
                                    "FEROHELY": "3",
                                    "POTAGY": "0",
                                    "KLIMAS": "i",
                                    "SZALLAS_NEV": "Kentaur Hotel"
                                },
                                {
                                    "SZOBA_ID": "39",
                                    "SZALLAS_FK": "4",
                                    "SZOBA_SZAMA": "15",
                                    "FEROHELY": "2",
                                    "POTAGY": "0",
                                    "KLIMAS": "i",
                                    "SZALLAS_NEV": "Fortuna panzió"
                                },
                                {
                                    "SZOBA_ID": "33",
                                    "SZALLAS_FK": "4",
                                    "SZOBA_SZAMA": "9",
                                    "FEROHELY": "2",
                                    "POTAGY": "2",
                                    "KLIMAS": "i",
                                    "SZALLAS_NEV": "Fortuna panzió"
                                },
                                {
                                    "SZOBA_ID": "67",
                                    "SZALLAS_FK": "6",
                                    "SZOBA_SZAMA": "18",
                                    "FEROHELY": "2",
                                    "POTAGY": "2",
                                    "KLIMAS": "i",
                                    "SZALLAS_NEV": "Kentaur Hotel"
                                },
                                {
                                    "SZOBA_ID": "176",
                                    "SZALLAS_FK": "12",
                                    "SZOBA_SZAMA": "12",
                                    "FEROHELY": "3",
                                    "POTAGY": "1",
                                    "KLIMAS": "i",
                                    "SZALLAS_NEV": "Gold Hotel"
                                },
                                {
                                    "SZOBA_ID": "84",
                                    "SZALLAS_FK": "6",
                                    "SZOBA_SZAMA": "35",
                                    "FEROHELY": "3",
                                    "POTAGY": "0",
                                    "KLIMAS": "i",
                                    "SZALLAS_NEV": "Kentaur Hotel"
                                },
                                {
                                    "SZOBA_ID": "122",
                                    "SZALLAS_FK": "8",
                                    "SZOBA_SZAMA": "32",
                                    "FEROHELY": "3",
                                    "POTAGY": "1",
                                    "KLIMAS": "i",
                                    "SZALLAS_NEV": "Hotel Három Hattyú"
                                },
                                {
                                    "SZOBA_ID": "55",
                                    "SZALLAS_FK": "6",
                                    "SZOBA_SZAMA": "6",
                                    "FEROHELY": "2",
                                    "POTAGY": "1",
                                    "KLIMAS": "i",
                                    "SZALLAS_NEV": "Kentaur Hotel"
                                },
                                {
                                    "SZOBA_ID": "197",
                                    "SZALLAS_FK": "12",
                                    "SZOBA_SZAMA": "33",
                                    "FEROHELY": "3",
                                    "POTAGY": "0",
                                    "KLIMAS": "i",
                                    "SZALLAS_NEV": "Gold Hotel"
                                },
                                {
                                    "SZOBA_ID": "26",
                                    "SZALLAS_FK": "4",
                                    "SZOBA_SZAMA": "2",
                                    "FEROHELY": "2",
                                    "POTAGY": "1",
                                    "KLIMAS": "i",
                                    "SZALLAS_NEV": "Fortuna panzió"
                                },
                                {
                                    "SZOBA_ID": "57",
                                    "SZALLAS_FK": "6",
                                    "SZOBA_SZAMA": "8",
                                    "FEROHELY": "2",
                                    "POTAGY": "0",
                                    "KLIMAS": "n",
                                    "SZALLAS_NEV": "Kentaur Hotel"
                                },
                                {
                                    "SZOBA_ID": "188",
                                    "SZALLAS_FK": "12",
                                    "SZOBA_SZAMA": "24",
                                    "FEROHELY": "3",
                                    "POTAGY": "0",
                                    "KLIMAS": "i",
                                    "SZALLAS_NEV": "Gold Hotel"
                                },
                                {
                                    "SZOBA_ID": "93",
                                    "SZALLAS_FK": "8",
                                    "SZOBA_SZAMA": "3",
                                    "FEROHELY": "3",
                                    "POTAGY": "2",
                                    "KLIMAS": "i",
                                    "SZALLAS_NEV": "Hotel Három Hattyú"
                                },
                                {
                                    "SZOBA_ID": "108",
                                    "SZALLAS_FK": "8",
                                    "SZOBA_SZAMA": "18",
                                    "FEROHELY": "2",
                                    "POTAGY": "0",
                                    "KLIMAS": "i",
                                    "SZALLAS_NEV": "Hotel Három Hattyú"
                                },
                                {
                                    "SZOBA_ID": "121",
                                    "SZALLAS_FK": "8",
                                    "SZOBA_SZAMA": "31",
                                    "FEROHELY": "2",
                                    "POTAGY": "1",
                                    "KLIMAS": "i",
                                    "SZALLAS_NEV": "Hotel Három Hattyú"
                                },
                                {
                                    "SZOBA_ID": "143",
                                    "SZALLAS_FK": "10",
                                    "SZOBA_SZAMA": "9",
                                    "FEROHELY": "3",
                                    "POTAGY": "1",
                                    "KLIMAS": "i",
                                    "SZALLAS_NEV": "Lagúna Hotel"
                                },
                                {
                                    "SZOBA_ID": "97",
                                    "SZALLAS_FK": "8",
                                    "SZOBA_SZAMA": "7",
                                    "FEROHELY": "3",
                                    "POTAGY": "2",
                                    "KLIMAS": "n",
                                    "SZALLAS_NEV": "Hotel Három Hattyú"
                                },
                                {
                                    "SZOBA_ID": "72",
                                    "SZALLAS_FK": "6",
                                    "SZOBA_SZAMA": "23",
                                    "FEROHELY": "2",
                                    "POTAGY": "0",
                                    "KLIMAS": "n",
                                    "SZALLAS_NEV": "Kentaur Hotel"
                                },
                                {
                                    "SZOBA_ID": "91",
                                    "SZALLAS_FK": "8",
                                    "SZOBA_SZAMA": "1",
                                    "FEROHELY": "2",
                                    "POTAGY": "0",
                                    "KLIMAS": "n",
                                    "SZALLAS_NEV": "Hotel Három Hattyú"
                                },
                                {
                                    "SZOBA_ID": "103",
                                    "SZALLAS_FK": "8",
                                    "SZOBA_SZAMA": "13",
                                    "FEROHELY": "2",
                                    "POTAGY": "1",
                                    "KLIMAS": "i",
                                    "SZALLAS_NEV": "Hotel Három Hattyú"
                                },
                                {
                                    "SZOBA_ID": "89",
                                    "SZALLAS_FK": "7",
                                    "SZOBA_SZAMA": "5",
                                    "FEROHELY": "3",
                                    "POTAGY": "0",
                                    "KLIMAS": "i",
                                    "SZALLAS_NEV": "Szieszta Apartmanház"
                                },
                                {
                                    "SZOBA_ID": "162",
                                    "SZALLAS_FK": "11",
                                    "SZOBA_SZAMA": "3",
                                    "FEROHELY": "3",
                                    "POTAGY": "0",
                                    "KLIMAS": "n",
                                    "SZALLAS_NEV": "Partiszél Vendégház"
                                },
                                {
                                    "SZOBA_ID": "141",
                                    "SZALLAS_FK": "10",
                                    "SZOBA_SZAMA": "7",
                                    "FEROHELY": "2",
                                    "POTAGY": "0",
                                    "KLIMAS": "n",
                                    "SZALLAS_NEV": "Lagúna Hotel"
                                },
                                {
                                    "SZOBA_ID": "98",
                                    "SZALLAS_FK": "8",
                                    "SZOBA_SZAMA": "8",
                                    "FEROHELY": "2",
                                    "POTAGY": "0",
                                    "KLIMAS": "n",
                                    "SZALLAS_NEV": "Hotel Három Hattyú"
                                },
                                {
                                    "SZOBA_ID": "124",
                                    "SZALLAS_FK": "8",
                                    "SZOBA_SZAMA": "34",
                                    "FEROHELY": "3",
                                    "POTAGY": "0",
                                    "KLIMAS": "n",
                                    "SZALLAS_NEV": "Hotel Három Hattyú"
                                },
                                {
                                    "SZOBA_ID": "187",
                                    "SZALLAS_FK": "12",
                                    "SZOBA_SZAMA": "23",
                                    "FEROHELY": "3",
                                    "POTAGY": "1",
                                    "KLIMAS": "i",
                                    "SZALLAS_NEV": "Gold Hotel"
                                },
                                {
                                    "SZOBA_ID": "90",
                                    "SZALLAS_FK": "7",
                                    "SZOBA_SZAMA": "6",
                                    "FEROHELY": "3",
                                    "POTAGY": "0",
                                    "KLIMAS": "i",
                                    "SZALLAS_NEV": "Szieszta Apartmanház"
                                },
                                {
                                    "SZOBA_ID": "82",
                                    "SZALLAS_FK": "6",
                                    "SZOBA_SZAMA": "33",
                                    "FEROHELY": "3",
                                    "POTAGY": "0",
                                    "KLIMAS": "i",
                                    "SZALLAS_NEV": "Kentaur Hotel"
                                },
                                {
                                    "SZOBA_ID": "175",
                                    "SZALLAS_FK": "12",
                                    "SZOBA_SZAMA": "11",
                                    "FEROHELY": "2",
                                    "POTAGY": "0",
                                    "KLIMAS": "i",
                                    "SZALLAS_NEV": "Gold Hotel"
                                },
                                {
                                    "SZOBA_ID": "99",
                                    "SZALLAS_FK": "8",
                                    "SZOBA_SZAMA": "9",
                                    "FEROHELY": "2",
                                    "POTAGY": "0",
                                    "KLIMAS": "n",
                                    "SZALLAS_NEV": "Hotel Három Hattyú"
                                },
                                {
                                    "SZOBA_ID": "133",
                                    "SZALLAS_FK": "9",
                                    "SZOBA_SZAMA": "4",
                                    "FEROHELY": "3",
                                    "POTAGY": "0",
                                    "KLIMAS": "n",
                                    "SZALLAS_NEV": "Jáde panzió"
                                },
                                {
                                    "SZOBA_ID": "182",
                                    "SZALLAS_FK": "12",
                                    "SZOBA_SZAMA": "18",
                                    "FEROHELY": "2",
                                    "POTAGY": "0",
                                    "KLIMAS": "n",
                                    "SZALLAS_NEV": "Gold Hotel"
                                },
                                {
                                    "SZOBA_ID": "35",
                                    "SZALLAS_FK": "4",
                                    "SZOBA_SZAMA": "11",
                                    "FEROHELY": "3",
                                    "POTAGY": "0",
                                    "KLIMAS": "i",
                                    "SZALLAS_NEV": "Fortuna panzió"
                                },
                                {
                                    "SZOBA_ID": "75",
                                    "SZALLAS_FK": "6",
                                    "SZOBA_SZAMA": "26",
                                    "FEROHELY": "2",
                                    "POTAGY": "1",
                                    "KLIMAS": "n",
                                    "SZALLAS_NEV": "Kentaur Hotel"
                                },
                                {
                                    "SZOBA_ID": "119",
                                    "SZALLAS_FK": "8",
                                    "SZOBA_SZAMA": "29",
                                    "FEROHELY": "2",
                                    "POTAGY": "0",
                                    "KLIMAS": "i",
                                    "SZALLAS_NEV": "Hotel Három Hattyú"
                                },
                                {
                                    "SZOBA_ID": "167",
                                    "SZALLAS_FK": "12",
                                    "SZOBA_SZAMA": "3",
                                    "FEROHELY": "3",
                                    "POTAGY": "0",
                                    "KLIMAS": "i",
                                    "SZALLAS_NEV": "Gold Hotel"
                                },
                                {
                                    "SZOBA_ID": "24",
                                    "SZALLAS_FK": "3",
                                    "SZOBA_SZAMA": "8",
                                    "FEROHELY": "4",
                                    "POTAGY": "1",
                                    "KLIMAS": "i",
                                    "SZALLAS_NEV": "Fortuna Apartman"
                                },
                                {
                                    "SZOBA_ID": "38",
                                    "SZALLAS_FK": "4",
                                    "SZOBA_SZAMA": "14",
                                    "FEROHELY": "2",
                                    "POTAGY": "1",
                                    "KLIMAS": "i",
                                    "SZALLAS_NEV": "Fortuna panzió"
                                },
                                {
                                    "SZOBA_ID": "97",
                                    "SZALLAS_FK": "8",
                                    "SZOBA_SZAMA": "7",
                                    "FEROHELY": "3",
                                    "POTAGY": "2",
                                    "KLIMAS": "n",
                                    "SZALLAS_NEV": "Hotel Három Hattyú"
                                },
                                {
                                    "SZOBA_ID": "15",
                                    "SZALLAS_FK": "2",
                                    "SZOBA_SZAMA": "3",
                                    "FEROHELY": "2",
                                    "POTAGY": "1",
                                    "KLIMAS": "i",
                                    "SZALLAS_NEV": "Családi Ház"
                                },
                                {
                                    "SZOBA_ID": "124",
                                    "SZALLAS_FK": "8",
                                    "SZOBA_SZAMA": "34",
                                    "FEROHELY": "3",
                                    "POTAGY": "0",
                                    "KLIMAS": "n",
                                    "SZALLAS_NEV": "Hotel Három Hattyú"
                                },
                                {
                                    "SZOBA_ID": "198",
                                    "SZALLAS_FK": "12",
                                    "SZOBA_SZAMA": "34",
                                    "FEROHELY": "3",
                                    "POTAGY": "0",
                                    "KLIMAS": "i",
                                    "SZALLAS_NEV": "Gold Hotel"
                                },
                                {
                                    "SZOBA_ID": "172",
                                    "SZALLAS_FK": "12",
                                    "SZOBA_SZAMA": "8",
                                    "FEROHELY": "2",
                                    "POTAGY": "2",
                                    "KLIMAS": "n",
                                    "SZALLAS_NEV": "Gold Hotel"
                                },
                                {
                                    "SZOBA_ID": "182",
                                    "SZALLAS_FK": "12",
                                    "SZOBA_SZAMA": "18",
                                    "FEROHELY": "2",
                                    "POTAGY": "0",
                                    "KLIMAS": "n",
                                    "SZALLAS_NEV": "Gold Hotel"
                                },
                                {
                                    "SZOBA_ID": "9",
                                    "SZALLAS_FK": "1",
                                    "SZOBA_SZAMA": "9",
                                    "FEROHELY": "3",
                                    "POTAGY": "1",
                                    "KLIMAS": "i",
                                    "SZALLAS_NEV": "Sába-Ház"
                                },
                                {
                                    "SZOBA_ID": "110",
                                    "SZALLAS_FK": "8",
                                    "SZOBA_SZAMA": "20",
                                    "FEROHELY": "2",
                                    "POTAGY": "0",
                                    "KLIMAS": "i",
                                    "SZALLAS_NEV": "Hotel Három Hattyú"
                                },
                                {
                                    "SZOBA_ID": "44",
                                    "SZALLAS_FK": "5",
                                    "SZOBA_SZAMA": "5",
                                    "FEROHELY": "3",
                                    "POTAGY": "0",
                                    "KLIMAS": "i",
                                    "SZALLAS_NEV": "Fortuna Panzió"
                                },
                                {
                                    "SZOBA_ID": "62",
                                    "SZALLAS_FK": "6",
                                    "SZOBA_SZAMA": "13",
                                    "FEROHELY": "2",
                                    "POTAGY": "0",
                                    "KLIMAS": "n",
                                    "SZALLAS_NEV": "Kentaur Hotel"
                                },
                                {
                                    "SZOBA_ID": "169",
                                    "SZALLAS_FK": "12",
                                    "SZOBA_SZAMA": "5",
                                    "FEROHELY": "2",
                                    "POTAGY": "1",
                                    "KLIMAS": "i",
                                    "SZALLAS_NEV": "Gold Hotel"
                                },
                                {
                                    "SZOBA_ID": "126",
                                    "SZALLAS_FK": "8",
                                    "SZOBA_SZAMA": "36",
                                    "FEROHELY": "2",
                                    "POTAGY": "1",
                                    "KLIMAS": "n",
                                    "SZALLAS_NEV": "Hotel Három Hattyú"
                                },
                                {
                                    "SZOBA_ID": "173",
                                    "SZALLAS_FK": "12",
                                    "SZOBA_SZAMA": "9",
                                    "FEROHELY": "2",
                                    "POTAGY": "0",
                                    "KLIMAS": "i",
                                    "SZALLAS_NEV": "Gold Hotel"
                                },
                                {
                                    "SZOBA_ID": "12",
                                    "SZALLAS_FK": "1",
                                    "SZOBA_SZAMA": "12",
                                    "FEROHELY": "2",
                                    "POTAGY": "1",
                                    "KLIMAS": "i",
                                    "SZALLAS_NEV": "Sába-Ház"
                                },
                                {
                                    "SZOBA_ID": "52",
                                    "SZALLAS_FK": "6",
                                    "SZOBA_SZAMA": "3",
                                    "FEROHELY": "2",
                                    "POTAGY": "1",
                                    "KLIMAS": "i",
                                    "SZALLAS_NEV": "Kentaur Hotel"
                                },
                                {
                                    "SZOBA_ID": "150",
                                    "SZALLAS_FK": "10",
                                    "SZOBA_SZAMA": "16",
                                    "FEROHELY": "2",
                                    "POTAGY": "1",
                                    "KLIMAS": "i",
                                    "SZALLAS_NEV": "Lagúna Hotel"
                                },
                                {
                                    "SZOBA_ID": "139",
                                    "SZALLAS_FK": "10",
                                    "SZOBA_SZAMA": "5",
                                    "FEROHELY": "2",
                                    "POTAGY": "1",
                                    "KLIMAS": "i",
                                    "SZALLAS_NEV": "Lagúna Hotel"
                                },
                                {
                                    "SZOBA_ID": "3",
                                    "SZALLAS_FK": "1",
                                    "SZOBA_SZAMA": "3",
                                    "FEROHELY": "3",
                                    "POTAGY": "1",
                                    "KLIMAS": "i",
                                    "SZALLAS_NEV": "Sába-Ház"
                                },
                                {
                                    "SZOBA_ID": "39",
                                    "SZALLAS_FK": "4",
                                    "SZOBA_SZAMA": "15",
                                    "FEROHELY": "2",
                                    "POTAGY": "0",
                                    "KLIMAS": "i",
                                    "SZALLAS_NEV": "Fortuna panzió"
                                },
                                {
                                    "SZOBA_ID": "35",
                                    "SZALLAS_FK": "4",
                                    "SZOBA_SZAMA": "11",
                                    "FEROHELY": "3",
                                    "POTAGY": "0",
                                    "KLIMAS": "i",
                                    "SZALLAS_NEV": "Fortuna panzió"
                                },
                                {
                                    "SZOBA_ID": "183",
                                    "SZALLAS_FK": "12",
                                    "SZOBA_SZAMA": "19",
                                    "FEROHELY": "3",
                                    "POTAGY": "0",
                                    "KLIMAS": "i",
                                    "SZALLAS_NEV": "Gold Hotel"
                                },
                                {
                                    "SZOBA_ID": "96",
                                    "SZALLAS_FK": "8",
                                    "SZOBA_SZAMA": "6",
                                    "FEROHELY": "3",
                                    "POTAGY": "0",
                                    "KLIMAS": "n",
                                    "SZALLAS_NEV": "Hotel Három Hattyú"
                                },
                                {
                                    "SZOBA_ID": "77",
                                    "SZALLAS_FK": "6",
                                    "SZOBA_SZAMA": "28",
                                    "FEROHELY": "3",
                                    "POTAGY": "1",
                                    "KLIMAS": "i",
                                    "SZALLAS_NEV": "Kentaur Hotel"
                                },
                                {
                                    "SZOBA_ID": "122",
                                    "SZALLAS_FK": "8",
                                    "SZOBA_SZAMA": "32",
                                    "FEROHELY": "3",
                                    "POTAGY": "1",
                                    "KLIMAS": "i",
                                    "SZALLAS_NEV": "Hotel Három Hattyú"
                                },
                                {
                                    "SZOBA_ID": "185",
                                    "SZALLAS_FK": "12",
                                    "SZOBA_SZAMA": "21",
                                    "FEROHELY": "3",
                                    "POTAGY": "0",
                                    "KLIMAS": "i",
                                    "SZALLAS_NEV": "Gold Hotel"
                                },
                                {
                                    "SZOBA_ID": "15",
                                    "SZALLAS_FK": "2",
                                    "SZOBA_SZAMA": "3",
                                    "FEROHELY": "2",
                                    "POTAGY": "1",
                                    "KLIMAS": "i",
                                    "SZALLAS_NEV": "Családi Ház"
                                },
                                {
                                    "SZOBA_ID": "81",
                                    "SZALLAS_FK": "6",
                                    "SZOBA_SZAMA": "32",
                                    "FEROHELY": "2",
                                    "POTAGY": "0",
                                    "KLIMAS": "i",
                                    "SZALLAS_NEV": "Kentaur Hotel"
                                },
                                {
                                    "SZOBA_ID": "42",
                                    "SZALLAS_FK": "5",
                                    "SZOBA_SZAMA": "3",
                                    "FEROHELY": "2",
                                    "POTAGY": "1",
                                    "KLIMAS": "i",
                                    "SZALLAS_NEV": "Fortuna Panzió"
                                },
                                {
                                    "SZOBA_ID": "129",
                                    "SZALLAS_FK": "8",
                                    "SZOBA_SZAMA": "39",
                                    "FEROHELY": "2",
                                    "POTAGY": "1",
                                    "KLIMAS": "i",
                                    "SZALLAS_NEV": "Hotel Három Hattyú"
                                },
                                {
                                    "SZOBA_ID": "64",
                                    "SZALLAS_FK": "6",
                                    "SZOBA_SZAMA": "15",
                                    "FEROHELY": "2",
                                    "POTAGY": "0",
                                    "KLIMAS": "i",
                                    "SZALLAS_NEV": "Kentaur Hotel"
                                },
                                {
                                    "SZOBA_ID": "79",
                                    "SZALLAS_FK": "6",
                                    "SZOBA_SZAMA": "30",
                                    "FEROHELY": "3",
                                    "POTAGY": "0",
                                    "KLIMAS": "i",
                                    "SZALLAS_NEV": "Kentaur Hotel"
                                },
                                {
                                    "SZOBA_ID": "143",
                                    "SZALLAS_FK": "10",
                                    "SZOBA_SZAMA": "9",
                                    "FEROHELY": "3",
                                    "POTAGY": "1",
                                    "KLIMAS": "i",
                                    "SZALLAS_NEV": "Lagúna Hotel"
                                },
                                {
                                    "SZOBA_ID": "189",
                                    "SZALLAS_FK": "12",
                                    "SZOBA_SZAMA": "25",
                                    "FEROHELY": "2",
                                    "POTAGY": "2",
                                    "KLIMAS": "i",
                                    "SZALLAS_NEV": "Gold Hotel"
                                },
                                {
                                    "SZOBA_ID": "139",
                                    "SZALLAS_FK": "10",
                                    "SZOBA_SZAMA": "5",
                                    "FEROHELY": "2",
                                    "POTAGY": "1",
                                    "KLIMAS": "i",
                                    "SZALLAS_NEV": "Lagúna Hotel"
                                },
                                {
                                    "SZOBA_ID": "58",
                                    "SZALLAS_FK": "6",
                                    "SZOBA_SZAMA": "9",
                                    "FEROHELY": "2",
                                    "POTAGY": "1",
                                    "KLIMAS": "i",
                                    "SZALLAS_NEV": "Kentaur Hotel"
                                },
                                {
                                    "SZOBA_ID": "107",
                                    "SZALLAS_FK": "8",
                                    "SZOBA_SZAMA": "17",
                                    "FEROHELY": "2",
                                    "POTAGY": "1",
                                    "KLIMAS": "n",
                                    "SZALLAS_NEV": "Hotel Három Hattyú"
                                },
                                {
                                    "SZOBA_ID": "86",
                                    "SZALLAS_FK": "7",
                                    "SZOBA_SZAMA": "2",
                                    "FEROHELY": "2",
                                    "POTAGY": "1",
                                    "KLIMAS": "i",
                                    "SZALLAS_NEV": "Szieszta Apartmanház"
                                },
                                {
                                    "SZOBA_ID": "39",
                                    "SZALLAS_FK": "4",
                                    "SZOBA_SZAMA": "15",
                                    "FEROHELY": "2",
                                    "POTAGY": "0",
                                    "KLIMAS": "i",
                                    "SZALLAS_NEV": "Fortuna panzió"
                                },
                                {
                                    "SZOBA_ID": "116",
                                    "SZALLAS_FK": "8",
                                    "SZOBA_SZAMA": "26",
                                    "FEROHELY": "3",
                                    "POTAGY": "0",
                                    "KLIMAS": "i",
                                    "SZALLAS_NEV": "Hotel Három Hattyú"
                                },
                                {
                                    "SZOBA_ID": "87",
                                    "SZALLAS_FK": "7",
                                    "SZOBA_SZAMA": "3",
                                    "FEROHELY": "3",
                                    "POTAGY": "0",
                                    "KLIMAS": "i",
                                    "SZALLAS_NEV": "Szieszta Apartmanház"
                                },
                                {
                                    "SZOBA_ID": "70",
                                    "SZALLAS_FK": "6",
                                    "SZOBA_SZAMA": "21",
                                    "FEROHELY": "2",
                                    "POTAGY": "1",
                                    "KLIMAS": "i",
                                    "SZALLAS_NEV": "Kentaur Hotel"
                                },
                                {
                                    "SZOBA_ID": "75",
                                    "SZALLAS_FK": "6",
                                    "SZOBA_SZAMA": "26",
                                    "FEROHELY": "2",
                                    "POTAGY": "1",
                                    "KLIMAS": "n",
                                    "SZALLAS_NEV": "Kentaur Hotel"
                                },
                                {
                                    "SZOBA_ID": "28",
                                    "SZALLAS_FK": "4",
                                    "SZOBA_SZAMA": "4",
                                    "FEROHELY": "2",
                                    "POTAGY": "1",
                                    "KLIMAS": "i",
                                    "SZALLAS_NEV": "Fortuna panzió"
                                },
                                {
                                    "SZOBA_ID": "153",
                                    "SZALLAS_FK": "10",
                                    "SZOBA_SZAMA": "19",
                                    "FEROHELY": "3",
                                    "POTAGY": "0",
                                    "KLIMAS": "n",
                                    "SZALLAS_NEV": "Lagúna Hotel"
                                },
                                {
                                    "SZOBA_ID": "77",
                                    "SZALLAS_FK": "6",
                                    "SZOBA_SZAMA": "28",
                                    "FEROHELY": "3",
                                    "POTAGY": "1",
                                    "KLIMAS": "i",
                                    "SZALLAS_NEV": "Kentaur Hotel"
                                },
                                {
                                    "SZOBA_ID": "156",
                                    "SZALLAS_FK": "10",
                                    "SZOBA_SZAMA": "22",
                                    "FEROHELY": "2",
                                    "POTAGY": "2",
                                    "KLIMAS": "i",
                                    "SZALLAS_NEV": "Lagúna Hotel"
                                },
                                {
                                    "SZOBA_ID": "185",
                                    "SZALLAS_FK": "12",
                                    "SZOBA_SZAMA": "21",
                                    "FEROHELY": "3",
                                    "POTAGY": "0",
                                    "KLIMAS": "i",
                                    "SZALLAS_NEV": "Gold Hotel"
                                },
                                {
                                    "SZOBA_ID": "81",
                                    "SZALLAS_FK": "6",
                                    "SZOBA_SZAMA": "32",
                                    "FEROHELY": "2",
                                    "POTAGY": "0",
                                    "KLIMAS": "i",
                                    "SZALLAS_NEV": "Kentaur Hotel"
                                },
                                {
                                    "SZOBA_ID": "64",
                                    "SZALLAS_FK": "6",
                                    "SZOBA_SZAMA": "15",
                                    "FEROHELY": "2",
                                    "POTAGY": "0",
                                    "KLIMAS": "i",
                                    "SZALLAS_NEV": "Kentaur Hotel"
                                },
                                {
                                    "SZOBA_ID": "57",
                                    "SZALLAS_FK": "6",
                                    "SZOBA_SZAMA": "8",
                                    "FEROHELY": "2",
                                    "POTAGY": "0",
                                    "KLIMAS": "n",
                                    "SZALLAS_NEV": "Kentaur Hotel"
                                },
                                {
                                    "SZOBA_ID": "186",
                                    "SZALLAS_FK": "12",
                                    "SZOBA_SZAMA": "22",
                                    "FEROHELY": "2",
                                    "POTAGY": "2",
                                    "KLIMAS": "i",
                                    "SZALLAS_NEV": "Gold Hotel"
                                },
                                {
                                    "SZOBA_ID": "117",
                                    "SZALLAS_FK": "8",
                                    "SZOBA_SZAMA": "27",
                                    "FEROHELY": "3",
                                    "POTAGY": "1",
                                    "KLIMAS": "i",
                                    "SZALLAS_NEV": "Hotel Három Hattyú"
                                },
                                {
                                    "SZOBA_ID": "13",
                                    "SZALLAS_FK": "2",
                                    "SZOBA_SZAMA": "1",
                                    "FEROHELY": "3",
                                    "POTAGY": "0",
                                    "KLIMAS": "i",
                                    "SZALLAS_NEV": "Családi Ház"
                                },
                                {
                                    "SZOBA_ID": "153",
                                    "SZALLAS_FK": "10",
                                    "SZOBA_SZAMA": "19",
                                    "FEROHELY": "3",
                                    "POTAGY": "0",
                                    "KLIMAS": "n",
                                    "SZALLAS_NEV": "Lagúna Hotel"
                                },
                                {
                                    "SZOBA_ID": "145",
                                    "SZALLAS_FK": "10",
                                    "SZOBA_SZAMA": "11",
                                    "FEROHELY": "2",
                                    "POTAGY": "2",
                                    "KLIMAS": "i",
                                    "SZALLAS_NEV": "Lagúna Hotel"
                                },
                                {
                                    "SZOBA_ID": "118",
                                    "SZALLAS_FK": "8",
                                    "SZOBA_SZAMA": "28",
                                    "FEROHELY": "2",
                                    "POTAGY": "1",
                                    "KLIMAS": "i",
                                    "SZALLAS_NEV": "Hotel Három Hattyú"
                                },
                                {
                                    "SZOBA_ID": "195",
                                    "SZALLAS_FK": "12",
                                    "SZOBA_SZAMA": "31",
                                    "FEROHELY": "2",
                                    "POTAGY": "0",
                                    "KLIMAS": "i",
                                    "SZALLAS_NEV": "Gold Hotel"
                                },
                                {
                                    "SZOBA_ID": "131",
                                    "SZALLAS_FK": "9",
                                    "SZOBA_SZAMA": "2",
                                    "FEROHELY": "2",
                                    "POTAGY": "0",
                                    "KLIMAS": "n",
                                    "SZALLAS_NEV": "Jáde panzió"
                                },
                                {
                                    "SZOBA_ID": "130",
                                    "SZALLAS_FK": "9",
                                    "SZOBA_SZAMA": "1",
                                    "FEROHELY": "2",
                                    "POTAGY": "0",
                                    "KLIMAS": "n",
                                    "SZALLAS_NEV": "Jáde panzió"
                                },
                                {
                                    "SZOBA_ID": "27",
                                    "SZALLAS_FK": "4",
                                    "SZOBA_SZAMA": "3",
                                    "FEROHELY": "3",
                                    "POTAGY": "1",
                                    "KLIMAS": "n",
                                    "SZALLAS_NEV": "Fortuna panzió"
                                },
                                {
                                    "SZOBA_ID": "51",
                                    "SZALLAS_FK": "6",
                                    "SZOBA_SZAMA": "2",
                                    "FEROHELY": "3",
                                    "POTAGY": "1",
                                    "KLIMAS": "i",
                                    "SZALLAS_NEV": "Kentaur Hotel"
                                },
                                {
                                    "SZOBA_ID": "38",
                                    "SZALLAS_FK": "4",
                                    "SZOBA_SZAMA": "14",
                                    "FEROHELY": "2",
                                    "POTAGY": "1",
                                    "KLIMAS": "i",
                                    "SZALLAS_NEV": "Fortuna panzió"
                                },
                                {
                                    "SZOBA_ID": "146",
                                    "SZALLAS_FK": "10",
                                    "SZOBA_SZAMA": "12",
                                    "FEROHELY": "3",
                                    "POTAGY": "0",
                                    "KLIMAS": "i",
                                    "SZALLAS_NEV": "Lagúna Hotel"
                                },
                                {
                                    "SZOBA_ID": "35",
                                    "SZALLAS_FK": "4",
                                    "SZOBA_SZAMA": "11",
                                    "FEROHELY": "3",
                                    "POTAGY": "0",
                                    "KLIMAS": "i",
                                    "SZALLAS_NEV": "Fortuna panzió"
                                },
                                {
                                    "SZOBA_ID": "118",
                                    "SZALLAS_FK": "8",
                                    "SZOBA_SZAMA": "28",
                                    "FEROHELY": "2",
                                    "POTAGY": "1",
                                    "KLIMAS": "i",
                                    "SZALLAS_NEV": "Hotel Három Hattyú"
                                },
                                {
                                    "SZOBA_ID": "100",
                                    "SZALLAS_FK": "8",
                                    "SZOBA_SZAMA": "10",
                                    "FEROHELY": "2",
                                    "POTAGY": "1",
                                    "KLIMAS": "i",
                                    "SZALLAS_NEV": "Hotel Három Hattyú"
                                },
                                {
                                    "SZOBA_ID": "120",
                                    "SZALLAS_FK": "8",
                                    "SZOBA_SZAMA": "30",
                                    "FEROHELY": "3",
                                    "POTAGY": "1",
                                    "KLIMAS": "i",
                                    "SZALLAS_NEV": "Hotel Három Hattyú"
                                },
                                {
                                    "SZOBA_ID": "195",
                                    "SZALLAS_FK": "12",
                                    "SZOBA_SZAMA": "31",
                                    "FEROHELY": "2",
                                    "POTAGY": "0",
                                    "KLIMAS": "i",
                                    "SZALLAS_NEV": "Gold Hotel"
                                },
                                {
                                    "SZOBA_ID": "103",
                                    "SZALLAS_FK": "8",
                                    "SZOBA_SZAMA": "13",
                                    "FEROHELY": "2",
                                    "POTAGY": "1",
                                    "KLIMAS": "i",
                                    "SZALLAS_NEV": "Hotel Három Hattyú"
                                },
                                {
                                    "SZOBA_ID": "99",
                                    "SZALLAS_FK": "8",
                                    "SZOBA_SZAMA": "9",
                                    "FEROHELY": "2",
                                    "POTAGY": "0",
                                    "KLIMAS": "n",
                                    "SZALLAS_NEV": "Hotel Három Hattyú"
                                },
                                {
                                    "SZOBA_ID": "163",
                                    "SZALLAS_FK": "11",
                                    "SZOBA_SZAMA": "4",
                                    "FEROHELY": "2",
                                    "POTAGY": "0",
                                    "KLIMAS": "i",
                                    "SZALLAS_NEV": "Partiszél Vendégház"
                                },
                                {
                                    "SZOBA_ID": "119",
                                    "SZALLAS_FK": "8",
                                    "SZOBA_SZAMA": "29",
                                    "FEROHELY": "2",
                                    "POTAGY": "0",
                                    "KLIMAS": "i",
                                    "SZALLAS_NEV": "Hotel Három Hattyú"
                                },
                                {
                                    "SZOBA_ID": "110",
                                    "SZALLAS_FK": "8",
                                    "SZOBA_SZAMA": "20",
                                    "FEROHELY": "2",
                                    "POTAGY": "0",
                                    "KLIMAS": "i",
                                    "SZALLAS_NEV": "Hotel Három Hattyú"
                                },
                                {
                                    "SZOBA_ID": "156",
                                    "SZALLAS_FK": "10",
                                    "SZOBA_SZAMA": "22",
                                    "FEROHELY": "2",
                                    "POTAGY": "2",
                                    "KLIMAS": "i",
                                    "SZALLAS_NEV": "Lagúna Hotel"
                                },
                                {
                                    "SZOBA_ID": "172",
                                    "SZALLAS_FK": "12",
                                    "SZOBA_SZAMA": "8",
                                    "FEROHELY": "2",
                                    "POTAGY": "2",
                                    "KLIMAS": "n",
                                    "SZALLAS_NEV": "Gold Hotel"
                                },
                                {
                                    "SZOBA_ID": "4",
                                    "SZALLAS_FK": "1",
                                    "SZOBA_SZAMA": "4",
                                    "FEROHELY": "2",
                                    "POTAGY": "1",
                                    "KLIMAS": "i",
                                    "SZALLAS_NEV": "Sába-Ház"
                                },
                                {
                                    "SZOBA_ID": "120",
                                    "SZALLAS_FK": "8",
                                    "SZOBA_SZAMA": "30",
                                    "FEROHELY": "3",
                                    "POTAGY": "1",
                                    "KLIMAS": "i",
                                    "SZALLAS_NEV": "Hotel Három Hattyú"
                                },
                                {
                                    "SZOBA_ID": "107",
                                    "SZALLAS_FK": "8",
                                    "SZOBA_SZAMA": "17",
                                    "FEROHELY": "2",
                                    "POTAGY": "1",
                                    "KLIMAS": "n",
                                    "SZALLAS_NEV": "Hotel Három Hattyú"
                                },
                                {
                                    "SZOBA_ID": "113",
                                    "SZALLAS_FK": "8",
                                    "SZOBA_SZAMA": "23",
                                    "FEROHELY": "3",
                                    "POTAGY": "2",
                                    "KLIMAS": "i",
                                    "SZALLAS_NEV": "Hotel Három Hattyú"
                                },
                                {
                                    "SZOBA_ID": "61",
                                    "SZALLAS_FK": "6",
                                    "SZOBA_SZAMA": "12",
                                    "FEROHELY": "3",
                                    "POTAGY": "0",
                                    "KLIMAS": "i",
                                    "SZALLAS_NEV": "Kentaur Hotel"
                                },
                                {
                                    "SZOBA_ID": "179",
                                    "SZALLAS_FK": "12",
                                    "SZOBA_SZAMA": "15",
                                    "FEROHELY": "3",
                                    "POTAGY": "2",
                                    "KLIMAS": "i",
                                    "SZALLAS_NEV": "Gold Hotel"
                                },
                                {
                                    "SZOBA_ID": "16",
                                    "SZALLAS_FK": "2",
                                    "SZOBA_SZAMA": "4",
                                    "FEROHELY": "3",
                                    "POTAGY": "1",
                                    "KLIMAS": "i",
                                    "SZALLAS_NEV": "Családi Ház"
                                },
                                {
                                    "SZOBA_ID": "113",
                                    "SZALLAS_FK": "8",
                                    "SZOBA_SZAMA": "23",
                                    "FEROHELY": "3",
                                    "POTAGY": "2",
                                    "KLIMAS": "i",
                                    "SZALLAS_NEV": "Hotel Három Hattyú"
                                },
                                {
                                    "SZOBA_ID": "126",
                                    "SZALLAS_FK": "8",
                                    "SZOBA_SZAMA": "36",
                                    "FEROHELY": "2",
                                    "POTAGY": "1",
                                    "KLIMAS": "n",
                                    "SZALLAS_NEV": "Hotel Három Hattyú"
                                },
                                {
                                    "SZOBA_ID": "116",
                                    "SZALLAS_FK": "8",
                                    "SZOBA_SZAMA": "26",
                                    "FEROHELY": "3",
                                    "POTAGY": "0",
                                    "KLIMAS": "i",
                                    "SZALLAS_NEV": "Hotel Három Hattyú"
                                },
                                {
                                    "SZOBA_ID": "191",
                                    "SZALLAS_FK": "12",
                                    "SZOBA_SZAMA": "27",
                                    "FEROHELY": "2",
                                    "POTAGY": "1",
                                    "KLIMAS": "i",
                                    "SZALLAS_NEV": "Gold Hotel"
                                },
                                {
                                    "SZOBA_ID": "177",
                                    "SZALLAS_FK": "12",
                                    "SZOBA_SZAMA": "13",
                                    "FEROHELY": "3",
                                    "POTAGY": "2",
                                    "KLIMAS": "i",
                                    "SZALLAS_NEV": "Gold Hotel"
                                },
                                {
                                    "SZOBA_ID": "57",
                                    "SZALLAS_FK": "6",
                                    "SZOBA_SZAMA": "8",
                                    "FEROHELY": "2",
                                    "POTAGY": "0",
                                    "KLIMAS": "n",
                                    "SZALLAS_NEV": "Kentaur Hotel"
                                },
                                {
                                    "SZOBA_ID": "18",
                                    "SZALLAS_FK": "3",
                                    "SZOBA_SZAMA": "2",
                                    "FEROHELY": "3",
                                    "POTAGY": "2",
                                    "KLIMAS": "n",
                                    "SZALLAS_NEV": "Fortuna Apartman"
                                },
                                {
                                    "SZOBA_ID": "81",
                                    "SZALLAS_FK": "6",
                                    "SZOBA_SZAMA": "32",
                                    "FEROHELY": "2",
                                    "POTAGY": "0",
                                    "KLIMAS": "i",
                                    "SZALLAS_NEV": "Kentaur Hotel"
                                },
                                {
                                    "SZOBA_ID": "153",
                                    "SZALLAS_FK": "10",
                                    "SZOBA_SZAMA": "19",
                                    "FEROHELY": "3",
                                    "POTAGY": "0",
                                    "KLIMAS": "n",
                                    "SZALLAS_NEV": "Lagúna Hotel"
                                },
                                {
                                    "SZOBA_ID": "191",
                                    "SZALLAS_FK": "12",
                                    "SZOBA_SZAMA": "27",
                                    "FEROHELY": "2",
                                    "POTAGY": "1",
                                    "KLIMAS": "i",
                                    "SZALLAS_NEV": "Gold Hotel"
                                },
                                {
                                    "SZOBA_ID": "129",
                                    "SZALLAS_FK": "8",
                                    "SZOBA_SZAMA": "39",
                                    "FEROHELY": "2",
                                    "POTAGY": "1",
                                    "KLIMAS": "i",
                                    "SZALLAS_NEV": "Hotel Három Hattyú"
                                },
                                {
                                    "SZOBA_ID": "106",
                                    "SZALLAS_FK": "8",
                                    "SZOBA_SZAMA": "16",
                                    "FEROHELY": "2",
                                    "POTAGY": "0",
                                    "KLIMAS": "i",
                                    "SZALLAS_NEV": "Hotel Három Hattyú"
                                },
                                {
                                    "SZOBA_ID": "176",
                                    "SZALLAS_FK": "12",
                                    "SZOBA_SZAMA": "12",
                                    "FEROHELY": "3",
                                    "POTAGY": "1",
                                    "KLIMAS": "i",
                                    "SZALLAS_NEV": "Gold Hotel"
                                },
                                {
                                    "SZOBA_ID": "55",
                                    "SZALLAS_FK": "6",
                                    "SZOBA_SZAMA": "6",
                                    "FEROHELY": "2",
                                    "POTAGY": "1",
                                    "KLIMAS": "i",
                                    "SZALLAS_NEV": "Kentaur Hotel"
                                },
                                {
                                    "SZOBA_ID": "85",
                                    "SZALLAS_FK": "7",
                                    "SZOBA_SZAMA": "1",
                                    "FEROHELY": "2",
                                    "POTAGY": "1",
                                    "KLIMAS": "n",
                                    "SZALLAS_NEV": "Szieszta Apartmanház"
                                },
                                {
                                    "SZOBA_ID": "149",
                                    "SZALLAS_FK": "10",
                                    "SZOBA_SZAMA": "15",
                                    "FEROHELY": "2",
                                    "POTAGY": "0",
                                    "KLIMAS": "i",
                                    "SZALLAS_NEV": "Lagúna Hotel"
                                },
                                {
                                    "SZOBA_ID": "46",
                                    "SZALLAS_FK": "5",
                                    "SZOBA_SZAMA": "7",
                                    "FEROHELY": "3",
                                    "POTAGY": "0",
                                    "KLIMAS": "i",
                                    "SZALLAS_NEV": "Fortuna Panzió"
                                },
                                {
                                    "SZOBA_ID": "101",
                                    "SZALLAS_FK": "8",
                                    "SZOBA_SZAMA": "11",
                                    "FEROHELY": "2",
                                    "POTAGY": "0",
                                    "KLIMAS": "i",
                                    "SZALLAS_NEV": "Hotel Három Hattyú"
                                },
                                {
                                    "SZOBA_ID": "190",
                                    "SZALLAS_FK": "12",
                                    "SZOBA_SZAMA": "26",
                                    "FEROHELY": "2",
                                    "POTAGY": "0",
                                    "KLIMAS": "i",
                                    "SZALLAS_NEV": "Gold Hotel"
                                },
                                {
                                    "SZOBA_ID": "94",
                                    "SZALLAS_FK": "8",
                                    "SZOBA_SZAMA": "4",
                                    "FEROHELY": "2",
                                    "POTAGY": "0",
                                    "KLIMAS": "n",
                                    "SZALLAS_NEV": "Hotel Három Hattyú"
                                },
                                {
                                    "SZOBA_ID": "132",
                                    "SZALLAS_FK": "9",
                                    "SZOBA_SZAMA": "3",
                                    "FEROHELY": "3",
                                    "POTAGY": "0",
                                    "KLIMAS": "i",
                                    "SZALLAS_NEV": "Jáde panzió"
                                },
                                {
                                    "SZOBA_ID": "55",
                                    "SZALLAS_FK": "6",
                                    "SZOBA_SZAMA": "6",
                                    "FEROHELY": "2",
                                    "POTAGY": "1",
                                    "KLIMAS": "i",
                                    "SZALLAS_NEV": "Kentaur Hotel"
                                },
                                {
                                    "SZOBA_ID": "89",
                                    "SZALLAS_FK": "7",
                                    "SZOBA_SZAMA": "5",
                                    "FEROHELY": "3",
                                    "POTAGY": "0",
                                    "KLIMAS": "i",
                                    "SZALLAS_NEV": "Szieszta Apartmanház"
                                },
                                {
                                    "SZOBA_ID": "104",
                                    "SZALLAS_FK": "8",
                                    "SZOBA_SZAMA": "14",
                                    "FEROHELY": "3",
                                    "POTAGY": "0",
                                    "KLIMAS": "i",
                                    "SZALLAS_NEV": "Hotel Három Hattyú"
                                },
                                {
                                    "SZOBA_ID": "11",
                                    "SZALLAS_FK": "1",
                                    "SZOBA_SZAMA": "11",
                                    "FEROHELY": "2",
                                    "POTAGY": "1",
                                    "KLIMAS": "i",
                                    "SZALLAS_NEV": "Sába-Ház"
                                },
                                {
                                    "SZOBA_ID": "43",
                                    "SZALLAS_FK": "5",
                                    "SZOBA_SZAMA": "4",
                                    "FEROHELY": "3",
                                    "POTAGY": "0",
                                    "KLIMAS": "i",
                                    "SZALLAS_NEV": "Fortuna Panzió"
                                },
                                {
                                    "SZOBA_ID": "105",
                                    "SZALLAS_FK": "8",
                                    "SZOBA_SZAMA": "15",
                                    "FEROHELY": "2",
                                    "POTAGY": "0",
                                    "KLIMAS": "i",
                                    "SZALLAS_NEV": "Hotel Három Hattyú"
                                },
                                {
                                    "SZOBA_ID": "166",
                                    "SZALLAS_FK": "12",
                                    "SZOBA_SZAMA": "2",
                                    "FEROHELY": "2",
                                    "POTAGY": "1",
                                    "KLIMAS": "i",
                                    "SZALLAS_NEV": "Gold Hotel"
                                },
                                {
                                    "SZOBA_ID": "92",
                                    "SZALLAS_FK": "8",
                                    "SZOBA_SZAMA": "2",
                                    "FEROHELY": "3",
                                    "POTAGY": "1",
                                    "KLIMAS": "i",
                                    "SZALLAS_NEV": "Hotel Három Hattyú"
                                },
                                {
                                    "SZOBA_ID": "97",
                                    "SZALLAS_FK": "8",
                                    "SZOBA_SZAMA": "7",
                                    "FEROHELY": "3",
                                    "POTAGY": "2",
                                    "KLIMAS": "n",
                                    "SZALLAS_NEV": "Hotel Három Hattyú"
                                },
                                {
                                    "SZOBA_ID": "35",
                                    "SZALLAS_FK": "4",
                                    "SZOBA_SZAMA": "11",
                                    "FEROHELY": "3",
                                    "POTAGY": "0",
                                    "KLIMAS": "i",
                                    "SZALLAS_NEV": "Fortuna panzió"
                                },
                                {
                                    "SZOBA_ID": "112",
                                    "SZALLAS_FK": "8",
                                    "SZOBA_SZAMA": "22",
                                    "FEROHELY": "3",
                                    "POTAGY": "0",
                                    "KLIMAS": "i",
                                    "SZALLAS_NEV": "Hotel Három Hattyú"
                                },
                                {
                                    "SZOBA_ID": "124",
                                    "SZALLAS_FK": "8",
                                    "SZOBA_SZAMA": "34",
                                    "FEROHELY": "3",
                                    "POTAGY": "0",
                                    "KLIMAS": "n",
                                    "SZALLAS_NEV": "Hotel Három Hattyú"
                                },
                                {
                                    "SZOBA_ID": "104",
                                    "SZALLAS_FK": "8",
                                    "SZOBA_SZAMA": "14",
                                    "FEROHELY": "3",
                                    "POTAGY": "0",
                                    "KLIMAS": "i",
                                    "SZALLAS_NEV": "Hotel Három Hattyú"
                                },
                                {
                                    "SZOBA_ID": "19",
                                    "SZALLAS_FK": "3",
                                    "SZOBA_SZAMA": "3",
                                    "FEROHELY": "2",
                                    "POTAGY": "1",
                                    "KLIMAS": "i",
                                    "SZALLAS_NEV": "Fortuna Apartman"
                                },
                                {
                                    "SZOBA_ID": "52",
                                    "SZALLAS_FK": "6",
                                    "SZOBA_SZAMA": "3",
                                    "FEROHELY": "2",
                                    "POTAGY": "1",
                                    "KLIMAS": "i",
                                    "SZALLAS_NEV": "Kentaur Hotel"
                                },
                                {
                                    "SZOBA_ID": "134",
                                    "SZALLAS_FK": "9",
                                    "SZOBA_SZAMA": "5",
                                    "FEROHELY": "3",
                                    "POTAGY": "0",
                                    "KLIMAS": "i",
                                    "SZALLAS_NEV": "Jáde panzió"
                                },
                                {
                                    "SZOBA_ID": "49",
                                    "SZALLAS_FK": "5",
                                    "SZOBA_SZAMA": "10",
                                    "FEROHELY": "3",
                                    "POTAGY": "0",
                                    "KLIMAS": "i",
                                    "SZALLAS_NEV": "Fortuna Panzió"
                                },
                                {
                                    "SZOBA_ID": "9",
                                    "SZALLAS_FK": "1",
                                    "SZOBA_SZAMA": "9",
                                    "FEROHELY": "3",
                                    "POTAGY": "1",
                                    "KLIMAS": "i",
                                    "SZALLAS_NEV": "Sába-Ház"
                                },
                                {
                                    "SZOBA_ID": "39",
                                    "SZALLAS_FK": "4",
                                    "SZOBA_SZAMA": "15",
                                    "FEROHELY": "2",
                                    "POTAGY": "0",
                                    "KLIMAS": "i",
                                    "SZALLAS_NEV": "Fortuna panzió"
                                },
                                {
                                    "SZOBA_ID": "154",
                                    "SZALLAS_FK": "10",
                                    "SZOBA_SZAMA": "20",
                                    "FEROHELY": "2",
                                    "POTAGY": "1",
                                    "KLIMAS": "i",
                                    "SZALLAS_NEV": "Lagúna Hotel"
                                },
                                {
                                    "SZOBA_ID": "114",
                                    "SZALLAS_FK": "8",
                                    "SZOBA_SZAMA": "24",
                                    "FEROHELY": "2",
                                    "POTAGY": "1",
                                    "KLIMAS": "n",
                                    "SZALLAS_NEV": "Hotel Három Hattyú"
                                },
                                {
                                    "SZOBA_ID": "155",
                                    "SZALLAS_FK": "10",
                                    "SZOBA_SZAMA": "21",
                                    "FEROHELY": "3",
                                    "POTAGY": "1",
                                    "KLIMAS": "n",
                                    "SZALLAS_NEV": "Lagúna Hotel"
                                },
                                {
                                    "SZOBA_ID": "14",
                                    "SZALLAS_FK": "2",
                                    "SZOBA_SZAMA": "2",
                                    "FEROHELY": "3",
                                    "POTAGY": "2",
                                    "KLIMAS": "i",
                                    "SZALLAS_NEV": "Családi Ház"
                                },
                                {
                                    "SZOBA_ID": "95",
                                    "SZALLAS_FK": "8",
                                    "SZOBA_SZAMA": "5",
                                    "FEROHELY": "3",
                                    "POTAGY": "1",
                                    "KLIMAS": "i",
                                    "SZALLAS_NEV": "Hotel Három Hattyú"
                                },
                                {
                                    "SZOBA_ID": "3",
                                    "SZALLAS_FK": "1",
                                    "SZOBA_SZAMA": "3",
                                    "FEROHELY": "3",
                                    "POTAGY": "1",
                                    "KLIMAS": "i",
                                    "SZALLAS_NEV": "Sába-Ház"
                                },
                                {
                                    "SZOBA_ID": "142",
                                    "SZALLAS_FK": "10",
                                    "SZOBA_SZAMA": "8",
                                    "FEROHELY": "3",
                                    "POTAGY": "0",
                                    "KLIMAS": "n",
                                    "SZALLAS_NEV": "Lagúna Hotel"
                                },
                                {
                                    "SZOBA_ID": "48",
                                    "SZALLAS_FK": "5",
                                    "SZOBA_SZAMA": "9",
                                    "FEROHELY": "3",
                                    "POTAGY": "0",
                                    "KLIMAS": "i",
                                    "SZALLAS_NEV": "Fortuna Panzió"
                                },
                                {
                                    "SZOBA_ID": "48",
                                    "SZALLAS_FK": "5",
                                    "SZOBA_SZAMA": "9",
                                    "FEROHELY": "3",
                                    "POTAGY": "0",
                                    "KLIMAS": "i",
                                    "SZALLAS_NEV": "Fortuna Panzió"
                                },
                                {
                                    "SZOBA_ID": "88",
                                    "SZALLAS_FK": "7",
                                    "SZOBA_SZAMA": "4",
                                    "FEROHELY": "3",
                                    "POTAGY": "0",
                                    "KLIMAS": "n",
                                    "SZALLAS_NEV": "Szieszta Apartmanház"
                                },
                                {
                                    "SZOBA_ID": "17",
                                    "SZALLAS_FK": "3",
                                    "SZOBA_SZAMA": "1",
                                    "FEROHELY": "3",
                                    "POTAGY": "1",
                                    "KLIMAS": "i",
                                    "SZALLAS_NEV": "Fortuna Apartman"
                                },
                                {
                                    "SZOBA_ID": "51",
                                    "SZALLAS_FK": "6",
                                    "SZOBA_SZAMA": "2",
                                    "FEROHELY": "3",
                                    "POTAGY": "1",
                                    "KLIMAS": "i",
                                    "SZALLAS_NEV": "Kentaur Hotel"
                                },
                                {
                                    "SZOBA_ID": "157",
                                    "SZALLAS_FK": "10",
                                    "SZOBA_SZAMA": "23",
                                    "FEROHELY": "2",
                                    "POTAGY": "0",
                                    "KLIMAS": "n",
                                    "SZALLAS_NEV": "Lagúna Hotel"
                                },
                                {
                                    "SZOBA_ID": "44",
                                    "SZALLAS_FK": "5",
                                    "SZOBA_SZAMA": "5",
                                    "FEROHELY": "3",
                                    "POTAGY": "0",
                                    "KLIMAS": "i",
                                    "SZALLAS_NEV": "Fortuna Panzió"
                                },
                                {
                                    "SZOBA_ID": "43",
                                    "SZALLAS_FK": "5",
                                    "SZOBA_SZAMA": "4",
                                    "FEROHELY": "3",
                                    "POTAGY": "0",
                                    "KLIMAS": "i",
                                    "SZALLAS_NEV": "Fortuna Panzió"
                                },
                                {
                                    "SZOBA_ID": "115",
                                    "SZALLAS_FK": "8",
                                    "SZOBA_SZAMA": "25",
                                    "FEROHELY": "3",
                                    "POTAGY": "0",
                                    "KLIMAS": "i",
                                    "SZALLAS_NEV": "Hotel Három Hattyú"
                                },
                                {
                                    "SZOBA_ID": "92",
                                    "SZALLAS_FK": "8",
                                    "SZOBA_SZAMA": "2",
                                    "FEROHELY": "3",
                                    "POTAGY": "1",
                                    "KLIMAS": "i",
                                    "SZALLAS_NEV": "Hotel Három Hattyú"
                                },
                                {
                                    "SZOBA_ID": "38",
                                    "SZALLAS_FK": "4",
                                    "SZOBA_SZAMA": "14",
                                    "FEROHELY": "2",
                                    "POTAGY": "1",
                                    "KLIMAS": "i",
                                    "SZALLAS_NEV": "Fortuna panzió"
                                },
                                {
                                    "SZOBA_ID": "76",
                                    "SZALLAS_FK": "6",
                                    "SZOBA_SZAMA": "27",
                                    "FEROHELY": "2",
                                    "POTAGY": "0",
                                    "KLIMAS": "i",
                                    "SZALLAS_NEV": "Kentaur Hotel"
                                },
                                {
                                    "SZOBA_ID": "152",
                                    "SZALLAS_FK": "10",
                                    "SZOBA_SZAMA": "18",
                                    "FEROHELY": "2",
                                    "POTAGY": "0",
                                    "KLIMAS": "i",
                                    "SZALLAS_NEV": "Lagúna Hotel"
                                },
                                {
                                    "SZOBA_ID": "180",
                                    "SZALLAS_FK": "12",
                                    "SZOBA_SZAMA": "16",
                                    "FEROHELY": "2",
                                    "POTAGY": "2",
                                    "KLIMAS": "i",
                                    "SZALLAS_NEV": "Gold Hotel"
                                },
                                {
                                    "SZOBA_ID": "109",
                                    "SZALLAS_FK": "8",
                                    "SZOBA_SZAMA": "19",
                                    "FEROHELY": "2",
                                    "POTAGY": "1",
                                    "KLIMAS": "i",
                                    "SZALLAS_NEV": "Hotel Három Hattyú"
                                },
                                {
                                    "SZOBA_ID": "156",
                                    "SZALLAS_FK": "10",
                                    "SZOBA_SZAMA": "22",
                                    "FEROHELY": "2",
                                    "POTAGY": "2",
                                    "KLIMAS": "i",
                                    "SZALLAS_NEV": "Lagúna Hotel"
                                },
                                {
                                    "SZOBA_ID": "81",
                                    "SZALLAS_FK": "6",
                                    "SZOBA_SZAMA": "32",
                                    "FEROHELY": "2",
                                    "POTAGY": "0",
                                    "KLIMAS": "i",
                                    "SZALLAS_NEV": "Kentaur Hotel"
                                },
                                {
                                    "SZOBA_ID": "180",
                                    "SZALLAS_FK": "12",
                                    "SZOBA_SZAMA": "16",
                                    "FEROHELY": "2",
                                    "POTAGY": "2",
                                    "KLIMAS": "i",
                                    "SZALLAS_NEV": "Gold Hotel"
                                },
                                {
                                    "SZOBA_ID": "94",
                                    "SZALLAS_FK": "8",
                                    "SZOBA_SZAMA": "4",
                                    "FEROHELY": "2",
                                    "POTAGY": "0",
                                    "KLIMAS": "n",
                                    "SZALLAS_NEV": "Hotel Három Hattyú"
                                },
                                {
                                    "SZOBA_ID": "160",
                                    "SZALLAS_FK": "11",
                                    "SZOBA_SZAMA": "1",
                                    "FEROHELY": "3",
                                    "POTAGY": "1",
                                    "KLIMAS": "i",
                                    "SZALLAS_NEV": "Partiszél Vendégház"
                                },
                                {
                                    "SZOBA_ID": "115",
                                    "SZALLAS_FK": "8",
                                    "SZOBA_SZAMA": "25",
                                    "FEROHELY": "3",
                                    "POTAGY": "0",
                                    "KLIMAS": "i",
                                    "SZALLAS_NEV": "Hotel Három Hattyú"
                                },
                                {
                                    "SZOBA_ID": "171",
                                    "SZALLAS_FK": "12",
                                    "SZOBA_SZAMA": "7",
                                    "FEROHELY": "2",
                                    "POTAGY": "1",
                                    "KLIMAS": "i",
                                    "SZALLAS_NEV": "Gold Hotel"
                                },
                                {
                                    "SZOBA_ID": "29",
                                    "SZALLAS_FK": "4",
                                    "SZOBA_SZAMA": "5",
                                    "FEROHELY": "2",
                                    "POTAGY": "0",
                                    "KLIMAS": "n",
                                    "SZALLAS_NEV": "Fortuna panzió"
                                },
                                {
                                    "SZOBA_ID": "96",
                                    "SZALLAS_FK": "8",
                                    "SZOBA_SZAMA": "6",
                                    "FEROHELY": "3",
                                    "POTAGY": "0",
                                    "KLIMAS": "n",
                                    "SZALLAS_NEV": "Hotel Három Hattyú"
                                },
                                {
                                    "SZOBA_ID": "176",
                                    "SZALLAS_FK": "12",
                                    "SZOBA_SZAMA": "12",
                                    "FEROHELY": "3",
                                    "POTAGY": "1",
                                    "KLIMAS": "i",
                                    "SZALLAS_NEV": "Gold Hotel"
                                },
                                {
                                    "SZOBA_ID": "161",
                                    "SZALLAS_FK": "11",
                                    "SZOBA_SZAMA": "2",
                                    "FEROHELY": "2",
                                    "POTAGY": "2",
                                    "KLIMAS": "i",
                                    "SZALLAS_NEV": "Partiszél Vendégház"
                                },
                                {
                                    "SZOBA_ID": "144",
                                    "SZALLAS_FK": "10",
                                    "SZOBA_SZAMA": "10",
                                    "FEROHELY": "3",
                                    "POTAGY": "1",
                                    "KLIMAS": "n",
                                    "SZALLAS_NEV": "Lagúna Hotel"
                                },
                                {
                                    "SZOBA_ID": "59",
                                    "SZALLAS_FK": "6",
                                    "SZOBA_SZAMA": "10",
                                    "FEROHELY": "2",
                                    "POTAGY": "1",
                                    "KLIMAS": "n",
                                    "SZALLAS_NEV": "Kentaur Hotel"
                                },
                                {
                                    "SZOBA_ID": "128",
                                    "SZALLAS_FK": "8",
                                    "SZOBA_SZAMA": "38",
                                    "FEROHELY": "2",
                                    "POTAGY": "1",
                                    "KLIMAS": "i",
                                    "SZALLAS_NEV": "Hotel Három Hattyú"
                                },
                                {
                                    "SZOBA_ID": "88",
                                    "SZALLAS_FK": "7",
                                    "SZOBA_SZAMA": "4",
                                    "FEROHELY": "3",
                                    "POTAGY": "0",
                                    "KLIMAS": "n",
                                    "SZALLAS_NEV": "Szieszta Apartmanház"
                                },
                                {
                                    "SZOBA_ID": "189",
                                    "SZALLAS_FK": "12",
                                    "SZOBA_SZAMA": "25",
                                    "FEROHELY": "2",
                                    "POTAGY": "2",
                                    "KLIMAS": "i",
                                    "SZALLAS_NEV": "Gold Hotel"
                                },
                                {
                                    "SZOBA_ID": "78",
                                    "SZALLAS_FK": "6",
                                    "SZOBA_SZAMA": "29",
                                    "FEROHELY": "2",
                                    "POTAGY": "1",
                                    "KLIMAS": "n",
                                    "SZALLAS_NEV": "Kentaur Hotel"
                                },
                                {
                                    "SZOBA_ID": "148",
                                    "SZALLAS_FK": "10",
                                    "SZOBA_SZAMA": "14",
                                    "FEROHELY": "2",
                                    "POTAGY": "0",
                                    "KLIMAS": "i",
                                    "SZALLAS_NEV": "Lagúna Hotel"
                                },
                                {
                                    "SZOBA_ID": "127",
                                    "SZALLAS_FK": "8",
                                    "SZOBA_SZAMA": "37",
                                    "FEROHELY": "2",
                                    "POTAGY": "1",
                                    "KLIMAS": "i",
                                    "SZALLAS_NEV": "Hotel Három Hattyú"
                                },
                                {
                                    "SZOBA_ID": "67",
                                    "SZALLAS_FK": "6",
                                    "SZOBA_SZAMA": "18",
                                    "FEROHELY": "2",
                                    "POTAGY": "2",
                                    "KLIMAS": "i",
                                    "SZALLAS_NEV": "Kentaur Hotel"
                                },
                                {
                                    "SZOBA_ID": "48",
                                    "SZALLAS_FK": "5",
                                    "SZOBA_SZAMA": "9",
                                    "FEROHELY": "3",
                                    "POTAGY": "0",
                                    "KLIMAS": "i",
                                    "SZALLAS_NEV": "Fortuna Panzió"
                                },
                                {
                                    "SZOBA_ID": "64",
                                    "SZALLAS_FK": "6",
                                    "SZOBA_SZAMA": "15",
                                    "FEROHELY": "2",
                                    "POTAGY": "0",
                                    "KLIMAS": "i",
                                    "SZALLAS_NEV": "Kentaur Hotel"
                                },
                                {
                                    "SZOBA_ID": "128",
                                    "SZALLAS_FK": "8",
                                    "SZOBA_SZAMA": "38",
                                    "FEROHELY": "2",
                                    "POTAGY": "1",
                                    "KLIMAS": "i",
                                    "SZALLAS_NEV": "Hotel Három Hattyú"
                                },
                                {
                                    "SZOBA_ID": "67",
                                    "SZALLAS_FK": "6",
                                    "SZOBA_SZAMA": "18",
                                    "FEROHELY": "2",
                                    "POTAGY": "2",
                                    "KLIMAS": "i",
                                    "SZALLAS_NEV": "Kentaur Hotel"
                                }
                            ]
                        },
                        "text/html": [
                            "<table>",
                            "<tr><th>SZOBA_ID</th><th>SZALLAS_FK</th><th>SZOBA_SZAMA</th><th>FEROHELY</th><th>POTAGY</th><th>KLIMAS</th><th>SZALLAS_NEV</th></tr>",
                            "<tr><td>87</td><td>7</td><td>3</td><td>3</td><td>0</td><td>i</td><td>Szieszta Apartmanház</td></tr>",
                            "<tr><td>131</td><td>9</td><td>2</td><td>2</td><td>0</td><td>n</td><td>Jáde panzió</td></tr>",
                            "<tr><td>6</td><td>1</td><td>6</td><td>3</td><td>0</td><td>i</td><td>Sába-Ház</td></tr>",
                            "<tr><td>42</td><td>5</td><td>3</td><td>2</td><td>1</td><td>i</td><td>Fortuna Panzió</td></tr>",
                            "<tr><td>7</td><td>1</td><td>7</td><td>2</td><td>0</td><td>i</td><td>Sába-Ház</td></tr>",
                            "<tr><td>68</td><td>6</td><td>19</td><td>2</td><td>2</td><td>i</td><td>Kentaur Hotel</td></tr>",
                            "<tr><td>5</td><td>1</td><td>5</td><td>2</td><td>0</td><td>i</td><td>Sába-Ház</td></tr>",
                            "<tr><td>141</td><td>10</td><td>7</td><td>2</td><td>0</td><td>n</td><td>Lagúna Hotel</td></tr>",
                            "<tr><td>21</td><td>3</td><td>5</td><td>2</td><td>1</td><td>i</td><td>Fortuna Apartman</td></tr>",
                            "<tr><td>170</td><td>12</td><td>6</td><td>2</td><td>0</td><td>i</td><td>Gold Hotel</td></tr>",
                            "<tr><td>78</td><td>6</td><td>29</td><td>2</td><td>1</td><td>n</td><td>Kentaur Hotel</td></tr>",
                            "<tr><td>10</td><td>1</td><td>10</td><td>3</td><td>0</td><td>i</td><td>Sába-Ház</td></tr>",
                            "<tr><td>164</td><td>11</td><td>5</td><td>2</td><td>0</td><td>i</td><td>Partiszél Vendégház</td></tr>",
                            "<tr><td>182</td><td>12</td><td>18</td><td>2</td><td>0</td><td>n</td><td>Gold Hotel</td></tr>",
                            "<tr><td>83</td><td>6</td><td>34</td><td>3</td><td>0</td><td>i</td><td>Kentaur Hotel</td></tr>",
                            "<tr><td>169</td><td>12</td><td>5</td><td>2</td><td>1</td><td>i</td><td>Gold Hotel</td></tr>",
                            "<tr><td>171</td><td>12</td><td>7</td><td>2</td><td>1</td><td>i</td><td>Gold Hotel</td></tr>",
                            "<tr><td>155</td><td>10</td><td>21</td><td>3</td><td>1</td><td>n</td><td>Lagúna Hotel</td></tr>",
                            "<tr><td>125</td><td>8</td><td>35</td><td>2</td><td>1</td><td>i</td><td>Hotel Három Hattyú</td></tr>",
                            "<tr><td>155</td><td>10</td><td>21</td><td>3</td><td>1</td><td>n</td><td>Lagúna Hotel</td></tr>",
                            "<tr><td>185</td><td>12</td><td>21</td><td>3</td><td>0</td><td>i</td><td>Gold Hotel</td></tr>",
                            "<tr><td>139</td><td>10</td><td>5</td><td>2</td><td>1</td><td>i</td><td>Lagúna Hotel</td></tr>",
                            "<tr><td>130</td><td>9</td><td>1</td><td>2</td><td>0</td><td>n</td><td>Jáde panzió</td></tr>",
                            "<tr><td>144</td><td>10</td><td>10</td><td>3</td><td>1</td><td>n</td><td>Lagúna Hotel</td></tr>",
                            "<tr><td>137</td><td>10</td><td>3</td><td>2</td><td>1</td><td>i</td><td>Lagúna Hotel</td></tr>",
                            "<tr><td>79</td><td>6</td><td>30</td><td>3</td><td>0</td><td>i</td><td>Kentaur Hotel</td></tr>",
                            "<tr><td>136</td><td>10</td><td>2</td><td>2</td><td>0</td><td>n</td><td>Lagúna Hotel</td></tr>",
                            "<tr><td>70</td><td>6</td><td>21</td><td>2</td><td>1</td><td>i</td><td>Kentaur Hotel</td></tr>",
                            "<tr><td>107</td><td>8</td><td>17</td><td>2</td><td>1</td><td>n</td><td>Hotel Három Hattyú</td></tr>",
                            "<tr><td>123</td><td>8</td><td>33</td><td>3</td><td>0</td><td>n</td><td>Hotel Három Hattyú</td></tr>",
                            "<tr><td>156</td><td>10</td><td>22</td><td>2</td><td>2</td><td>i</td><td>Lagúna Hotel</td></tr>",
                            "<tr><td>44</td><td>5</td><td>5</td><td>3</td><td>0</td><td>i</td><td>Fortuna Panzió</td></tr>",
                            "<tr><td>42</td><td>5</td><td>3</td><td>2</td><td>1</td><td>i</td><td>Fortuna Panzió</td></tr>",
                            "<tr><td>149</td><td>10</td><td>15</td><td>2</td><td>0</td><td>i</td><td>Lagúna Hotel</td></tr>",
                            "<tr><td>176</td><td>12</td><td>12</td><td>3</td><td>1</td><td>i</td><td>Gold Hotel</td></tr>",
                            "<tr><td>77</td><td>6</td><td>28</td><td>3</td><td>1</td><td>i</td><td>Kentaur Hotel</td></tr>",
                            "<tr><td>153</td><td>10</td><td>19</td><td>3</td><td>0</td><td>n</td><td>Lagúna Hotel</td></tr>",
                            "<tr><td>74</td><td>6</td><td>25</td><td>3</td><td>1</td><td>n</td><td>Kentaur Hotel</td></tr>",
                            "<tr><td>115</td><td>8</td><td>25</td><td>3</td><td>0</td><td>i</td><td>Hotel Három Hattyú</td></tr>",
                            "<tr><td>100</td><td>8</td><td>10</td><td>2</td><td>1</td><td>i</td><td>Hotel Három Hattyú</td></tr>",
                            "<tr><td>31</td><td>4</td><td>7</td><td>3</td><td>1</td><td>i</td><td>Fortuna panzió</td></tr>",
                            "<tr><td>162</td><td>11</td><td>3</td><td>3</td><td>0</td><td>n</td><td>Partiszél Vendégház</td></tr>",
                            "<tr><td>190</td><td>12</td><td>26</td><td>2</td><td>0</td><td>i</td><td>Gold Hotel</td></tr>",
                            "<tr><td>39</td><td>4</td><td>15</td><td>2</td><td>0</td><td>i</td><td>Fortuna panzió</td></tr>",
                            "<tr><td>17</td><td>3</td><td>1</td><td>3</td><td>1</td><td>i</td><td>Fortuna Apartman</td></tr>",
                            "<tr><td>48</td><td>5</td><td>9</td><td>3</td><td>0</td><td>i</td><td>Fortuna Panzió</td></tr>",
                            "<tr><td>30</td><td>4</td><td>6</td><td>3</td><td>1</td><td>i</td><td>Fortuna panzió</td></tr>",
                            "<tr><td>111</td><td>8</td><td>21</td><td>2</td><td>1</td><td>i</td><td>Hotel Három Hattyú</td></tr>",
                            "<tr><td>31</td><td>4</td><td>7</td><td>3</td><td>1</td><td>i</td><td>Fortuna panzió</td></tr>",
                            "<tr><td>96</td><td>8</td><td>6</td><td>3</td><td>0</td><td>n</td><td>Hotel Három Hattyú</td></tr>",
                            "<tr><td>184</td><td>12</td><td>20</td><td>2</td><td>0</td><td>n</td><td>Gold Hotel</td></tr>",
                            "<tr><td>9</td><td>1</td><td>9</td><td>3</td><td>1</td><td>i</td><td>Sába-Ház</td></tr>",
                            "<tr><td>106</td><td>8</td><td>16</td><td>2</td><td>0</td><td>i</td><td>Hotel Három Hattyú</td></tr>",
                            "<tr><td>29</td><td>4</td><td>5</td><td>2</td><td>0</td><td>n</td><td>Fortuna panzió</td></tr>",
                            "<tr><td>117</td><td>8</td><td>27</td><td>3</td><td>1</td><td>i</td><td>Hotel Három Hattyú</td></tr>",
                            "<tr><td>130</td><td>9</td><td>1</td><td>2</td><td>0</td><td>n</td><td>Jáde panzió</td></tr>",
                            "<tr><td>109</td><td>8</td><td>19</td><td>2</td><td>1</td><td>i</td><td>Hotel Három Hattyú</td></tr>",
                            "<tr><td>186</td><td>12</td><td>22</td><td>2</td><td>2</td><td>i</td><td>Gold Hotel</td></tr>",
                            "<tr><td>94</td><td>8</td><td>4</td><td>2</td><td>0</td><td>n</td><td>Hotel Három Hattyú</td></tr>",
                            "<tr><td>117</td><td>8</td><td>27</td><td>3</td><td>1</td><td>i</td><td>Hotel Három Hattyú</td></tr>",
                            "<tr><td>105</td><td>8</td><td>15</td><td>2</td><td>0</td><td>i</td><td>Hotel Három Hattyú</td></tr>",
                            "<tr><td>132</td><td>9</td><td>3</td><td>3</td><td>0</td><td>i</td><td>Jáde panzió</td></tr>",
                            "<tr><td>1</td><td>1</td><td>1</td><td>3</td><td>0</td><td>n</td><td>Sába-Ház</td></tr>",
                            "<tr><td>109</td><td>8</td><td>19</td><td>2</td><td>1</td><td>i</td><td>Hotel Három Hattyú</td></tr>",
                            "<tr><td>54</td><td>6</td><td>5</td><td>3</td><td>0</td><td>n</td><td>Kentaur Hotel</td></tr>",
                            "<tr><td>96</td><td>8</td><td>6</td><td>3</td><td>0</td><td>n</td><td>Hotel Három Hattyú</td></tr>",
                            "<tr><td>33</td><td>4</td><td>9</td><td>2</td><td>2</td><td>i</td><td>Fortuna panzió</td></tr>",
                            "<tr><td>63</td><td>6</td><td>14</td><td>2</td><td>0</td><td>n</td><td>Kentaur Hotel</td></tr>",
                            "<tr><td>18</td><td>3</td><td>2</td><td>3</td><td>2</td><td>n</td><td>Fortuna Apartman</td></tr>",
                            "<tr><td>38</td><td>4</td><td>14</td><td>2</td><td>1</td><td>i</td><td>Fortuna panzió</td></tr>",
                            "<tr><td>48</td><td>5</td><td>9</td><td>3</td><td>0</td><td>i</td><td>Fortuna Panzió</td></tr>",
                            "<tr><td>3</td><td>1</td><td>3</td><td>3</td><td>1</td><td>i</td><td>Sába-Ház</td></tr>",
                            "<tr><td>163</td><td>11</td><td>4</td><td>2</td><td>0</td><td>i</td><td>Partiszél Vendégház</td></tr>",
                            "<tr><td>98</td><td>8</td><td>8</td><td>2</td><td>0</td><td>n</td><td>Hotel Három Hattyú</td></tr>",
                            "<tr><td>99</td><td>8</td><td>9</td><td>2</td><td>0</td><td>n</td><td>Hotel Három Hattyú</td></tr>",
                            "<tr><td>187</td><td>12</td><td>23</td><td>3</td><td>1</td><td>i</td><td>Gold Hotel</td></tr>",
                            "<tr><td>193</td><td>12</td><td>29</td><td>3</td><td>2</td><td>n</td><td>Gold Hotel</td></tr>",
                            "<tr><td>97</td><td>8</td><td>7</td><td>3</td><td>2</td><td>n</td><td>Hotel Három Hattyú</td></tr>",
                            "<tr><td>91</td><td>8</td><td>1</td><td>2</td><td>0</td><td>n</td><td>Hotel Három Hattyú</td></tr>",
                            "<tr><td>100</td><td>8</td><td>10</td><td>2</td><td>1</td><td>i</td><td>Hotel Három Hattyú</td></tr>",
                            "<tr><td>67</td><td>6</td><td>18</td><td>2</td><td>2</td><td>i</td><td>Kentaur Hotel</td></tr>",
                            "<tr><td>161</td><td>11</td><td>2</td><td>2</td><td>2</td><td>i</td><td>Partiszél Vendégház</td></tr>",
                            "<tr><td>165</td><td>12</td><td>1</td><td>2</td><td>0</td><td>n</td><td>Gold Hotel</td></tr>",
                            "<tr><td>150</td><td>10</td><td>16</td><td>2</td><td>1</td><td>i</td><td>Lagúna Hotel</td></tr>",
                            "<tr><td>54</td><td>6</td><td>5</td><td>3</td><td>0</td><td>n</td><td>Kentaur Hotel</td></tr>",
                            "<tr><td>127</td><td>8</td><td>37</td><td>2</td><td>1</td><td>i</td><td>Hotel Három Hattyú</td></tr>",
                            "<tr><td>166</td><td>12</td><td>2</td><td>2</td><td>1</td><td>i</td><td>Gold Hotel</td></tr>",
                            "<tr><td>67</td><td>6</td><td>18</td><td>2</td><td>2</td><td>i</td><td>Kentaur Hotel</td></tr>",
                            "<tr><td>78</td><td>6</td><td>29</td><td>2</td><td>1</td><td>n</td><td>Kentaur Hotel</td></tr>",
                            "<tr><td>85</td><td>7</td><td>1</td><td>2</td><td>1</td><td>n</td><td>Szieszta Apartmanház</td></tr>",
                            "<tr><td>157</td><td>10</td><td>23</td><td>2</td><td>0</td><td>n</td><td>Lagúna Hotel</td></tr>",
                            "<tr><td>137</td><td>10</td><td>3</td><td>2</td><td>1</td><td>i</td><td>Lagúna Hotel</td></tr>",
                            "<tr><td>65</td><td>6</td><td>16</td><td>2</td><td>0</td><td>n</td><td>Kentaur Hotel</td></tr>",
                            "<tr><td>4</td><td>1</td><td>4</td><td>2</td><td>1</td><td>i</td><td>Sába-Ház</td></tr>",
                            "<tr><td>149</td><td>10</td><td>15</td><td>2</td><td>0</td><td>i</td><td>Lagúna Hotel</td></tr>",
                            "<tr><td>161</td><td>11</td><td>2</td><td>2</td><td>2</td><td>i</td><td>Partiszél Vendégház</td></tr>",
                            "<tr><td>109</td><td>8</td><td>19</td><td>2</td><td>1</td><td>i</td><td>Hotel Három Hattyú</td></tr>",
                            "<tr><td>131</td><td>9</td><td>2</td><td>2</td><td>0</td><td>n</td><td>Jáde panzió</td></tr>",
                            "<tr><td>95</td><td>8</td><td>5</td><td>3</td><td>1</td><td>i</td><td>Hotel Három Hattyú</td></tr>",
                            "<tr><td>137</td><td>10</td><td>3</td><td>2</td><td>1</td><td>i</td><td>Lagúna Hotel</td></tr>",
                            "<tr><td>44</td><td>5</td><td>5</td><td>3</td><td>0</td><td>i</td><td>Fortuna Panzió</td></tr>",
                            "<tr><td>169</td><td>12</td><td>5</td><td>2</td><td>1</td><td>i</td><td>Gold Hotel</td></tr>",
                            "<tr><td>21</td><td>3</td><td>5</td><td>2</td><td>1</td><td>i</td><td>Fortuna Apartman</td></tr>",
                            "<tr><td>136</td><td>10</td><td>2</td><td>2</td><td>0</td><td>n</td><td>Lagúna Hotel</td></tr>",
                            "<tr><td>179</td><td>12</td><td>15</td><td>3</td><td>2</td><td>i</td><td>Gold Hotel</td></tr>",
                            "<tr><td>14</td><td>2</td><td>2</td><td>3</td><td>2</td><td>i</td><td>Családi Ház</td></tr>",
                            "<tr><td>146</td><td>10</td><td>12</td><td>3</td><td>0</td><td>i</td><td>Lagúna Hotel</td></tr>",
                            "<tr><td>94</td><td>8</td><td>4</td><td>2</td><td>0</td><td>n</td><td>Hotel Három Hattyú</td></tr>",
                            "<tr><td>3</td><td>1</td><td>3</td><td>3</td><td>1</td><td>i</td><td>Sába-Ház</td></tr>",
                            "<tr><td>80</td><td>6</td><td>31</td><td>2</td><td>1</td><td>i</td><td>Kentaur Hotel</td></tr>",
                            "<tr><td>54</td><td>6</td><td>5</td><td>3</td><td>0</td><td>n</td><td>Kentaur Hotel</td></tr>",
                            "<tr><td>173</td><td>12</td><td>9</td><td>2</td><td>0</td><td>i</td><td>Gold Hotel</td></tr>",
                            "<tr><td>43</td><td>5</td><td>4</td><td>3</td><td>0</td><td>i</td><td>Fortuna Panzió</td></tr>",
                            "<tr><td>96</td><td>8</td><td>6</td><td>3</td><td>0</td><td>n</td><td>Hotel Három Hattyú</td></tr>",
                            "<tr><td>185</td><td>12</td><td>21</td><td>3</td><td>0</td><td>i</td><td>Gold Hotel</td></tr>",
                            "<tr><td>196</td><td>12</td><td>32</td><td>2</td><td>1</td><td>i</td><td>Gold Hotel</td></tr>",
                            "<tr><td>83</td><td>6</td><td>34</td><td>3</td><td>0</td><td>i</td><td>Kentaur Hotel</td></tr>",
                            "<tr><td>193</td><td>12</td><td>29</td><td>3</td><td>2</td><td>n</td><td>Gold Hotel</td></tr>",
                            "<tr><td>60</td><td>6</td><td>11</td><td>3</td><td>0</td><td>i</td><td>Kentaur Hotel</td></tr>",
                            "<tr><td>181</td><td>12</td><td>17</td><td>3</td><td>0</td><td>i</td><td>Gold Hotel</td></tr>",
                            "<tr><td>148</td><td>10</td><td>14</td><td>2</td><td>0</td><td>i</td><td>Lagúna Hotel</td></tr>",
                            "<tr><td>185</td><td>12</td><td>21</td><td>3</td><td>0</td><td>i</td><td>Gold Hotel</td></tr>",
                            "<tr><td>192</td><td>12</td><td>28</td><td>2</td><td>1</td><td>i</td><td>Gold Hotel</td></tr>",
                            "<tr><td>71</td><td>6</td><td>22</td><td>3</td><td>0</td><td>i</td><td>Kentaur Hotel</td></tr>",
                            "<tr><td>174</td><td>12</td><td>10</td><td>2</td><td>0</td><td>i</td><td>Gold Hotel</td></tr>",
                            "<tr><td>76</td><td>6</td><td>27</td><td>2</td><td>0</td><td>i</td><td>Kentaur Hotel</td></tr>",
                            "<tr><td>184</td><td>12</td><td>20</td><td>2</td><td>0</td><td>n</td><td>Gold Hotel</td></tr>",
                            "<tr><td>110</td><td>8</td><td>20</td><td>2</td><td>0</td><td>i</td><td>Hotel Három Hattyú</td></tr>",
                            "<tr><td>35</td><td>4</td><td>11</td><td>3</td><td>0</td><td>i</td><td>Fortuna panzió</td></tr>",
                            "<tr><td>16</td><td>2</td><td>4</td><td>3</td><td>1</td><td>i</td><td>Családi Ház</td></tr>",
                            "<tr><td>37</td><td>4</td><td>13</td><td>2</td><td>1</td><td>i</td><td>Fortuna panzió</td></tr>",
                            "<tr><td>102</td><td>8</td><td>12</td><td>2</td><td>1</td><td>i</td><td>Hotel Három Hattyú</td></tr>",
                            "<tr><td>188</td><td>12</td><td>24</td><td>3</td><td>0</td><td>i</td><td>Gold Hotel</td></tr>",
                            "<tr><td>99</td><td>8</td><td>9</td><td>2</td><td>0</td><td>n</td><td>Hotel Három Hattyú</td></tr>",
                            "<tr><td>156</td><td>10</td><td>22</td><td>2</td><td>2</td><td>i</td><td>Lagúna Hotel</td></tr>",
                            "<tr><td>185</td><td>12</td><td>21</td><td>3</td><td>0</td><td>i</td><td>Gold Hotel</td></tr>",
                            "<tr><td>8</td><td>1</td><td>8</td><td>3</td><td>0</td><td>n</td><td>Sába-Ház</td></tr>",
                            "<tr><td>187</td><td>12</td><td>23</td><td>3</td><td>1</td><td>i</td><td>Gold Hotel</td></tr>",
                            "<tr><td>19</td><td>3</td><td>3</td><td>2</td><td>1</td><td>i</td><td>Fortuna Apartman</td></tr>",
                            "<tr><td>12</td><td>1</td><td>12</td><td>2</td><td>1</td><td>i</td><td>Sába-Ház</td></tr>",
                            "<tr><td>77</td><td>6</td><td>28</td><td>3</td><td>1</td><td>i</td><td>Kentaur Hotel</td></tr>",
                            "<tr><td>189</td><td>12</td><td>25</td><td>2</td><td>2</td><td>i</td><td>Gold Hotel</td></tr>",
                            "<tr><td>78</td><td>6</td><td>29</td><td>2</td><td>1</td><td>n</td><td>Kentaur Hotel</td></tr>",
                            "<tr><td>61</td><td>6</td><td>12</td><td>3</td><td>0</td><td>i</td><td>Kentaur Hotel</td></tr>",
                            "<tr><td>62</td><td>6</td><td>13</td><td>2</td><td>0</td><td>n</td><td>Kentaur Hotel</td></tr>",
                            "<tr><td>145</td><td>10</td><td>11</td><td>2</td><td>2</td><td>i</td><td>Lagúna Hotel</td></tr>",
                            "<tr><td>70</td><td>6</td><td>21</td><td>2</td><td>1</td><td>i</td><td>Kentaur Hotel</td></tr>",
                            "<tr><td>37</td><td>4</td><td>13</td><td>2</td><td>1</td><td>i</td><td>Fortuna panzió</td></tr>",
                            "<tr><td>119</td><td>8</td><td>29</td><td>2</td><td>0</td><td>i</td><td>Hotel Három Hattyú</td></tr>",
                            "<tr><td>35</td><td>4</td><td>11</td><td>3</td><td>0</td><td>i</td><td>Fortuna panzió</td></tr>",
                            "<tr><td>106</td><td>8</td><td>16</td><td>2</td><td>0</td><td>i</td><td>Hotel Három Hattyú</td></tr>",
                            "<tr><td>172</td><td>12</td><td>8</td><td>2</td><td>2</td><td>n</td><td>Gold Hotel</td></tr>",
                            "<tr><td>188</td><td>12</td><td>24</td><td>3</td><td>0</td><td>i</td><td>Gold Hotel</td></tr>",
                            "<tr><td>185</td><td>12</td><td>21</td><td>3</td><td>0</td><td>i</td><td>Gold Hotel</td></tr>",
                            "<tr><td>71</td><td>6</td><td>22</td><td>3</td><td>0</td><td>i</td><td>Kentaur Hotel</td></tr>",
                            "<tr><td>17</td><td>3</td><td>1</td><td>3</td><td>1</td><td>i</td><td>Fortuna Apartman</td></tr>",
                            "<tr><td>73</td><td>6</td><td>24</td><td>2</td><td>1</td><td>i</td><td>Kentaur Hotel</td></tr>",
                            "<tr><td>101</td><td>8</td><td>11</td><td>2</td><td>0</td><td>i</td><td>Hotel Három Hattyú</td></tr>",
                            "<tr><td>118</td><td>8</td><td>28</td><td>2</td><td>1</td><td>i</td><td>Hotel Három Hattyú</td></tr>",
                            "<tr><td>128</td><td>8</td><td>38</td><td>2</td><td>1</td><td>i</td><td>Hotel Három Hattyú</td></tr>",
                            "<tr><td>97</td><td>8</td><td>7</td><td>3</td><td>2</td><td>n</td><td>Hotel Három Hattyú</td></tr>",
                            "<tr><td>58</td><td>6</td><td>9</td><td>2</td><td>1</td><td>i</td><td>Kentaur Hotel</td></tr>",
                            "<tr><td>160</td><td>11</td><td>1</td><td>3</td><td>1</td><td>i</td><td>Partiszél Vendégház</td></tr>",
                            "<tr><td>195</td><td>12</td><td>31</td><td>2</td><td>0</td><td>i</td><td>Gold Hotel</td></tr>",
                            "<tr><td>119</td><td>8</td><td>29</td><td>2</td><td>0</td><td>i</td><td>Hotel Három Hattyú</td></tr>",
                            "<tr><td>129</td><td>8</td><td>39</td><td>2</td><td>1</td><td>i</td><td>Hotel Három Hattyú</td></tr>",
                            "<tr><td>135</td><td>10</td><td>1</td><td>3</td><td>0</td><td>i</td><td>Lagúna Hotel</td></tr>",
                            "<tr><td>28</td><td>4</td><td>4</td><td>2</td><td>1</td><td>i</td><td>Fortuna panzió</td></tr>",
                            "<tr><td>97</td><td>8</td><td>7</td><td>3</td><td>2</td><td>n</td><td>Hotel Három Hattyú</td></tr>",
                            "<tr><td>94</td><td>8</td><td>4</td><td>2</td><td>0</td><td>n</td><td>Hotel Három Hattyú</td></tr>",
                            "<tr><td>31</td><td>4</td><td>7</td><td>3</td><td>1</td><td>i</td><td>Fortuna panzió</td></tr>",
                            "<tr><td>90</td><td>7</td><td>6</td><td>3</td><td>0</td><td>i</td><td>Szieszta Apartmanház</td></tr>",
                            "<tr><td>152</td><td>10</td><td>18</td><td>2</td><td>0</td><td>i</td><td>Lagúna Hotel</td></tr>",
                            "<tr><td>181</td><td>12</td><td>17</td><td>3</td><td>0</td><td>i</td><td>Gold Hotel</td></tr>",
                            "<tr><td>91</td><td>8</td><td>1</td><td>2</td><td>0</td><td>n</td><td>Hotel Három Hattyú</td></tr>",
                            "<tr><td>140</td><td>10</td><td>6</td><td>2</td><td>1</td><td>i</td><td>Lagúna Hotel</td></tr>",
                            "<tr><td>55</td><td>6</td><td>6</td><td>2</td><td>1</td><td>i</td><td>Kentaur Hotel</td></tr>",
                            "<tr><td>121</td><td>8</td><td>31</td><td>2</td><td>1</td><td>i</td><td>Hotel Három Hattyú</td></tr>",
                            "<tr><td>66</td><td>6</td><td>17</td><td>3</td><td>0</td><td>n</td><td>Kentaur Hotel</td></tr>",
                            "<tr><td>114</td><td>8</td><td>24</td><td>2</td><td>1</td><td>n</td><td>Hotel Három Hattyú</td></tr>",
                            "<tr><td>1</td><td>1</td><td>1</td><td>3</td><td>0</td><td>n</td><td>Sába-Ház</td></tr>",
                            "<tr><td>121</td><td>8</td><td>31</td><td>2</td><td>1</td><td>i</td><td>Hotel Három Hattyú</td></tr>",
                            "<tr><td>182</td><td>12</td><td>18</td><td>2</td><td>0</td><td>n</td><td>Gold Hotel</td></tr>",
                            "<tr><td>93</td><td>8</td><td>3</td><td>3</td><td>2</td><td>i</td><td>Hotel Három Hattyú</td></tr>",
                            "<tr><td>164</td><td>11</td><td>5</td><td>2</td><td>0</td><td>i</td><td>Partiszél Vendégház</td></tr>",
                            "<tr><td>187</td><td>12</td><td>23</td><td>3</td><td>1</td><td>i</td><td>Gold Hotel</td></tr>",
                            "<tr><td>17</td><td>3</td><td>1</td><td>3</td><td>1</td><td>i</td><td>Fortuna Apartman</td></tr>",
                            "<tr><td>139</td><td>10</td><td>5</td><td>2</td><td>1</td><td>i</td><td>Lagúna Hotel</td></tr>",
                            "<tr><td>169</td><td>12</td><td>5</td><td>2</td><td>1</td><td>i</td><td>Gold Hotel</td></tr>",
                            "<tr><td>188</td><td>12</td><td>24</td><td>3</td><td>0</td><td>i</td><td>Gold Hotel</td></tr>",
                            "<tr><td>36</td><td>4</td><td>12</td><td>3</td><td>2</td><td>i</td><td>Fortuna panzió</td></tr>",
                            "<tr><td>172</td><td>12</td><td>8</td><td>2</td><td>2</td><td>n</td><td>Gold Hotel</td></tr>",
                            "<tr><td>36</td><td>4</td><td>12</td><td>3</td><td>2</td><td>i</td><td>Fortuna panzió</td></tr>",
                            "<tr><td>139</td><td>10</td><td>5</td><td>2</td><td>1</td><td>i</td><td>Lagúna Hotel</td></tr>",
                            "<tr><td>46</td><td>5</td><td>7</td><td>3</td><td>0</td><td>i</td><td>Fortuna Panzió</td></tr>",
                            "<tr><td>189</td><td>12</td><td>25</td><td>2</td><td>2</td><td>i</td><td>Gold Hotel</td></tr>",
                            "<tr><td>126</td><td>8</td><td>36</td><td>2</td><td>1</td><td>n</td><td>Hotel Három Hattyú</td></tr>",
                            "<tr><td>20</td><td>3</td><td>4</td><td>3</td><td>0</td><td>i</td><td>Fortuna Apartman</td></tr>",
                            "<tr><td>61</td><td>6</td><td>12</td><td>3</td><td>0</td><td>i</td><td>Kentaur Hotel</td></tr>",
                            "<tr><td>88</td><td>7</td><td>4</td><td>3</td><td>0</td><td>n</td><td>Szieszta Apartmanház</td></tr>",
                            "<tr><td>27</td><td>4</td><td>3</td><td>3</td><td>1</td><td>n</td><td>Fortuna panzió</td></tr>",
                            "<tr><td>7</td><td>1</td><td>7</td><td>2</td><td>0</td><td>i</td><td>Sába-Ház</td></tr>",
                            "<tr><td>131</td><td>9</td><td>2</td><td>2</td><td>0</td><td>n</td><td>Jáde panzió</td></tr>",
                            "<tr><td>141</td><td>10</td><td>7</td><td>2</td><td>0</td><td>n</td><td>Lagúna Hotel</td></tr>",
                            "<tr><td>120</td><td>8</td><td>30</td><td>3</td><td>1</td><td>i</td><td>Hotel Három Hattyú</td></tr>",
                            "<tr><td>13</td><td>2</td><td>1</td><td>3</td><td>0</td><td>i</td><td>Családi Ház</td></tr>",
                            "<tr><td>197</td><td>12</td><td>33</td><td>3</td><td>0</td><td>i</td><td>Gold Hotel</td></tr>",
                            "<tr><td>148</td><td>10</td><td>14</td><td>2</td><td>0</td><td>i</td><td>Lagúna Hotel</td></tr>",
                            "<tr><td>187</td><td>12</td><td>23</td><td>3</td><td>1</td><td>i</td><td>Gold Hotel</td></tr>",
                            "<tr><td>18</td><td>3</td><td>2</td><td>3</td><td>2</td><td>n</td><td>Fortuna Apartman</td></tr>",
                            "<tr><td>138</td><td>10</td><td>4</td><td>3</td><td>1</td><td>i</td><td>Lagúna Hotel</td></tr>",
                            "<tr><td>63</td><td>6</td><td>14</td><td>2</td><td>0</td><td>n</td><td>Kentaur Hotel</td></tr>",
                            "<tr><td>42</td><td>5</td><td>3</td><td>2</td><td>1</td><td>i</td><td>Fortuna Panzió</td></tr>",
                            "<tr><td>147</td><td>10</td><td>13</td><td>2</td><td>0</td><td>i</td><td>Lagúna Hotel</td></tr>",
                            "<tr><td>6</td><td>1</td><td>6</td><td>3</td><td>0</td><td>i</td><td>Sába-Ház</td></tr>",
                            "<tr><td>58</td><td>6</td><td>9</td><td>2</td><td>1</td><td>i</td><td>Kentaur Hotel</td></tr>",
                            "<tr><td>190</td><td>12</td><td>26</td><td>2</td><td>0</td><td>i</td><td>Gold Hotel</td></tr>",
                            "<tr><td>12</td><td>1</td><td>12</td><td>2</td><td>1</td><td>i</td><td>Sába-Ház</td></tr>",
                            "<tr><td>112</td><td>8</td><td>22</td><td>3</td><td>0</td><td>i</td><td>Hotel Három Hattyú</td></tr>",
                            "<tr><td>34</td><td>4</td><td>10</td><td>3</td><td>1</td><td>i</td><td>Fortuna panzió</td></tr>",
                            "<tr><td>19</td><td>3</td><td>3</td><td>2</td><td>1</td><td>i</td><td>Fortuna Apartman</td></tr>",
                            "<tr><td>130</td><td>9</td><td>1</td><td>2</td><td>0</td><td>n</td><td>Jáde panzió</td></tr>",
                            "<tr><td>96</td><td>8</td><td>6</td><td>3</td><td>0</td><td>n</td><td>Hotel Három Hattyú</td></tr>",
                            "<tr><td>166</td><td>12</td><td>2</td><td>2</td><td>1</td><td>i</td><td>Gold Hotel</td></tr>",
                            "<tr><td>163</td><td>11</td><td>4</td><td>2</td><td>0</td><td>i</td><td>Partiszél Vendégház</td></tr>",
                            "<tr><td>148</td><td>10</td><td>14</td><td>2</td><td>0</td><td>i</td><td>Lagúna Hotel</td></tr>",
                            "<tr><td>141</td><td>10</td><td>7</td><td>2</td><td>0</td><td>n</td><td>Lagúna Hotel</td></tr>",
                            "<tr><td>177</td><td>12</td><td>13</td><td>3</td><td>2</td><td>i</td><td>Gold Hotel</td></tr>",
                            "<tr><td>111</td><td>8</td><td>21</td><td>2</td><td>1</td><td>i</td><td>Hotel Három Hattyú</td></tr>",
                            "<tr><td>50</td><td>6</td><td>1</td><td>2</td><td>0</td><td>n</td><td>Kentaur Hotel</td></tr>",
                            "<tr><td>3</td><td>1</td><td>3</td><td>3</td><td>1</td><td>i</td><td>Sába-Ház</td></tr>",
                            "<tr><td>146</td><td>10</td><td>12</td><td>3</td><td>0</td><td>i</td><td>Lagúna Hotel</td></tr>",
                            "<tr><td>10</td><td>1</td><td>10</td><td>3</td><td>0</td><td>i</td><td>Sába-Ház</td></tr>",
                            "<tr><td>15</td><td>2</td><td>3</td><td>2</td><td>1</td><td>i</td><td>Családi Ház</td></tr>",
                            "<tr><td>168</td><td>12</td><td>4</td><td>2</td><td>2</td><td>i</td><td>Gold Hotel</td></tr>",
                            "<tr><td>49</td><td>5</td><td>10</td><td>3</td><td>0</td><td>i</td><td>Fortuna Panzió</td></tr>",
                            "<tr><td>168</td><td>12</td><td>4</td><td>2</td><td>2</td><td>i</td><td>Gold Hotel</td></tr>",
                            "<tr><td>10</td><td>1</td><td>10</td><td>3</td><td>0</td><td>i</td><td>Sába-Ház</td></tr>",
                            "<tr><td>138</td><td>10</td><td>4</td><td>3</td><td>1</td><td>i</td><td>Lagúna Hotel</td></tr>",
                            "<tr><td>74</td><td>6</td><td>25</td><td>3</td><td>1</td><td>n</td><td>Kentaur Hotel</td></tr>",
                            "<tr><td>83</td><td>6</td><td>34</td><td>3</td><td>0</td><td>i</td><td>Kentaur Hotel</td></tr>",
                            "<tr><td>175</td><td>12</td><td>11</td><td>2</td><td>0</td><td>i</td><td>Gold Hotel</td></tr>",
                            "<tr><td>45</td><td>5</td><td>6</td><td>2</td><td>0</td><td>n</td><td>Fortuna Panzió</td></tr>",
                            "<tr><td>112</td><td>8</td><td>22</td><td>3</td><td>0</td><td>i</td><td>Hotel Három Hattyú</td></tr>",
                            "<tr><td>45</td><td>5</td><td>6</td><td>2</td><td>0</td><td>n</td><td>Fortuna Panzió</td></tr>",
                            "<tr><td>1</td><td>1</td><td>1</td><td>3</td><td>0</td><td>n</td><td>Sába-Ház</td></tr>",
                            "<tr><td>146</td><td>10</td><td>12</td><td>3</td><td>0</td><td>i</td><td>Lagúna Hotel</td></tr>",
                            "<tr><td>21</td><td>3</td><td>5</td><td>2</td><td>1</td><td>i</td><td>Fortuna Apartman</td></tr>",
                            "<tr><td>126</td><td>8</td><td>36</td><td>2</td><td>1</td><td>n</td><td>Hotel Három Hattyú</td></tr>",
                            "<tr><td>27</td><td>4</td><td>3</td><td>3</td><td>1</td><td>n</td><td>Fortuna panzió</td></tr>",
                            "<tr><td>148</td><td>10</td><td>14</td><td>2</td><td>0</td><td>i</td><td>Lagúna Hotel</td></tr>",
                            "<tr><td>92</td><td>8</td><td>2</td><td>3</td><td>1</td><td>i</td><td>Hotel Három Hattyú</td></tr>",
                            "<tr><td>109</td><td>8</td><td>19</td><td>2</td><td>1</td><td>i</td><td>Hotel Három Hattyú</td></tr>",
                            "<tr><td>51</td><td>6</td><td>2</td><td>3</td><td>1</td><td>i</td><td>Kentaur Hotel</td></tr>",
                            "<tr><td>148</td><td>10</td><td>14</td><td>2</td><td>0</td><td>i</td><td>Lagúna Hotel</td></tr>",
                            "<tr><td>14</td><td>2</td><td>2</td><td>3</td><td>2</td><td>i</td><td>Családi Ház</td></tr>",
                            "<tr><td>70</td><td>6</td><td>21</td><td>2</td><td>1</td><td>i</td><td>Kentaur Hotel</td></tr>",
                            "<tr><td>128</td><td>8</td><td>38</td><td>2</td><td>1</td><td>i</td><td>Hotel Három Hattyú</td></tr>",
                            "<tr><td>178</td><td>12</td><td>14</td><td>3</td><td>0</td><td>i</td><td>Gold Hotel</td></tr>",
                            "<tr><td>89</td><td>7</td><td>5</td><td>3</td><td>0</td><td>i</td><td>Szieszta Apartmanház</td></tr>",
                            "<tr><td>8</td><td>1</td><td>8</td><td>3</td><td>0</td><td>n</td><td>Sába-Ház</td></tr>",
                            "<tr><td>84</td><td>6</td><td>35</td><td>3</td><td>0</td><td>i</td><td>Kentaur Hotel</td></tr>",
                            "<tr><td>20</td><td>3</td><td>4</td><td>3</td><td>0</td><td>i</td><td>Fortuna Apartman</td></tr>",
                            "<tr><td>34</td><td>4</td><td>10</td><td>3</td><td>1</td><td>i</td><td>Fortuna panzió</td></tr>",
                            "<tr><td>52</td><td>6</td><td>3</td><td>2</td><td>1</td><td>i</td><td>Kentaur Hotel</td></tr>",
                            "<tr><td>44</td><td>5</td><td>5</td><td>3</td><td>0</td><td>i</td><td>Fortuna Panzió</td></tr>",
                            "<tr><td>48</td><td>5</td><td>9</td><td>3</td><td>0</td><td>i</td><td>Fortuna Panzió</td></tr>",
                            "<tr><td>158</td><td>10</td><td>24</td><td>2</td><td>1</td><td>n</td><td>Lagúna Hotel</td></tr>",
                            "<tr><td>49</td><td>5</td><td>10</td><td>3</td><td>0</td><td>i</td><td>Fortuna Panzió</td></tr>",
                            "<tr><td>114</td><td>8</td><td>24</td><td>2</td><td>1</td><td>n</td><td>Hotel Három Hattyú</td></tr>",
                            "<tr><td>2</td><td>1</td><td>2</td><td>3</td><td>1</td><td>i</td><td>Sába-Ház</td></tr>",
                            "<tr><td>35</td><td>4</td><td>11</td><td>3</td><td>0</td><td>i</td><td>Fortuna panzió</td></tr>",
                            "<tr><td>74</td><td>6</td><td>25</td><td>3</td><td>1</td><td>n</td><td>Kentaur Hotel</td></tr>",
                            "<tr><td>177</td><td>12</td><td>13</td><td>3</td><td>2</td><td>i</td><td>Gold Hotel</td></tr>",
                            "<tr><td>8</td><td>1</td><td>8</td><td>3</td><td>0</td><td>n</td><td>Sába-Ház</td></tr>",
                            "<tr><td>149</td><td>10</td><td>15</td><td>2</td><td>0</td><td>i</td><td>Lagúna Hotel</td></tr>",
                            "<tr><td>149</td><td>10</td><td>15</td><td>2</td><td>0</td><td>i</td><td>Lagúna Hotel</td></tr>",
                            "<tr><td>193</td><td>12</td><td>29</td><td>3</td><td>2</td><td>n</td><td>Gold Hotel</td></tr>",
                            "<tr><td>97</td><td>8</td><td>7</td><td>3</td><td>2</td><td>n</td><td>Hotel Három Hattyú</td></tr>",
                            "<tr><td>104</td><td>8</td><td>14</td><td>3</td><td>0</td><td>i</td><td>Hotel Három Hattyú</td></tr>",
                            "<tr><td>56</td><td>6</td><td>7</td><td>2</td><td>0</td><td>i</td><td>Kentaur Hotel</td></tr>",
                            "<tr><td>172</td><td>12</td><td>8</td><td>2</td><td>2</td><td>n</td><td>Gold Hotel</td></tr>",
                            "<tr><td>158</td><td>10</td><td>24</td><td>2</td><td>1</td><td>n</td><td>Lagúna Hotel</td></tr>",
                            "<tr><td>92</td><td>8</td><td>2</td><td>3</td><td>1</td><td>i</td><td>Hotel Három Hattyú</td></tr>",
                            "<tr><td>195</td><td>12</td><td>31</td><td>2</td><td>0</td><td>i</td><td>Gold Hotel</td></tr>",
                            "<tr><td>149</td><td>10</td><td>15</td><td>2</td><td>0</td><td>i</td><td>Lagúna Hotel</td></tr>",
                            "<tr><td>87</td><td>7</td><td>3</td><td>3</td><td>0</td><td>i</td><td>Szieszta Apartmanház</td></tr>",
                            "<tr><td>63</td><td>6</td><td>14</td><td>2</td><td>0</td><td>n</td><td>Kentaur Hotel</td></tr>",
                            "<tr><td>45</td><td>5</td><td>6</td><td>2</td><td>0</td><td>n</td><td>Fortuna Panzió</td></tr>",
                            "<tr><td>74</td><td>6</td><td>25</td><td>3</td><td>1</td><td>n</td><td>Kentaur Hotel</td></tr>",
                            "<tr><td>23</td><td>3</td><td>7</td><td>2</td><td>0</td><td>n</td><td>Fortuna Apartman</td></tr>",
                            "<tr><td>135</td><td>10</td><td>1</td><td>3</td><td>0</td><td>i</td><td>Lagúna Hotel</td></tr>",
                            "<tr><td>6</td><td>1</td><td>6</td><td>3</td><td>0</td><td>i</td><td>Sába-Ház</td></tr>",
                            "<tr><td>42</td><td>5</td><td>3</td><td>2</td><td>1</td><td>i</td><td>Fortuna Panzió</td></tr>",
                            "<tr><td>24</td><td>3</td><td>8</td><td>4</td><td>1</td><td>i</td><td>Fortuna Apartman</td></tr>",
                            "<tr><td>127</td><td>8</td><td>37</td><td>2</td><td>1</td><td>i</td><td>Hotel Három Hattyú</td></tr>",
                            "<tr><td>167</td><td>12</td><td>3</td><td>3</td><td>0</td><td>i</td><td>Gold Hotel</td></tr>",
                            "<tr><td>53</td><td>6</td><td>4</td><td>2</td><td>1</td><td>i</td><td>Kentaur Hotel</td></tr>",
                            "<tr><td>16</td><td>2</td><td>4</td><td>3</td><td>1</td><td>i</td><td>Családi Ház</td></tr>",
                            "<tr><td>165</td><td>12</td><td>1</td><td>2</td><td>0</td><td>n</td><td>Gold Hotel</td></tr>",
                            "<tr><td>121</td><td>8</td><td>31</td><td>2</td><td>1</td><td>i</td><td>Hotel Három Hattyú</td></tr>",
                            "<tr><td>86</td><td>7</td><td>2</td><td>2</td><td>1</td><td>i</td><td>Szieszta Apartmanház</td></tr>",
                            "<tr><td>70</td><td>6</td><td>21</td><td>2</td><td>1</td><td>i</td><td>Kentaur Hotel</td></tr>",
                            "<tr><td>124</td><td>8</td><td>34</td><td>3</td><td>0</td><td>n</td><td>Hotel Három Hattyú</td></tr>",
                            "<tr><td>82</td><td>6</td><td>33</td><td>3</td><td>0</td><td>i</td><td>Kentaur Hotel</td></tr>",
                            "<tr><td>185</td><td>12</td><td>21</td><td>3</td><td>0</td><td>i</td><td>Gold Hotel</td></tr>",
                            "<tr><td>118</td><td>8</td><td>28</td><td>2</td><td>1</td><td>i</td><td>Hotel Három Hattyú</td></tr>",
                            "<tr><td>51</td><td>6</td><td>2</td><td>3</td><td>1</td><td>i</td><td>Kentaur Hotel</td></tr>",
                            "<tr><td>88</td><td>7</td><td>4</td><td>3</td><td>0</td><td>n</td><td>Szieszta Apartmanház</td></tr>",
                            "<tr><td>175</td><td>12</td><td>11</td><td>2</td><td>0</td><td>i</td><td>Gold Hotel</td></tr>",
                            "<tr><td>187</td><td>12</td><td>23</td><td>3</td><td>1</td><td>i</td><td>Gold Hotel</td></tr>",
                            "<tr><td>83</td><td>6</td><td>34</td><td>3</td><td>0</td><td>i</td><td>Kentaur Hotel</td></tr>",
                            "<tr><td>34</td><td>4</td><td>10</td><td>3</td><td>1</td><td>i</td><td>Fortuna panzió</td></tr>",
                            "<tr><td>82</td><td>6</td><td>33</td><td>3</td><td>0</td><td>i</td><td>Kentaur Hotel</td></tr>",
                            "<tr><td>28</td><td>4</td><td>4</td><td>2</td><td>1</td><td>i</td><td>Fortuna panzió</td></tr>",
                            "<tr><td>6</td><td>1</td><td>6</td><td>3</td><td>0</td><td>i</td><td>Sába-Ház</td></tr>",
                            "<tr><td>67</td><td>6</td><td>18</td><td>2</td><td>2</td><td>i</td><td>Kentaur Hotel</td></tr>",
                            "<tr><td>64</td><td>6</td><td>15</td><td>2</td><td>0</td><td>i</td><td>Kentaur Hotel</td></tr>",
                            "<tr><td>12</td><td>1</td><td>12</td><td>2</td><td>1</td><td>i</td><td>Sába-Ház</td></tr>",
                            "<tr><td>74</td><td>6</td><td>25</td><td>3</td><td>1</td><td>n</td><td>Kentaur Hotel</td></tr>",
                            "<tr><td>83</td><td>6</td><td>34</td><td>3</td><td>0</td><td>i</td><td>Kentaur Hotel</td></tr>",
                            "<tr><td>127</td><td>8</td><td>37</td><td>2</td><td>1</td><td>i</td><td>Hotel Három Hattyú</td></tr>",
                            "<tr><td>184</td><td>12</td><td>20</td><td>2</td><td>0</td><td>n</td><td>Gold Hotel</td></tr>",
                            "<tr><td>131</td><td>9</td><td>2</td><td>2</td><td>0</td><td>n</td><td>Jáde panzió</td></tr>",
                            "<tr><td>8</td><td>1</td><td>8</td><td>3</td><td>0</td><td>n</td><td>Sába-Ház</td></tr>",
                            "<tr><td>58</td><td>6</td><td>9</td><td>2</td><td>1</td><td>i</td><td>Kentaur Hotel</td></tr>",
                            "<tr><td>98</td><td>8</td><td>8</td><td>2</td><td>0</td><td>n</td><td>Hotel Három Hattyú</td></tr>",
                            "<tr><td>69</td><td>6</td><td>20</td><td>3</td><td>1</td><td>n</td><td>Kentaur Hotel</td></tr>",
                            "<tr><td>28</td><td>4</td><td>4</td><td>2</td><td>1</td><td>i</td><td>Fortuna panzió</td></tr>",
                            "<tr><td>80</td><td>6</td><td>31</td><td>2</td><td>1</td><td>i</td><td>Kentaur Hotel</td></tr>",
                            "<tr><td>49</td><td>5</td><td>10</td><td>3</td><td>0</td><td>i</td><td>Fortuna Panzió</td></tr>",
                            "<tr><td>54</td><td>6</td><td>5</td><td>3</td><td>0</td><td>n</td><td>Kentaur Hotel</td></tr>",
                            "<tr><td>146</td><td>10</td><td>12</td><td>3</td><td>0</td><td>i</td><td>Lagúna Hotel</td></tr>",
                            "<tr><td>63</td><td>6</td><td>14</td><td>2</td><td>0</td><td>n</td><td>Kentaur Hotel</td></tr>",
                            "<tr><td>165</td><td>12</td><td>1</td><td>2</td><td>0</td><td>n</td><td>Gold Hotel</td></tr>",
                            "<tr><td>151</td><td>10</td><td>17</td><td>2</td><td>0</td><td>n</td><td>Lagúna Hotel</td></tr>",
                            "<tr><td>29</td><td>4</td><td>5</td><td>2</td><td>0</td><td>n</td><td>Fortuna panzió</td></tr>",
                            "<tr><td>36</td><td>4</td><td>12</td><td>3</td><td>2</td><td>i</td><td>Fortuna panzió</td></tr>",
                            "<tr><td>16</td><td>2</td><td>4</td><td>3</td><td>1</td><td>i</td><td>Családi Ház</td></tr>",
                            "<tr><td>165</td><td>12</td><td>1</td><td>2</td><td>0</td><td>n</td><td>Gold Hotel</td></tr>",
                            "<tr><td>185</td><td>12</td><td>21</td><td>3</td><td>0</td><td>i</td><td>Gold Hotel</td></tr>",
                            "<tr><td>39</td><td>4</td><td>15</td><td>2</td><td>0</td><td>i</td><td>Fortuna panzió</td></tr>",
                            "<tr><td>165</td><td>12</td><td>1</td><td>2</td><td>0</td><td>n</td><td>Gold Hotel</td></tr>",
                            "<tr><td>28</td><td>4</td><td>4</td><td>2</td><td>1</td><td>i</td><td>Fortuna panzió</td></tr>",
                            "<tr><td>72</td><td>6</td><td>23</td><td>2</td><td>0</td><td>n</td><td>Kentaur Hotel</td></tr>",
                            "<tr><td>192</td><td>12</td><td>28</td><td>2</td><td>1</td><td>i</td><td>Gold Hotel</td></tr>",
                            "<tr><td>34</td><td>4</td><td>10</td><td>3</td><td>1</td><td>i</td><td>Fortuna panzió</td></tr>",
                            "<tr><td>180</td><td>12</td><td>16</td><td>2</td><td>2</td><td>i</td><td>Gold Hotel</td></tr>",
                            "<tr><td>22</td><td>3</td><td>6</td><td>3</td><td>2</td><td>n</td><td>Fortuna Apartman</td></tr>",
                            "<tr><td>156</td><td>10</td><td>22</td><td>2</td><td>2</td><td>i</td><td>Lagúna Hotel</td></tr>",
                            "<tr><td>141</td><td>10</td><td>7</td><td>2</td><td>0</td><td>n</td><td>Lagúna Hotel</td></tr>",
                            "<tr><td>133</td><td>9</td><td>4</td><td>3</td><td>0</td><td>n</td><td>Jáde panzió</td></tr>",
                            "<tr><td>130</td><td>9</td><td>1</td><td>2</td><td>0</td><td>n</td><td>Jáde panzió</td></tr>",
                            "<tr><td>161</td><td>11</td><td>2</td><td>2</td><td>2</td><td>i</td><td>Partiszél Vendégház</td></tr>",
                            "<tr><td>188</td><td>12</td><td>24</td><td>3</td><td>0</td><td>i</td><td>Gold Hotel</td></tr>",
                            "<tr><td>173</td><td>12</td><td>9</td><td>2</td><td>0</td><td>i</td><td>Gold Hotel</td></tr>",
                            "<tr><td>48</td><td>5</td><td>9</td><td>3</td><td>0</td><td>i</td><td>Fortuna Panzió</td></tr>",
                            "<tr><td>140</td><td>10</td><td>6</td><td>2</td><td>1</td><td>i</td><td>Lagúna Hotel</td></tr>",
                            "<tr><td>17</td><td>3</td><td>1</td><td>3</td><td>1</td><td>i</td><td>Fortuna Apartman</td></tr>",
                            "<tr><td>174</td><td>12</td><td>10</td><td>2</td><td>0</td><td>i</td><td>Gold Hotel</td></tr>",
                            "<tr><td>11</td><td>1</td><td>11</td><td>2</td><td>1</td><td>i</td><td>Sába-Ház</td></tr>",
                            "<tr><td>36</td><td>4</td><td>12</td><td>3</td><td>2</td><td>i</td><td>Fortuna panzió</td></tr>",
                            "<tr><td>32</td><td>4</td><td>8</td><td>2</td><td>0</td><td>i</td><td>Fortuna panzió</td></tr>",
                            "<tr><td>112</td><td>8</td><td>22</td><td>3</td><td>0</td><td>i</td><td>Hotel Három Hattyú</td></tr>",
                            "<tr><td>160</td><td>11</td><td>1</td><td>3</td><td>1</td><td>i</td><td>Partiszél Vendégház</td></tr>",
                            "<tr><td>123</td><td>8</td><td>33</td><td>3</td><td>0</td><td>n</td><td>Hotel Három Hattyú</td></tr>",
                            "<tr><td>40</td><td>5</td><td>1</td><td>3</td><td>0</td><td>i</td><td>Fortuna Panzió</td></tr>",
                            "<tr><td>185</td><td>12</td><td>21</td><td>3</td><td>0</td><td>i</td><td>Gold Hotel</td></tr>",
                            "<tr><td>193</td><td>12</td><td>29</td><td>3</td><td>2</td><td>n</td><td>Gold Hotel</td></tr>",
                            "<tr><td>160</td><td>11</td><td>1</td><td>3</td><td>1</td><td>i</td><td>Partiszél Vendégház</td></tr>",
                            "<tr><td>182</td><td>12</td><td>18</td><td>2</td><td>0</td><td>n</td><td>Gold Hotel</td></tr>",
                            "<tr><td>80</td><td>6</td><td>31</td><td>2</td><td>1</td><td>i</td><td>Kentaur Hotel</td></tr>",
                            "<tr><td>168</td><td>12</td><td>4</td><td>2</td><td>2</td><td>i</td><td>Gold Hotel</td></tr>",
                            "<tr><td>110</td><td>8</td><td>20</td><td>2</td><td>0</td><td>i</td><td>Hotel Három Hattyú</td></tr>",
                            "<tr><td>40</td><td>5</td><td>1</td><td>3</td><td>0</td><td>i</td><td>Fortuna Panzió</td></tr>",
                            "<tr><td>160</td><td>11</td><td>1</td><td>3</td><td>1</td><td>i</td><td>Partiszél Vendégház</td></tr>",
                            "<tr><td>23</td><td>3</td><td>7</td><td>2</td><td>0</td><td>n</td><td>Fortuna Apartman</td></tr>",
                            "<tr><td>56</td><td>6</td><td>7</td><td>2</td><td>0</td><td>i</td><td>Kentaur Hotel</td></tr>",
                            "<tr><td>62</td><td>6</td><td>13</td><td>2</td><td>0</td><td>n</td><td>Kentaur Hotel</td></tr>",
                            "<tr><td>181</td><td>12</td><td>17</td><td>3</td><td>0</td><td>i</td><td>Gold Hotel</td></tr>",
                            "<tr><td>62</td><td>6</td><td>13</td><td>2</td><td>0</td><td>n</td><td>Kentaur Hotel</td></tr>",
                            "<tr><td>183</td><td>12</td><td>19</td><td>3</td><td>0</td><td>i</td><td>Gold Hotel</td></tr>",
                            "<tr><td>74</td><td>6</td><td>25</td><td>3</td><td>1</td><td>n</td><td>Kentaur Hotel</td></tr>",
                            "<tr><td>163</td><td>11</td><td>4</td><td>2</td><td>0</td><td>i</td><td>Partiszél Vendégház</td></tr>",
                            "<tr><td>92</td><td>8</td><td>2</td><td>3</td><td>1</td><td>i</td><td>Hotel Három Hattyú</td></tr>",
                            "<tr><td>115</td><td>8</td><td>25</td><td>3</td><td>0</td><td>i</td><td>Hotel Három Hattyú</td></tr>",
                            "<tr><td>170</td><td>12</td><td>6</td><td>2</td><td>0</td><td>i</td><td>Gold Hotel</td></tr>",
                            "<tr><td>23</td><td>3</td><td>7</td><td>2</td><td>0</td><td>n</td><td>Fortuna Apartman</td></tr>",
                            "<tr><td>4</td><td>1</td><td>4</td><td>2</td><td>1</td><td>i</td><td>Sába-Ház</td></tr>",
                            "<tr><td>8</td><td>1</td><td>8</td><td>3</td><td>0</td><td>n</td><td>Sába-Ház</td></tr>",
                            "<tr><td>19</td><td>3</td><td>3</td><td>2</td><td>1</td><td>i</td><td>Fortuna Apartman</td></tr>",
                            "<tr><td>1</td><td>1</td><td>1</td><td>3</td><td>0</td><td>n</td><td>Sába-Ház</td></tr>",
                            "<tr><td>66</td><td>6</td><td>17</td><td>3</td><td>0</td><td>n</td><td>Kentaur Hotel</td></tr>",
                            "<tr><td>12</td><td>1</td><td>12</td><td>2</td><td>1</td><td>i</td><td>Sába-Ház</td></tr>",
                            "<tr><td>196</td><td>12</td><td>32</td><td>2</td><td>1</td><td>i</td><td>Gold Hotel</td></tr>",
                            "<tr><td>117</td><td>8</td><td>27</td><td>3</td><td>1</td><td>i</td><td>Hotel Három Hattyú</td></tr>",
                            "<tr><td>84</td><td>6</td><td>35</td><td>3</td><td>0</td><td>i</td><td>Kentaur Hotel</td></tr>",
                            "<tr><td>47</td><td>5</td><td>8</td><td>2</td><td>0</td><td>i</td><td>Fortuna Panzió</td></tr>",
                            "<tr><td>156</td><td>10</td><td>22</td><td>2</td><td>2</td><td>i</td><td>Lagúna Hotel</td></tr>",
                            "<tr><td>187</td><td>12</td><td>23</td><td>3</td><td>1</td><td>i</td><td>Gold Hotel</td></tr>",
                            "<tr><td>181</td><td>12</td><td>17</td><td>3</td><td>0</td><td>i</td><td>Gold Hotel</td></tr>",
                            "<tr><td>111</td><td>8</td><td>21</td><td>2</td><td>1</td><td>i</td><td>Hotel Három Hattyú</td></tr>",
                            "<tr><td>41</td><td>5</td><td>2</td><td>3</td><td>0</td><td>n</td><td>Fortuna Panzió</td></tr>",
                            "<tr><td>72</td><td>6</td><td>23</td><td>2</td><td>0</td><td>n</td><td>Kentaur Hotel</td></tr>",
                            "<tr><td>117</td><td>8</td><td>27</td><td>3</td><td>1</td><td>i</td><td>Hotel Három Hattyú</td></tr>",
                            "<tr><td>74</td><td>6</td><td>25</td><td>3</td><td>1</td><td>n</td><td>Kentaur Hotel</td></tr>",
                            "<tr><td>110</td><td>8</td><td>20</td><td>2</td><td>0</td><td>i</td><td>Hotel Három Hattyú</td></tr>",
                            "<tr><td>5</td><td>1</td><td>5</td><td>2</td><td>0</td><td>i</td><td>Sába-Ház</td></tr>",
                            "<tr><td>114</td><td>8</td><td>24</td><td>2</td><td>1</td><td>n</td><td>Hotel Három Hattyú</td></tr>",
                            "<tr><td>123</td><td>8</td><td>33</td><td>3</td><td>0</td><td>n</td><td>Hotel Három Hattyú</td></tr>",
                            "<tr><td>154</td><td>10</td><td>20</td><td>2</td><td>1</td><td>i</td><td>Lagúna Hotel</td></tr>",
                            "<tr><td>153</td><td>10</td><td>19</td><td>3</td><td>0</td><td>n</td><td>Lagúna Hotel</td></tr>",
                            "<tr><td>12</td><td>1</td><td>12</td><td>2</td><td>1</td><td>i</td><td>Sába-Ház</td></tr>",
                            "<tr><td>35</td><td>4</td><td>11</td><td>3</td><td>0</td><td>i</td><td>Fortuna panzió</td></tr>",
                            "<tr><td>103</td><td>8</td><td>13</td><td>2</td><td>1</td><td>i</td><td>Hotel Három Hattyú</td></tr>",
                            "<tr><td>16</td><td>2</td><td>4</td><td>3</td><td>1</td><td>i</td><td>Családi Ház</td></tr>",
                            "<tr><td>169</td><td>12</td><td>5</td><td>2</td><td>1</td><td>i</td><td>Gold Hotel</td></tr>",
                            "<tr><td>94</td><td>8</td><td>4</td><td>2</td><td>0</td><td>n</td><td>Hotel Három Hattyú</td></tr>",
                            "<tr><td>76</td><td>6</td><td>27</td><td>2</td><td>0</td><td>i</td><td>Kentaur Hotel</td></tr>",
                            "<tr><td>193</td><td>12</td><td>29</td><td>3</td><td>2</td><td>n</td><td>Gold Hotel</td></tr>",
                            "<tr><td>198</td><td>12</td><td>34</td><td>3</td><td>0</td><td>i</td><td>Gold Hotel</td></tr>",
                            "<tr><td>35</td><td>4</td><td>11</td><td>3</td><td>0</td><td>i</td><td>Fortuna panzió</td></tr>",
                            "<tr><td>143</td><td>10</td><td>9</td><td>3</td><td>1</td><td>i</td><td>Lagúna Hotel</td></tr>",
                            "<tr><td>171</td><td>12</td><td>7</td><td>2</td><td>1</td><td>i</td><td>Gold Hotel</td></tr>",
                            "<tr><td>77</td><td>6</td><td>28</td><td>3</td><td>1</td><td>i</td><td>Kentaur Hotel</td></tr>",
                            "<tr><td>80</td><td>6</td><td>31</td><td>2</td><td>1</td><td>i</td><td>Kentaur Hotel</td></tr>",
                            "<tr><td>172</td><td>12</td><td>8</td><td>2</td><td>2</td><td>n</td><td>Gold Hotel</td></tr>",
                            "<tr><td>36</td><td>4</td><td>12</td><td>3</td><td>2</td><td>i</td><td>Fortuna panzió</td></tr>",
                            "<tr><td>48</td><td>5</td><td>9</td><td>3</td><td>0</td><td>i</td><td>Fortuna Panzió</td></tr>",
                            "<tr><td>53</td><td>6</td><td>4</td><td>2</td><td>1</td><td>i</td><td>Kentaur Hotel</td></tr>",
                            "<tr><td>133</td><td>9</td><td>4</td><td>3</td><td>0</td><td>n</td><td>Jáde panzió</td></tr>",
                            "<tr><td>190</td><td>12</td><td>26</td><td>2</td><td>0</td><td>i</td><td>Gold Hotel</td></tr>",
                            "<tr><td>6</td><td>1</td><td>6</td><td>3</td><td>0</td><td>i</td><td>Sába-Ház</td></tr>",
                            "<tr><td>178</td><td>12</td><td>14</td><td>3</td><td>0</td><td>i</td><td>Gold Hotel</td></tr>",
                            "<tr><td>103</td><td>8</td><td>13</td><td>2</td><td>1</td><td>i</td><td>Hotel Három Hattyú</td></tr>",
                            "<tr><td>197</td><td>12</td><td>33</td><td>3</td><td>0</td><td>i</td><td>Gold Hotel</td></tr>",
                            "<tr><td>118</td><td>8</td><td>28</td><td>2</td><td>1</td><td>i</td><td>Hotel Három Hattyú</td></tr>",
                            "<tr><td>83</td><td>6</td><td>34</td><td>3</td><td>0</td><td>i</td><td>Kentaur Hotel</td></tr>",
                            "<tr><td>118</td><td>8</td><td>28</td><td>2</td><td>1</td><td>i</td><td>Hotel Három Hattyú</td></tr>",
                            "<tr><td>82</td><td>6</td><td>33</td><td>3</td><td>0</td><td>i</td><td>Kentaur Hotel</td></tr>",
                            "<tr><td>120</td><td>8</td><td>30</td><td>3</td><td>1</td><td>i</td><td>Hotel Három Hattyú</td></tr>",
                            "<tr><td>132</td><td>9</td><td>3</td><td>3</td><td>0</td><td>i</td><td>Jáde panzió</td></tr>",
                            "<tr><td>73</td><td>6</td><td>24</td><td>2</td><td>1</td><td>i</td><td>Kentaur Hotel</td></tr>",
                            "<tr><td>4</td><td>1</td><td>4</td><td>2</td><td>1</td><td>i</td><td>Sába-Ház</td></tr>",
                            "<tr><td>117</td><td>8</td><td>27</td><td>3</td><td>1</td><td>i</td><td>Hotel Három Hattyú</td></tr>",
                            "<tr><td>36</td><td>4</td><td>12</td><td>3</td><td>2</td><td>i</td><td>Fortuna panzió</td></tr>",
                            "<tr><td>134</td><td>9</td><td>5</td><td>3</td><td>0</td><td>i</td><td>Jáde panzió</td></tr>",
                            "<tr><td>22</td><td>3</td><td>6</td><td>3</td><td>2</td><td>n</td><td>Fortuna Apartman</td></tr>",
                            "<tr><td>70</td><td>6</td><td>21</td><td>2</td><td>1</td><td>i</td><td>Kentaur Hotel</td></tr>",
                            "<tr><td>122</td><td>8</td><td>32</td><td>3</td><td>1</td><td>i</td><td>Hotel Három Hattyú</td></tr>",
                            "<tr><td>182</td><td>12</td><td>18</td><td>2</td><td>0</td><td>n</td><td>Gold Hotel</td></tr>",
                            "<tr><td>71</td><td>6</td><td>22</td><td>3</td><td>0</td><td>i</td><td>Kentaur Hotel</td></tr>",
                            "<tr><td>164</td><td>11</td><td>5</td><td>2</td><td>0</td><td>i</td><td>Partiszél Vendégház</td></tr>",
                            "<tr><td>198</td><td>12</td><td>34</td><td>3</td><td>0</td><td>i</td><td>Gold Hotel</td></tr>",
                            "<tr><td>33</td><td>4</td><td>9</td><td>2</td><td>2</td><td>i</td><td>Fortuna panzió</td></tr>",
                            "<tr><td>75</td><td>6</td><td>26</td><td>2</td><td>1</td><td>n</td><td>Kentaur Hotel</td></tr>",
                            "<tr><td>137</td><td>10</td><td>3</td><td>2</td><td>1</td><td>i</td><td>Lagúna Hotel</td></tr>",
                            "<tr><td>174</td><td>12</td><td>10</td><td>2</td><td>0</td><td>i</td><td>Gold Hotel</td></tr>",
                            "<tr><td>92</td><td>8</td><td>2</td><td>3</td><td>1</td><td>i</td><td>Hotel Három Hattyú</td></tr>",
                            "<tr><td>190</td><td>12</td><td>26</td><td>2</td><td>0</td><td>i</td><td>Gold Hotel</td></tr>",
                            "<tr><td>40</td><td>5</td><td>1</td><td>3</td><td>0</td><td>i</td><td>Fortuna Panzió</td></tr>",
                            "<tr><td>43</td><td>5</td><td>4</td><td>3</td><td>0</td><td>i</td><td>Fortuna Panzió</td></tr>",
                            "<tr><td>12</td><td>1</td><td>12</td><td>2</td><td>1</td><td>i</td><td>Sába-Ház</td></tr>",
                            "<tr><td>179</td><td>12</td><td>15</td><td>3</td><td>2</td><td>i</td><td>Gold Hotel</td></tr>",
                            "<tr><td>181</td><td>12</td><td>17</td><td>3</td><td>0</td><td>i</td><td>Gold Hotel</td></tr>",
                            "<tr><td>30</td><td>4</td><td>6</td><td>3</td><td>1</td><td>i</td><td>Fortuna panzió</td></tr>",
                            "<tr><td>134</td><td>9</td><td>5</td><td>3</td><td>0</td><td>i</td><td>Jáde panzió</td></tr>",
                            "<tr><td>157</td><td>10</td><td>23</td><td>2</td><td>0</td><td>n</td><td>Lagúna Hotel</td></tr>",
                            "<tr><td>119</td><td>8</td><td>29</td><td>2</td><td>0</td><td>i</td><td>Hotel Három Hattyú</td></tr>",
                            "<tr><td>68</td><td>6</td><td>19</td><td>2</td><td>2</td><td>i</td><td>Kentaur Hotel</td></tr>",
                            "<tr><td>15</td><td>2</td><td>3</td><td>2</td><td>1</td><td>i</td><td>Családi Ház</td></tr>",
                            "<tr><td>113</td><td>8</td><td>23</td><td>3</td><td>2</td><td>i</td><td>Hotel Három Hattyú</td></tr>",
                            "<tr><td>188</td><td>12</td><td>24</td><td>3</td><td>0</td><td>i</td><td>Gold Hotel</td></tr>",
                            "<tr><td>27</td><td>4</td><td>3</td><td>3</td><td>1</td><td>n</td><td>Fortuna panzió</td></tr>",
                            "<tr><td>146</td><td>10</td><td>12</td><td>3</td><td>0</td><td>i</td><td>Lagúna Hotel</td></tr>",
                            "<tr><td>38</td><td>4</td><td>14</td><td>2</td><td>1</td><td>i</td><td>Fortuna panzió</td></tr>",
                            "<tr><td>127</td><td>8</td><td>37</td><td>2</td><td>1</td><td>i</td><td>Hotel Három Hattyú</td></tr>",
                            "<tr><td>18</td><td>3</td><td>2</td><td>3</td><td>2</td><td>n</td><td>Fortuna Apartman</td></tr>",
                            "<tr><td>122</td><td>8</td><td>32</td><td>3</td><td>1</td><td>i</td><td>Hotel Három Hattyú</td></tr>",
                            "<tr><td>89</td><td>7</td><td>5</td><td>3</td><td>0</td><td>i</td><td>Szieszta Apartmanház</td></tr>",
                            "<tr><td>3</td><td>1</td><td>3</td><td>3</td><td>1</td><td>i</td><td>Sába-Ház</td></tr>",
                            "<tr><td>191</td><td>12</td><td>27</td><td>2</td><td>1</td><td>i</td><td>Gold Hotel</td></tr>",
                            "<tr><td>130</td><td>9</td><td>1</td><td>2</td><td>0</td><td>n</td><td>Jáde panzió</td></tr>",
                            "<tr><td>110</td><td>8</td><td>20</td><td>2</td><td>0</td><td>i</td><td>Hotel Három Hattyú</td></tr>",
                            "<tr><td>139</td><td>10</td><td>5</td><td>2</td><td>1</td><td>i</td><td>Lagúna Hotel</td></tr>",
                            "<tr><td>193</td><td>12</td><td>29</td><td>3</td><td>2</td><td>n</td><td>Gold Hotel</td></tr>",
                            "<tr><td>13</td><td>2</td><td>1</td><td>3</td><td>0</td><td>i</td><td>Családi Ház</td></tr>",
                            "<tr><td>134</td><td>9</td><td>5</td><td>3</td><td>0</td><td>i</td><td>Jáde panzió</td></tr>",
                            "<tr><td>136</td><td>10</td><td>2</td><td>2</td><td>0</td><td>n</td><td>Lagúna Hotel</td></tr>",
                            "<tr><td>157</td><td>10</td><td>23</td><td>2</td><td>0</td><td>n</td><td>Lagúna Hotel</td></tr>",
                            "<tr><td>95</td><td>8</td><td>5</td><td>3</td><td>1</td><td>i</td><td>Hotel Három Hattyú</td></tr>",
                            "<tr><td>121</td><td>8</td><td>31</td><td>2</td><td>1</td><td>i</td><td>Hotel Három Hattyú</td></tr>",
                            "<tr><td>98</td><td>8</td><td>8</td><td>2</td><td>0</td><td>n</td><td>Hotel Három Hattyú</td></tr>",
                            "<tr><td>2</td><td>1</td><td>2</td><td>3</td><td>1</td><td>i</td><td>Sába-Ház</td></tr>",
                            "<tr><td>25</td><td>4</td><td>1</td><td>3</td><td>1</td><td>n</td><td>Fortuna panzió</td></tr>",
                            "<tr><td>33</td><td>4</td><td>9</td><td>2</td><td>2</td><td>i</td><td>Fortuna panzió</td></tr>",
                            "<tr><td>79</td><td>6</td><td>30</td><td>3</td><td>0</td><td>i</td><td>Kentaur Hotel</td></tr>",
                            "<tr><td>69</td><td>6</td><td>20</td><td>3</td><td>1</td><td>n</td><td>Kentaur Hotel</td></tr>",
                            "<tr><td>47</td><td>5</td><td>8</td><td>2</td><td>0</td><td>i</td><td>Fortuna Panzió</td></tr>",
                            "<tr><td>86</td><td>7</td><td>2</td><td>2</td><td>1</td><td>i</td><td>Szieszta Apartmanház</td></tr>",
                            "<tr><td>151</td><td>10</td><td>17</td><td>2</td><td>0</td><td>n</td><td>Lagúna Hotel</td></tr>",
                            "<tr><td>85</td><td>7</td><td>1</td><td>2</td><td>1</td><td>n</td><td>Szieszta Apartmanház</td></tr>",
                            "<tr><td>38</td><td>4</td><td>14</td><td>2</td><td>1</td><td>i</td><td>Fortuna panzió</td></tr>",
                            "<tr><td>154</td><td>10</td><td>20</td><td>2</td><td>1</td><td>i</td><td>Lagúna Hotel</td></tr>",
                            "<tr><td>122</td><td>8</td><td>32</td><td>3</td><td>1</td><td>i</td><td>Hotel Három Hattyú</td></tr>",
                            "<tr><td>50</td><td>6</td><td>1</td><td>2</td><td>0</td><td>n</td><td>Kentaur Hotel</td></tr>",
                            "<tr><td>139</td><td>10</td><td>5</td><td>2</td><td>1</td><td>i</td><td>Lagúna Hotel</td></tr>",
                            "<tr><td>198</td><td>12</td><td>34</td><td>3</td><td>0</td><td>i</td><td>Gold Hotel</td></tr>",
                            "<tr><td>49</td><td>5</td><td>10</td><td>3</td><td>0</td><td>i</td><td>Fortuna Panzió</td></tr>",
                            "<tr><td>183</td><td>12</td><td>19</td><td>3</td><td>0</td><td>i</td><td>Gold Hotel</td></tr>",
                            "<tr><td>161</td><td>11</td><td>2</td><td>2</td><td>2</td><td>i</td><td>Partiszél Vendégház</td></tr>",
                            "<tr><td>2</td><td>1</td><td>2</td><td>3</td><td>1</td><td>i</td><td>Sába-Ház</td></tr>",
                            "<tr><td>20</td><td>3</td><td>4</td><td>3</td><td>0</td><td>i</td><td>Fortuna Apartman</td></tr>",
                            "<tr><td>80</td><td>6</td><td>31</td><td>2</td><td>1</td><td>i</td><td>Kentaur Hotel</td></tr>",
                            "<tr><td>99</td><td>8</td><td>9</td><td>2</td><td>0</td><td>n</td><td>Hotel Három Hattyú</td></tr>",
                            "<tr><td>5</td><td>1</td><td>5</td><td>2</td><td>0</td><td>i</td><td>Sába-Ház</td></tr>",
                            "<tr><td>195</td><td>12</td><td>31</td><td>2</td><td>0</td><td>i</td><td>Gold Hotel</td></tr>",
                            "<tr><td>163</td><td>11</td><td>4</td><td>2</td><td>0</td><td>i</td><td>Partiszél Vendégház</td></tr>",
                            "<tr><td>29</td><td>4</td><td>5</td><td>2</td><td>0</td><td>n</td><td>Fortuna panzió</td></tr>",
                            "<tr><td>145</td><td>10</td><td>11</td><td>2</td><td>2</td><td>i</td><td>Lagúna Hotel</td></tr>",
                            "<tr><td>38</td><td>4</td><td>14</td><td>2</td><td>1</td><td>i</td><td>Fortuna panzió</td></tr>",
                            "<tr><td>86</td><td>7</td><td>2</td><td>2</td><td>1</td><td>i</td><td>Szieszta Apartmanház</td></tr>",
                            "<tr><td>59</td><td>6</td><td>10</td><td>2</td><td>1</td><td>n</td><td>Kentaur Hotel</td></tr>",
                            "<tr><td>62</td><td>6</td><td>13</td><td>2</td><td>0</td><td>n</td><td>Kentaur Hotel</td></tr>",
                            "<tr><td>27</td><td>4</td><td>3</td><td>3</td><td>1</td><td>n</td><td>Fortuna panzió</td></tr>",
                            "<tr><td>109</td><td>8</td><td>19</td><td>2</td><td>1</td><td>i</td><td>Hotel Három Hattyú</td></tr>",
                            "<tr><td>59</td><td>6</td><td>10</td><td>2</td><td>1</td><td>n</td><td>Kentaur Hotel</td></tr>",
                            "<tr><td>113</td><td>8</td><td>23</td><td>3</td><td>2</td><td>i</td><td>Hotel Három Hattyú</td></tr>",
                            "<tr><td>55</td><td>6</td><td>6</td><td>2</td><td>1</td><td>i</td><td>Kentaur Hotel</td></tr>",
                            "<tr><td>144</td><td>10</td><td>10</td><td>3</td><td>1</td><td>n</td><td>Lagúna Hotel</td></tr>",
                            "<tr><td>43</td><td>5</td><td>4</td><td>3</td><td>0</td><td>i</td><td>Fortuna Panzió</td></tr>",
                            "<tr><td>120</td><td>8</td><td>30</td><td>3</td><td>1</td><td>i</td><td>Hotel Három Hattyú</td></tr>",
                            "<tr><td>132</td><td>9</td><td>3</td><td>3</td><td>0</td><td>i</td><td>Jáde panzió</td></tr>",
                            "<tr><td>197</td><td>12</td><td>33</td><td>3</td><td>0</td><td>i</td><td>Gold Hotel</td></tr>",
                            "<tr><td>70</td><td>6</td><td>21</td><td>2</td><td>1</td><td>i</td><td>Kentaur Hotel</td></tr>",
                            "<tr><td>74</td><td>6</td><td>25</td><td>3</td><td>1</td><td>n</td><td>Kentaur Hotel</td></tr>",
                            "<tr><td>175</td><td>12</td><td>11</td><td>2</td><td>0</td><td>i</td><td>Gold Hotel</td></tr>",
                            "<tr><td>194</td><td>12</td><td>30</td><td>2</td><td>1</td><td>i</td><td>Gold Hotel</td></tr>",
                            "<tr><td>54</td><td>6</td><td>5</td><td>3</td><td>0</td><td>n</td><td>Kentaur Hotel</td></tr>",
                            "<tr><td>95</td><td>8</td><td>5</td><td>3</td><td>1</td><td>i</td><td>Hotel Három Hattyú</td></tr>",
                            "<tr><td>140</td><td>10</td><td>6</td><td>2</td><td>1</td><td>i</td><td>Lagúna Hotel</td></tr>",
                            "<tr><td>6</td><td>1</td><td>6</td><td>3</td><td>0</td><td>i</td><td>Sába-Ház</td></tr>",
                            "<tr><td>150</td><td>10</td><td>16</td><td>2</td><td>1</td><td>i</td><td>Lagúna Hotel</td></tr>",
                            "<tr><td>89</td><td>7</td><td>5</td><td>3</td><td>0</td><td>i</td><td>Szieszta Apartmanház</td></tr>",
                            "<tr><td>108</td><td>8</td><td>18</td><td>2</td><td>0</td><td>i</td><td>Hotel Három Hattyú</td></tr>",
                            "<tr><td>87</td><td>7</td><td>3</td><td>3</td><td>0</td><td>i</td><td>Szieszta Apartmanház</td></tr>",
                            "<tr><td>77</td><td>6</td><td>28</td><td>3</td><td>1</td><td>i</td><td>Kentaur Hotel</td></tr>",
                            "<tr><td>150</td><td>10</td><td>16</td><td>2</td><td>1</td><td>i</td><td>Lagúna Hotel</td></tr>",
                            "<tr><td>20</td><td>3</td><td>4</td><td>3</td><td>0</td><td>i</td><td>Fortuna Apartman</td></tr>",
                            "<tr><td>163</td><td>11</td><td>4</td><td>2</td><td>0</td><td>i</td><td>Partiszél Vendégház</td></tr>",
                            "<tr><td>86</td><td>7</td><td>2</td><td>2</td><td>1</td><td>i</td><td>Szieszta Apartmanház</td></tr>",
                            "<tr><td>110</td><td>8</td><td>20</td><td>2</td><td>0</td><td>i</td><td>Hotel Három Hattyú</td></tr>",
                            "<tr><td>3</td><td>1</td><td>3</td><td>3</td><td>1</td><td>i</td><td>Sába-Ház</td></tr>",
                            "<tr><td>132</td><td>9</td><td>3</td><td>3</td><td>0</td><td>i</td><td>Jáde panzió</td></tr>",
                            "<tr><td>155</td><td>10</td><td>21</td><td>3</td><td>1</td><td>n</td><td>Lagúna Hotel</td></tr>",
                            "<tr><td>58</td><td>6</td><td>9</td><td>2</td><td>1</td><td>i</td><td>Kentaur Hotel</td></tr>",
                            "<tr><td>20</td><td>3</td><td>4</td><td>3</td><td>0</td><td>i</td><td>Fortuna Apartman</td></tr>",
                            "<tr><td>151</td><td>10</td><td>17</td><td>2</td><td>0</td><td>n</td><td>Lagúna Hotel</td></tr>",
                            "<tr><td>198</td><td>12</td><td>34</td><td>3</td><td>0</td><td>i</td><td>Gold Hotel</td></tr>",
                            "<tr><td>158</td><td>10</td><td>24</td><td>2</td><td>1</td><td>n</td><td>Lagúna Hotel</td></tr>",
                            "<tr><td>40</td><td>5</td><td>1</td><td>3</td><td>0</td><td>i</td><td>Fortuna Panzió</td></tr>",
                            "<tr><td>83</td><td>6</td><td>34</td><td>3</td><td>0</td><td>i</td><td>Kentaur Hotel</td></tr>",
                            "<tr><td>145</td><td>10</td><td>11</td><td>2</td><td>2</td><td>i</td><td>Lagúna Hotel</td></tr>",
                            "<tr><td>115</td><td>8</td><td>25</td><td>3</td><td>0</td><td>i</td><td>Hotel Három Hattyú</td></tr>",
                            "<tr><td>64</td><td>6</td><td>15</td><td>2</td><td>0</td><td>i</td><td>Kentaur Hotel</td></tr>",
                            "<tr><td>11</td><td>1</td><td>11</td><td>2</td><td>1</td><td>i</td><td>Sába-Ház</td></tr>",
                            "<tr><td>112</td><td>8</td><td>22</td><td>3</td><td>0</td><td>i</td><td>Hotel Három Hattyú</td></tr>",
                            "<tr><td>185</td><td>12</td><td>21</td><td>3</td><td>0</td><td>i</td><td>Gold Hotel</td></tr>",
                            "<tr><td>70</td><td>6</td><td>21</td><td>2</td><td>1</td><td>i</td><td>Kentaur Hotel</td></tr>",
                            "<tr><td>4</td><td>1</td><td>4</td><td>2</td><td>1</td><td>i</td><td>Sába-Ház</td></tr>",
                            "<tr><td>121</td><td>8</td><td>31</td><td>2</td><td>1</td><td>i</td><td>Hotel Három Hattyú</td></tr>",
                            "<tr><td>15</td><td>2</td><td>3</td><td>2</td><td>1</td><td>i</td><td>Családi Ház</td></tr>",
                            "<tr><td>22</td><td>3</td><td>6</td><td>3</td><td>2</td><td>n</td><td>Fortuna Apartman</td></tr>",
                            "<tr><td>7</td><td>1</td><td>7</td><td>2</td><td>0</td><td>i</td><td>Sába-Ház</td></tr>",
                            "<tr><td>4</td><td>1</td><td>4</td><td>2</td><td>1</td><td>i</td><td>Sába-Ház</td></tr>",
                            "<tr><td>175</td><td>12</td><td>11</td><td>2</td><td>0</td><td>i</td><td>Gold Hotel</td></tr>",
                            "<tr><td>126</td><td>8</td><td>36</td><td>2</td><td>1</td><td>n</td><td>Hotel Három Hattyú</td></tr>",
                            "<tr><td>45</td><td>5</td><td>6</td><td>2</td><td>0</td><td>n</td><td>Fortuna Panzió</td></tr>",
                            "<tr><td>30</td><td>4</td><td>6</td><td>3</td><td>1</td><td>i</td><td>Fortuna panzió</td></tr>",
                            "<tr><td>1</td><td>1</td><td>1</td><td>3</td><td>0</td><td>n</td><td>Sába-Ház</td></tr>",
                            "<tr><td>198</td><td>12</td><td>34</td><td>3</td><td>0</td><td>i</td><td>Gold Hotel</td></tr>",
                            "<tr><td>19</td><td>3</td><td>3</td><td>2</td><td>1</td><td>i</td><td>Fortuna Apartman</td></tr>",
                            "<tr><td>12</td><td>1</td><td>12</td><td>2</td><td>1</td><td>i</td><td>Sába-Ház</td></tr>",
                            "<tr><td>165</td><td>12</td><td>1</td><td>2</td><td>0</td><td>n</td><td>Gold Hotel</td></tr>",
                            "<tr><td>172</td><td>12</td><td>8</td><td>2</td><td>2</td><td>n</td><td>Gold Hotel</td></tr>",
                            "<tr><td>176</td><td>12</td><td>12</td><td>3</td><td>1</td><td>i</td><td>Gold Hotel</td></tr>",
                            "<tr><td>41</td><td>5</td><td>2</td><td>3</td><td>0</td><td>n</td><td>Fortuna Panzió</td></tr>",
                            "<tr><td>145</td><td>10</td><td>11</td><td>2</td><td>2</td><td>i</td><td>Lagúna Hotel</td></tr>",
                            "<tr><td>149</td><td>10</td><td>15</td><td>2</td><td>0</td><td>i</td><td>Lagúna Hotel</td></tr>",
                            "<tr><td>183</td><td>12</td><td>19</td><td>3</td><td>0</td><td>i</td><td>Gold Hotel</td></tr>",
                            "<tr><td>61</td><td>6</td><td>12</td><td>3</td><td>0</td><td>i</td><td>Kentaur Hotel</td></tr>",
                            "<tr><td>133</td><td>9</td><td>4</td><td>3</td><td>0</td><td>n</td><td>Jáde panzió</td></tr>",
                            "<tr><td>28</td><td>4</td><td>4</td><td>2</td><td>1</td><td>i</td><td>Fortuna panzió</td></tr>",
                            "<tr><td>3</td><td>1</td><td>3</td><td>3</td><td>1</td><td>i</td><td>Sába-Ház</td></tr>",
                            "<tr><td>1</td><td>1</td><td>1</td><td>3</td><td>0</td><td>n</td><td>Sába-Ház</td></tr>",
                            "<tr><td>186</td><td>12</td><td>22</td><td>2</td><td>2</td><td>i</td><td>Gold Hotel</td></tr>",
                            "<tr><td>115</td><td>8</td><td>25</td><td>3</td><td>0</td><td>i</td><td>Hotel Három Hattyú</td></tr>",
                            "<tr><td>143</td><td>10</td><td>9</td><td>3</td><td>1</td><td>i</td><td>Lagúna Hotel</td></tr>",
                            "<tr><td>140</td><td>10</td><td>6</td><td>2</td><td>1</td><td>i</td><td>Lagúna Hotel</td></tr>",
                            "<tr><td>9</td><td>1</td><td>9</td><td>3</td><td>1</td><td>i</td><td>Sába-Ház</td></tr>",
                            "<tr><td>26</td><td>4</td><td>2</td><td>2</td><td>1</td><td>i</td><td>Fortuna panzió</td></tr>",
                            "<tr><td>73</td><td>6</td><td>24</td><td>2</td><td>1</td><td>i</td><td>Kentaur Hotel</td></tr>",
                            "<tr><td>152</td><td>10</td><td>18</td><td>2</td><td>0</td><td>i</td><td>Lagúna Hotel</td></tr>",
                            "<tr><td>198</td><td>12</td><td>34</td><td>3</td><td>0</td><td>i</td><td>Gold Hotel</td></tr>",
                            "<tr><td>110</td><td>8</td><td>20</td><td>2</td><td>0</td><td>i</td><td>Hotel Három Hattyú</td></tr>",
                            "<tr><td>55</td><td>6</td><td>6</td><td>2</td><td>1</td><td>i</td><td>Kentaur Hotel</td></tr>",
                            "<tr><td>12</td><td>1</td><td>12</td><td>2</td><td>1</td><td>i</td><td>Sába-Ház</td></tr>",
                            "<tr><td>51</td><td>6</td><td>2</td><td>3</td><td>1</td><td>i</td><td>Kentaur Hotel</td></tr>",
                            "<tr><td>122</td><td>8</td><td>32</td><td>3</td><td>1</td><td>i</td><td>Hotel Három Hattyú</td></tr>",
                            "<tr><td>24</td><td>3</td><td>8</td><td>4</td><td>1</td><td>i</td><td>Fortuna Apartman</td></tr>",
                            "<tr><td>154</td><td>10</td><td>20</td><td>2</td><td>1</td><td>i</td><td>Lagúna Hotel</td></tr>",
                            "<tr><td>93</td><td>8</td><td>3</td><td>3</td><td>2</td><td>i</td><td>Hotel Három Hattyú</td></tr>",
                            "<tr><td>59</td><td>6</td><td>10</td><td>2</td><td>1</td><td>n</td><td>Kentaur Hotel</td></tr>",
                            "<tr><td>172</td><td>12</td><td>8</td><td>2</td><td>2</td><td>n</td><td>Gold Hotel</td></tr>",
                            "<tr><td>197</td><td>12</td><td>33</td><td>3</td><td>0</td><td>i</td><td>Gold Hotel</td></tr>",
                            "<tr><td>18</td><td>3</td><td>2</td><td>3</td><td>2</td><td>n</td><td>Fortuna Apartman</td></tr>",
                            "<tr><td>90</td><td>7</td><td>6</td><td>3</td><td>0</td><td>i</td><td>Szieszta Apartmanház</td></tr>",
                            "<tr><td>7</td><td>1</td><td>7</td><td>2</td><td>0</td><td>i</td><td>Sába-Ház</td></tr>",
                            "<tr><td>177</td><td>12</td><td>13</td><td>3</td><td>2</td><td>i</td><td>Gold Hotel</td></tr>",
                            "<tr><td>150</td><td>10</td><td>16</td><td>2</td><td>1</td><td>i</td><td>Lagúna Hotel</td></tr>",
                            "<tr><td>134</td><td>9</td><td>5</td><td>3</td><td>0</td><td>i</td><td>Jáde panzió</td></tr>",
                            "<tr><td>74</td><td>6</td><td>25</td><td>3</td><td>1</td><td>n</td><td>Kentaur Hotel</td></tr>",
                            "<tr><td>104</td><td>8</td><td>14</td><td>3</td><td>0</td><td>i</td><td>Hotel Három Hattyú</td></tr>",
                            "<tr><td>171</td><td>12</td><td>7</td><td>2</td><td>1</td><td>i</td><td>Gold Hotel</td></tr>",
                            "<tr><td>7</td><td>1</td><td>7</td><td>2</td><td>0</td><td>i</td><td>Sába-Ház</td></tr>",
                            "<tr><td>185</td><td>12</td><td>21</td><td>3</td><td>0</td><td>i</td><td>Gold Hotel</td></tr>",
                            "<tr><td>195</td><td>12</td><td>31</td><td>2</td><td>0</td><td>i</td><td>Gold Hotel</td></tr>",
                            "<tr><td>29</td><td>4</td><td>5</td><td>2</td><td>0</td><td>n</td><td>Fortuna panzió</td></tr>",
                            "<tr><td>58</td><td>6</td><td>9</td><td>2</td><td>1</td><td>i</td><td>Kentaur Hotel</td></tr>",
                            "<tr><td>46</td><td>5</td><td>7</td><td>3</td><td>0</td><td>i</td><td>Fortuna Panzió</td></tr>",
                            "<tr><td>182</td><td>12</td><td>18</td><td>2</td><td>0</td><td>n</td><td>Gold Hotel</td></tr>",
                            "<tr><td>89</td><td>7</td><td>5</td><td>3</td><td>0</td><td>i</td><td>Szieszta Apartmanház</td></tr>",
                            "<tr><td>161</td><td>11</td><td>2</td><td>2</td><td>2</td><td>i</td><td>Partiszél Vendégház</td></tr>",
                            "<tr><td>59</td><td>6</td><td>10</td><td>2</td><td>1</td><td>n</td><td>Kentaur Hotel</td></tr>",
                            "<tr><td>117</td><td>8</td><td>27</td><td>3</td><td>1</td><td>i</td><td>Hotel Három Hattyú</td></tr>",
                            "<tr><td>143</td><td>10</td><td>9</td><td>3</td><td>1</td><td>i</td><td>Lagúna Hotel</td></tr>",
                            "<tr><td>170</td><td>12</td><td>6</td><td>2</td><td>0</td><td>i</td><td>Gold Hotel</td></tr>",
                            "<tr><td>22</td><td>3</td><td>6</td><td>3</td><td>2</td><td>n</td><td>Fortuna Apartman</td></tr>",
                            "<tr><td>88</td><td>7</td><td>4</td><td>3</td><td>0</td><td>n</td><td>Szieszta Apartmanház</td></tr>",
                            "<tr><td>152</td><td>10</td><td>18</td><td>2</td><td>0</td><td>i</td><td>Lagúna Hotel</td></tr>",
                            "<tr><td>18</td><td>3</td><td>2</td><td>3</td><td>2</td><td>n</td><td>Fortuna Apartman</td></tr>",
                            "<tr><td>144</td><td>10</td><td>10</td><td>3</td><td>1</td><td>n</td><td>Lagúna Hotel</td></tr>",
                            "<tr><td>49</td><td>5</td><td>10</td><td>3</td><td>0</td><td>i</td><td>Fortuna Panzió</td></tr>",
                            "<tr><td>137</td><td>10</td><td>3</td><td>2</td><td>1</td><td>i</td><td>Lagúna Hotel</td></tr>",
                            "<tr><td>52</td><td>6</td><td>3</td><td>2</td><td>1</td><td>i</td><td>Kentaur Hotel</td></tr>",
                            "<tr><td>150</td><td>10</td><td>16</td><td>2</td><td>1</td><td>i</td><td>Lagúna Hotel</td></tr>",
                            "<tr><td>189</td><td>12</td><td>25</td><td>2</td><td>2</td><td>i</td><td>Gold Hotel</td></tr>",
                            "<tr><td>162</td><td>11</td><td>3</td><td>3</td><td>0</td><td>n</td><td>Partiszél Vendégház</td></tr>",
                            "<tr><td>22</td><td>3</td><td>6</td><td>3</td><td>2</td><td>n</td><td>Fortuna Apartman</td></tr>",
                            "<tr><td>43</td><td>5</td><td>4</td><td>3</td><td>0</td><td>i</td><td>Fortuna Panzió</td></tr>",
                            "<tr><td>58</td><td>6</td><td>9</td><td>2</td><td>1</td><td>i</td><td>Kentaur Hotel</td></tr>",
                            "<tr><td>122</td><td>8</td><td>32</td><td>3</td><td>1</td><td>i</td><td>Hotel Három Hattyú</td></tr>",
                            "<tr><td>124</td><td>8</td><td>34</td><td>3</td><td>0</td><td>n</td><td>Hotel Három Hattyú</td></tr>",
                            "<tr><td>178</td><td>12</td><td>14</td><td>3</td><td>0</td><td>i</td><td>Gold Hotel</td></tr>",
                            "<tr><td>21</td><td>3</td><td>5</td><td>2</td><td>1</td><td>i</td><td>Fortuna Apartman</td></tr>",
                            "<tr><td>91</td><td>8</td><td>1</td><td>2</td><td>0</td><td>n</td><td>Hotel Három Hattyú</td></tr>",
                            "<tr><td>39</td><td>4</td><td>15</td><td>2</td><td>0</td><td>i</td><td>Fortuna panzió</td></tr>",
                            "<tr><td>121</td><td>8</td><td>31</td><td>2</td><td>1</td><td>i</td><td>Hotel Három Hattyú</td></tr>",
                            "<tr><td>198</td><td>12</td><td>34</td><td>3</td><td>0</td><td>i</td><td>Gold Hotel</td></tr>",
                            "<tr><td>93</td><td>8</td><td>3</td><td>3</td><td>2</td><td>i</td><td>Hotel Három Hattyú</td></tr>",
                            "<tr><td>61</td><td>6</td><td>12</td><td>3</td><td>0</td><td>i</td><td>Kentaur Hotel</td></tr>",
                            "<tr><td>134</td><td>9</td><td>5</td><td>3</td><td>0</td><td>i</td><td>Jáde panzió</td></tr>",
                            "<tr><td>9</td><td>1</td><td>9</td><td>3</td><td>1</td><td>i</td><td>Sába-Ház</td></tr>",
                            "<tr><td>49</td><td>5</td><td>10</td><td>3</td><td>0</td><td>i</td><td>Fortuna Panzió</td></tr>",
                            "<tr><td>143</td><td>10</td><td>9</td><td>3</td><td>1</td><td>i</td><td>Lagúna Hotel</td></tr>",
                            "<tr><td>123</td><td>8</td><td>33</td><td>3</td><td>0</td><td>n</td><td>Hotel Három Hattyú</td></tr>",
                            "<tr><td>50</td><td>6</td><td>1</td><td>2</td><td>0</td><td>n</td><td>Kentaur Hotel</td></tr>",
                            "<tr><td>69</td><td>6</td><td>20</td><td>3</td><td>1</td><td>n</td><td>Kentaur Hotel</td></tr>",
                            "<tr><td>127</td><td>8</td><td>37</td><td>2</td><td>1</td><td>i</td><td>Hotel Három Hattyú</td></tr>",
                            "<tr><td>43</td><td>5</td><td>4</td><td>3</td><td>0</td><td>i</td><td>Fortuna Panzió</td></tr>",
                            "<tr><td>106</td><td>8</td><td>16</td><td>2</td><td>0</td><td>i</td><td>Hotel Három Hattyú</td></tr>",
                            "<tr><td>79</td><td>6</td><td>30</td><td>3</td><td>0</td><td>i</td><td>Kentaur Hotel</td></tr>",
                            "<tr><td>182</td><td>12</td><td>18</td><td>2</td><td>0</td><td>n</td><td>Gold Hotel</td></tr>",
                            "<tr><td>182</td><td>12</td><td>18</td><td>2</td><td>0</td><td>n</td><td>Gold Hotel</td></tr>",
                            "<tr><td>55</td><td>6</td><td>6</td><td>2</td><td>1</td><td>i</td><td>Kentaur Hotel</td></tr>",
                            "<tr><td>64</td><td>6</td><td>15</td><td>2</td><td>0</td><td>i</td><td>Kentaur Hotel</td></tr>",
                            "<tr><td>66</td><td>6</td><td>17</td><td>3</td><td>0</td><td>n</td><td>Kentaur Hotel</td></tr>",
                            "<tr><td>29</td><td>4</td><td>5</td><td>2</td><td>0</td><td>n</td><td>Fortuna panzió</td></tr>",
                            "<tr><td>11</td><td>1</td><td>11</td><td>2</td><td>1</td><td>i</td><td>Sába-Ház</td></tr>",
                            "<tr><td>19</td><td>3</td><td>3</td><td>2</td><td>1</td><td>i</td><td>Fortuna Apartman</td></tr>",
                            "<tr><td>193</td><td>12</td><td>29</td><td>3</td><td>2</td><td>n</td><td>Gold Hotel</td></tr>",
                            "<tr><td>59</td><td>6</td><td>10</td><td>2</td><td>1</td><td>n</td><td>Kentaur Hotel</td></tr>",
                            "<tr><td>157</td><td>10</td><td>23</td><td>2</td><td>0</td><td>n</td><td>Lagúna Hotel</td></tr>",
                            "<tr><td>94</td><td>8</td><td>4</td><td>2</td><td>0</td><td>n</td><td>Hotel Három Hattyú</td></tr>",
                            "<tr><td>178</td><td>12</td><td>14</td><td>3</td><td>0</td><td>i</td><td>Gold Hotel</td></tr>",
                            "<tr><td>48</td><td>5</td><td>9</td><td>3</td><td>0</td><td>i</td><td>Fortuna Panzió</td></tr>",
                            "<tr><td>15</td><td>2</td><td>3</td><td>2</td><td>1</td><td>i</td><td>Családi Ház</td></tr>",
                            "<tr><td>122</td><td>8</td><td>32</td><td>3</td><td>1</td><td>i</td><td>Hotel Három Hattyú</td></tr>",
                            "<tr><td>69</td><td>6</td><td>20</td><td>3</td><td>1</td><td>n</td><td>Kentaur Hotel</td></tr>",
                            "<tr><td>117</td><td>8</td><td>27</td><td>3</td><td>1</td><td>i</td><td>Hotel Három Hattyú</td></tr>",
                            "<tr><td>186</td><td>12</td><td>22</td><td>2</td><td>2</td><td>i</td><td>Gold Hotel</td></tr>",
                            "<tr><td>168</td><td>12</td><td>4</td><td>2</td><td>2</td><td>i</td><td>Gold Hotel</td></tr>",
                            "<tr><td>107</td><td>8</td><td>17</td><td>2</td><td>1</td><td>n</td><td>Hotel Három Hattyú</td></tr>",
                            "<tr><td>184</td><td>12</td><td>20</td><td>2</td><td>0</td><td>n</td><td>Gold Hotel</td></tr>",
                            "<tr><td>7</td><td>1</td><td>7</td><td>2</td><td>0</td><td>i</td><td>Sába-Ház</td></tr>",
                            "<tr><td>89</td><td>7</td><td>5</td><td>3</td><td>0</td><td>i</td><td>Szieszta Apartmanház</td></tr>",
                            "<tr><td>141</td><td>10</td><td>7</td><td>2</td><td>0</td><td>n</td><td>Lagúna Hotel</td></tr>",
                            "<tr><td>58</td><td>6</td><td>9</td><td>2</td><td>1</td><td>i</td><td>Kentaur Hotel</td></tr>",
                            "<tr><td>138</td><td>10</td><td>4</td><td>3</td><td>1</td><td>i</td><td>Lagúna Hotel</td></tr>",
                            "<tr><td>5</td><td>1</td><td>5</td><td>2</td><td>0</td><td>i</td><td>Sába-Ház</td></tr>",
                            "<tr><td>52</td><td>6</td><td>3</td><td>2</td><td>1</td><td>i</td><td>Kentaur Hotel</td></tr>",
                            "<tr><td>140</td><td>10</td><td>6</td><td>2</td><td>1</td><td>i</td><td>Lagúna Hotel</td></tr>",
                            "<tr><td>9</td><td>1</td><td>9</td><td>3</td><td>1</td><td>i</td><td>Sába-Ház</td></tr>",
                            "<tr><td>58</td><td>6</td><td>9</td><td>2</td><td>1</td><td>i</td><td>Kentaur Hotel</td></tr>",
                            "<tr><td>154</td><td>10</td><td>20</td><td>2</td><td>1</td><td>i</td><td>Lagúna Hotel</td></tr>",
                            "<tr><td>113</td><td>8</td><td>23</td><td>3</td><td>2</td><td>i</td><td>Hotel Három Hattyú</td></tr>",
                            "<tr><td>66</td><td>6</td><td>17</td><td>3</td><td>0</td><td>n</td><td>Kentaur Hotel</td></tr>",
                            "<tr><td>163</td><td>11</td><td>4</td><td>2</td><td>0</td><td>i</td><td>Partiszél Vendégház</td></tr>",
                            "<tr><td>168</td><td>12</td><td>4</td><td>2</td><td>2</td><td>i</td><td>Gold Hotel</td></tr>",
                            "<tr><td>170</td><td>12</td><td>6</td><td>2</td><td>0</td><td>i</td><td>Gold Hotel</td></tr>",
                            "<tr><td>78</td><td>6</td><td>29</td><td>2</td><td>1</td><td>n</td><td>Kentaur Hotel</td></tr>",
                            "<tr><td>89</td><td>7</td><td>5</td><td>3</td><td>0</td><td>i</td><td>Szieszta Apartmanház</td></tr>",
                            "<tr><td>43</td><td>5</td><td>4</td><td>3</td><td>0</td><td>i</td><td>Fortuna Panzió</td></tr>",
                            "<tr><td>106</td><td>8</td><td>16</td><td>2</td><td>0</td><td>i</td><td>Hotel Három Hattyú</td></tr>",
                            "<tr><td>50</td><td>6</td><td>1</td><td>2</td><td>0</td><td>n</td><td>Kentaur Hotel</td></tr>",
                            "<tr><td>88</td><td>7</td><td>4</td><td>3</td><td>0</td><td>n</td><td>Szieszta Apartmanház</td></tr>",
                            "<tr><td>1</td><td>1</td><td>1</td><td>3</td><td>0</td><td>n</td><td>Sába-Ház</td></tr>",
                            "<tr><td>27</td><td>4</td><td>3</td><td>3</td><td>1</td><td>n</td><td>Fortuna panzió</td></tr>",
                            "<tr><td>174</td><td>12</td><td>10</td><td>2</td><td>0</td><td>i</td><td>Gold Hotel</td></tr>",
                            "<tr><td>82</td><td>6</td><td>33</td><td>3</td><td>0</td><td>i</td><td>Kentaur Hotel</td></tr>",
                            "<tr><td>176</td><td>12</td><td>12</td><td>3</td><td>1</td><td>i</td><td>Gold Hotel</td></tr>",
                            "<tr><td>80</td><td>6</td><td>31</td><td>2</td><td>1</td><td>i</td><td>Kentaur Hotel</td></tr>",
                            "<tr><td>137</td><td>10</td><td>3</td><td>2</td><td>1</td><td>i</td><td>Lagúna Hotel</td></tr>",
                            "<tr><td>78</td><td>6</td><td>29</td><td>2</td><td>1</td><td>n</td><td>Kentaur Hotel</td></tr>",
                            "<tr><td>123</td><td>8</td><td>33</td><td>3</td><td>0</td><td>n</td><td>Hotel Három Hattyú</td></tr>",
                            "<tr><td>138</td><td>10</td><td>4</td><td>3</td><td>1</td><td>i</td><td>Lagúna Hotel</td></tr>",
                            "<tr><td>164</td><td>11</td><td>5</td><td>2</td><td>0</td><td>i</td><td>Partiszél Vendégház</td></tr>",
                            "<tr><td>58</td><td>6</td><td>9</td><td>2</td><td>1</td><td>i</td><td>Kentaur Hotel</td></tr>",
                            "<tr><td>127</td><td>8</td><td>37</td><td>2</td><td>1</td><td>i</td><td>Hotel Három Hattyú</td></tr>",
                            "<tr><td>22</td><td>3</td><td>6</td><td>3</td><td>2</td><td>n</td><td>Fortuna Apartman</td></tr>",
                            "<tr><td>59</td><td>6</td><td>10</td><td>2</td><td>1</td><td>n</td><td>Kentaur Hotel</td></tr>",
                            "<tr><td>135</td><td>10</td><td>1</td><td>3</td><td>0</td><td>i</td><td>Lagúna Hotel</td></tr>",
                            "<tr><td>128</td><td>8</td><td>38</td><td>2</td><td>1</td><td>i</td><td>Hotel Három Hattyú</td></tr>",
                            "<tr><td>46</td><td>5</td><td>7</td><td>3</td><td>0</td><td>i</td><td>Fortuna Panzió</td></tr>",
                            "<tr><td>164</td><td>11</td><td>5</td><td>2</td><td>0</td><td>i</td><td>Partiszél Vendégház</td></tr>",
                            "<tr><td>58</td><td>6</td><td>9</td><td>2</td><td>1</td><td>i</td><td>Kentaur Hotel</td></tr>",
                            "<tr><td>138</td><td>10</td><td>4</td><td>3</td><td>1</td><td>i</td><td>Lagúna Hotel</td></tr>",
                            "<tr><td>44</td><td>5</td><td>5</td><td>3</td><td>0</td><td>i</td><td>Fortuna Panzió</td></tr>",
                            "<tr><td>111</td><td>8</td><td>21</td><td>2</td><td>1</td><td>i</td><td>Hotel Három Hattyú</td></tr>",
                            "<tr><td>144</td><td>10</td><td>10</td><td>3</td><td>1</td><td>n</td><td>Lagúna Hotel</td></tr>",
                            "<tr><td>109</td><td>8</td><td>19</td><td>2</td><td>1</td><td>i</td><td>Hotel Három Hattyú</td></tr>",
                            "<tr><td>90</td><td>7</td><td>6</td><td>3</td><td>0</td><td>i</td><td>Szieszta Apartmanház</td></tr>",
                            "<tr><td>88</td><td>7</td><td>4</td><td>3</td><td>0</td><td>n</td><td>Szieszta Apartmanház</td></tr>",
                            "<tr><td>132</td><td>9</td><td>3</td><td>3</td><td>0</td><td>i</td><td>Jáde panzió</td></tr>",
                            "<tr><td>191</td><td>12</td><td>27</td><td>2</td><td>1</td><td>i</td><td>Gold Hotel</td></tr>",
                            "<tr><td>45</td><td>5</td><td>6</td><td>2</td><td>0</td><td>n</td><td>Fortuna Panzió</td></tr>",
                            "<tr><td>197</td><td>12</td><td>33</td><td>3</td><td>0</td><td>i</td><td>Gold Hotel</td></tr>",
                            "<tr><td>94</td><td>8</td><td>4</td><td>2</td><td>0</td><td>n</td><td>Hotel Három Hattyú</td></tr>",
                            "<tr><td>133</td><td>9</td><td>4</td><td>3</td><td>0</td><td>n</td><td>Jáde panzió</td></tr>",
                            "<tr><td>58</td><td>6</td><td>9</td><td>2</td><td>1</td><td>i</td><td>Kentaur Hotel</td></tr>",
                            "<tr><td>182</td><td>12</td><td>18</td><td>2</td><td>0</td><td>n</td><td>Gold Hotel</td></tr>",
                            "<tr><td>42</td><td>5</td><td>3</td><td>2</td><td>1</td><td>i</td><td>Fortuna Panzió</td></tr>",
                            "<tr><td>155</td><td>10</td><td>21</td><td>3</td><td>1</td><td>n</td><td>Lagúna Hotel</td></tr>",
                            "<tr><td>2</td><td>1</td><td>2</td><td>3</td><td>1</td><td>i</td><td>Sába-Ház</td></tr>",
                            "<tr><td>94</td><td>8</td><td>4</td><td>2</td><td>0</td><td>n</td><td>Hotel Három Hattyú</td></tr>",
                            "<tr><td>143</td><td>10</td><td>9</td><td>3</td><td>1</td><td>i</td><td>Lagúna Hotel</td></tr>",
                            "<tr><td>196</td><td>12</td><td>32</td><td>2</td><td>1</td><td>i</td><td>Gold Hotel</td></tr>",
                            "<tr><td>100</td><td>8</td><td>10</td><td>2</td><td>1</td><td>i</td><td>Hotel Három Hattyú</td></tr>",
                            "<tr><td>17</td><td>3</td><td>1</td><td>3</td><td>1</td><td>i</td><td>Fortuna Apartman</td></tr>",
                            "<tr><td>182</td><td>12</td><td>18</td><td>2</td><td>0</td><td>n</td><td>Gold Hotel</td></tr>",
                            "<tr><td>72</td><td>6</td><td>23</td><td>2</td><td>0</td><td>n</td><td>Kentaur Hotel</td></tr>",
                            "<tr><td>10</td><td>1</td><td>10</td><td>3</td><td>0</td><td>i</td><td>Sába-Ház</td></tr>",
                            "<tr><td>85</td><td>7</td><td>1</td><td>2</td><td>1</td><td>n</td><td>Szieszta Apartmanház</td></tr>",
                            "<tr><td>33</td><td>4</td><td>9</td><td>2</td><td>2</td><td>i</td><td>Fortuna panzió</td></tr>",
                            "<tr><td>58</td><td>6</td><td>9</td><td>2</td><td>1</td><td>i</td><td>Kentaur Hotel</td></tr>",
                            "<tr><td>191</td><td>12</td><td>27</td><td>2</td><td>1</td><td>i</td><td>Gold Hotel</td></tr>",
                            "<tr><td>68</td><td>6</td><td>19</td><td>2</td><td>2</td><td>i</td><td>Kentaur Hotel</td></tr>",
                            "<tr><td>70</td><td>6</td><td>21</td><td>2</td><td>1</td><td>i</td><td>Kentaur Hotel</td></tr>",
                            "<tr><td>182</td><td>12</td><td>18</td><td>2</td><td>0</td><td>n</td><td>Gold Hotel</td></tr>",
                            "<tr><td>55</td><td>6</td><td>6</td><td>2</td><td>1</td><td>i</td><td>Kentaur Hotel</td></tr>",
                            "<tr><td>54</td><td>6</td><td>5</td><td>3</td><td>0</td><td>n</td><td>Kentaur Hotel</td></tr>",
                            "<tr><td>171</td><td>12</td><td>7</td><td>2</td><td>1</td><td>i</td><td>Gold Hotel</td></tr>",
                            "<tr><td>124</td><td>8</td><td>34</td><td>3</td><td>0</td><td>n</td><td>Hotel Három Hattyú</td></tr>",
                            "<tr><td>73</td><td>6</td><td>24</td><td>2</td><td>1</td><td>i</td><td>Kentaur Hotel</td></tr>",
                            "<tr><td>101</td><td>8</td><td>11</td><td>2</td><td>0</td><td>i</td><td>Hotel Három Hattyú</td></tr>",
                            "<tr><td>70</td><td>6</td><td>21</td><td>2</td><td>1</td><td>i</td><td>Kentaur Hotel</td></tr>",
                            "<tr><td>1</td><td>1</td><td>1</td><td>3</td><td>0</td><td>n</td><td>Sába-Ház</td></tr>",
                            "<tr><td>37</td><td>4</td><td>13</td><td>2</td><td>1</td><td>i</td><td>Fortuna panzió</td></tr>",
                            "<tr><td>172</td><td>12</td><td>8</td><td>2</td><td>2</td><td>n</td><td>Gold Hotel</td></tr>",
                            "<tr><td>122</td><td>8</td><td>32</td><td>3</td><td>1</td><td>i</td><td>Hotel Három Hattyú</td></tr>",
                            "<tr><td>145</td><td>10</td><td>11</td><td>2</td><td>2</td><td>i</td><td>Lagúna Hotel</td></tr>",
                            "<tr><td>120</td><td>8</td><td>30</td><td>3</td><td>1</td><td>i</td><td>Hotel Három Hattyú</td></tr>",
                            "<tr><td>196</td><td>12</td><td>32</td><td>2</td><td>1</td><td>i</td><td>Gold Hotel</td></tr>",
                            "<tr><td>82</td><td>6</td><td>33</td><td>3</td><td>0</td><td>i</td><td>Kentaur Hotel</td></tr>",
                            "<tr><td>170</td><td>12</td><td>6</td><td>2</td><td>0</td><td>i</td><td>Gold Hotel</td></tr>",
                            "<tr><td>102</td><td>8</td><td>12</td><td>2</td><td>1</td><td>i</td><td>Hotel Három Hattyú</td></tr>",
                            "<tr><td>33</td><td>4</td><td>9</td><td>2</td><td>2</td><td>i</td><td>Fortuna panzió</td></tr>",
                            "<tr><td>79</td><td>6</td><td>30</td><td>3</td><td>0</td><td>i</td><td>Kentaur Hotel</td></tr>",
                            "<tr><td>181</td><td>12</td><td>17</td><td>3</td><td>0</td><td>i</td><td>Gold Hotel</td></tr>",
                            "<tr><td>13</td><td>2</td><td>1</td><td>3</td><td>0</td><td>i</td><td>Családi Ház</td></tr>",
                            "<tr><td>57</td><td>6</td><td>8</td><td>2</td><td>0</td><td>n</td><td>Kentaur Hotel</td></tr>",
                            "<tr><td>87</td><td>7</td><td>3</td><td>3</td><td>0</td><td>i</td><td>Szieszta Apartmanház</td></tr>",
                            "<tr><td>173</td><td>12</td><td>9</td><td>2</td><td>0</td><td>i</td><td>Gold Hotel</td></tr>",
                            "<tr><td>38</td><td>4</td><td>14</td><td>2</td><td>1</td><td>i</td><td>Fortuna panzió</td></tr>",
                            "<tr><td>115</td><td>8</td><td>25</td><td>3</td><td>0</td><td>i</td><td>Hotel Három Hattyú</td></tr>",
                            "<tr><td>111</td><td>8</td><td>21</td><td>2</td><td>1</td><td>i</td><td>Hotel Három Hattyú</td></tr>",
                            "<tr><td>107</td><td>8</td><td>17</td><td>2</td><td>1</td><td>n</td><td>Hotel Három Hattyú</td></tr>",
                            "<tr><td>93</td><td>8</td><td>3</td><td>3</td><td>2</td><td>i</td><td>Hotel Három Hattyú</td></tr>",
                            "<tr><td>169</td><td>12</td><td>5</td><td>2</td><td>1</td><td>i</td><td>Gold Hotel</td></tr>",
                            "<tr><td>140</td><td>10</td><td>6</td><td>2</td><td>1</td><td>i</td><td>Lagúna Hotel</td></tr>",
                            "<tr><td>138</td><td>10</td><td>4</td><td>3</td><td>1</td><td>i</td><td>Lagúna Hotel</td></tr>",
                            "<tr><td>88</td><td>7</td><td>4</td><td>3</td><td>0</td><td>n</td><td>Szieszta Apartmanház</td></tr>",
                            "<tr><td>129</td><td>8</td><td>39</td><td>2</td><td>1</td><td>i</td><td>Hotel Három Hattyú</td></tr>",
                            "<tr><td>140</td><td>10</td><td>6</td><td>2</td><td>1</td><td>i</td><td>Lagúna Hotel</td></tr>",
                            "<tr><td>25</td><td>4</td><td>1</td><td>3</td><td>1</td><td>n</td><td>Fortuna panzió</td></tr>",
                            "<tr><td>133</td><td>9</td><td>4</td><td>3</td><td>0</td><td>n</td><td>Jáde panzió</td></tr>",
                            "<tr><td>126</td><td>8</td><td>36</td><td>2</td><td>1</td><td>n</td><td>Hotel Három Hattyú</td></tr>",
                            "<tr><td>70</td><td>6</td><td>21</td><td>2</td><td>1</td><td>i</td><td>Kentaur Hotel</td></tr>",
                            "<tr><td>81</td><td>6</td><td>32</td><td>2</td><td>0</td><td>i</td><td>Kentaur Hotel</td></tr>",
                            "<tr><td>80</td><td>6</td><td>31</td><td>2</td><td>1</td><td>i</td><td>Kentaur Hotel</td></tr>",
                            "<tr><td>94</td><td>8</td><td>4</td><td>2</td><td>0</td><td>n</td><td>Hotel Három Hattyú</td></tr>",
                            "<tr><td>142</td><td>10</td><td>8</td><td>3</td><td>0</td><td>n</td><td>Lagúna Hotel</td></tr>",
                            "<tr><td>138</td><td>10</td><td>4</td><td>3</td><td>1</td><td>i</td><td>Lagúna Hotel</td></tr>",
                            "<tr><td>140</td><td>10</td><td>6</td><td>2</td><td>1</td><td>i</td><td>Lagúna Hotel</td></tr>",
                            "<tr><td>106</td><td>8</td><td>16</td><td>2</td><td>0</td><td>i</td><td>Hotel Három Hattyú</td></tr>",
                            "<tr><td>121</td><td>8</td><td>31</td><td>2</td><td>1</td><td>i</td><td>Hotel Három Hattyú</td></tr>",
                            "<tr><td>118</td><td>8</td><td>28</td><td>2</td><td>1</td><td>i</td><td>Hotel Három Hattyú</td></tr>",
                            "<tr><td>165</td><td>12</td><td>1</td><td>2</td><td>0</td><td>n</td><td>Gold Hotel</td></tr>",
                            "<tr><td>84</td><td>6</td><td>35</td><td>3</td><td>0</td><td>i</td><td>Kentaur Hotel</td></tr>",
                            "<tr><td>27</td><td>4</td><td>3</td><td>3</td><td>1</td><td>n</td><td>Fortuna panzió</td></tr>",
                            "<tr><td>96</td><td>8</td><td>6</td><td>3</td><td>0</td><td>n</td><td>Hotel Három Hattyú</td></tr>",
                            "<tr><td>83</td><td>6</td><td>34</td><td>3</td><td>0</td><td>i</td><td>Kentaur Hotel</td></tr>",
                            "<tr><td>39</td><td>4</td><td>15</td><td>2</td><td>0</td><td>i</td><td>Fortuna panzió</td></tr>",
                            "<tr><td>33</td><td>4</td><td>9</td><td>2</td><td>2</td><td>i</td><td>Fortuna panzió</td></tr>",
                            "<tr><td>67</td><td>6</td><td>18</td><td>2</td><td>2</td><td>i</td><td>Kentaur Hotel</td></tr>",
                            "<tr><td>176</td><td>12</td><td>12</td><td>3</td><td>1</td><td>i</td><td>Gold Hotel</td></tr>",
                            "<tr><td>84</td><td>6</td><td>35</td><td>3</td><td>0</td><td>i</td><td>Kentaur Hotel</td></tr>",
                            "<tr><td>122</td><td>8</td><td>32</td><td>3</td><td>1</td><td>i</td><td>Hotel Három Hattyú</td></tr>",
                            "<tr><td>55</td><td>6</td><td>6</td><td>2</td><td>1</td><td>i</td><td>Kentaur Hotel</td></tr>",
                            "<tr><td>197</td><td>12</td><td>33</td><td>3</td><td>0</td><td>i</td><td>Gold Hotel</td></tr>",
                            "<tr><td>26</td><td>4</td><td>2</td><td>2</td><td>1</td><td>i</td><td>Fortuna panzió</td></tr>",
                            "<tr><td>57</td><td>6</td><td>8</td><td>2</td><td>0</td><td>n</td><td>Kentaur Hotel</td></tr>",
                            "<tr><td>188</td><td>12</td><td>24</td><td>3</td><td>0</td><td>i</td><td>Gold Hotel</td></tr>",
                            "<tr><td>93</td><td>8</td><td>3</td><td>3</td><td>2</td><td>i</td><td>Hotel Három Hattyú</td></tr>",
                            "<tr><td>108</td><td>8</td><td>18</td><td>2</td><td>0</td><td>i</td><td>Hotel Három Hattyú</td></tr>",
                            "<tr><td>121</td><td>8</td><td>31</td><td>2</td><td>1</td><td>i</td><td>Hotel Három Hattyú</td></tr>",
                            "<tr><td>143</td><td>10</td><td>9</td><td>3</td><td>1</td><td>i</td><td>Lagúna Hotel</td></tr>",
                            "<tr><td>97</td><td>8</td><td>7</td><td>3</td><td>2</td><td>n</td><td>Hotel Három Hattyú</td></tr>",
                            "<tr><td>72</td><td>6</td><td>23</td><td>2</td><td>0</td><td>n</td><td>Kentaur Hotel</td></tr>",
                            "<tr><td>91</td><td>8</td><td>1</td><td>2</td><td>0</td><td>n</td><td>Hotel Három Hattyú</td></tr>",
                            "<tr><td>103</td><td>8</td><td>13</td><td>2</td><td>1</td><td>i</td><td>Hotel Három Hattyú</td></tr>",
                            "<tr><td>89</td><td>7</td><td>5</td><td>3</td><td>0</td><td>i</td><td>Szieszta Apartmanház</td></tr>",
                            "<tr><td>162</td><td>11</td><td>3</td><td>3</td><td>0</td><td>n</td><td>Partiszél Vendégház</td></tr>",
                            "<tr><td>141</td><td>10</td><td>7</td><td>2</td><td>0</td><td>n</td><td>Lagúna Hotel</td></tr>",
                            "<tr><td>98</td><td>8</td><td>8</td><td>2</td><td>0</td><td>n</td><td>Hotel Három Hattyú</td></tr>",
                            "<tr><td>124</td><td>8</td><td>34</td><td>3</td><td>0</td><td>n</td><td>Hotel Három Hattyú</td></tr>",
                            "<tr><td>187</td><td>12</td><td>23</td><td>3</td><td>1</td><td>i</td><td>Gold Hotel</td></tr>",
                            "<tr><td>90</td><td>7</td><td>6</td><td>3</td><td>0</td><td>i</td><td>Szieszta Apartmanház</td></tr>",
                            "<tr><td>82</td><td>6</td><td>33</td><td>3</td><td>0</td><td>i</td><td>Kentaur Hotel</td></tr>",
                            "<tr><td>175</td><td>12</td><td>11</td><td>2</td><td>0</td><td>i</td><td>Gold Hotel</td></tr>",
                            "<tr><td>99</td><td>8</td><td>9</td><td>2</td><td>0</td><td>n</td><td>Hotel Három Hattyú</td></tr>",
                            "<tr><td>133</td><td>9</td><td>4</td><td>3</td><td>0</td><td>n</td><td>Jáde panzió</td></tr>",
                            "<tr><td>182</td><td>12</td><td>18</td><td>2</td><td>0</td><td>n</td><td>Gold Hotel</td></tr>",
                            "<tr><td>35</td><td>4</td><td>11</td><td>3</td><td>0</td><td>i</td><td>Fortuna panzió</td></tr>",
                            "<tr><td>75</td><td>6</td><td>26</td><td>2</td><td>1</td><td>n</td><td>Kentaur Hotel</td></tr>",
                            "<tr><td>119</td><td>8</td><td>29</td><td>2</td><td>0</td><td>i</td><td>Hotel Három Hattyú</td></tr>",
                            "<tr><td>167</td><td>12</td><td>3</td><td>3</td><td>0</td><td>i</td><td>Gold Hotel</td></tr>",
                            "<tr><td>24</td><td>3</td><td>8</td><td>4</td><td>1</td><td>i</td><td>Fortuna Apartman</td></tr>",
                            "<tr><td>38</td><td>4</td><td>14</td><td>2</td><td>1</td><td>i</td><td>Fortuna panzió</td></tr>",
                            "<tr><td>97</td><td>8</td><td>7</td><td>3</td><td>2</td><td>n</td><td>Hotel Három Hattyú</td></tr>",
                            "<tr><td>15</td><td>2</td><td>3</td><td>2</td><td>1</td><td>i</td><td>Családi Ház</td></tr>",
                            "<tr><td>124</td><td>8</td><td>34</td><td>3</td><td>0</td><td>n</td><td>Hotel Három Hattyú</td></tr>",
                            "<tr><td>198</td><td>12</td><td>34</td><td>3</td><td>0</td><td>i</td><td>Gold Hotel</td></tr>",
                            "<tr><td>172</td><td>12</td><td>8</td><td>2</td><td>2</td><td>n</td><td>Gold Hotel</td></tr>",
                            "<tr><td>182</td><td>12</td><td>18</td><td>2</td><td>0</td><td>n</td><td>Gold Hotel</td></tr>",
                            "<tr><td>9</td><td>1</td><td>9</td><td>3</td><td>1</td><td>i</td><td>Sába-Ház</td></tr>",
                            "<tr><td>110</td><td>8</td><td>20</td><td>2</td><td>0</td><td>i</td><td>Hotel Három Hattyú</td></tr>",
                            "<tr><td>44</td><td>5</td><td>5</td><td>3</td><td>0</td><td>i</td><td>Fortuna Panzió</td></tr>",
                            "<tr><td>62</td><td>6</td><td>13</td><td>2</td><td>0</td><td>n</td><td>Kentaur Hotel</td></tr>",
                            "<tr><td>169</td><td>12</td><td>5</td><td>2</td><td>1</td><td>i</td><td>Gold Hotel</td></tr>",
                            "<tr><td>126</td><td>8</td><td>36</td><td>2</td><td>1</td><td>n</td><td>Hotel Három Hattyú</td></tr>",
                            "<tr><td>173</td><td>12</td><td>9</td><td>2</td><td>0</td><td>i</td><td>Gold Hotel</td></tr>",
                            "<tr><td>12</td><td>1</td><td>12</td><td>2</td><td>1</td><td>i</td><td>Sába-Ház</td></tr>",
                            "<tr><td>52</td><td>6</td><td>3</td><td>2</td><td>1</td><td>i</td><td>Kentaur Hotel</td></tr>",
                            "<tr><td>150</td><td>10</td><td>16</td><td>2</td><td>1</td><td>i</td><td>Lagúna Hotel</td></tr>",
                            "<tr><td>139</td><td>10</td><td>5</td><td>2</td><td>1</td><td>i</td><td>Lagúna Hotel</td></tr>",
                            "<tr><td>3</td><td>1</td><td>3</td><td>3</td><td>1</td><td>i</td><td>Sába-Ház</td></tr>",
                            "<tr><td>39</td><td>4</td><td>15</td><td>2</td><td>0</td><td>i</td><td>Fortuna panzió</td></tr>",
                            "<tr><td>35</td><td>4</td><td>11</td><td>3</td><td>0</td><td>i</td><td>Fortuna panzió</td></tr>",
                            "<tr><td>183</td><td>12</td><td>19</td><td>3</td><td>0</td><td>i</td><td>Gold Hotel</td></tr>",
                            "<tr><td>96</td><td>8</td><td>6</td><td>3</td><td>0</td><td>n</td><td>Hotel Három Hattyú</td></tr>",
                            "<tr><td>77</td><td>6</td><td>28</td><td>3</td><td>1</td><td>i</td><td>Kentaur Hotel</td></tr>",
                            "<tr><td>122</td><td>8</td><td>32</td><td>3</td><td>1</td><td>i</td><td>Hotel Három Hattyú</td></tr>",
                            "<tr><td>185</td><td>12</td><td>21</td><td>3</td><td>0</td><td>i</td><td>Gold Hotel</td></tr>",
                            "<tr><td>15</td><td>2</td><td>3</td><td>2</td><td>1</td><td>i</td><td>Családi Ház</td></tr>",
                            "<tr><td>81</td><td>6</td><td>32</td><td>2</td><td>0</td><td>i</td><td>Kentaur Hotel</td></tr>",
                            "<tr><td>42</td><td>5</td><td>3</td><td>2</td><td>1</td><td>i</td><td>Fortuna Panzió</td></tr>",
                            "<tr><td>129</td><td>8</td><td>39</td><td>2</td><td>1</td><td>i</td><td>Hotel Három Hattyú</td></tr>",
                            "<tr><td>64</td><td>6</td><td>15</td><td>2</td><td>0</td><td>i</td><td>Kentaur Hotel</td></tr>",
                            "<tr><td>79</td><td>6</td><td>30</td><td>3</td><td>0</td><td>i</td><td>Kentaur Hotel</td></tr>",
                            "<tr><td>143</td><td>10</td><td>9</td><td>3</td><td>1</td><td>i</td><td>Lagúna Hotel</td></tr>",
                            "<tr><td>189</td><td>12</td><td>25</td><td>2</td><td>2</td><td>i</td><td>Gold Hotel</td></tr>",
                            "<tr><td>139</td><td>10</td><td>5</td><td>2</td><td>1</td><td>i</td><td>Lagúna Hotel</td></tr>",
                            "<tr><td>58</td><td>6</td><td>9</td><td>2</td><td>1</td><td>i</td><td>Kentaur Hotel</td></tr>",
                            "<tr><td>107</td><td>8</td><td>17</td><td>2</td><td>1</td><td>n</td><td>Hotel Három Hattyú</td></tr>",
                            "<tr><td>86</td><td>7</td><td>2</td><td>2</td><td>1</td><td>i</td><td>Szieszta Apartmanház</td></tr>",
                            "<tr><td>39</td><td>4</td><td>15</td><td>2</td><td>0</td><td>i</td><td>Fortuna panzió</td></tr>",
                            "<tr><td>116</td><td>8</td><td>26</td><td>3</td><td>0</td><td>i</td><td>Hotel Három Hattyú</td></tr>",
                            "<tr><td>87</td><td>7</td><td>3</td><td>3</td><td>0</td><td>i</td><td>Szieszta Apartmanház</td></tr>",
                            "<tr><td>70</td><td>6</td><td>21</td><td>2</td><td>1</td><td>i</td><td>Kentaur Hotel</td></tr>",
                            "<tr><td>75</td><td>6</td><td>26</td><td>2</td><td>1</td><td>n</td><td>Kentaur Hotel</td></tr>",
                            "<tr><td>28</td><td>4</td><td>4</td><td>2</td><td>1</td><td>i</td><td>Fortuna panzió</td></tr>",
                            "<tr><td>153</td><td>10</td><td>19</td><td>3</td><td>0</td><td>n</td><td>Lagúna Hotel</td></tr>",
                            "<tr><td>77</td><td>6</td><td>28</td><td>3</td><td>1</td><td>i</td><td>Kentaur Hotel</td></tr>",
                            "<tr><td>156</td><td>10</td><td>22</td><td>2</td><td>2</td><td>i</td><td>Lagúna Hotel</td></tr>",
                            "<tr><td>185</td><td>12</td><td>21</td><td>3</td><td>0</td><td>i</td><td>Gold Hotel</td></tr>",
                            "<tr><td>81</td><td>6</td><td>32</td><td>2</td><td>0</td><td>i</td><td>Kentaur Hotel</td></tr>",
                            "<tr><td>64</td><td>6</td><td>15</td><td>2</td><td>0</td><td>i</td><td>Kentaur Hotel</td></tr>",
                            "<tr><td>57</td><td>6</td><td>8</td><td>2</td><td>0</td><td>n</td><td>Kentaur Hotel</td></tr>",
                            "<tr><td>186</td><td>12</td><td>22</td><td>2</td><td>2</td><td>i</td><td>Gold Hotel</td></tr>",
                            "<tr><td>117</td><td>8</td><td>27</td><td>3</td><td>1</td><td>i</td><td>Hotel Három Hattyú</td></tr>",
                            "<tr><td>13</td><td>2</td><td>1</td><td>3</td><td>0</td><td>i</td><td>Családi Ház</td></tr>",
                            "<tr><td>153</td><td>10</td><td>19</td><td>3</td><td>0</td><td>n</td><td>Lagúna Hotel</td></tr>",
                            "<tr><td>145</td><td>10</td><td>11</td><td>2</td><td>2</td><td>i</td><td>Lagúna Hotel</td></tr>",
                            "<tr><td>118</td><td>8</td><td>28</td><td>2</td><td>1</td><td>i</td><td>Hotel Három Hattyú</td></tr>",
                            "<tr><td>195</td><td>12</td><td>31</td><td>2</td><td>0</td><td>i</td><td>Gold Hotel</td></tr>",
                            "<tr><td>131</td><td>9</td><td>2</td><td>2</td><td>0</td><td>n</td><td>Jáde panzió</td></tr>",
                            "<tr><td>130</td><td>9</td><td>1</td><td>2</td><td>0</td><td>n</td><td>Jáde panzió</td></tr>",
                            "<tr><td>27</td><td>4</td><td>3</td><td>3</td><td>1</td><td>n</td><td>Fortuna panzió</td></tr>",
                            "<tr><td>51</td><td>6</td><td>2</td><td>3</td><td>1</td><td>i</td><td>Kentaur Hotel</td></tr>",
                            "<tr><td>38</td><td>4</td><td>14</td><td>2</td><td>1</td><td>i</td><td>Fortuna panzió</td></tr>",
                            "<tr><td>146</td><td>10</td><td>12</td><td>3</td><td>0</td><td>i</td><td>Lagúna Hotel</td></tr>",
                            "<tr><td>35</td><td>4</td><td>11</td><td>3</td><td>0</td><td>i</td><td>Fortuna panzió</td></tr>",
                            "<tr><td>118</td><td>8</td><td>28</td><td>2</td><td>1</td><td>i</td><td>Hotel Három Hattyú</td></tr>",
                            "<tr><td>100</td><td>8</td><td>10</td><td>2</td><td>1</td><td>i</td><td>Hotel Három Hattyú</td></tr>",
                            "<tr><td>120</td><td>8</td><td>30</td><td>3</td><td>1</td><td>i</td><td>Hotel Három Hattyú</td></tr>",
                            "<tr><td>195</td><td>12</td><td>31</td><td>2</td><td>0</td><td>i</td><td>Gold Hotel</td></tr>",
                            "<tr><td>103</td><td>8</td><td>13</td><td>2</td><td>1</td><td>i</td><td>Hotel Három Hattyú</td></tr>",
                            "<tr><td>99</td><td>8</td><td>9</td><td>2</td><td>0</td><td>n</td><td>Hotel Három Hattyú</td></tr>",
                            "<tr><td>163</td><td>11</td><td>4</td><td>2</td><td>0</td><td>i</td><td>Partiszél Vendégház</td></tr>",
                            "<tr><td>119</td><td>8</td><td>29</td><td>2</td><td>0</td><td>i</td><td>Hotel Három Hattyú</td></tr>",
                            "<tr><td>110</td><td>8</td><td>20</td><td>2</td><td>0</td><td>i</td><td>Hotel Három Hattyú</td></tr>",
                            "<tr><td>156</td><td>10</td><td>22</td><td>2</td><td>2</td><td>i</td><td>Lagúna Hotel</td></tr>",
                            "<tr><td>172</td><td>12</td><td>8</td><td>2</td><td>2</td><td>n</td><td>Gold Hotel</td></tr>",
                            "<tr><td>4</td><td>1</td><td>4</td><td>2</td><td>1</td><td>i</td><td>Sába-Ház</td></tr>",
                            "<tr><td>120</td><td>8</td><td>30</td><td>3</td><td>1</td><td>i</td><td>Hotel Három Hattyú</td></tr>",
                            "<tr><td>107</td><td>8</td><td>17</td><td>2</td><td>1</td><td>n</td><td>Hotel Három Hattyú</td></tr>",
                            "<tr><td>113</td><td>8</td><td>23</td><td>3</td><td>2</td><td>i</td><td>Hotel Három Hattyú</td></tr>",
                            "<tr><td>61</td><td>6</td><td>12</td><td>3</td><td>0</td><td>i</td><td>Kentaur Hotel</td></tr>",
                            "<tr><td>179</td><td>12</td><td>15</td><td>3</td><td>2</td><td>i</td><td>Gold Hotel</td></tr>",
                            "<tr><td>16</td><td>2</td><td>4</td><td>3</td><td>1</td><td>i</td><td>Családi Ház</td></tr>",
                            "<tr><td>113</td><td>8</td><td>23</td><td>3</td><td>2</td><td>i</td><td>Hotel Három Hattyú</td></tr>",
                            "<tr><td>126</td><td>8</td><td>36</td><td>2</td><td>1</td><td>n</td><td>Hotel Három Hattyú</td></tr>",
                            "<tr><td>116</td><td>8</td><td>26</td><td>3</td><td>0</td><td>i</td><td>Hotel Három Hattyú</td></tr>",
                            "<tr><td>191</td><td>12</td><td>27</td><td>2</td><td>1</td><td>i</td><td>Gold Hotel</td></tr>",
                            "<tr><td>177</td><td>12</td><td>13</td><td>3</td><td>2</td><td>i</td><td>Gold Hotel</td></tr>",
                            "<tr><td>57</td><td>6</td><td>8</td><td>2</td><td>0</td><td>n</td><td>Kentaur Hotel</td></tr>",
                            "<tr><td>18</td><td>3</td><td>2</td><td>3</td><td>2</td><td>n</td><td>Fortuna Apartman</td></tr>",
                            "<tr><td>81</td><td>6</td><td>32</td><td>2</td><td>0</td><td>i</td><td>Kentaur Hotel</td></tr>",
                            "<tr><td>153</td><td>10</td><td>19</td><td>3</td><td>0</td><td>n</td><td>Lagúna Hotel</td></tr>",
                            "<tr><td>191</td><td>12</td><td>27</td><td>2</td><td>1</td><td>i</td><td>Gold Hotel</td></tr>",
                            "<tr><td>129</td><td>8</td><td>39</td><td>2</td><td>1</td><td>i</td><td>Hotel Három Hattyú</td></tr>",
                            "<tr><td>106</td><td>8</td><td>16</td><td>2</td><td>0</td><td>i</td><td>Hotel Három Hattyú</td></tr>",
                            "<tr><td>176</td><td>12</td><td>12</td><td>3</td><td>1</td><td>i</td><td>Gold Hotel</td></tr>",
                            "<tr><td>55</td><td>6</td><td>6</td><td>2</td><td>1</td><td>i</td><td>Kentaur Hotel</td></tr>",
                            "<tr><td>85</td><td>7</td><td>1</td><td>2</td><td>1</td><td>n</td><td>Szieszta Apartmanház</td></tr>",
                            "<tr><td>149</td><td>10</td><td>15</td><td>2</td><td>0</td><td>i</td><td>Lagúna Hotel</td></tr>",
                            "<tr><td>46</td><td>5</td><td>7</td><td>3</td><td>0</td><td>i</td><td>Fortuna Panzió</td></tr>",
                            "<tr><td>101</td><td>8</td><td>11</td><td>2</td><td>0</td><td>i</td><td>Hotel Három Hattyú</td></tr>",
                            "<tr><td>190</td><td>12</td><td>26</td><td>2</td><td>0</td><td>i</td><td>Gold Hotel</td></tr>",
                            "<tr><td>94</td><td>8</td><td>4</td><td>2</td><td>0</td><td>n</td><td>Hotel Három Hattyú</td></tr>",
                            "<tr><td>132</td><td>9</td><td>3</td><td>3</td><td>0</td><td>i</td><td>Jáde panzió</td></tr>",
                            "<tr><td>55</td><td>6</td><td>6</td><td>2</td><td>1</td><td>i</td><td>Kentaur Hotel</td></tr>",
                            "<tr><td>89</td><td>7</td><td>5</td><td>3</td><td>0</td><td>i</td><td>Szieszta Apartmanház</td></tr>",
                            "<tr><td>104</td><td>8</td><td>14</td><td>3</td><td>0</td><td>i</td><td>Hotel Három Hattyú</td></tr>",
                            "<tr><td>11</td><td>1</td><td>11</td><td>2</td><td>1</td><td>i</td><td>Sába-Ház</td></tr>",
                            "<tr><td>43</td><td>5</td><td>4</td><td>3</td><td>0</td><td>i</td><td>Fortuna Panzió</td></tr>",
                            "<tr><td>105</td><td>8</td><td>15</td><td>2</td><td>0</td><td>i</td><td>Hotel Három Hattyú</td></tr>",
                            "<tr><td>166</td><td>12</td><td>2</td><td>2</td><td>1</td><td>i</td><td>Gold Hotel</td></tr>",
                            "<tr><td>92</td><td>8</td><td>2</td><td>3</td><td>1</td><td>i</td><td>Hotel Három Hattyú</td></tr>",
                            "<tr><td>97</td><td>8</td><td>7</td><td>3</td><td>2</td><td>n</td><td>Hotel Három Hattyú</td></tr>",
                            "<tr><td>35</td><td>4</td><td>11</td><td>3</td><td>0</td><td>i</td><td>Fortuna panzió</td></tr>",
                            "<tr><td>112</td><td>8</td><td>22</td><td>3</td><td>0</td><td>i</td><td>Hotel Három Hattyú</td></tr>",
                            "<tr><td>124</td><td>8</td><td>34</td><td>3</td><td>0</td><td>n</td><td>Hotel Három Hattyú</td></tr>",
                            "<tr><td>104</td><td>8</td><td>14</td><td>3</td><td>0</td><td>i</td><td>Hotel Három Hattyú</td></tr>",
                            "<tr><td>19</td><td>3</td><td>3</td><td>2</td><td>1</td><td>i</td><td>Fortuna Apartman</td></tr>",
                            "<tr><td>52</td><td>6</td><td>3</td><td>2</td><td>1</td><td>i</td><td>Kentaur Hotel</td></tr>",
                            "<tr><td>134</td><td>9</td><td>5</td><td>3</td><td>0</td><td>i</td><td>Jáde panzió</td></tr>",
                            "<tr><td>49</td><td>5</td><td>10</td><td>3</td><td>0</td><td>i</td><td>Fortuna Panzió</td></tr>",
                            "<tr><td>9</td><td>1</td><td>9</td><td>3</td><td>1</td><td>i</td><td>Sába-Ház</td></tr>",
                            "<tr><td>39</td><td>4</td><td>15</td><td>2</td><td>0</td><td>i</td><td>Fortuna panzió</td></tr>",
                            "<tr><td>154</td><td>10</td><td>20</td><td>2</td><td>1</td><td>i</td><td>Lagúna Hotel</td></tr>",
                            "<tr><td>114</td><td>8</td><td>24</td><td>2</td><td>1</td><td>n</td><td>Hotel Három Hattyú</td></tr>",
                            "<tr><td>155</td><td>10</td><td>21</td><td>3</td><td>1</td><td>n</td><td>Lagúna Hotel</td></tr>",
                            "<tr><td>14</td><td>2</td><td>2</td><td>3</td><td>2</td><td>i</td><td>Családi Ház</td></tr>",
                            "<tr><td>95</td><td>8</td><td>5</td><td>3</td><td>1</td><td>i</td><td>Hotel Három Hattyú</td></tr>",
                            "<tr><td>3</td><td>1</td><td>3</td><td>3</td><td>1</td><td>i</td><td>Sába-Ház</td></tr>",
                            "<tr><td>142</td><td>10</td><td>8</td><td>3</td><td>0</td><td>n</td><td>Lagúna Hotel</td></tr>",
                            "<tr><td>48</td><td>5</td><td>9</td><td>3</td><td>0</td><td>i</td><td>Fortuna Panzió</td></tr>",
                            "<tr><td>48</td><td>5</td><td>9</td><td>3</td><td>0</td><td>i</td><td>Fortuna Panzió</td></tr>",
                            "<tr><td>88</td><td>7</td><td>4</td><td>3</td><td>0</td><td>n</td><td>Szieszta Apartmanház</td></tr>",
                            "<tr><td>17</td><td>3</td><td>1</td><td>3</td><td>1</td><td>i</td><td>Fortuna Apartman</td></tr>",
                            "<tr><td>51</td><td>6</td><td>2</td><td>3</td><td>1</td><td>i</td><td>Kentaur Hotel</td></tr>",
                            "<tr><td>157</td><td>10</td><td>23</td><td>2</td><td>0</td><td>n</td><td>Lagúna Hotel</td></tr>",
                            "<tr><td>44</td><td>5</td><td>5</td><td>3</td><td>0</td><td>i</td><td>Fortuna Panzió</td></tr>",
                            "<tr><td>43</td><td>5</td><td>4</td><td>3</td><td>0</td><td>i</td><td>Fortuna Panzió</td></tr>",
                            "<tr><td>115</td><td>8</td><td>25</td><td>3</td><td>0</td><td>i</td><td>Hotel Három Hattyú</td></tr>",
                            "<tr><td>92</td><td>8</td><td>2</td><td>3</td><td>1</td><td>i</td><td>Hotel Három Hattyú</td></tr>",
                            "<tr><td>38</td><td>4</td><td>14</td><td>2</td><td>1</td><td>i</td><td>Fortuna panzió</td></tr>",
                            "<tr><td>76</td><td>6</td><td>27</td><td>2</td><td>0</td><td>i</td><td>Kentaur Hotel</td></tr>",
                            "<tr><td>152</td><td>10</td><td>18</td><td>2</td><td>0</td><td>i</td><td>Lagúna Hotel</td></tr>",
                            "<tr><td>180</td><td>12</td><td>16</td><td>2</td><td>2</td><td>i</td><td>Gold Hotel</td></tr>",
                            "<tr><td>109</td><td>8</td><td>19</td><td>2</td><td>1</td><td>i</td><td>Hotel Három Hattyú</td></tr>",
                            "<tr><td>156</td><td>10</td><td>22</td><td>2</td><td>2</td><td>i</td><td>Lagúna Hotel</td></tr>",
                            "<tr><td>81</td><td>6</td><td>32</td><td>2</td><td>0</td><td>i</td><td>Kentaur Hotel</td></tr>",
                            "<tr><td>180</td><td>12</td><td>16</td><td>2</td><td>2</td><td>i</td><td>Gold Hotel</td></tr>",
                            "<tr><td>94</td><td>8</td><td>4</td><td>2</td><td>0</td><td>n</td><td>Hotel Három Hattyú</td></tr>",
                            "<tr><td>160</td><td>11</td><td>1</td><td>3</td><td>1</td><td>i</td><td>Partiszél Vendégház</td></tr>",
                            "<tr><td>115</td><td>8</td><td>25</td><td>3</td><td>0</td><td>i</td><td>Hotel Három Hattyú</td></tr>",
                            "<tr><td>171</td><td>12</td><td>7</td><td>2</td><td>1</td><td>i</td><td>Gold Hotel</td></tr>",
                            "<tr><td>29</td><td>4</td><td>5</td><td>2</td><td>0</td><td>n</td><td>Fortuna panzió</td></tr>",
                            "<tr><td>96</td><td>8</td><td>6</td><td>3</td><td>0</td><td>n</td><td>Hotel Három Hattyú</td></tr>",
                            "<tr><td>176</td><td>12</td><td>12</td><td>3</td><td>1</td><td>i</td><td>Gold Hotel</td></tr>",
                            "<tr><td>161</td><td>11</td><td>2</td><td>2</td><td>2</td><td>i</td><td>Partiszél Vendégház</td></tr>",
                            "<tr><td>144</td><td>10</td><td>10</td><td>3</td><td>1</td><td>n</td><td>Lagúna Hotel</td></tr>",
                            "<tr><td>59</td><td>6</td><td>10</td><td>2</td><td>1</td><td>n</td><td>Kentaur Hotel</td></tr>",
                            "<tr><td>128</td><td>8</td><td>38</td><td>2</td><td>1</td><td>i</td><td>Hotel Három Hattyú</td></tr>",
                            "<tr><td>88</td><td>7</td><td>4</td><td>3</td><td>0</td><td>n</td><td>Szieszta Apartmanház</td></tr>",
                            "<tr><td>189</td><td>12</td><td>25</td><td>2</td><td>2</td><td>i</td><td>Gold Hotel</td></tr>",
                            "<tr><td>78</td><td>6</td><td>29</td><td>2</td><td>1</td><td>n</td><td>Kentaur Hotel</td></tr>",
                            "<tr><td>148</td><td>10</td><td>14</td><td>2</td><td>0</td><td>i</td><td>Lagúna Hotel</td></tr>",
                            "<tr><td>127</td><td>8</td><td>37</td><td>2</td><td>1</td><td>i</td><td>Hotel Három Hattyú</td></tr>",
                            "<tr><td>67</td><td>6</td><td>18</td><td>2</td><td>2</td><td>i</td><td>Kentaur Hotel</td></tr>",
                            "<tr><td>48</td><td>5</td><td>9</td><td>3</td><td>0</td><td>i</td><td>Fortuna Panzió</td></tr>",
                            "<tr><td>64</td><td>6</td><td>15</td><td>2</td><td>0</td><td>i</td><td>Kentaur Hotel</td></tr>",
                            "<tr><td>128</td><td>8</td><td>38</td><td>2</td><td>1</td><td>i</td><td>Hotel Három Hattyú</td></tr>",
                            "<tr><td>67</td><td>6</td><td>18</td><td>2</td><td>2</td><td>i</td><td>Kentaur Hotel</td></tr>",
                            "</table>"
                        ]
                    }
                }
            ],
            "execution_count": 16
        }
    ]
}