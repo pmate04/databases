{
    "metadata": {
        "kernelspec": {
            "name": "SQL",
            "display_name": "SQL",
            "language": "sql"
        },
        "language_info": {
            "name": "sql",
            "version": ""
        }
    },
    "nbformat_minor": 2,
    "nbformat": 4,
    "cells": [
        {
            "cell_type": "code",
            "source": [
                "SELECT rogzitette, SZALLAS_NEV, cim\r\n",
                "FROM szallashely\r\n",
                "WHERE MONTH(ROGZ_IDO)= 3 AND HELY LIKE 'Balaton%'\r\n",
                "ORDER BY CSILLAGOK_SZAMA desc\r\n",
                ""
            ],
            "metadata": {
                "azdata_cell_guid": "2a4ec0f7-85d1-4906-a8fc-985786a7e172",
                "language": "sql"
            },
            "outputs": [
                {
                    "output_type": "display_data",
                    "data": {
                        "text/html": "(7 rows affected)"
                    },
                    "metadata": {}
                },
                {
                    "output_type": "display_data",
                    "data": {
                        "text/html": "Total execution time: 00:00:00.010"
                    },
                    "metadata": {}
                },
                {
                    "output_type": "execute_result",
                    "execution_count": 12,
                    "data": {
                        "application/vnd.dataresource+json": {
                            "schema": {
                                "fields": [
                                    {
                                        "name": "rogzitette"
                                    },
                                    {
                                        "name": "SZALLAS_NEV"
                                    },
                                    {
                                        "name": "cim"
                                    }
                                ]
                            },
                            "data": [
                                {
                                    "rogzitette": "Béla",
                                    "SZALLAS_NEV": "Hotel Három Hattyú",
                                    "cim": "8623 Balatonföldvár, Rákóczi Ferenc út 45."
                                },
                                {
                                    "rogzitette": "Mari",
                                    "SZALLAS_NEV": "Jáde panzió",
                                    "cim": "8624 Balatonföldvár, Kiss u.2."
                                },
                                {
                                    "rogzitette": "Béla",
                                    "SZALLAS_NEV": "Kentaur Hotel",
                                    "cim": "8600 Siófok (Széplak), Akácfa utca 1"
                                },
                                {
                                    "rogzitette": "Béla",
                                    "SZALLAS_NEV": "Tímárház Panzió",
                                    "cim": "8600 Siófok, Virág utca 1"
                                },
                                {
                                    "rogzitette": "Béla",
                                    "SZALLAS_NEV": "Családi Ház",
                                    "cim": "8630 Balatonboglár, József Attila utca 25"
                                },
                                {
                                    "rogzitette": "Mari",
                                    "SZALLAS_NEV": "Szieszta Apartmanház",
                                    "cim": "8630 Balatonboglár, Dózsa György utca 108"
                                },
                                {
                                    "rogzitette": "Béla",
                                    "SZALLAS_NEV": "Partiszél Vendégház",
                                    "cim": "8220 Balatonalmádi Neptun u. 23."
                                }
                            ]
                        },
                        "text/html": "<table><tr><th>rogzitette</th><th>SZALLAS_NEV</th><th>cim</th></tr><tr><td>Béla</td><td>Hotel Három Hattyú</td><td>8623 Balatonföldvár, Rákóczi Ferenc út 45.</td></tr><tr><td>Mari</td><td>Jáde panzió</td><td>8624 Balatonföldvár, Kiss u.2.</td></tr><tr><td>Béla</td><td>Kentaur Hotel</td><td>8600 Siófok (Széplak), Akácfa utca 1</td></tr><tr><td>Béla</td><td>Tímárház Panzió</td><td>8600 Siófok, Virág utca 1</td></tr><tr><td>Béla</td><td>Családi Ház</td><td>8630 Balatonboglár, József Attila utca 25</td></tr><tr><td>Mari</td><td>Szieszta Apartmanház</td><td>8630 Balatonboglár, Dózsa György utca 108</td></tr><tr><td>Béla</td><td>Partiszél Vendégház</td><td>8220 Balatonalmádi Neptun u. 23.</td></tr></table>"
                    },
                    "metadata": {}
                }
            ],
            "execution_count": 12
        },
        {
            "cell_type": "code",
            "source": [
                "SELECT SZOBA_FK\r\n",
                "FROM szallashely JOIN Szoba ON szallashely.szallas_id = szoba.szallas_fk join foglalas ON szoba.szoba_id = foglalas.szoba_fk join vendeg on foglalas.ugyfel_fk = vendeg.usernev\r\n",
                "WHERE FELNOTT_SZAM > GYERMEK_SZAM\r\n",
                "GROUp by SZOBA_FK\r\n",
                "HAVING count(szoba_fk)<=2\r\n",
                "\r\n",
                ""
            ],
            "metadata": {
                "azdata_cell_guid": "d541d73c-bcd3-481d-a733-1bedaead5edc",
                "language": "sql",
                "tags": []
            },
            "outputs": [
                {
                    "output_type": "display_data",
                    "data": {
                        "text/html": "(59 rows affected)"
                    },
                    "metadata": {}
                },
                {
                    "output_type": "display_data",
                    "data": {
                        "text/html": "Total execution time: 00:00:00.013"
                    },
                    "metadata": {}
                },
                {
                    "output_type": "execute_result",
                    "metadata": {},
                    "execution_count": 15,
                    "data": {
                        "application/vnd.dataresource+json": {
                            "schema": {
                                "fields": [
                                    {
                                        "name": "SZOBA_FK"
                                    }
                                ]
                            },
                            "data": [
                                {
                                    "SZOBA_FK": "2"
                                },
                                {
                                    "SZOBA_FK": "5"
                                },
                                {
                                    "SZOBA_FK": "16"
                                },
                                {
                                    "SZOBA_FK": "17"
                                },
                                {
                                    "SZOBA_FK": "21"
                                },
                                {
                                    "SZOBA_FK": "22"
                                },
                                {
                                    "SZOBA_FK": "25"
                                },
                                {
                                    "SZOBA_FK": "30"
                                },
                                {
                                    "SZOBA_FK": "31"
                                },
                                {
                                    "SZOBA_FK": "32"
                                },
                                {
                                    "SZOBA_FK": "37"
                                },
                                {
                                    "SZOBA_FK": "41"
                                },
                                {
                                    "SZOBA_FK": "47"
                                },
                                {
                                    "SZOBA_FK": "56"
                                },
                                {
                                    "SZOBA_FK": "60"
                                },
                                {
                                    "SZOBA_FK": "67"
                                },
                                {
                                    "SZOBA_FK": "69"
                                },
                                {
                                    "SZOBA_FK": "71"
                                },
                                {
                                    "SZOBA_FK": "72"
                                },
                                {
                                    "SZOBA_FK": "75"
                                },
                                {
                                    "SZOBA_FK": "76"
                                },
                                {
                                    "SZOBA_FK": "85"
                                },
                                {
                                    "SZOBA_FK": "91"
                                },
                                {
                                    "SZOBA_FK": "100"
                                },
                                {
                                    "SZOBA_FK": "101"
                                },
                                {
                                    "SZOBA_FK": "102"
                                },
                                {
                                    "SZOBA_FK": "103"
                                },
                                {
                                    "SZOBA_FK": "108"
                                },
                                {
                                    "SZOBA_FK": "109"
                                },
                                {
                                    "SZOBA_FK": "111"
                                },
                                {
                                    "SZOBA_FK": "113"
                                },
                                {
                                    "SZOBA_FK": "114"
                                },
                                {
                                    "SZOBA_FK": "118"
                                },
                                {
                                    "SZOBA_FK": "120"
                                },
                                {
                                    "SZOBA_FK": "136"
                                },
                                {
                                    "SZOBA_FK": "137"
                                },
                                {
                                    "SZOBA_FK": "142"
                                },
                                {
                                    "SZOBA_FK": "144"
                                },
                                {
                                    "SZOBA_FK": "145"
                                },
                                {
                                    "SZOBA_FK": "147"
                                },
                                {
                                    "SZOBA_FK": "151"
                                },
                                {
                                    "SZOBA_FK": "156"
                                },
                                {
                                    "SZOBA_FK": "157"
                                },
                                {
                                    "SZOBA_FK": "160"
                                },
                                {
                                    "SZOBA_FK": "162"
                                },
                                {
                                    "SZOBA_FK": "167"
                                },
                                {
                                    "SZOBA_FK": "168"
                                },
                                {
                                    "SZOBA_FK": "176"
                                },
                                {
                                    "SZOBA_FK": "177"
                                },
                                {
                                    "SZOBA_FK": "178"
                                },
                                {
                                    "SZOBA_FK": "179"
                                },
                                {
                                    "SZOBA_FK": "180"
                                },
                                {
                                    "SZOBA_FK": "186"
                                },
                                {
                                    "SZOBA_FK": "188"
                                },
                                {
                                    "SZOBA_FK": "189"
                                },
                                {
                                    "SZOBA_FK": "192"
                                },
                                {
                                    "SZOBA_FK": "193"
                                },
                                {
                                    "SZOBA_FK": "194"
                                },
                                {
                                    "SZOBA_FK": "196"
                                }
                            ]
                        },
                        "text/html": [
                            "<table>",
                            "<tr><th>SZOBA_FK</th></tr>",
                            "<tr><td>2</td></tr>",
                            "<tr><td>5</td></tr>",
                            "<tr><td>16</td></tr>",
                            "<tr><td>17</td></tr>",
                            "<tr><td>21</td></tr>",
                            "<tr><td>22</td></tr>",
                            "<tr><td>25</td></tr>",
                            "<tr><td>30</td></tr>",
                            "<tr><td>31</td></tr>",
                            "<tr><td>32</td></tr>",
                            "<tr><td>37</td></tr>",
                            "<tr><td>41</td></tr>",
                            "<tr><td>47</td></tr>",
                            "<tr><td>56</td></tr>",
                            "<tr><td>60</td></tr>",
                            "<tr><td>67</td></tr>",
                            "<tr><td>69</td></tr>",
                            "<tr><td>71</td></tr>",
                            "<tr><td>72</td></tr>",
                            "<tr><td>75</td></tr>",
                            "<tr><td>76</td></tr>",
                            "<tr><td>85</td></tr>",
                            "<tr><td>91</td></tr>",
                            "<tr><td>100</td></tr>",
                            "<tr><td>101</td></tr>",
                            "<tr><td>102</td></tr>",
                            "<tr><td>103</td></tr>",
                            "<tr><td>108</td></tr>",
                            "<tr><td>109</td></tr>",
                            "<tr><td>111</td></tr>",
                            "<tr><td>113</td></tr>",
                            "<tr><td>114</td></tr>",
                            "<tr><td>118</td></tr>",
                            "<tr><td>120</td></tr>",
                            "<tr><td>136</td></tr>",
                            "<tr><td>137</td></tr>",
                            "<tr><td>142</td></tr>",
                            "<tr><td>144</td></tr>",
                            "<tr><td>145</td></tr>",
                            "<tr><td>147</td></tr>",
                            "<tr><td>151</td></tr>",
                            "<tr><td>156</td></tr>",
                            "<tr><td>157</td></tr>",
                            "<tr><td>160</td></tr>",
                            "<tr><td>162</td></tr>",
                            "<tr><td>167</td></tr>",
                            "<tr><td>168</td></tr>",
                            "<tr><td>176</td></tr>",
                            "<tr><td>177</td></tr>",
                            "<tr><td>178</td></tr>",
                            "<tr><td>179</td></tr>",
                            "<tr><td>180</td></tr>",
                            "<tr><td>186</td></tr>",
                            "<tr><td>188</td></tr>",
                            "<tr><td>189</td></tr>",
                            "<tr><td>192</td></tr>",
                            "<tr><td>193</td></tr>",
                            "<tr><td>194</td></tr>",
                            "<tr><td>196</td></tr>",
                            "</table>"
                        ]
                    }
                }
            ],
            "execution_count": 15
        },
        {
            "cell_type": "code",
            "source": [
                "SELECT SZOBA_ID,SZALLAS_FK,SZOBA_SZAMA,FEROHELY,POTAGY,KLIMAS, SZALLAS_NEV\r\n",
                "FROM szallashely JOIN Szoba ON szallashely.szallas_id = szoba.szallas_fk join foglalas ON szoba.szoba_id = foglalas.szoba_fk join vendeg on foglalas.ugyfel_fk = vendeg.usernev\r\n",
                "WHERE szoba.SZOBA_ID NOT In foglalas_pk"
            ],
            "metadata": {
                "azdata_cell_guid": "5aa3b5bc-f3a0-4a48-a2f2-3f92ebd9ace1",
                "language": "sql"
            },
            "outputs": [],
            "execution_count": null
        }
    ]
}