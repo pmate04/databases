{
    "metadata": {
        "kernelspec": {
            "name": "SQL",
            "display_name": "SQL",
            "language": "sql"
        },
        "language_info": {
            "name": "sql",
            "version": ""
        }
    },
    "nbformat_minor": 2,
    "nbformat": 4,
    "cells": [
        {
            "cell_type": "code",
            "source": [
                "SELECT rogzitette, SZALLAS_NEV, cim\r\n",
                "FROM szallashely\r\n",
                "WHERE MONTH(ROGZ_IDO)= 3 AND HELY LIKE 'Balaton%'\r\n",
                "ORDER BY CSILLAGOK_SZAMA desc\r\n",
                ""
            ],
            "metadata": {
                "azdata_cell_guid": "2a4ec0f7-85d1-4906-a8fc-985786a7e172",
                "language": "sql"
            },
            "outputs": [
                {
                    "output_type": "display_data",
                    "data": {
                        "text/html": "(7 rows affected)"
                    },
                    "metadata": {}
                },
                {
                    "output_type": "display_data",
                    "data": {
                        "text/html": "Total execution time: 00:00:00.010"
                    },
                    "metadata": {}
                },
                {
                    "output_type": "execute_result",
                    "metadata": {},
                    "execution_count": 12,
                    "data": {
                        "application/vnd.dataresource+json": {
                            "schema": {
                                "fields": [
                                    {
                                        "name": "rogzitette"
                                    },
                                    {
                                        "name": "SZALLAS_NEV"
                                    },
                                    {
                                        "name": "cim"
                                    }
                                ]
                            },
                            "data": [
                                {
                                    "rogzitette": "Béla",
                                    "SZALLAS_NEV": "Hotel Három Hattyú",
                                    "cim": "8623 Balatonföldvár, Rákóczi Ferenc út 45."
                                },
                                {
                                    "rogzitette": "Mari",
                                    "SZALLAS_NEV": "Jáde panzió",
                                    "cim": "8624 Balatonföldvár, Kiss u.2."
                                },
                                {
                                    "rogzitette": "Béla",
                                    "SZALLAS_NEV": "Kentaur Hotel",
                                    "cim": "8600 Siófok (Széplak), Akácfa utca 1"
                                },
                                {
                                    "rogzitette": "Béla",
                                    "SZALLAS_NEV": "Tímárház Panzió",
                                    "cim": "8600 Siófok, Virág utca 1"
                                },
                                {
                                    "rogzitette": "Béla",
                                    "SZALLAS_NEV": "Családi Ház",
                                    "cim": "8630 Balatonboglár, József Attila utca 25"
                                },
                                {
                                    "rogzitette": "Mari",
                                    "SZALLAS_NEV": "Szieszta Apartmanház",
                                    "cim": "8630 Balatonboglár, Dózsa György utca 108"
                                },
                                {
                                    "rogzitette": "Béla",
                                    "SZALLAS_NEV": "Partiszél Vendégház",
                                    "cim": "8220 Balatonalmádi Neptun u. 23."
                                }
                            ]
                        },
                        "text/html": [
                            "<table>",
                            "<tr><th>rogzitette</th><th>SZALLAS_NEV</th><th>cim</th></tr>",
                            "<tr><td>Béla</td><td>Hotel Három Hattyú</td><td>8623 Balatonföldvár, Rákóczi Ferenc út 45.</td></tr>",
                            "<tr><td>Mari</td><td>Jáde panzió</td><td>8624 Balatonföldvár, Kiss u.2.</td></tr>",
                            "<tr><td>Béla</td><td>Kentaur Hotel</td><td>8600 Siófok (Széplak), Akácfa utca 1</td></tr>",
                            "<tr><td>Béla</td><td>Tímárház Panzió</td><td>8600 Siófok, Virág utca 1</td></tr>",
                            "<tr><td>Béla</td><td>Családi Ház</td><td>8630 Balatonboglár, József Attila utca 25</td></tr>",
                            "<tr><td>Mari</td><td>Szieszta Apartmanház</td><td>8630 Balatonboglár, Dózsa György utca 108</td></tr>",
                            "<tr><td>Béla</td><td>Partiszél Vendégház</td><td>8220 Balatonalmádi Neptun u. 23.</td></tr>",
                            "</table>"
                        ]
                    }
                }
            ],
            "execution_count": 12
        }
    ]
}