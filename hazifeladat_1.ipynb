{
    "metadata": {
        "kernelspec": {
            "name": "SQL",
            "display_name": "SQL",
            "language": "sql"
        },
        "language_info": {
            "name": "sql",
            "version": ""
        }
    },
    "nbformat_minor": 2,
    "nbformat": 4,
    "cells": [
        {
            "cell_type": "code",
            "source": [
                "SELECT COUNT(*) AS sorok_szama\r\n",
                "FROM szallashely"
            ],
            "metadata": {
                "azdata_cell_guid": "c2750cd2-f54c-42f4-8566-ead3e2dfc523",
                "language": "sql",
                "tags": []
            },
            "outputs": [
                {
                    "output_type": "display_data",
                    "data": {
                        "text/html": "(1 row affected)"
                    },
                    "metadata": {}
                },
                {
                    "output_type": "display_data",
                    "data": {
                        "text/html": "Total execution time: 00:00:00.009"
                    },
                    "metadata": {}
                },
                {
                    "output_type": "execute_result",
                    "metadata": {},
                    "execution_count": 11,
                    "data": {
                        "application/vnd.dataresource+json": {
                            "schema": {
                                "fields": [
                                    {
                                        "name": "sorok_szama"
                                    }
                                ]
                            },
                            "data": [
                                {
                                    "sorok_szama": "21"
                                }
                            ]
                        },
                        "text/html": [
                            "<table>",
                            "<tr><th>sorok_szama</th></tr>",
                            "<tr><td>21</td></tr>",
                            "</table>"
                        ]
                    }
                }
            ],
            "execution_count": 11
        },
        {
            "cell_type": "code",
            "source": [
                "SELECT MIN(CSILLAGOK_SZAMA) AS minimum, MAX(CSILLAGOK_SZAMA) AS maximum, AVG(CSILLAGOK_SZAMA) AS atlag \r\n",
                "FROM szallashely\r\n",
                "WHERE CSILLAGOK_SZAMA IS NOT NULL"
            ],
            "metadata": {
                "azdata_cell_guid": "b74d0d20-19d7-4e24-912d-44ae7ede3f6e",
                "language": "sql",
                "tags": []
            },
            "outputs": [
                {
                    "output_type": "display_data",
                    "data": {
                        "text/html": "(1 row affected)"
                    },
                    "metadata": {}
                },
                {
                    "output_type": "display_data",
                    "data": {
                        "text/html": "Total execution time: 00:00:00.012"
                    },
                    "metadata": {}
                },
                {
                    "output_type": "execute_result",
                    "metadata": {},
                    "execution_count": 10,
                    "data": {
                        "application/vnd.dataresource+json": {
                            "schema": {
                                "fields": [
                                    {
                                        "name": "minimum"
                                    },
                                    {
                                        "name": "maximum"
                                    },
                                    {
                                        "name": "atlag"
                                    }
                                ]
                            },
                            "data": [
                                {
                                    "minimum": "0",
                                    "maximum": "4",
                                    "atlag": "1"
                                }
                            ]
                        },
                        "text/html": [
                            "<table>",
                            "<tr><th>minimum</th><th>maximum</th><th>atlag</th></tr>",
                            "<tr><td>0</td><td>4</td><td>1</td></tr>",
                            "</table>"
                        ]
                    }
                }
            ],
            "execution_count": 10
        },
        {
            "cell_type": "code",
            "source": [
                "SELECT Count(*),CSILLAGOK_SZAMA\r\n",
                "from szallashely\r\n",
                "group by CSILLAGOK_SZAMA\r\n",
                "order by CSILLAGOK_SZAMA DESC"
            ],
            "metadata": {
                "azdata_cell_guid": "d585ef26-ffd6-4a66-8cd4-93b9567d49f5",
                "language": "sql",
                "tags": []
            },
            "outputs": [
                {
                    "output_type": "display_data",
                    "data": {
                        "text/html": "(3 rows affected)"
                    },
                    "metadata": {}
                },
                {
                    "output_type": "display_data",
                    "data": {
                        "text/html": "Total execution time: 00:00:00.010"
                    },
                    "metadata": {}
                },
                {
                    "output_type": "execute_result",
                    "metadata": {},
                    "execution_count": 12,
                    "data": {
                        "application/vnd.dataresource+json": {
                            "schema": {
                                "fields": [
                                    {
                                        "name": "(No column name)"
                                    },
                                    {
                                        "name": "CSILLAGOK_SZAMA"
                                    }
                                ]
                            },
                            "data": [
                                {
                                    "(No column name)": "3",
                                    "CSILLAGOK_SZAMA": "4"
                                },
                                {
                                    "(No column name)": "8",
                                    "CSILLAGOK_SZAMA": "3"
                                },
                                {
                                    "(No column name)": "10",
                                    "CSILLAGOK_SZAMA": "0"
                                }
                            ]
                        },
                        "text/html": [
                            "<table>",
                            "<tr><th>(No column name)</th><th>CSILLAGOK_SZAMA</th></tr>",
                            "<tr><td>3</td><td>4</td></tr>",
                            "<tr><td>8</td><td>3</td></tr>",
                            "<tr><td>10</td><td>0</td></tr>",
                            "</table>"
                        ]
                    }
                }
            ],
            "execution_count": 12
        },
        {
            "cell_type": "code",
            "source": [
                "SELECT COUNT(*)\r\n",
                "FROM szallashely\r\n",
                "where SZALLAS_NEV is NULL"
            ],
            "metadata": {
                "azdata_cell_guid": "5abda647-667c-4e0a-a03f-184f099496af",
                "language": "sql",
                "tags": []
            },
            "outputs": [
                {
                    "output_type": "display_data",
                    "data": {
                        "text/html": "(1 row affected)"
                    },
                    "metadata": {}
                },
                {
                    "output_type": "display_data",
                    "data": {
                        "text/html": "Total execution time: 00:00:00.013"
                    },
                    "metadata": {}
                },
                {
                    "output_type": "execute_result",
                    "metadata": {},
                    "execution_count": 13,
                    "data": {
                        "application/vnd.dataresource+json": {
                            "schema": {
                                "fields": [
                                    {
                                        "name": "(No column name)"
                                    }
                                ]
                            },
                            "data": [
                                {
                                    "(No column name)": "0"
                                }
                            ]
                        },
                        "text/html": [
                            "<table>",
                            "<tr><th>(No column name)</th></tr>",
                            "<tr><td>0</td></tr>",
                            "</table>"
                        ]
                    }
                }
            ],
            "execution_count": 13
        },
        {
            "cell_type": "code",
            "source": [
                "SELECT MIN(LEN(SZALLAS_NEV)) AS minimum_hossz,\r\n",
                "       MAX(LEN(SZALLAS_NEV)) AS maximum_hossz, \r\n",
                "       AVG(LEN(SZALLAS_NEV)) AS atlag_hossz\r\n",
                "FROM szallashely\r\n",
                "WHERE SZALLAS_NEV IS NOT NULL\r\n",
                "AND LEN(SZALLAS_NEV) > 0"
            ],
            "metadata": {
                "azdata_cell_guid": "675f9baf-bfad-49f4-8728-61876f191ffd",
                "language": "sql",
                "tags": [
                    "hide_input"
                ]
            },
            "outputs": [
                {
                    "output_type": "display_data",
                    "data": {
                        "text/html": "(1 row affected)"
                    },
                    "metadata": {}
                },
                {
                    "output_type": "display_data",
                    "data": {
                        "text/html": "Total execution time: 00:00:00.011"
                    },
                    "metadata": {}
                },
                {
                    "output_type": "execute_result",
                    "metadata": {},
                    "execution_count": 14,
                    "data": {
                        "application/vnd.dataresource+json": {
                            "schema": {
                                "fields": [
                                    {
                                        "name": "minimum_hossz"
                                    },
                                    {
                                        "name": "maximum_hossz"
                                    },
                                    {
                                        "name": "atlag_hossz"
                                    }
                                ]
                            },
                            "data": [
                                {
                                    "minimum_hossz": "8",
                                    "maximum_hossz": "20",
                                    "atlag_hossz": "14"
                                }
                            ]
                        },
                        "text/html": [
                            "<table>",
                            "<tr><th>minimum_hossz</th><th>maximum_hossz</th><th>atlag_hossz</th></tr>",
                            "<tr><td>8</td><td>20</td><td>14</td></tr>",
                            "</table>"
                        ]
                    }
                }
            ],
            "execution_count": 14
        },
        {
            "cell_type": "code",
            "source": [
                "SELECT SZALLAS_NEV, len(SZALLAS_NEV) as hossz\r\n",
                "FROM szallashely\r\n",
                "group by SZALLAS_NEV\r\n",
                "order by 2 desc"
            ],
            "metadata": {
                "azdata_cell_guid": "31e8b382-b279-47c9-999f-01578d4348b7",
                "language": "sql"
            },
            "outputs": [
                {
                    "output_type": "display_data",
                    "data": {
                        "text/html": "(18 rows affected)"
                    },
                    "metadata": {}
                },
                {
                    "output_type": "display_data",
                    "data": {
                        "text/html": "Total execution time: 00:00:00.011"
                    },
                    "metadata": {}
                },
                {
                    "output_type": "execute_result",
                    "metadata": {},
                    "execution_count": 16,
                    "data": {
                        "application/vnd.dataresource+json": {
                            "schema": {
                                "fields": [
                                    {
                                        "name": "SZALLAS_NEV"
                                    },
                                    {
                                        "name": "hossz"
                                    }
                                ]
                            },
                            "data": [
                                {
                                    "SZALLAS_NEV": "Szieszta Apartmanház",
                                    "hossz": "20"
                                },
                                {
                                    "SZALLAS_NEV": "Partiszél Vendégház",
                                    "hossz": "19"
                                },
                                {
                                    "SZALLAS_NEV": "Hotel Három Hattyú",
                                    "hossz": "18"
                                },
                                {
                                    "SZALLAS_NEV": "Nyárfás Vendégház",
                                    "hossz": "17"
                                },
                                {
                                    "SZALLAS_NEV": "Müller Vendégház",
                                    "hossz": "16"
                                },
                                {
                                    "SZALLAS_NEV": "Fortuna Apartman",
                                    "hossz": "16"
                                },
                                {
                                    "SZALLAS_NEV": "Tímárház Panzió",
                                    "hossz": "15"
                                },
                                {
                                    "SZALLAS_NEV": "Riviéra Panzió",
                                    "hossz": "14"
                                },
                                {
                                    "SZALLAS_NEV": "Fortuna panzió",
                                    "hossz": "14"
                                },
                                {
                                    "SZALLAS_NEV": "Kentaur Hotel",
                                    "hossz": "13"
                                },
                                {
                                    "SZALLAS_NEV": "Szarvas Hotel",
                                    "hossz": "13"
                                },
                                {
                                    "SZALLAS_NEV": "Lagúna Hotel",
                                    "hossz": "12"
                                },
                                {
                                    "SZALLAS_NEV": "Bagoly Hotel",
                                    "hossz": "12"
                                },
                                {
                                    "SZALLAS_NEV": "Családi Ház",
                                    "hossz": "11"
                                },
                                {
                                    "SZALLAS_NEV": "Jáde panzió",
                                    "hossz": "11"
                                },
                                {
                                    "SZALLAS_NEV": "Gold Hotel",
                                    "hossz": "10"
                                },
                                {
                                    "SZALLAS_NEV": "Kollégium",
                                    "hossz": "9"
                                },
                                {
                                    "SZALLAS_NEV": "Sába-Ház",
                                    "hossz": "8"
                                }
                            ]
                        },
                        "text/html": [
                            "<table>",
                            "<tr><th>SZALLAS_NEV</th><th>hossz</th></tr>",
                            "<tr><td>Szieszta Apartmanház</td><td>20</td></tr>",
                            "<tr><td>Partiszél Vendégház</td><td>19</td></tr>",
                            "<tr><td>Hotel Három Hattyú</td><td>18</td></tr>",
                            "<tr><td>Nyárfás Vendégház</td><td>17</td></tr>",
                            "<tr><td>Müller Vendégház</td><td>16</td></tr>",
                            "<tr><td>Fortuna Apartman</td><td>16</td></tr>",
                            "<tr><td>Tímárház Panzió</td><td>15</td></tr>",
                            "<tr><td>Riviéra Panzió</td><td>14</td></tr>",
                            "<tr><td>Fortuna panzió</td><td>14</td></tr>",
                            "<tr><td>Kentaur Hotel</td><td>13</td></tr>",
                            "<tr><td>Szarvas Hotel</td><td>13</td></tr>",
                            "<tr><td>Lagúna Hotel</td><td>12</td></tr>",
                            "<tr><td>Bagoly Hotel</td><td>12</td></tr>",
                            "<tr><td>Családi Ház</td><td>11</td></tr>",
                            "<tr><td>Jáde panzió</td><td>11</td></tr>",
                            "<tr><td>Gold Hotel</td><td>10</td></tr>",
                            "<tr><td>Kollégium</td><td>9</td></tr>",
                            "<tr><td>Sába-Ház</td><td>8</td></tr>",
                            "</table>"
                        ]
                    }
                }
            ],
            "execution_count": 16
        }
    ]
}